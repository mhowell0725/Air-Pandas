{
 "cells": [
  {
   "cell_type": "code",
   "execution_count": 3,
   "metadata": {},
   "outputs": [
    {
     "ename": "ValueError",
     "evalue": "Sheet '2021' already exists and if_sheet_exists is set to 'error'.",
     "output_type": "error",
     "traceback": [
      "\u001b[1;31m---------------------------------------------------------------------------\u001b[0m",
      "\u001b[1;31mValueError\u001b[0m                                Traceback (most recent call last)",
      "Cell \u001b[1;32mIn[3], line 18\u001b[0m\n\u001b[0;32m     16\u001b[0m         \u001b[39m# Save each sheet back to the Excel file\u001b[39;00m\n\u001b[0;32m     17\u001b[0m         \u001b[39mwith\u001b[39;00m pd\u001b[39m.\u001b[39mExcelWriter(\u001b[39m'\u001b[39m\u001b[39mvariable coding.xlsx\u001b[39m\u001b[39m'\u001b[39m, engine\u001b[39m=\u001b[39m\u001b[39m'\u001b[39m\u001b[39mopenpyxl\u001b[39m\u001b[39m'\u001b[39m, mode\u001b[39m=\u001b[39m\u001b[39m'\u001b[39m\u001b[39ma\u001b[39m\u001b[39m'\u001b[39m) \u001b[39mas\u001b[39;00m writer: \n\u001b[1;32m---> 18\u001b[0m             df\u001b[39m.\u001b[39;49mto_excel(writer, sheet_name\u001b[39m=\u001b[39;49msheet, index\u001b[39m=\u001b[39;49m\u001b[39mFalse\u001b[39;49;00m)\n\u001b[0;32m     20\u001b[0m \u001b[39mprint\u001b[39m(\u001b[39m'\u001b[39m\u001b[39mExcel file successfully updated.\u001b[39m\u001b[39m'\u001b[39m)\n",
      "File \u001b[1;32mc:\\Users\\tim09\\anaconda3\\envs\\16A\\lib\\site-packages\\pandas\\util\\_decorators.py:211\u001b[0m, in \u001b[0;36mdeprecate_kwarg.<locals>._deprecate_kwarg.<locals>.wrapper\u001b[1;34m(*args, **kwargs)\u001b[0m\n\u001b[0;32m    209\u001b[0m     \u001b[39melse\u001b[39;00m:\n\u001b[0;32m    210\u001b[0m         kwargs[new_arg_name] \u001b[39m=\u001b[39m new_arg_value\n\u001b[1;32m--> 211\u001b[0m \u001b[39mreturn\u001b[39;00m func(\u001b[39m*\u001b[39margs, \u001b[39m*\u001b[39m\u001b[39m*\u001b[39mkwargs)\n",
      "File \u001b[1;32mc:\\Users\\tim09\\anaconda3\\envs\\16A\\lib\\site-packages\\pandas\\util\\_decorators.py:211\u001b[0m, in \u001b[0;36mdeprecate_kwarg.<locals>._deprecate_kwarg.<locals>.wrapper\u001b[1;34m(*args, **kwargs)\u001b[0m\n\u001b[0;32m    209\u001b[0m     \u001b[39melse\u001b[39;00m:\n\u001b[0;32m    210\u001b[0m         kwargs[new_arg_name] \u001b[39m=\u001b[39m new_arg_value\n\u001b[1;32m--> 211\u001b[0m \u001b[39mreturn\u001b[39;00m func(\u001b[39m*\u001b[39margs, \u001b[39m*\u001b[39m\u001b[39m*\u001b[39mkwargs)\n",
      "File \u001b[1;32mc:\\Users\\tim09\\anaconda3\\envs\\16A\\lib\\site-packages\\pandas\\core\\generic.py:2374\u001b[0m, in \u001b[0;36mNDFrame.to_excel\u001b[1;34m(self, excel_writer, sheet_name, na_rep, float_format, columns, header, index, index_label, startrow, startcol, engine, merge_cells, encoding, inf_rep, verbose, freeze_panes, storage_options)\u001b[0m\n\u001b[0;32m   2361\u001b[0m \u001b[39mfrom\u001b[39;00m \u001b[39mpandas\u001b[39;00m\u001b[39m.\u001b[39;00m\u001b[39mio\u001b[39;00m\u001b[39m.\u001b[39;00m\u001b[39mformats\u001b[39;00m\u001b[39m.\u001b[39;00m\u001b[39mexcel\u001b[39;00m \u001b[39mimport\u001b[39;00m ExcelFormatter\n\u001b[0;32m   2363\u001b[0m formatter \u001b[39m=\u001b[39m ExcelFormatter(\n\u001b[0;32m   2364\u001b[0m     df,\n\u001b[0;32m   2365\u001b[0m     na_rep\u001b[39m=\u001b[39mna_rep,\n\u001b[1;32m   (...)\u001b[0m\n\u001b[0;32m   2372\u001b[0m     inf_rep\u001b[39m=\u001b[39minf_rep,\n\u001b[0;32m   2373\u001b[0m )\n\u001b[1;32m-> 2374\u001b[0m formatter\u001b[39m.\u001b[39;49mwrite(\n\u001b[0;32m   2375\u001b[0m     excel_writer,\n\u001b[0;32m   2376\u001b[0m     sheet_name\u001b[39m=\u001b[39;49msheet_name,\n\u001b[0;32m   2377\u001b[0m     startrow\u001b[39m=\u001b[39;49mstartrow,\n\u001b[0;32m   2378\u001b[0m     startcol\u001b[39m=\u001b[39;49mstartcol,\n\u001b[0;32m   2379\u001b[0m     freeze_panes\u001b[39m=\u001b[39;49mfreeze_panes,\n\u001b[0;32m   2380\u001b[0m     engine\u001b[39m=\u001b[39;49mengine,\n\u001b[0;32m   2381\u001b[0m     storage_options\u001b[39m=\u001b[39;49mstorage_options,\n\u001b[0;32m   2382\u001b[0m )\n",
      "File \u001b[1;32mc:\\Users\\tim09\\anaconda3\\envs\\16A\\lib\\site-packages\\pandas\\io\\formats\\excel.py:924\u001b[0m, in \u001b[0;36mExcelFormatter.write\u001b[1;34m(self, writer, sheet_name, startrow, startcol, freeze_panes, engine, storage_options)\u001b[0m\n\u001b[0;32m    921\u001b[0m     need_save \u001b[39m=\u001b[39m \u001b[39mTrue\u001b[39;00m\n\u001b[0;32m    923\u001b[0m \u001b[39mtry\u001b[39;00m:\n\u001b[1;32m--> 924\u001b[0m     writer\u001b[39m.\u001b[39;49m_write_cells(\n\u001b[0;32m    925\u001b[0m         formatted_cells,\n\u001b[0;32m    926\u001b[0m         sheet_name,\n\u001b[0;32m    927\u001b[0m         startrow\u001b[39m=\u001b[39;49mstartrow,\n\u001b[0;32m    928\u001b[0m         startcol\u001b[39m=\u001b[39;49mstartcol,\n\u001b[0;32m    929\u001b[0m         freeze_panes\u001b[39m=\u001b[39;49mfreeze_panes,\n\u001b[0;32m    930\u001b[0m     )\n\u001b[0;32m    931\u001b[0m \u001b[39mfinally\u001b[39;00m:\n\u001b[0;32m    932\u001b[0m     \u001b[39m# make sure to close opened file handles\u001b[39;00m\n\u001b[0;32m    933\u001b[0m     \u001b[39mif\u001b[39;00m need_save:\n",
      "File \u001b[1;32mc:\\Users\\tim09\\anaconda3\\envs\\16A\\lib\\site-packages\\pandas\\io\\excel\\_openpyxl.py:469\u001b[0m, in \u001b[0;36mOpenpyxlWriter._write_cells\u001b[1;34m(self, cells, sheet_name, startrow, startcol, freeze_panes)\u001b[0m\n\u001b[0;32m    467\u001b[0m     wks \u001b[39m=\u001b[39m \u001b[39mself\u001b[39m\u001b[39m.\u001b[39mbook\u001b[39m.\u001b[39mcreate_sheet(sheet_name, target_index)\n\u001b[0;32m    468\u001b[0m \u001b[39melif\u001b[39;00m \u001b[39mself\u001b[39m\u001b[39m.\u001b[39m_if_sheet_exists \u001b[39m==\u001b[39m \u001b[39m\"\u001b[39m\u001b[39merror\u001b[39m\u001b[39m\"\u001b[39m:\n\u001b[1;32m--> 469\u001b[0m     \u001b[39mraise\u001b[39;00m \u001b[39mValueError\u001b[39;00m(\n\u001b[0;32m    470\u001b[0m         \u001b[39mf\u001b[39m\u001b[39m\"\u001b[39m\u001b[39mSheet \u001b[39m\u001b[39m'\u001b[39m\u001b[39m{\u001b[39;00msheet_name\u001b[39m}\u001b[39;00m\u001b[39m'\u001b[39m\u001b[39m already exists and \u001b[39m\u001b[39m\"\u001b[39m\n\u001b[0;32m    471\u001b[0m         \u001b[39mf\u001b[39m\u001b[39m\"\u001b[39m\u001b[39mif_sheet_exists is set to \u001b[39m\u001b[39m'\u001b[39m\u001b[39merror\u001b[39m\u001b[39m'\u001b[39m\u001b[39m.\u001b[39m\u001b[39m\"\u001b[39m\n\u001b[0;32m    472\u001b[0m     )\n\u001b[0;32m    473\u001b[0m \u001b[39melif\u001b[39;00m \u001b[39mself\u001b[39m\u001b[39m.\u001b[39m_if_sheet_exists \u001b[39m==\u001b[39m \u001b[39m\"\u001b[39m\u001b[39moverlay\u001b[39m\u001b[39m\"\u001b[39m:\n\u001b[0;32m    474\u001b[0m     wks \u001b[39m=\u001b[39m \u001b[39mself\u001b[39m\u001b[39m.\u001b[39msheets[sheet_name]\n",
      "\u001b[1;31mValueError\u001b[0m: Sheet '2021' already exists and if_sheet_exists is set to 'error'."
     ]
    }
   ],
   "source": [
    "import pandas as pd\n",
    "\n",
    "# Load the Excel file\n",
    "with pd.ExcelFile('variable coding.xlsx') as xls:\n",
    "    # Get sheet names\n",
    "    sheet_names = xls.sheet_names\n",
    "\n",
    "    # Loop over each sheet\n",
    "    for sheet in sheet_names:\n",
    "        df = pd.read_excel(xls, sheet_name=sheet)\n",
    "\n",
    "        # Add 'Abbrev' column\n",
    "        df['Abbrev'] = df['Detail'].apply(lambda x: '_'.join([x.split('!!')[0].lower(),\n",
    "                                                              '_'.join(x.split('!!')[-1].lower().split())]))\n",
    "\n",
    "        # Save each sheet back to the Excel file\n",
    "        with pd.ExcelWriter('variable coding.xlsx', engine='openpyxl', mode='a') as writer: \n",
    "            df.to_excel(writer, sheet_name=sheet, index=False)\n",
    "\n",
    "print('Excel file successfully updated.')"
   ]
  },
  {
   "cell_type": "code",
   "execution_count": 7,
   "metadata": {},
   "outputs": [
    {
     "data": {
      "text/plain": [
       "0                     Estimate !RACE ! !Total population\n",
       "1                     Percent! !RACE ! !Total population\n",
       "2       Estimate ! !RACE ! !Total population! ! One race\n",
       "3          Percent! !RACE! !Total population! ! One race\n",
       "4      Estimate ! !RACE ! !Total population! ! One ra...\n",
       "                             ...                        \n",
       "149    Percent! INCOME AND BENEFITS (IN 2021 INFLATIO...\n",
       "150    Estimate! INCOME AND BENEFITS (IN 2021 INFLATI...\n",
       "151    Percent! INCOME AND BENEFITS (IN 2021 INFLATIO...\n",
       "152    Estimate! INCOME AND BENEFITS (IN 2021 INFLATI...\n",
       "153    Percent! !PERCENTAGE OF FAMILIES AND PEOPLE WH...\n",
       "Name: Detail, Length: 154, dtype: object"
      ]
     },
     "execution_count": 7,
     "metadata": {},
     "output_type": "execute_result"
    }
   ],
   "source": [
    "## read 'variable coding.xlsx'\n",
    "\n",
    "df = pd.read_excel('variable coding.xlsx', sheet_name='2021')\n",
    "\n",
    "## see the data type of each column\n",
    "\n",
    "df['Detail']\n",
    "\n",
    "\n",
    "\n"
   ]
  },
  {
   "cell_type": "code",
   "execution_count": 10,
   "metadata": {},
   "outputs": [
    {
     "name": "stdout",
     "output_type": "stream",
     "text": [
      "New Excel file successfully created.\n"
     ]
    }
   ],
   "source": [
    "import pandas as pd\n",
    "\n",
    "# Load the Excel file\n",
    "with pd.ExcelFile('variable coding (1).xlsx') as xls:\n",
    "    # Get sheet names\n",
    "    sheet_names = xls.sheet_names\n",
    "\n",
    "    # Create a new Excel writer object\n",
    "    with pd.ExcelWriter('census_metadata_updated.xlsx', engine='openpyxl') as writer:\n",
    "        # Loop over each sheet\n",
    "        for sheet in sheet_names:\n",
    "            df = pd.read_excel(xls, sheet_name=sheet)\n",
    "\n",
    "            # Add 'Abbrev' column\n",
    "            df['Abbrev'] = df['Detail'].apply(lambda x: '_'.join([x.split('!!')[0].lower(),\n",
    "                                                                  '_'.join(x.split('!!')[-1].lower().split())]))\n",
    "\n",
    "            # Save each sheet to the new Excel file\n",
    "            df.to_excel(writer, sheet_name=sheet, index=False)\n",
    "\n",
    "print('New Excel file successfully created.')"
   ]
  },
  {
   "cell_type": "code",
   "execution_count": 14,
   "metadata": {},
   "outputs": [
    {
     "name": "stdout",
     "output_type": "stream",
     "text": [
      "New Excel file successfully created.\n"
     ]
    }
   ],
   "source": [
    "import pandas as pd\n",
    "import re\n",
    "\n",
    "# Function to clean abbreviations\n",
    "def clean_abbrev(abbrev):\n",
    "    words = abbrev.split('_')\n",
    "\n",
    "    # Replace 'percent' or 'number' with 'pct' or 'est'\n",
    "    if words[0] == 'percent':\n",
    "        words[0] = 'pct'\n",
    "    else:\n",
    "        words[0] = 'est'\n",
    "    \n",
    "    # Remove non-letter characters except underscore\n",
    "    words = [re.sub(r'[^\\w\\s]', '', word) for word in words]\n",
    "\n",
    "    # Keep at most 3 words after the first word\n",
    "    return '_'.join(words[:4])\n",
    "\n",
    "# Load the Excel file\n",
    "with pd.ExcelFile('variable coding (2).xlsx') as xls:\n",
    "    # Get sheet names\n",
    "    sheet_names = xls.sheet_names\n",
    "\n",
    "    # Create a new Excel writer object\n",
    "    with pd.ExcelWriter('census_metadata_updated.xlsx', engine='openpyxl') as writer:\n",
    "        # Loop over each sheet\n",
    "        for sheet in sheet_names:\n",
    "            df = pd.read_excel(xls, sheet_name=sheet)\n",
    "\n",
    "            # Add 'Abbrev' column\n",
    "            df['Abbrev'] = df['Detail'].apply(lambda x: '_'.join([x.split('!!')[0].lower(),\n",
    "                                                                  '_'.join(x.split('!!')[-1].lower().split())]))\n",
    "\n",
    "            # Clean 'Abbrev' column\n",
    "            df['Abbrev'] = df['Abbrev'].apply(clean_abbrev)\n",
    "\n",
    "            # Save each sheet to the new Excel file\n",
    "            df.to_excel(writer, sheet_name=sheet, index=False)\n",
    "\n",
    "print('New Excel file successfully created.')"
   ]
  },
  {
   "cell_type": "code",
   "execution_count": 19,
   "metadata": {},
   "outputs": [
    {
     "name": "stdout",
     "output_type": "stream",
     "text": [
      "Duplicates found in sheet 2021\n",
      "Duplicates found in sheet 2020\n",
      "Duplicates found in sheet 2019\n",
      "Duplicates found in sheet 2018\n",
      "Duplicates found in sheet 2017\n",
      "Duplicates found in sheet 2016\n",
      "Duplicates found in sheet 2015\n",
      "Duplicates found in sheet 2014\n",
      "Duplicates found in sheet 2013\n",
      "Duplicates found in sheet 2012\n",
      "Duplicates found in sheet 2011\n",
      "Duplicates found in sheet 2010\n",
      "Duplicates found in sheet 2009\n",
      "New Excel file successfully created.\n"
     ]
    }
   ],
   "source": [
    "import pandas as pd\n",
    "import re\n",
    "\n",
    "# Function to clean abbreviations\n",
    "def clean_abbrev(abbrev):\n",
    "    words = abbrev.split('_')\n",
    "\n",
    "    # Replace 'percent' with 'pct' and other with 'est'\n",
    "\n",
    "    ## if the first word *contains* 'percent'\n",
    "    if words[0].find('percent') != -1:\n",
    "        words[0] = 'pct'\n",
    "    else:\n",
    "        words[0] = 'est'\n",
    "\n",
    "    # Remove non-letter characters except underscore\n",
    "    words = [re.sub(r'[^\\w\\s]', '', word) for word in words]\n",
    "\n",
    "    # Keep at most 3 words after the first word\n",
    "    words = words[:4]\n",
    "\n",
    "    # remove last word when it is hanging\n",
    "    if words[-1] in [\"and\", \"or\", \"no\", \"except\", \"excluding\"]:\n",
    "        words = words[:-1]\n",
    "\n",
    "    return '_'.join(words)\n",
    "\n",
    "# Load the Excel file\n",
    "with pd.ExcelFile('variable coding.xlsx') as xls:\n",
    "    # Get sheet names\n",
    "    sheet_names = xls.sheet_names\n",
    "\n",
    "    # Create a new Excel writer object\n",
    "    with pd.ExcelWriter('census_metadata_updated.xlsx', engine='openpyxl') as writer:\n",
    "        # Loop over each sheet\n",
    "        for sheet in sheet_names:\n",
    "            df = pd.read_excel(xls, sheet_name=sheet)\n",
    "\n",
    "            # Add 'Abbrev' column\n",
    "            df['Abbrev'] = df['Detail'].apply(lambda x: '_'.join([x.split('!!')[0].lower(),\n",
    "                                                                  '_'.join(x.split('!!')[-1].lower().split())]))\n",
    "\n",
    "            # Clean 'Abbrev' column\n",
    "            df['Abbrev'] = df['Abbrev'].apply(clean_abbrev)\n",
    "\n",
    "            # Check for duplicates in 'Abbrev'\n",
    "            if df['Abbrev'].duplicated().any():\n",
    "                print(f'Duplicates found in sheet {sheet}')\n",
    "                # Append the last word from 'Detail' to the 'Abbrev' for duplicates\n",
    "                dup_rows = df[df['Abbrev'].duplicated(keep=False)]\n",
    "                for idx, row in dup_rows.iterrows():\n",
    "                    df.loc[idx, 'Abbrev'] += \"_\" + row['Detail'].split('!!')[-1].split()[-1].lower()\n",
    "\n",
    "\n",
    "            # Save each sheet to the new Excel file\n",
    "            df.to_excel(writer, sheet_name=sheet, index=False)\n",
    "\n",
    "print('New Excel file successfully created.')\n"
   ]
  },
  {
   "cell_type": "code",
   "execution_count": 20,
   "metadata": {},
   "outputs": [],
   "source": [
    "import pandas as pd\n",
    "import json\n",
    "\n",
    "# Load the Excel file\n",
    "with pd.ExcelFile('census_metadata_updated.xlsx') as xls:\n",
    "    # Get sheet names\n",
    "    sheet_names = xls.sheet_names\n",
    "\n",
    "    # Read each sheet into a separate DataFrame\n",
    "    all_data = {sheet: pd.read_excel(xls, sheet_name=sheet) for sheet in sheet_names}\n",
    "\n",
    "# Create a set for all shared Abbrevs\n",
    "shared_abbrevs = set(all_data[sheet_names[0]]['Abbrev'])\n",
    "\n",
    "# Find shared Abbrevs across all years\n",
    "for sheet in sheet_names[1:]:\n",
    "    shared_abbrevs &= set(all_data[sheet]['Abbrev'])\n",
    "\n",
    "# Create a dictionary to store Category and Abbrev relationships\n",
    "category_abbrev_dict = {}\n",
    "\n",
    "# Only consider shared Abbrevs\n",
    "for sheet in sheet_names:\n",
    "    for idx, row in all_data[sheet].iterrows():\n",
    "        if row['Abbrev'] in shared_abbrevs:\n",
    "            if row['Category'] in category_abbrev_dict:\n",
    "                if row['Abbrev'] not in category_abbrev_dict[row['Category']]:\n",
    "                    category_abbrev_dict[row['Category']].append(row['Abbrev'])\n",
    "            else:\n",
    "                category_abbrev_dict[row['Category']] = [row['Abbrev']]\n",
    "\n",
    "# Write to a JSON file\n",
    "with open('category_abbrev.json', 'w') as f:\n",
    "    json.dump(category_abbrev_dict, f, indent=4)\n",
    "\n",
    "# Create a dictionary to store year and Code-Abbrev relationships\n",
    "year_code_abbrev_dict = {}\n",
    "\n",
    "for sheet in sheet_names:\n",
    "    year_code_abbrev_dict[sheet] = {row['Code']: row['Abbrev'] for idx, row in all_data[sheet].iterrows()}\n",
    "\n",
    "# Write to a JSON file\n",
    "with open('year_code_abbrev.json', 'w') as f:\n",
    "    json.dump(year_code_abbrev_dict, f, indent=4)\n"
   ]
  }
 ],
 "metadata": {
  "kernelspec": {
   "display_name": "16A",
   "language": "python",
   "name": "python3"
  },
  "language_info": {
   "codemirror_mode": {
    "name": "ipython",
    "version": 3
   },
   "file_extension": ".py",
   "mimetype": "text/x-python",
   "name": "python",
   "nbconvert_exporter": "python",
   "pygments_lexer": "ipython3",
   "version": "3.9.15"
  },
  "orig_nbformat": 4
 },
 "nbformat": 4,
 "nbformat_minor": 2
}
