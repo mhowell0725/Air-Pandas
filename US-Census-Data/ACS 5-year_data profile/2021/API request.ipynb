{
 "cells": [
  {
   "cell_type": "markdown",
   "id": "d69265c4",
   "metadata": {},
   "source": [
    "https://api.census.gov/data/2021/acs/acs5/profile/variables.html"
   ]
  },
  {
   "cell_type": "markdown",
   "id": "c91cb5da",
   "metadata": {},
   "source": [
    "## RACE"
   ]
  },
  {
   "cell_type": "markdown",
   "id": "9792ad26",
   "metadata": {},
   "source": []
  },
  {
   "cell_type": "markdown",
   "id": "33271493",
   "metadata": {},
   "source": [
    "## HOUSE HEATING FUEL "
   ]
  },
  {
   "cell_type": "markdown",
   "id": "16596f68",
   "metadata": {},
   "source": []
  },
  {
   "cell_type": "markdown",
   "id": "d4589fd2",
   "metadata": {},
   "source": [
    "## INDUSTRY"
   ]
  },
  {
   "cell_type": "markdown",
   "id": "78d4652c",
   "metadata": {},
   "source": []
  },
  {
   "cell_type": "markdown",
   "id": "003aa78e",
   "metadata": {},
   "source": [
    "## COMMUTING TO WORK"
   ]
  },
  {
   "cell_type": "markdown",
   "id": "f3f9a626",
   "metadata": {},
   "source": []
  },
  {
   "cell_type": "markdown",
   "id": "88226135",
   "metadata": {},
   "source": [
    "## OCCUPATION "
   ]
  },
  {
   "cell_type": "markdown",
   "id": "13d1160d",
   "metadata": {},
   "source": []
  },
  {
   "cell_type": "markdown",
   "id": "da48066f",
   "metadata": {},
   "source": [
    "## EMPLOYMENT STATUS "
   ]
  },
  {
   "cell_type": "markdown",
   "id": "4ee543f4",
   "metadata": {},
   "source": []
  },
  {
   "cell_type": "markdown",
   "id": "4fea4779",
   "metadata": {},
   "source": [
    "## EDUCATIONAL ATTAINMENT"
   ]
  },
  {
   "cell_type": "markdown",
   "id": "3a0a7137",
   "metadata": {},
   "source": []
  },
  {
   "cell_type": "markdown",
   "id": "eed6af39",
   "metadata": {},
   "source": [
    "## INCOME AND BENEFITS"
   ]
  },
  {
   "cell_type": "markdown",
   "id": "fe9fcdd3",
   "metadata": {},
   "source": []
  },
  {
   "cell_type": "markdown",
   "id": "40c2d12e",
   "metadata": {},
   "source": [
    "## PERCENTAGE OF FAMILIES AND PEOPLE WHOSE "
   ]
  },
  {
   "cell_type": "markdown",
   "id": "721c9e35",
   "metadata": {},
   "source": []
  }
 ],
 "metadata": {
  "kernelspec": {
   "display_name": "Python 3",
   "language": "python",
   "name": "python3"
  },
  "language_info": {
   "codemirror_mode": {
    "name": "ipython",
    "version": 3
   },
   "file_extension": ".py",
   "mimetype": "text/x-python",
   "name": "python",
   "nbconvert_exporter": "python",
   "pygments_lexer": "ipython3",
   "version": "3.8.8"
  }
 },
 "nbformat": 4,
 "nbformat_minor": 5
}
