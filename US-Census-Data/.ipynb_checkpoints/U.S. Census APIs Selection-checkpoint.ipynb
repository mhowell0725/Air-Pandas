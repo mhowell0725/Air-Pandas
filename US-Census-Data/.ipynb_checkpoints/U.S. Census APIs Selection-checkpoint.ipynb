{
 "cells": [
  {
   "cell_type": "markdown",
   "id": "a70c3629",
   "metadata": {},
   "source": [
    "# PART A\n",
    "## Relevent Database"
   ]
  },
  {
   "cell_type": "markdown",
   "id": "818cc48b",
   "metadata": {},
   "source": [
    "Link for all available US Census APIs: https://www.census.gov/data/developers/data-sets.html"
   ]
  },
  {
   "cell_type": "code",
   "execution_count": null,
   "id": "c1b390c8",
   "metadata": {},
   "outputs": [],
   "source": []
  }
 ],
 "metadata": {
  "kernelspec": {
   "display_name": "Python 3",
   "language": "python",
   "name": "python3"
  },
  "language_info": {
   "codemirror_mode": {
    "name": "ipython",
    "version": 3
   },
   "file_extension": ".py",
   "mimetype": "text/x-python",
   "name": "python",
   "nbconvert_exporter": "python",
   "pygments_lexer": "ipython3",
   "version": "3.8.8"
  }
 },
 "nbformat": 4,
 "nbformat_minor": 5
}
