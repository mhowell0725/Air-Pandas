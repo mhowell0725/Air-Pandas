{
 "cells": [
  {
   "cell_type": "markdown",
   "id": "c4e98157",
   "metadata": {},
   "source": [
    "06 May 2023 from Matthew: I was able to identify some pretty interesting articles discussing the relationship between air quality and demography in Los Angeles and cities around the world at large. The phrases I searched for were of the for \"air quality and demographics in Los Angeles\" in Google Scholar. There may be other interesting keywords we would want to search for in the future, so let's be sure to stay open to reviewing further literature if need be."
   ]
  },
  {
   "cell_type": "markdown",
   "id": "15fc945a",
   "metadata": {},
   "source": [
    "## Article 1\n",
    "\n",
    "The first interesting article I found was:\n",
    "\n",
    "[Jerrett, Michael, Richard T. Burnett, Renjun Ma, C. Arden Pope III, Daniel Krewski, K. Bruce Newbold, George Thurston et al. \"Spatial analysis of air pollution and mortality in Los Angeles.\" Epidemiology (2005): 727-736.](https://www.jstor.org/stable/20486136?casa_token=zwJo2wLvcnMAAAAA%3Aruo-xejz_HU9HgnZF2ADcoi8tjCE74o_GHnfksM_bqk-RvLCWtVq8LEPt7xFJZS7ruWKELoFQiZ-kPv4z7eIxV_sJjIb5A-2BIGnFt_M_cS3yDVElUOj)\n",
    "\n",
    "This article introduced me to the idea that **PM$_{2.5}$** and **O$_3$** levels might be a good way to measure air quality. Of course, we might also simply want to use the Air Quality Index (AQI) if that is available to us in through the EPA AQS API. Can we see if we can extract data on PM$_{2.5}$ and O$_3$ levels in Los Angeles through the EPA AQS API?"
   ]
  },
  {
   "cell_type": "code",
   "execution_count": 2,
   "id": "095cc0d9",
   "metadata": {},
   "outputs": [],
   "source": [
    "#see if we can import the data on PM2.5 and O3 levels here. Can we get AQI directly from the API?"
   ]
  },
  {
   "cell_type": "markdown",
   "id": "d646b1a6",
   "metadata": {},
   "source": [
    "## Article 2\n",
    "\n",
    "Another interesting piece I found was:\n",
    "\n",
    "Lisa Schweitzer & Jiangping Zhou (2010) Neighborhood Air Quality, Respiratory Health, and Vulnerable Populations in Compact and Sprawled Regions, Journal of the American Planning Association, 76:3, 363-371, DOI: [10.1080/01944363.2010.486623](https://doi.org/10.1080/01944363.2010.486623)\n",
    "\n",
    "I quote the main interesting finding from the abstract: \"Exposures to both ozone and fine particulates are also higher in neighborhoods with high proportions of African Americans, Asian ethnic minorities, and poor households.\"\n",
    "\n",
    "In essence, it may be a good idea to explore how air quality varies with racial/ethnic composition and income throughout Los Angeles. I should note here that the article aggregates findings from 80 different U.S. cities (i.e. this study does not focus on Los Angeles). However, it still gives us a lead as to which demographic characteristics of LA residents might vary with air quality.\n",
    "\n",
    "Can we see what racial/ethnic and income information we can get from the U.S. Census? I will note that Louise provided a great PDF guide on how to access data from the Census API, so we should definitely look into that while we try to query data from there."
   ]
  },
  {
   "cell_type": "code",
   "execution_count": null,
   "id": "7ec2cf4b",
   "metadata": {},
   "outputs": [],
   "source": [
    "#see if we an import data on racial/ethnic composition and income in Los Angeles from the U.S. Census API."
   ]
  },
  {
   "cell_type": "markdown",
   "id": "a9ec217b",
   "metadata": {},
   "source": [
    "## Remaining Questions\n",
    "\n",
    "- How are we going to merge locality data across the U.S. Census and AQS API? By ZIP code, for instance? This will be a very important consideration and may cause us to change our research question depending on data availability."
   ]
  }
 ],
 "metadata": {
  "kernelspec": {
   "display_name": "Python 3 (ipykernel)",
   "language": "python",
   "name": "python3"
  },
  "language_info": {
   "codemirror_mode": {
    "name": "ipython",
    "version": 3
   },
   "file_extension": ".py",
   "mimetype": "text/x-python",
   "name": "python",
   "nbconvert_exporter": "python",
   "pygments_lexer": "ipython3",
   "version": "3.10.9"
  }
 },
 "nbformat": 4,
 "nbformat_minor": 5
}
