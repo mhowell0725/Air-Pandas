{
 "cells": [
  {
   "cell_type": "code",
   "execution_count": 15,
   "id": "b2821608",
   "metadata": {},
   "outputs": [
    {
     "ename": "ModuleNotFoundError",
     "evalue": "No module named 'sql_utils'",
     "output_type": "error",
     "traceback": [
      "\u001b[0;31m---------------------------------------------------------------------------\u001b[0m",
      "\u001b[0;31mModuleNotFoundError\u001b[0m                       Traceback (most recent call last)",
      "Cell \u001b[0;32mIn[15], line 1\u001b[0m\n\u001b[0;32m----> 1\u001b[0m \u001b[38;5;28;01mimport\u001b[39;00m \u001b[38;5;21;01msql_utils\u001b[39;00m\n\u001b[1;32m      2\u001b[0m \u001b[38;5;28;01mimport\u001b[39;00m \u001b[38;5;21;01mpandas\u001b[39;00m \u001b[38;5;28;01mas\u001b[39;00m \u001b[38;5;21;01mpd\u001b[39;00m\n\u001b[1;32m      3\u001b[0m \u001b[38;5;28;01mfrom\u001b[39;00m \u001b[38;5;21;01msqlalchemy\u001b[39;00m \u001b[38;5;28;01mimport\u001b[39;00m create_engine\n",
      "\u001b[0;31mModuleNotFoundError\u001b[0m: No module named 'sql_utils'"
     ]
    }
   ],
   "source": [
    "import sql_utils\n",
    "import pandas as pd\n",
    "from sqlalchemy import create_engine"
   ]
  },
  {
   "cell_type": "code",
   "execution_count": 6,
   "id": "512e4be4",
   "metadata": {},
   "outputs": [],
   "source": [
    "file1 = r'/Users/mattthowell/Desktop/PIC_16B_Data/2014.6_2021_CA_PM2.5.csv'\n",
    "file2 = r'/Users/mattthowell/Desktop/PIC_16B_Data/2009_2014.6_CA_PM2.5.csv'\n",
    "file3 = r'/Users/mattthowell/Desktop/PIC_16B_Data/2009_2014.6_CA_PM10.csv'\n",
    "file4 = r'/Users/mattthowell/Desktop/PIC_16B_Data/2014.6_2021_CA_PM10.csv'"
   ]
  },
  {
   "cell_type": "code",
   "execution_count": 7,
   "id": "2415e96e",
   "metadata": {},
   "outputs": [],
   "source": [
    "engine = create_engine('sqlite:///database.sqlite')"
   ]
  },
  {
   "cell_type": "code",
   "execution_count": 8,
   "id": "103ab87a",
   "metadata": {},
   "outputs": [
    {
     "ename": "NameError",
     "evalue": "name 'sql_utils' is not defined",
     "output_type": "error",
     "traceback": [
      "\u001b[0;31m---------------------------------------------------------------------------\u001b[0m",
      "\u001b[0;31mNameError\u001b[0m                                 Traceback (most recent call last)",
      "Cell \u001b[0;32mIn[8], line 1\u001b[0m\n\u001b[0;32m----> 1\u001b[0m \u001b[43msql_utils\u001b[49m\u001b[38;5;241m.\u001b[39mprocess_csv_in_chunks(file1, \u001b[38;5;241m20000\u001b[39m, engine, \u001b[38;5;124m'\u001b[39m\u001b[38;5;124mPM2\u001b[39m\u001b[38;5;124m'\u001b[39m)\n\u001b[1;32m      2\u001b[0m sql_utils\u001b[38;5;241m.\u001b[39mprocess_csv_in_chunks(file2, \u001b[38;5;241m20000\u001b[39m, engine, \u001b[38;5;124m'\u001b[39m\u001b[38;5;124mPM2\u001b[39m\u001b[38;5;124m'\u001b[39m)\n",
      "\u001b[0;31mNameError\u001b[0m: name 'sql_utils' is not defined"
     ]
    }
   ],
   "source": [
    "sql_utils.process_csv_in_chunks(file1, 20000, engine, 'PM2')\n",
    "sql_utils.process_csv_in_chunks(file2, 20000, engine, 'PM2')"
   ]
  },
  {
   "cell_type": "code",
   "execution_count": null,
   "id": "4eb2f2dc",
   "metadata": {},
   "outputs": [],
   "source": [
    "import sqlite3\n",
    "import pandas as pd\n",
    "\n",
    "# Connect to the SQLite database\n",
    "conn = sqlite3.connect('my_database.sqlite')\n",
    "\n",
    "# Create a pandas DataFrame from an SQL query\n",
    "df = pd.read_sql_query(\"SELECT latitude, longitude, arithmetic_mean, aqi, FIPS FROM my_table LIMIT 10 WHERE year = 2019\", conn)\n",
    "\n",
    "# Close the connection\n",
    "conn.close()\n",
    "\n",
    "# Print the DataFrame\n",
    "print(df)"
   ]
  }
 ],
 "metadata": {
  "kernelspec": {
   "display_name": "Python 3 (ipykernel)",
   "language": "python",
   "name": "python3"
  },
  "language_info": {
   "codemirror_mode": {
    "name": "ipython",
    "version": 3
   },
   "file_extension": ".py",
   "mimetype": "text/x-python",
   "name": "python",
   "nbconvert_exporter": "python",
   "pygments_lexer": "ipython3",
   "version": "3.10.9"
  }
 },
 "nbformat": 4,
 "nbformat_minor": 5
}
