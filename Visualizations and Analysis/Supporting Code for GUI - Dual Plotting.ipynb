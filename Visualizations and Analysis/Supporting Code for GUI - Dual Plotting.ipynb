{
 "cells": [
  {
   "cell_type": "code",
   "execution_count": 22,
   "id": "5a0abbd3",
   "metadata": {},
   "outputs": [],
   "source": [
    "import sql_utils\n",
    "import pandas as pd\n",
    "from sqlalchemy import create_engine\n",
    "\n",
    "import sqlite3\n",
    "import pandas as pd\n",
    "\n",
    "import plotly\n",
    "import plotly.graph_objects as go\n",
    "from plotly.subplots import make_subplots\n",
    "import pandas as pd\n",
    "import numpy as np\n",
    "import plotly.express as px\n",
    "import json\n",
    "from urllib.request import urlopen\n",
    "with urlopen('https://raw.githubusercontent.com/plotly/datasets/master/geojson-counties-fips.json') as response:\n",
    "    counties = json.load(response)"
   ]
  },
  {
   "cell_type": "code",
   "execution_count": 2,
   "id": "6ad4a641",
   "metadata": {},
   "outputs": [],
   "source": [
    "# function to calculate proportion of times in a year there was a certan level of air quality\n",
    "\n",
    "def calc_proportion(level, year):\n",
    "    '''\n",
    "    level: string or int. choose from the following\n",
    "        \"good\": aqi ranging from 0 to 50\n",
    "        \"moderate\": aqi ranging from 51 to 100\n",
    "        \"unhealthy for sensitive groups\": aqi ranging from 101 to 150\n",
    "        \"unhealthy\": aqi ranging from 151 to 200\n",
    "        \"very unhealthy\": aqi ranging from 201 to 300\n",
    "        \"hazardous\": aqi of 301 and above\n",
    "        int: aqi of whatever the int is or above\n",
    "    year: the year for which we query the data\n",
    "    '''\n",
    "    if level == \"good\":\n",
    "        lower = 0\n",
    "    \n",
    "    elif level == \"moderate\":\n",
    "        lower = 51\n",
    "        \n",
    "    elif level == \"unhealthy for sensitive groups\":\n",
    "        lower = 101\n",
    "    \n",
    "    elif level == \"unhealthy\":\n",
    "        lower = 151\n",
    "        \n",
    "    elif level == \"very unhealthy\":\n",
    "        lower = 201\n",
    "        \n",
    "    elif level == \"hazardous\":\n",
    "        lower = 301\n",
    "    \n",
    "    else:\n",
    "        lower = level\n",
    "        \n",
    "    conn = sqlite3.connect('my_database.sqlite')\n",
    "\n",
    "    df = pd.read_sql_query(f\"SELECT aqi, FIPS, county FROM PM25 WHERE year = {year} AND pollutant_standard = 'PM25 24-hour 2012'\", conn)\n",
    "\n",
    "    conn.close()\n",
    "        \n",
    "    r = list(df[\"FIPS\"].unique())\n",
    "    s = list(df[\"FIPS\"].unique())\n",
    "    j = 0\n",
    "            \n",
    "    for i in df[\"FIPS\"].unique():\n",
    "        s[j] = len(df[\"aqi\"][(lower <= df[\"aqi\"]) & (df[\"FIPS\"] == i)])\n",
    "        r[j] = len(df[df[\"FIPS\"] == i])\n",
    "        j += 1\n",
    "            \n",
    "    df1 = pd.DataFrame(df[\"FIPS\"].unique(), columns = [\"FIPS\"])\n",
    "    df1[\"values\"] = [s / r for s, r in zip(s, r)]\n",
    "    df1[\"county\"] = list(df[\"county\"].unique())\n",
    "        \n",
    "    return(df1)"
   ]
  },
  {
   "cell_type": "code",
   "execution_count": 34,
   "id": "3f30505f",
   "metadata": {},
   "outputs": [],
   "source": [
    "def data_census(census_table, columns, year):\n",
    "    '''\n",
    "    Args:\n",
    "        census_table: string. the table from the SQL database we want to work with\n",
    "        columns: list of strings. each string is a column from the SQL database.\n",
    "        year: int. the year for which we want to plot the data.\n",
    "    '''\n",
    "    \n",
    "    conn = sqlite3.connect('airpandas_1.sqlite')\n",
    "\n",
    "    df = pd.read_sql_query(f\"SELECT {', '.join(columns)}, NAME, FIPS FROM {census_table} WHERE year = {year}\", conn)\n",
    "\n",
    "    conn.close()\n",
    "    \n",
    "    df[\"NAME\"] = df[\"NAME\"].str[:-19]\n",
    "    \n",
    "    if len(columns) == 1:\n",
    "        df[\"values\"] = df[columns[0]]\n",
    "        return(df)\n",
    "    \n",
    "    else:\n",
    "        df[\"values\"] = df.iloc[:,0:len(columns)].sum(axis=1)\n",
    "        return(df)"
   ]
  },
  {
   "cell_type": "code",
   "execution_count": 79,
   "id": "b92c8083",
   "metadata": {},
   "outputs": [],
   "source": [
    "cali_choropleth(calc_proportion(\"unhealthy for sensitive groups\", 2021), \"values\", \"proportion\", \"FIPS\", \"county\")"
   ]
  },
  {
   "cell_type": "code",
   "execution_count": 80,
   "id": "3d95d45c",
   "metadata": {},
   "outputs": [],
   "source": [
    "cali_choropleth(calc_proportion(100, 2018), \"values\", \"proportion \", \"FIPS\", \"county\")"
   ]
  },
  {
   "cell_type": "code",
   "execution_count": null,
   "id": "9387b5a8",
   "metadata": {},
   "outputs": [],
   "source": [
    "import os\n",
    "\n",
    "if not os.path.exists(\"images\"):\n",
    "    os.mkdir(\"images\")"
   ]
  },
  {
   "cell_type": "code",
   "execution_count": null,
   "id": "ed30e1f6",
   "metadata": {},
   "outputs": [],
   "source": [
    "fig.write_image(\"images/fig1.png\")"
   ]
  },
  {
   "cell_type": "code",
   "execution_count": 70,
   "id": "4b7f3245",
   "metadata": {},
   "outputs": [],
   "source": [
    "def add_aqi_trace(fig, df, variable, variable_name, FIPS, county_name):\n",
    "    \n",
    "    fig.add_trace(go.Choropleth(z = df[variable], \n",
    "                                geojson=counties, \n",
    "                                locations= df[FIPS], \n",
    "                                #color=variable,\n",
    "                                #color_continuous_scale=\"Viridis\",\n",
    "                                #locationmode=\"USA-states\",\n",
    "                                #labels={variable: variable_name},\n",
    "                                #hover_name= county_name,\n",
    "                                #hover_data={FIPS: False},\n",
    "                                text=df[county_name],\n",
    "                                hovertemplate = \"<b>County: %{text}</b><br><br>\" + \"value: %{z}<br>\"\n",
    "                                ),\n",
    "                  row = 1, \n",
    "                  col = 2)\n",
    "    \n",
    "    fig.update_geos(\n",
    "        fitbounds=\"locations\", \n",
    "        visible=False\n",
    "    )"
   ]
  },
  {
   "cell_type": "code",
   "execution_count": 69,
   "id": "5d0340a4",
   "metadata": {},
   "outputs": [],
   "source": [
    "def add_census_trace(fig, df, variable, variable_name, FIPS, county_name):\n",
    "    \n",
    "    fig.add_trace(go.Choropleth(z = df[variable], \n",
    "                                geojson=counties, \n",
    "                                locations= df[FIPS], \n",
    "                                #color=variable,\n",
    "                                #color_continuous_scale=\"Viridis\",\n",
    "                                #locationmode=\"USA-states\",\n",
    "                                #labels={variable: variable_name},\n",
    "                                #hover_name= county_name,\n",
    "                                #hover_data={FIPS: False},\n",
    "                                text=df[county_name],\n",
    "                                hovertemplate = \"<b>County: %{text}</b><br><br>\" + \"value: %{z}<br>\",\n",
    "                                colorbar_x=0.45\n",
    "                                ),\n",
    "                  row = 1, \n",
    "                  col = 1)\n",
    "    \n",
    "    fig.update_geos(\n",
    "        fitbounds=\"locations\", \n",
    "        visible=False\n",
    "    )"
   ]
  },
  {
   "cell_type": "code",
   "execution_count": 71,
   "id": "c6de75f7",
   "metadata": {},
   "outputs": [],
   "source": [
    "def create_side_comparison(level, year, census_table, census_columns):\n",
    "    \n",
    "    '''\n",
    "    Args:\n",
    "        level: an int or string giving the level of air quality index or above we want to include in the plot.\n",
    "        year: int. the year for which we want to plot the data.\n",
    "        census_table: string. the table from which we want to gather the census variable(s).\n",
    "        census_columns: list of strings. the columns from the `census_table` we want to select.\n",
    "    '''\n",
    "    \n",
    "    rows = 1\n",
    "    cols = 2\n",
    "    fig = make_subplots(\n",
    "        rows=rows, cols=cols,\n",
    "        specs = [[{'type': 'choropleth'} for c in np.arange(cols)] for r in np.arange(rows)],\n",
    "        subplot_titles = [\"Census\", \"Air Quality\"]\n",
    "        )\n",
    "\n",
    "    add_aqi_trace(fig, calc_proportion(level, year), \"values\", \"proportion\", \"FIPS\", \"county\")\n",
    "\n",
    "    add_census_trace(fig, data_census(census_table, census_columns, year), \"values\", \"values\", \"FIPS\", \"NAME\")\n",
    "    \n",
    "    fig.update_layout(coloraxis = {'colorscale':'viridis'})\n",
    "    \n",
    "    return(fig)"
   ]
  },
  {
   "cell_type": "code",
   "execution_count": 76,
   "id": "629375f5",
   "metadata": {},
   "outputs": [],
   "source": [
    "fig = create_side_comparison(100, 2019, \"Race\", [\"pct_white\"])"
   ]
  },
  {
   "cell_type": "code",
   "execution_count": 81,
   "id": "39d5ff28",
   "metadata": {},
   "outputs": [],
   "source": [
    "fig.show()"
   ]
  },
  {
   "cell_type": "code",
   "execution_count": 78,
   "id": "cec8a7d9",
   "metadata": {},
   "outputs": [
    {
     "data": {
      "text/plain": [
       "'temp-plot.html'"
      ]
     },
     "execution_count": 78,
     "metadata": {},
     "output_type": "execute_result"
    }
   ],
   "source": [
    "plotly.offline.plot(fig)"
   ]
  }
 ],
 "metadata": {
  "kernelspec": {
   "display_name": "Python 3 (ipykernel)",
   "language": "python",
   "name": "python3"
  },
  "language_info": {
   "codemirror_mode": {
    "name": "ipython",
    "version": 3
   },
   "file_extension": ".py",
   "mimetype": "text/x-python",
   "name": "python",
   "nbconvert_exporter": "python",
   "pygments_lexer": "ipython3",
   "version": "3.9.15"
  }
 },
 "nbformat": 4,
 "nbformat_minor": 5
}
