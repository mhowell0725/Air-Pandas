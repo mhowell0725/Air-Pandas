{
 "cells": [
  {
   "cell_type": "code",
   "execution_count": 5,
   "id": "b2821608",
   "metadata": {},
   "outputs": [],
   "source": [
    "import sql_utils\n",
    "import pandas as pd\n",
    "from sqlalchemy import create_engine\n",
    "\n",
    "import sqlite3\n",
    "import pandas as pd"
   ]
  },
  {
   "cell_type": "code",
   "execution_count": 6,
   "id": "512e4be4",
   "metadata": {},
   "outputs": [],
   "source": [
    "file1 = r'/Users/mattthowell/Desktop/PIC_16B_Data/2014.6_2021_CA_PM2.5.csv'\n",
    "file2 = r'/Users/mattthowell/Desktop/PIC_16B_Data/2009_2014.6_CA_PM2.5.csv'\n",
    "file3 = r'/Users/mattthowell/Desktop/PIC_16B_Data/2009_2014.6_CA_PM10.csv'\n",
    "file4 = r'/Users/mattthowell/Desktop/PIC_16B_Data/2014.6_2021_CA_PM10.csv'"
   ]
  },
  {
   "cell_type": "code",
   "execution_count": 21,
   "id": "397615fc",
   "metadata": {},
   "outputs": [],
   "source": [
    "f = pd.read_csv(file1)"
   ]
  },
  {
   "cell_type": "code",
   "execution_count": 28,
   "id": "52eb5d16",
   "metadata": {},
   "outputs": [
    {
     "data": {
      "text/plain": [
       "0          2014\n",
       "1          2014\n",
       "2          2014\n",
       "3          2014\n",
       "4          2014\n",
       "           ... \n",
       "1897680    2021\n",
       "1897681    2021\n",
       "1897682    2021\n",
       "1897683    2021\n",
       "1897684    2021\n",
       "Name: date_local, Length: 1897685, dtype: object"
      ]
     },
     "execution_count": 28,
     "metadata": {},
     "output_type": "execute_result"
    }
   ],
   "source": [
    "f[\"date_local\"].str.slice(0, 4)"
   ]
  },
  {
   "cell_type": "code",
   "execution_count": 34,
   "id": "be18120f",
   "metadata": {},
   "outputs": [],
   "source": [
    "def aqs_years(file):\n",
    "    f = pd.read_csv(file)\n",
    "    \n",
    "    f[\"years\"] = f[\"date_local\"].str.slice(0, 4)\n",
    "    \n",
    "    return f.to_csv()"
   ]
  },
  {
   "cell_type": "code",
   "execution_count": 35,
   "id": "92b735c0",
   "metadata": {},
   "outputs": [],
   "source": [
    "file1 = aqs_years(file1)"
   ]
  },
  {
   "cell_type": "code",
   "execution_count": 36,
   "id": "4cc9323e",
   "metadata": {},
   "outputs": [],
   "source": [
    "file1"
   ]
  },
  {
   "cell_type": "code",
   "execution_count": 7,
   "id": "2415e96e",
   "metadata": {},
   "outputs": [],
   "source": [
    "engine = create_engine('sqlite:///database.sqlite')"
   ]
  },
  {
   "cell_type": "code",
   "execution_count": 8,
   "id": "103ab87a",
   "metadata": {},
   "outputs": [
    {
     "name": "stderr",
     "output_type": "stream",
     "text": [
      "/Users/mattthowell/Coding/Air-Pandas/Visualizations and Analysis/sql_utils.py:47: DtypeWarning: Columns (9) have mixed types. Specify dtype option on import or set low_memory=False.\n",
      "  for i, chunk in enumerate(chunk_iter):\n",
      "/Users/mattthowell/Coding/Air-Pandas/Visualizations and Analysis/sql_utils.py:47: DtypeWarning: Columns (9) have mixed types. Specify dtype option on import or set low_memory=False.\n",
      "  for i, chunk in enumerate(chunk_iter):\n",
      "/Users/mattthowell/Coding/Air-Pandas/Visualizations and Analysis/sql_utils.py:47: DtypeWarning: Columns (9) have mixed types. Specify dtype option on import or set low_memory=False.\n",
      "  for i, chunk in enumerate(chunk_iter):\n",
      "/Users/mattthowell/Coding/Air-Pandas/Visualizations and Analysis/sql_utils.py:47: DtypeWarning: Columns (9) have mixed types. Specify dtype option on import or set low_memory=False.\n",
      "  for i, chunk in enumerate(chunk_iter):\n",
      "/Users/mattthowell/Coding/Air-Pandas/Visualizations and Analysis/sql_utils.py:47: DtypeWarning: Columns (9) have mixed types. Specify dtype option on import or set low_memory=False.\n",
      "  for i, chunk in enumerate(chunk_iter):\n"
     ]
    }
   ],
   "source": [
    "sql_utils.process_csv_in_chunks(file1, 20000, engine, 'PM2')\n",
    "sql_utils.process_csv_in_chunks(file2, 20000, engine, 'PM2')"
   ]
  },
  {
   "cell_type": "code",
   "execution_count": 12,
   "id": "4eb2f2dc",
   "metadata": {},
   "outputs": [
    {
     "name": "stdout",
     "output_type": "stream",
     "text": [
      "    latitude   longitude  arithmetic_mean   aqi   FIPS\n",
      "0  37.765946 -122.399044             27.0  82.0  06075\n",
      "1  37.765946 -122.399044             27.0  82.0  06075\n",
      "2  37.765946 -122.399044             27.0  82.0  06075\n",
      "3  37.765946 -122.399044             27.0  82.0  06075\n",
      "4  37.765946 -122.399044             27.0  82.0  06075\n",
      "5  37.765946 -122.399044             27.0  82.0  06075\n",
      "6  37.765946 -122.399044             11.0  46.0  06075\n",
      "7  37.765946 -122.399044             11.0  46.0  06075\n",
      "8  37.765946 -122.399044             11.0  46.0  06075\n",
      "9  37.765946 -122.399044             11.0  46.0  06075\n"
     ]
    }
   ],
   "source": [
    "# Connect to the SQLite database\n",
    "conn = sqlite3.connect('database.sqlite')\n",
    "\n",
    "# Create a pandas DataFrame from an SQL query\n",
    "df = pd.read_sql_query(\"SELECT latitude, longitude, arithmetic_mean, aqi, FIPS FROM PM2 LIMIT 10\", conn)\n",
    "\n",
    "# Close the connection\n",
    "conn.close()\n",
    "\n",
    "# Print the DataFrame\n",
    "print(df)"
   ]
  }
 ],
 "metadata": {
  "kernelspec": {
   "display_name": "Python 3 (ipykernel)",
   "language": "python",
   "name": "python3"
  },
  "language_info": {
   "codemirror_mode": {
    "name": "ipython",
    "version": 3
   },
   "file_extension": ".py",
   "mimetype": "text/x-python",
   "name": "python",
   "nbconvert_exporter": "python",
   "pygments_lexer": "ipython3",
   "version": "3.10.9"
  }
 },
 "nbformat": 4,
 "nbformat_minor": 5
}
