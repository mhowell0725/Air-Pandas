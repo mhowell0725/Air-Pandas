{
 "cells": [
  {
   "cell_type": "code",
   "execution_count": 2,
   "metadata": {},
   "outputs": [],
   "source": [
    "import requests\n",
    "import json\n",
    "import pandas as pd\n"
   ]
  },
  {
   "attachments": {},
   "cell_type": "markdown",
   "metadata": {},
   "source": [
    "### US official EPA AQS air quality dataset --\n",
    "\n",
    "`https://www.epa.gov/aqs/aqs-code-list`\n",
    "\n",
    "You need to get your API for AQS and make a txt file `myEmailKey.txt` to store your email and key in the first two lines.\n",
    "\n",
    "Also, note that sometimes it may not allow you to access the API due to internet and geographical conditions! Try different connection and devices ~"
   ]
  },
  {
   "cell_type": "code",
   "execution_count": 11,
   "metadata": {},
   "outputs": [
    {
     "name": "stdout",
     "output_type": "stream",
     "text": [
      "{'Header': [{'status': 'Success', 'request_time': '2023-05-08T23:38:29-04:00', 'url': 'https://aqs.epa.gov/data/api/list/countiesByState?email=zhu.tim99%40gmail.com&key=copperswift75&state=37', 'rows': 100}], 'Data': [{'code': '001', 'value_represented': 'Alamance'}, {'code': '003', 'value_represented': 'Alexander'}, {'code': '005', 'value_represented': 'Alleghany'}, {'code': '007', 'value_represented': 'Anson'}, {'code': '009', 'value_represented': 'Ashe'}, {'code': '011', 'value_represented': 'Avery'}, {'code': '013', 'value_represented': 'Beaufort'}, {'code': '015', 'value_represented': 'Bertie'}, {'code': '017', 'value_represented': 'Bladen'}, {'code': '019', 'value_represented': 'Brunswick'}, {'code': '021', 'value_represented': 'Buncombe'}, {'code': '023', 'value_represented': 'Burke'}, {'code': '025', 'value_represented': 'Cabarrus'}, {'code': '027', 'value_represented': 'Caldwell'}, {'code': '029', 'value_represented': 'Camden'}, {'code': '031', 'value_represented': 'Carteret'}, {'code': '033', 'value_represented': 'Caswell'}, {'code': '035', 'value_represented': 'Catawba'}, {'code': '037', 'value_represented': 'Chatham'}, {'code': '039', 'value_represented': 'Cherokee'}, {'code': '041', 'value_represented': 'Chowan'}, {'code': '043', 'value_represented': 'Clay'}, {'code': '045', 'value_represented': 'Cleveland'}, {'code': '047', 'value_represented': 'Columbus'}, {'code': '049', 'value_represented': 'Craven'}, {'code': '051', 'value_represented': 'Cumberland'}, {'code': '053', 'value_represented': 'Currituck'}, {'code': '055', 'value_represented': 'Dare'}, {'code': '057', 'value_represented': 'Davidson'}, {'code': '059', 'value_represented': 'Davie'}, {'code': '061', 'value_represented': 'Duplin'}, {'code': '063', 'value_represented': 'Durham'}, {'code': '065', 'value_represented': 'Edgecombe'}, {'code': '067', 'value_represented': 'Forsyth'}, {'code': '069', 'value_represented': 'Franklin'}, {'code': '071', 'value_represented': 'Gaston'}, {'code': '073', 'value_represented': 'Gates'}, {'code': '075', 'value_represented': 'Graham'}, {'code': '077', 'value_represented': 'Granville'}, {'code': '079', 'value_represented': 'Greene'}, {'code': '081', 'value_represented': 'Guilford'}, {'code': '083', 'value_represented': 'Halifax'}, {'code': '085', 'value_represented': 'Harnett'}, {'code': '087', 'value_represented': 'Haywood'}, {'code': '089', 'value_represented': 'Henderson'}, {'code': '091', 'value_represented': 'Hertford'}, {'code': '093', 'value_represented': 'Hoke'}, {'code': '095', 'value_represented': 'Hyde'}, {'code': '097', 'value_represented': 'Iredell'}, {'code': '099', 'value_represented': 'Jackson'}, {'code': '101', 'value_represented': 'Johnston'}, {'code': '103', 'value_represented': 'Jones'}, {'code': '105', 'value_represented': 'Lee'}, {'code': '107', 'value_represented': 'Lenoir'}, {'code': '109', 'value_represented': 'Lincoln'}, {'code': '111', 'value_represented': 'McDowell'}, {'code': '113', 'value_represented': 'Macon'}, {'code': '115', 'value_represented': 'Madison'}, {'code': '117', 'value_represented': 'Martin'}, {'code': '119', 'value_represented': 'Mecklenburg'}, {'code': '121', 'value_represented': 'Mitchell'}, {'code': '123', 'value_represented': 'Montgomery'}, {'code': '125', 'value_represented': 'Moore'}, {'code': '127', 'value_represented': 'Nash'}, {'code': '129', 'value_represented': 'New Hanover'}, {'code': '131', 'value_represented': 'Northampton'}, {'code': '133', 'value_represented': 'Onslow'}, {'code': '135', 'value_represented': 'Orange'}, {'code': '137', 'value_represented': 'Pamlico'}, {'code': '139', 'value_represented': 'Pasquotank'}, {'code': '141', 'value_represented': 'Pender'}, {'code': '143', 'value_represented': 'Perquimans'}, {'code': '145', 'value_represented': 'Person'}, {'code': '147', 'value_represented': 'Pitt'}, {'code': '149', 'value_represented': 'Polk'}, {'code': '151', 'value_represented': 'Randolph'}, {'code': '153', 'value_represented': 'Richmond'}, {'code': '155', 'value_represented': 'Robeson'}, {'code': '157', 'value_represented': 'Rockingham'}, {'code': '159', 'value_represented': 'Rowan'}, {'code': '161', 'value_represented': 'Rutherford'}, {'code': '163', 'value_represented': 'Sampson'}, {'code': '165', 'value_represented': 'Scotland'}, {'code': '167', 'value_represented': 'Stanly'}, {'code': '169', 'value_represented': 'Stokes'}, {'code': '171', 'value_represented': 'Surry'}, {'code': '173', 'value_represented': 'Swain'}, {'code': '175', 'value_represented': 'Transylvania'}, {'code': '177', 'value_represented': 'Tyrrell'}, {'code': '179', 'value_represented': 'Union'}, {'code': '181', 'value_represented': 'Vance'}, {'code': '183', 'value_represented': 'Wake'}, {'code': '185', 'value_represented': 'Warren'}, {'code': '187', 'value_represented': 'Washington'}, {'code': '189', 'value_represented': 'Watauga'}, {'code': '191', 'value_represented': 'Wayne'}, {'code': '193', 'value_represented': 'Wilkes'}, {'code': '195', 'value_represented': 'Wilson'}, {'code': '197', 'value_represented': 'Yadkin'}, {'code': '199', 'value_represented': 'Yancey'}]}\n"
     ]
    }
   ],
   "source": [
    "# Read email and API key from the file\n",
    "with open(\"myEmailKey.txt\", \"r\") as file:\n",
    "    email = file.readline().strip()\n",
    "    api_key = file.readline().strip()\n",
    "\n",
    "# Define the base API URL\n",
    "base_url = \"https://aqs.epa.gov/data/api\"\n",
    "\n",
    "# Define the endpoint and parameters\n",
    "endpoint = \"/list/countiesByState\"\n",
    "params = {\n",
    "    \"email\": email,\n",
    "    \"key\": api_key,\n",
    "    \"state\": \"37\"\n",
    "}\n",
    "\n",
    "# Make the GET request with SSL/TLS verification disabled (NOT recommended for production)\n",
    "response = requests.get(base_url + endpoint, params=params)\n",
    "\n",
    "# Check if the request was successful (status code 200)\n",
    "if response.status_code == 200:\n",
    "    data = response.json()\n",
    "    print(data)\n",
    "else:\n",
    "    print(f\"Error: {response.status_code}\")\n"
   ]
  },
  {
   "cell_type": "code",
   "execution_count": 3,
   "metadata": {},
   "outputs": [],
   "source": [
    "## similarly we can get different data using the same sturcture\n",
    "# Read email and API key from the file\n",
    "with open(\"myEmailKey.txt\", \"r\") as file:\n",
    "    email = file.readline().strip()\n",
    "    api_key = file.readline().strip()\n",
    "\n",
    "# Define the base API URL\n",
    "base_url = \"https://aqs.epa.gov/data/api\"\n"
   ]
  },
  {
   "cell_type": "code",
   "execution_count": null,
   "metadata": {},
   "outputs": [],
   "source": [
    "## quarterly summary data by county e.g Example; returns quarterly summary FRM/FEM and non-FRM PM2.5 data for Wake County for 2016: https://aqs.epa.gov/data/api/quarterlyData/byCounty?email=test@aqs.api&key=test&param=88101,88502&bdate=20160101&edate=20160228&state=37&county=183\n",
    "\n",
    "## we want LA county data for 2019 qualters 1 \n",
    "\n",
    "endpoint = \"/quarterlyData/byCounty\"\n",
    "params = {\n",
    "    \"email\": email,\n",
    "    \"key\": api_key,\n",
    "    \"param\": \"88101,88502\",\n",
    "    \"bdate\": \"20190101\",\n",
    "    \"edate\": \"20191231\",\n",
    "    \"state\": \"06\",\n",
    "    \"county\": \"037\"\n",
    "}\n",
    "\n",
    "# Get the data\n",
    "data = get_data(base_url, endpoint, params)\n",
    "\n",
    "# Create a DataFrame from the JSON response\n",
    "\n",
    "df = pd.DataFrame.from_dict(data[\"Data\"])\n",
    "\n",
    "df"
   ]
  },
  {
   "cell_type": "code",
   "execution_count": 18,
   "metadata": {},
   "outputs": [
    {
     "data": {
      "text/plain": [
       "Index(['state_code', 'county_code', 'site_number', 'parameter_code', 'poc',\n",
       "       'latitude', 'longitude', 'datum', 'parameter', 'sample_duration',\n",
       "       'sample_duration_code', 'sample_duration_type', 'pollutant_standard',\n",
       "       'year', 'quarter', 'units_of_measure', 'event_type',\n",
       "       'observation_count', 'observation_percent', 'arithmetic_mean',\n",
       "       'minimum_value', 'maximum_value', 'quarterly_criteria_met',\n",
       "       'actual_days_gt_std', 'estimated_days_gt_std', 'valid_samples',\n",
       "       'valid_day_count', 'scheduled_samples', 'percent_days',\n",
       "       'percent_one_value', 'monitoring_agency_code', 'monitoring_agency',\n",
       "       'local_site_name', 'address', 'state', 'county', 'city', 'tribal_code',\n",
       "       'tribal_land', 'cbsa_code', 'cbsa', 'date_of_last_change'],\n",
       "      dtype='object')"
      ]
     },
     "execution_count": 18,
     "metadata": {},
     "output_type": "execute_result"
    }
   ],
   "source": [
    "## see what data is in the df\n",
    "df.columns\n",
    "\n",
    "\n"
   ]
  },
  {
   "cell_type": "code",
   "execution_count": 19,
   "metadata": {},
   "outputs": [
    {
     "data": {
      "text/html": [
       "<div>\n",
       "<style scoped>\n",
       "    .dataframe tbody tr th:only-of-type {\n",
       "        vertical-align: middle;\n",
       "    }\n",
       "\n",
       "    .dataframe tbody tr th {\n",
       "        vertical-align: top;\n",
       "    }\n",
       "\n",
       "    .dataframe thead th {\n",
       "        text-align: right;\n",
       "    }\n",
       "</style>\n",
       "<table border=\"1\" class=\"dataframe\">\n",
       "  <thead>\n",
       "    <tr style=\"text-align: right;\">\n",
       "      <th></th>\n",
       "      <th>latitude</th>\n",
       "      <th>longitude</th>\n",
       "      <th>parameter</th>\n",
       "      <th>year</th>\n",
       "      <th>quarter</th>\n",
       "      <th>units_of_measure</th>\n",
       "      <th>arithmetic_mean</th>\n",
       "      <th>minimum_value</th>\n",
       "      <th>maximum_value</th>\n",
       "      <th>local_site_name</th>\n",
       "      <th>cbsa</th>\n",
       "    </tr>\n",
       "  </thead>\n",
       "  <tbody>\n",
       "    <tr>\n",
       "      <th>0</th>\n",
       "      <td>34.13650</td>\n",
       "      <td>-117.92391</td>\n",
       "      <td>PM2.5 - Local Conditions</td>\n",
       "      <td>2019</td>\n",
       "      <td>1</td>\n",
       "      <td>Micrograms/cubic meter (LC)</td>\n",
       "      <td>7.2267</td>\n",
       "      <td>2.4</td>\n",
       "      <td>21.5</td>\n",
       "      <td>Azusa</td>\n",
       "      <td>Los Angeles-Long Beach-Anaheim, CA</td>\n",
       "    </tr>\n",
       "    <tr>\n",
       "      <th>1</th>\n",
       "      <td>34.13650</td>\n",
       "      <td>-117.92391</td>\n",
       "      <td>PM2.5 - Local Conditions</td>\n",
       "      <td>2019</td>\n",
       "      <td>2</td>\n",
       "      <td>Micrograms/cubic meter (LC)</td>\n",
       "      <td>9.8067</td>\n",
       "      <td>4.7</td>\n",
       "      <td>17.4</td>\n",
       "      <td>Azusa</td>\n",
       "      <td>Los Angeles-Long Beach-Anaheim, CA</td>\n",
       "    </tr>\n",
       "    <tr>\n",
       "      <th>2</th>\n",
       "      <td>34.13650</td>\n",
       "      <td>-117.92391</td>\n",
       "      <td>PM2.5 - Local Conditions</td>\n",
       "      <td>2019</td>\n",
       "      <td>3</td>\n",
       "      <td>Micrograms/cubic meter (LC)</td>\n",
       "      <td>12.4429</td>\n",
       "      <td>8.0</td>\n",
       "      <td>16.7</td>\n",
       "      <td>Azusa</td>\n",
       "      <td>Los Angeles-Long Beach-Anaheim, CA</td>\n",
       "    </tr>\n",
       "    <tr>\n",
       "      <th>3</th>\n",
       "      <td>34.13650</td>\n",
       "      <td>-117.92391</td>\n",
       "      <td>PM2.5 - Local Conditions</td>\n",
       "      <td>2019</td>\n",
       "      <td>3</td>\n",
       "      <td>Micrograms/cubic meter (LC)</td>\n",
       "      <td>16.2800</td>\n",
       "      <td>8.0</td>\n",
       "      <td>70.0</td>\n",
       "      <td>Azusa</td>\n",
       "      <td>Los Angeles-Long Beach-Anaheim, CA</td>\n",
       "    </tr>\n",
       "    <tr>\n",
       "      <th>4</th>\n",
       "      <td>34.13650</td>\n",
       "      <td>-117.92391</td>\n",
       "      <td>PM2.5 - Local Conditions</td>\n",
       "      <td>2019</td>\n",
       "      <td>3</td>\n",
       "      <td>Micrograms/cubic meter (LC)</td>\n",
       "      <td>16.2800</td>\n",
       "      <td>8.0</td>\n",
       "      <td>70.0</td>\n",
       "      <td>Azusa</td>\n",
       "      <td>Los Angeles-Long Beach-Anaheim, CA</td>\n",
       "    </tr>\n",
       "    <tr>\n",
       "      <th>...</th>\n",
       "      <td>...</td>\n",
       "      <td>...</td>\n",
       "      <td>...</td>\n",
       "      <td>...</td>\n",
       "      <td>...</td>\n",
       "      <td>...</td>\n",
       "      <td>...</td>\n",
       "      <td>...</td>\n",
       "      <td>...</td>\n",
       "      <td>...</td>\n",
       "      <td>...</td>\n",
       "    </tr>\n",
       "    <tr>\n",
       "      <th>474</th>\n",
       "      <td>34.01029</td>\n",
       "      <td>-118.06850</td>\n",
       "      <td>PM2.5 - Local Conditions</td>\n",
       "      <td>2019</td>\n",
       "      <td>4</td>\n",
       "      <td>Micrograms/cubic meter (LC)</td>\n",
       "      <td>12.1857</td>\n",
       "      <td>4.5</td>\n",
       "      <td>27.4</td>\n",
       "      <td>Pico Rivera #2</td>\n",
       "      <td>Los Angeles-Long Beach-Anaheim, CA</td>\n",
       "    </tr>\n",
       "    <tr>\n",
       "      <th>475</th>\n",
       "      <td>34.01029</td>\n",
       "      <td>-118.06850</td>\n",
       "      <td>PM2.5 - Local Conditions</td>\n",
       "      <td>2019</td>\n",
       "      <td>1</td>\n",
       "      <td>Micrograms/cubic meter (LC)</td>\n",
       "      <td>8.2067</td>\n",
       "      <td>2.5</td>\n",
       "      <td>19.2</td>\n",
       "      <td>Pico Rivera #2</td>\n",
       "      <td>Los Angeles-Long Beach-Anaheim, CA</td>\n",
       "    </tr>\n",
       "    <tr>\n",
       "      <th>476</th>\n",
       "      <td>34.01029</td>\n",
       "      <td>-118.06850</td>\n",
       "      <td>PM2.5 - Local Conditions</td>\n",
       "      <td>2019</td>\n",
       "      <td>2</td>\n",
       "      <td>Micrograms/cubic meter (LC)</td>\n",
       "      <td>8.1600</td>\n",
       "      <td>3.6</td>\n",
       "      <td>14.3</td>\n",
       "      <td>Pico Rivera #2</td>\n",
       "      <td>Los Angeles-Long Beach-Anaheim, CA</td>\n",
       "    </tr>\n",
       "    <tr>\n",
       "      <th>477</th>\n",
       "      <td>34.01029</td>\n",
       "      <td>-118.06850</td>\n",
       "      <td>PM2.5 - Local Conditions</td>\n",
       "      <td>2019</td>\n",
       "      <td>3</td>\n",
       "      <td>Micrograms/cubic meter (LC)</td>\n",
       "      <td>11.2750</td>\n",
       "      <td>7.6</td>\n",
       "      <td>15.6</td>\n",
       "      <td>Pico Rivera #2</td>\n",
       "      <td>Los Angeles-Long Beach-Anaheim, CA</td>\n",
       "    </tr>\n",
       "    <tr>\n",
       "      <th>478</th>\n",
       "      <td>34.01029</td>\n",
       "      <td>-118.06850</td>\n",
       "      <td>PM2.5 - Local Conditions</td>\n",
       "      <td>2019</td>\n",
       "      <td>4</td>\n",
       "      <td>Micrograms/cubic meter (LC)</td>\n",
       "      <td>12.0733</td>\n",
       "      <td>4.4</td>\n",
       "      <td>27.5</td>\n",
       "      <td>Pico Rivera #2</td>\n",
       "      <td>Los Angeles-Long Beach-Anaheim, CA</td>\n",
       "    </tr>\n",
       "  </tbody>\n",
       "</table>\n",
       "<p>479 rows × 11 columns</p>\n",
       "</div>"
      ],
      "text/plain": [
       "     latitude  longitude                 parameter  year quarter  \\\n",
       "0    34.13650 -117.92391  PM2.5 - Local Conditions  2019       1   \n",
       "1    34.13650 -117.92391  PM2.5 - Local Conditions  2019       2   \n",
       "2    34.13650 -117.92391  PM2.5 - Local Conditions  2019       3   \n",
       "3    34.13650 -117.92391  PM2.5 - Local Conditions  2019       3   \n",
       "4    34.13650 -117.92391  PM2.5 - Local Conditions  2019       3   \n",
       "..        ...        ...                       ...   ...     ...   \n",
       "474  34.01029 -118.06850  PM2.5 - Local Conditions  2019       4   \n",
       "475  34.01029 -118.06850  PM2.5 - Local Conditions  2019       1   \n",
       "476  34.01029 -118.06850  PM2.5 - Local Conditions  2019       2   \n",
       "477  34.01029 -118.06850  PM2.5 - Local Conditions  2019       3   \n",
       "478  34.01029 -118.06850  PM2.5 - Local Conditions  2019       4   \n",
       "\n",
       "                units_of_measure  arithmetic_mean minimum_value maximum_value  \\\n",
       "0    Micrograms/cubic meter (LC)           7.2267           2.4          21.5   \n",
       "1    Micrograms/cubic meter (LC)           9.8067           4.7          17.4   \n",
       "2    Micrograms/cubic meter (LC)          12.4429           8.0          16.7   \n",
       "3    Micrograms/cubic meter (LC)          16.2800           8.0          70.0   \n",
       "4    Micrograms/cubic meter (LC)          16.2800           8.0          70.0   \n",
       "..                           ...              ...           ...           ...   \n",
       "474  Micrograms/cubic meter (LC)          12.1857           4.5          27.4   \n",
       "475  Micrograms/cubic meter (LC)           8.2067           2.5          19.2   \n",
       "476  Micrograms/cubic meter (LC)           8.1600           3.6          14.3   \n",
       "477  Micrograms/cubic meter (LC)          11.2750           7.6          15.6   \n",
       "478  Micrograms/cubic meter (LC)          12.0733           4.4          27.5   \n",
       "\n",
       "    local_site_name                                cbsa  \n",
       "0             Azusa  Los Angeles-Long Beach-Anaheim, CA  \n",
       "1             Azusa  Los Angeles-Long Beach-Anaheim, CA  \n",
       "2             Azusa  Los Angeles-Long Beach-Anaheim, CA  \n",
       "3             Azusa  Los Angeles-Long Beach-Anaheim, CA  \n",
       "4             Azusa  Los Angeles-Long Beach-Anaheim, CA  \n",
       "..              ...                                 ...  \n",
       "474  Pico Rivera #2  Los Angeles-Long Beach-Anaheim, CA  \n",
       "475  Pico Rivera #2  Los Angeles-Long Beach-Anaheim, CA  \n",
       "476  Pico Rivera #2  Los Angeles-Long Beach-Anaheim, CA  \n",
       "477  Pico Rivera #2  Los Angeles-Long Beach-Anaheim, CA  \n",
       "478  Pico Rivera #2  Los Angeles-Long Beach-Anaheim, CA  \n",
       "\n",
       "[479 rows x 11 columns]"
      ]
     },
     "execution_count": 19,
     "metadata": {},
     "output_type": "execute_result"
    }
   ],
   "source": [
    "## Here are some useful data if we want to plot it on the map\n",
    "# 'latitude', 'longitude', 'parameter', 'year', 'quarter', 'units_of_measure', 'arithmetic_mean', 'minimum_value', 'maximum_value', 'local_site_name','cbsa'\n",
    "\n",
    "## make a subset of the data \n",
    "\n",
    "df = df[['latitude', 'longitude', 'parameter', 'year', 'quarter', 'units_of_measure', 'arithmetic_mean', 'minimum_value', 'maximum_value', 'local_site_name','cbsa']]\n",
    "df\n"
   ]
  },
  {
   "cell_type": "code",
   "execution_count": null,
   "metadata": {},
   "outputs": [],
   "source": [
    "## use site as index\n",
    "df.set_index(\"local_site_name\", inplace=True)\n",
    "df"
   ]
  },
  {
   "cell_type": "code",
   "execution_count": 27,
   "metadata": {},
   "outputs": [],
   "source": [
    "## take quarter 1 data as an example\n",
    "df_q1 = df[df[\"quarter\"] == \"1\"]\n",
    "df_q1.reset_index(inplace=True)\n"
   ]
  },
  {
   "cell_type": "code",
   "execution_count": 29,
   "metadata": {},
   "outputs": [
    {
     "data": {
      "application/vnd.plotly.v1+json": {
       "config": {
        "plotlyServerURL": "https://plot.ly"
       },
       "data": [
        {
         "customdata": [
          [
           7.2267,
           "PM2.5 - Local Conditions"
          ],
          [
           4.6533,
           "PM2.5 - Local Conditions"
          ],
          [
           10.1655,
           "PM2.5 - Local Conditions"
          ],
          [
           8.4,
           "PM2.5 - Local Conditions"
          ],
          [
           7.8846,
           "PM2.5 - Local Conditions"
          ],
          [
           6.8964,
           "PM2.5 - Local Conditions"
          ],
          [
           3.6356,
           "PM2.5 - Local Conditions"
          ],
          [
           8.4843,
           "PM2.5 - Local Conditions"
          ],
          [
           9.5956,
           "PM2.5 - Local Conditions"
          ],
          [
           8.0739,
           "PM2.5 - Local Conditions"
          ],
          [
           10.4033,
           "PM2.5 - Local Conditions"
          ],
          [
           12.7711,
           "PM2.5 - Local Conditions"
          ],
          [
           6.56,
           "PM2.5 - Local Conditions"
          ],
          [
           5.86,
           "PM2.5 - Local Conditions"
          ],
          [
           9.4867,
           "PM2.5 - Local Conditions"
          ],
          [
           8.34,
           "PM2.5 - Local Conditions"
          ],
          [
           8.2067,
           "PM2.5 - Local Conditions"
          ],
          [
           7.2267,
           "PM2.5 - Local Conditions"
          ],
          [
           4.6533,
           "PM2.5 - Local Conditions"
          ],
          [
           10.1655,
           "PM2.5 - Local Conditions"
          ],
          [
           8.4,
           "PM2.5 - Local Conditions"
          ],
          [
           7.8846,
           "PM2.5 - Local Conditions"
          ],
          [
           6.8964,
           "PM2.5 - Local Conditions"
          ],
          [
           3.6356,
           "PM2.5 - Local Conditions"
          ],
          [
           8.4843,
           "PM2.5 - Local Conditions"
          ],
          [
           9.5956,
           "PM2.5 - Local Conditions"
          ],
          [
           8.0739,
           "PM2.5 - Local Conditions"
          ],
          [
           10.4033,
           "PM2.5 - Local Conditions"
          ],
          [
           12.7711,
           "PM2.5 - Local Conditions"
          ],
          [
           6.56,
           "PM2.5 - Local Conditions"
          ],
          [
           5.86,
           "PM2.5 - Local Conditions"
          ],
          [
           9.4867,
           "PM2.5 - Local Conditions"
          ],
          [
           8.34,
           "PM2.5 - Local Conditions"
          ],
          [
           8.2067,
           "PM2.5 - Local Conditions"
          ],
          [
           3.7534,
           "Acceptable PM2.5 AQI & Speciation Mass"
          ],
          [
           3.6689,
           "Acceptable PM2.5 AQI & Speciation Mass"
          ],
          [
           9.8526,
           "Acceptable PM2.5 AQI & Speciation Mass"
          ],
          [
           9.8056,
           "Acceptable PM2.5 AQI & Speciation Mass"
          ],
          [
           8.1867,
           "Acceptable PM2.5 AQI & Speciation Mass"
          ],
          [
           8.46,
           "Acceptable PM2.5 AQI & Speciation Mass"
          ],
          [
           8.503,
           "Acceptable PM2.5 AQI & Speciation Mass"
          ],
          [
           8.4622,
           "Acceptable PM2.5 AQI & Speciation Mass"
          ],
          [
           8.3343,
           "Acceptable PM2.5 AQI & Speciation Mass"
          ],
          [
           8.2812,
           "Acceptable PM2.5 AQI & Speciation Mass"
          ],
          [
           3.6719,
           "PM2.5 - Local Conditions"
          ],
          [
           9.6464,
           "PM2.5 - Local Conditions"
          ],
          [
           12.8013,
           "PM2.5 - Local Conditions"
          ],
          [
           1.9583,
           "Acceptable PM2.5 AQI & Speciation Mass"
          ],
          [
           7.2267,
           "PM2.5 - Local Conditions"
          ],
          [
           4.6533,
           "PM2.5 - Local Conditions"
          ],
          [
           10.1655,
           "PM2.5 - Local Conditions"
          ],
          [
           8.4,
           "PM2.5 - Local Conditions"
          ],
          [
           7.8846,
           "PM2.5 - Local Conditions"
          ],
          [
           6.8964,
           "PM2.5 - Local Conditions"
          ],
          [
           3.6356,
           "PM2.5 - Local Conditions"
          ],
          [
           8.4843,
           "PM2.5 - Local Conditions"
          ],
          [
           9.5956,
           "PM2.5 - Local Conditions"
          ],
          [
           8.0739,
           "PM2.5 - Local Conditions"
          ],
          [
           10.4033,
           "PM2.5 - Local Conditions"
          ],
          [
           12.7711,
           "PM2.5 - Local Conditions"
          ],
          [
           6.56,
           "PM2.5 - Local Conditions"
          ],
          [
           5.86,
           "PM2.5 - Local Conditions"
          ],
          [
           9.4867,
           "PM2.5 - Local Conditions"
          ],
          [
           8.34,
           "PM2.5 - Local Conditions"
          ],
          [
           8.2067,
           "PM2.5 - Local Conditions"
          ],
          [
           7.2267,
           "PM2.5 - Local Conditions"
          ],
          [
           4.6533,
           "PM2.5 - Local Conditions"
          ],
          [
           10.1655,
           "PM2.5 - Local Conditions"
          ],
          [
           8.4,
           "PM2.5 - Local Conditions"
          ],
          [
           7.8846,
           "PM2.5 - Local Conditions"
          ],
          [
           6.8964,
           "PM2.5 - Local Conditions"
          ],
          [
           3.6356,
           "PM2.5 - Local Conditions"
          ],
          [
           8.4843,
           "PM2.5 - Local Conditions"
          ],
          [
           9.5956,
           "PM2.5 - Local Conditions"
          ],
          [
           8.0739,
           "PM2.5 - Local Conditions"
          ],
          [
           10.4033,
           "PM2.5 - Local Conditions"
          ],
          [
           12.7711,
           "PM2.5 - Local Conditions"
          ],
          [
           6.56,
           "PM2.5 - Local Conditions"
          ],
          [
           5.86,
           "PM2.5 - Local Conditions"
          ],
          [
           9.4867,
           "PM2.5 - Local Conditions"
          ],
          [
           8.34,
           "PM2.5 - Local Conditions"
          ],
          [
           8.2067,
           "PM2.5 - Local Conditions"
          ],
          [
           7.2267,
           "PM2.5 - Local Conditions"
          ],
          [
           4.6533,
           "PM2.5 - Local Conditions"
          ],
          [
           10.1655,
           "PM2.5 - Local Conditions"
          ],
          [
           8.4,
           "PM2.5 - Local Conditions"
          ],
          [
           7.8846,
           "PM2.5 - Local Conditions"
          ],
          [
           6.8964,
           "PM2.5 - Local Conditions"
          ],
          [
           3.6356,
           "PM2.5 - Local Conditions"
          ],
          [
           8.4843,
           "PM2.5 - Local Conditions"
          ],
          [
           9.5956,
           "PM2.5 - Local Conditions"
          ],
          [
           8.0739,
           "PM2.5 - Local Conditions"
          ],
          [
           10.4033,
           "PM2.5 - Local Conditions"
          ],
          [
           12.7711,
           "PM2.5 - Local Conditions"
          ],
          [
           6.56,
           "PM2.5 - Local Conditions"
          ],
          [
           5.86,
           "PM2.5 - Local Conditions"
          ],
          [
           9.4867,
           "PM2.5 - Local Conditions"
          ],
          [
           8.34,
           "PM2.5 - Local Conditions"
          ],
          [
           8.2067,
           "PM2.5 - Local Conditions"
          ],
          [
           7.2267,
           "PM2.5 - Local Conditions"
          ],
          [
           4.6533,
           "PM2.5 - Local Conditions"
          ],
          [
           10.1655,
           "PM2.5 - Local Conditions"
          ],
          [
           8.4,
           "PM2.5 - Local Conditions"
          ],
          [
           7.8846,
           "PM2.5 - Local Conditions"
          ],
          [
           6.8964,
           "PM2.5 - Local Conditions"
          ],
          [
           3.6356,
           "PM2.5 - Local Conditions"
          ],
          [
           8.4843,
           "PM2.5 - Local Conditions"
          ],
          [
           9.5956,
           "PM2.5 - Local Conditions"
          ],
          [
           8.0739,
           "PM2.5 - Local Conditions"
          ],
          [
           10.4033,
           "PM2.5 - Local Conditions"
          ],
          [
           12.7711,
           "PM2.5 - Local Conditions"
          ],
          [
           6.56,
           "PM2.5 - Local Conditions"
          ],
          [
           5.86,
           "PM2.5 - Local Conditions"
          ],
          [
           9.4867,
           "PM2.5 - Local Conditions"
          ],
          [
           8.34,
           "PM2.5 - Local Conditions"
          ],
          [
           8.2067,
           "PM2.5 - Local Conditions"
          ]
         ],
         "hovertemplate": "<b>%{hovertext}</b><br><br>latitude=%{lat}<br>longitude=%{lon}<br>arithmetic_mean=%{customdata[0]}<br>parameter=%{customdata[1]}<extra></extra>",
         "hovertext": [
          "Azusa",
          "Azusa",
          "Compton",
          "Los Angeles-North Main Street",
          "Los Angeles-North Main Street",
          "Reseda",
          "Lancaster-Division Street",
          "Long Beach (North)",
          "Long Beach (South)",
          "Long Beach (South)",
          "Long Beach-Route 710 Near Road",
          "Long Beach-Route 710 Near Road",
          "Pasadena",
          "Pasadena",
          "Pico Rivera #2",
          "Pico Rivera #2",
          "Pico Rivera #2",
          "Azusa",
          "Azusa",
          "Compton",
          "Los Angeles-North Main Street",
          "Los Angeles-North Main Street",
          "Reseda",
          "Lancaster-Division Street",
          "Long Beach (North)",
          "Long Beach (South)",
          "Long Beach (South)",
          "Long Beach-Route 710 Near Road",
          "Long Beach-Route 710 Near Road",
          "Pasadena",
          "Pasadena",
          "Pico Rivera #2",
          "Pico Rivera #2",
          "Pico Rivera #2",
          "Santa Clarita",
          "Santa Clarita",
          "Los Angeles-North Main Street",
          "Los Angeles-North Main Street",
          "Los Angeles-North Main Street",
          "Los Angeles-North Main Street",
          "Reseda",
          "Reseda",
          "Glendora",
          "Glendora",
          "Lancaster-Division Street",
          "Long Beach (South)",
          "Long Beach-Route 710 Near Road",
          "Lebec",
          "Azusa",
          "Azusa",
          "Compton",
          "Los Angeles-North Main Street",
          "Los Angeles-North Main Street",
          "Reseda",
          "Lancaster-Division Street",
          "Long Beach (North)",
          "Long Beach (South)",
          "Long Beach (South)",
          "Long Beach-Route 710 Near Road",
          "Long Beach-Route 710 Near Road",
          "Pasadena",
          "Pasadena",
          "Pico Rivera #2",
          "Pico Rivera #2",
          "Pico Rivera #2",
          "Azusa",
          "Azusa",
          "Compton",
          "Los Angeles-North Main Street",
          "Los Angeles-North Main Street",
          "Reseda",
          "Lancaster-Division Street",
          "Long Beach (North)",
          "Long Beach (South)",
          "Long Beach (South)",
          "Long Beach-Route 710 Near Road",
          "Long Beach-Route 710 Near Road",
          "Pasadena",
          "Pasadena",
          "Pico Rivera #2",
          "Pico Rivera #2",
          "Pico Rivera #2",
          "Azusa",
          "Azusa",
          "Compton",
          "Los Angeles-North Main Street",
          "Los Angeles-North Main Street",
          "Reseda",
          "Lancaster-Division Street",
          "Long Beach (North)",
          "Long Beach (South)",
          "Long Beach (South)",
          "Long Beach-Route 710 Near Road",
          "Long Beach-Route 710 Near Road",
          "Pasadena",
          "Pasadena",
          "Pico Rivera #2",
          "Pico Rivera #2",
          "Pico Rivera #2",
          "Azusa",
          "Azusa",
          "Compton",
          "Los Angeles-North Main Street",
          "Los Angeles-North Main Street",
          "Reseda",
          "Lancaster-Division Street",
          "Long Beach (North)",
          "Long Beach (South)",
          "Long Beach (South)",
          "Long Beach-Route 710 Near Road",
          "Long Beach-Route 710 Near Road",
          "Pasadena",
          "Pasadena",
          "Pico Rivera #2",
          "Pico Rivera #2",
          "Pico Rivera #2"
         ],
         "lat": [
          34.1365,
          34.1365,
          33.901389,
          34.06659,
          34.06659,
          34.19925,
          34.669739,
          33.82376,
          33.79236,
          33.79236,
          33.859662,
          33.859662,
          34.1326,
          34.1326,
          34.01029,
          34.01029,
          34.01029,
          34.1365,
          34.1365,
          33.901389,
          34.06659,
          34.06659,
          34.19925,
          34.669739,
          33.82376,
          33.79236,
          33.79236,
          33.859662,
          33.859662,
          34.1326,
          34.1326,
          34.01029,
          34.01029,
          34.01029,
          34.38344,
          34.38344,
          34.06659,
          34.06659,
          34.06659,
          34.06659,
          34.19925,
          34.19925,
          34.14435,
          34.14435,
          34.669739,
          33.79236,
          33.859662,
          34.813034,
          34.1365,
          34.1365,
          33.901389,
          34.06659,
          34.06659,
          34.19925,
          34.669739,
          33.82376,
          33.79236,
          33.79236,
          33.859662,
          33.859662,
          34.1326,
          34.1326,
          34.01029,
          34.01029,
          34.01029,
          34.1365,
          34.1365,
          33.901389,
          34.06659,
          34.06659,
          34.19925,
          34.669739,
          33.82376,
          33.79236,
          33.79236,
          33.859662,
          33.859662,
          34.1326,
          34.1326,
          34.01029,
          34.01029,
          34.01029,
          34.1365,
          34.1365,
          33.901389,
          34.06659,
          34.06659,
          34.19925,
          34.669739,
          33.82376,
          33.79236,
          33.79236,
          33.859662,
          33.859662,
          34.1326,
          34.1326,
          34.01029,
          34.01029,
          34.01029,
          34.1365,
          34.1365,
          33.901389,
          34.06659,
          34.06659,
          34.19925,
          34.669739,
          33.82376,
          33.79236,
          33.79236,
          33.859662,
          33.859662,
          34.1326,
          34.1326,
          34.01029,
          34.01029,
          34.01029
         ],
         "legendgroup": "",
         "lon": [
          -117.92391,
          -117.92391,
          -118.205,
          -118.22688,
          -118.22688,
          -118.53276,
          -118.130511,
          -118.18921,
          -118.17533,
          -118.17533,
          -118.200707,
          -118.200707,
          -118.1272,
          -118.1272,
          -118.0685,
          -118.0685,
          -118.0685,
          -117.92391,
          -117.92391,
          -118.205,
          -118.22688,
          -118.22688,
          -118.53276,
          -118.130511,
          -118.18921,
          -118.17533,
          -118.17533,
          -118.200707,
          -118.200707,
          -118.1272,
          -118.1272,
          -118.0685,
          -118.0685,
          -118.0685,
          -118.5284,
          -118.5284,
          -118.22688,
          -118.22688,
          -118.22688,
          -118.22688,
          -118.53276,
          -118.53276,
          -117.85036,
          -117.85036,
          -118.130511,
          -118.17533,
          -118.200707,
          -118.884819,
          -117.92391,
          -117.92391,
          -118.205,
          -118.22688,
          -118.22688,
          -118.53276,
          -118.130511,
          -118.18921,
          -118.17533,
          -118.17533,
          -118.200707,
          -118.200707,
          -118.1272,
          -118.1272,
          -118.0685,
          -118.0685,
          -118.0685,
          -117.92391,
          -117.92391,
          -118.205,
          -118.22688,
          -118.22688,
          -118.53276,
          -118.130511,
          -118.18921,
          -118.17533,
          -118.17533,
          -118.200707,
          -118.200707,
          -118.1272,
          -118.1272,
          -118.0685,
          -118.0685,
          -118.0685,
          -117.92391,
          -117.92391,
          -118.205,
          -118.22688,
          -118.22688,
          -118.53276,
          -118.130511,
          -118.18921,
          -118.17533,
          -118.17533,
          -118.200707,
          -118.200707,
          -118.1272,
          -118.1272,
          -118.0685,
          -118.0685,
          -118.0685,
          -117.92391,
          -117.92391,
          -118.205,
          -118.22688,
          -118.22688,
          -118.53276,
          -118.130511,
          -118.18921,
          -118.17533,
          -118.17533,
          -118.200707,
          -118.200707,
          -118.1272,
          -118.1272,
          -118.0685,
          -118.0685,
          -118.0685
         ],
         "marker": {
          "color": "fuchsia"
         },
         "mode": "markers",
         "name": "",
         "showlegend": false,
         "subplot": "mapbox",
         "type": "scattermapbox"
        }
       ],
       "layout": {
        "height": 300,
        "legend": {
         "tracegroupgap": 0
        },
        "mapbox": {
         "center": {
          "lat": 34.055670922413796,
          "lon": -118.16851842241377
         },
         "domain": {
          "x": [
           0,
           1
          ],
          "y": [
           0,
           1
          ]
         },
         "style": "carto-positron",
         "zoom": 10
        },
        "margin": {
         "b": 0,
         "l": 0,
         "r": 0,
         "t": 0
        },
        "template": {
         "data": {
          "bar": [
           {
            "error_x": {
             "color": "#2a3f5f"
            },
            "error_y": {
             "color": "#2a3f5f"
            },
            "marker": {
             "line": {
              "color": "#E5ECF6",
              "width": 0.5
             },
             "pattern": {
              "fillmode": "overlay",
              "size": 10,
              "solidity": 0.2
             }
            },
            "type": "bar"
           }
          ],
          "barpolar": [
           {
            "marker": {
             "line": {
              "color": "#E5ECF6",
              "width": 0.5
             },
             "pattern": {
              "fillmode": "overlay",
              "size": 10,
              "solidity": 0.2
             }
            },
            "type": "barpolar"
           }
          ],
          "carpet": [
           {
            "aaxis": {
             "endlinecolor": "#2a3f5f",
             "gridcolor": "white",
             "linecolor": "white",
             "minorgridcolor": "white",
             "startlinecolor": "#2a3f5f"
            },
            "baxis": {
             "endlinecolor": "#2a3f5f",
             "gridcolor": "white",
             "linecolor": "white",
             "minorgridcolor": "white",
             "startlinecolor": "#2a3f5f"
            },
            "type": "carpet"
           }
          ],
          "choropleth": [
           {
            "colorbar": {
             "outlinewidth": 0,
             "ticks": ""
            },
            "type": "choropleth"
           }
          ],
          "contour": [
           {
            "colorbar": {
             "outlinewidth": 0,
             "ticks": ""
            },
            "colorscale": [
             [
              0,
              "#0d0887"
             ],
             [
              0.1111111111111111,
              "#46039f"
             ],
             [
              0.2222222222222222,
              "#7201a8"
             ],
             [
              0.3333333333333333,
              "#9c179e"
             ],
             [
              0.4444444444444444,
              "#bd3786"
             ],
             [
              0.5555555555555556,
              "#d8576b"
             ],
             [
              0.6666666666666666,
              "#ed7953"
             ],
             [
              0.7777777777777778,
              "#fb9f3a"
             ],
             [
              0.8888888888888888,
              "#fdca26"
             ],
             [
              1,
              "#f0f921"
             ]
            ],
            "type": "contour"
           }
          ],
          "contourcarpet": [
           {
            "colorbar": {
             "outlinewidth": 0,
             "ticks": ""
            },
            "type": "contourcarpet"
           }
          ],
          "heatmap": [
           {
            "colorbar": {
             "outlinewidth": 0,
             "ticks": ""
            },
            "colorscale": [
             [
              0,
              "#0d0887"
             ],
             [
              0.1111111111111111,
              "#46039f"
             ],
             [
              0.2222222222222222,
              "#7201a8"
             ],
             [
              0.3333333333333333,
              "#9c179e"
             ],
             [
              0.4444444444444444,
              "#bd3786"
             ],
             [
              0.5555555555555556,
              "#d8576b"
             ],
             [
              0.6666666666666666,
              "#ed7953"
             ],
             [
              0.7777777777777778,
              "#fb9f3a"
             ],
             [
              0.8888888888888888,
              "#fdca26"
             ],
             [
              1,
              "#f0f921"
             ]
            ],
            "type": "heatmap"
           }
          ],
          "heatmapgl": [
           {
            "colorbar": {
             "outlinewidth": 0,
             "ticks": ""
            },
            "colorscale": [
             [
              0,
              "#0d0887"
             ],
             [
              0.1111111111111111,
              "#46039f"
             ],
             [
              0.2222222222222222,
              "#7201a8"
             ],
             [
              0.3333333333333333,
              "#9c179e"
             ],
             [
              0.4444444444444444,
              "#bd3786"
             ],
             [
              0.5555555555555556,
              "#d8576b"
             ],
             [
              0.6666666666666666,
              "#ed7953"
             ],
             [
              0.7777777777777778,
              "#fb9f3a"
             ],
             [
              0.8888888888888888,
              "#fdca26"
             ],
             [
              1,
              "#f0f921"
             ]
            ],
            "type": "heatmapgl"
           }
          ],
          "histogram": [
           {
            "marker": {
             "pattern": {
              "fillmode": "overlay",
              "size": 10,
              "solidity": 0.2
             }
            },
            "type": "histogram"
           }
          ],
          "histogram2d": [
           {
            "colorbar": {
             "outlinewidth": 0,
             "ticks": ""
            },
            "colorscale": [
             [
              0,
              "#0d0887"
             ],
             [
              0.1111111111111111,
              "#46039f"
             ],
             [
              0.2222222222222222,
              "#7201a8"
             ],
             [
              0.3333333333333333,
              "#9c179e"
             ],
             [
              0.4444444444444444,
              "#bd3786"
             ],
             [
              0.5555555555555556,
              "#d8576b"
             ],
             [
              0.6666666666666666,
              "#ed7953"
             ],
             [
              0.7777777777777778,
              "#fb9f3a"
             ],
             [
              0.8888888888888888,
              "#fdca26"
             ],
             [
              1,
              "#f0f921"
             ]
            ],
            "type": "histogram2d"
           }
          ],
          "histogram2dcontour": [
           {
            "colorbar": {
             "outlinewidth": 0,
             "ticks": ""
            },
            "colorscale": [
             [
              0,
              "#0d0887"
             ],
             [
              0.1111111111111111,
              "#46039f"
             ],
             [
              0.2222222222222222,
              "#7201a8"
             ],
             [
              0.3333333333333333,
              "#9c179e"
             ],
             [
              0.4444444444444444,
              "#bd3786"
             ],
             [
              0.5555555555555556,
              "#d8576b"
             ],
             [
              0.6666666666666666,
              "#ed7953"
             ],
             [
              0.7777777777777778,
              "#fb9f3a"
             ],
             [
              0.8888888888888888,
              "#fdca26"
             ],
             [
              1,
              "#f0f921"
             ]
            ],
            "type": "histogram2dcontour"
           }
          ],
          "mesh3d": [
           {
            "colorbar": {
             "outlinewidth": 0,
             "ticks": ""
            },
            "type": "mesh3d"
           }
          ],
          "parcoords": [
           {
            "line": {
             "colorbar": {
              "outlinewidth": 0,
              "ticks": ""
             }
            },
            "type": "parcoords"
           }
          ],
          "pie": [
           {
            "automargin": true,
            "type": "pie"
           }
          ],
          "scatter": [
           {
            "fillpattern": {
             "fillmode": "overlay",
             "size": 10,
             "solidity": 0.2
            },
            "type": "scatter"
           }
          ],
          "scatter3d": [
           {
            "line": {
             "colorbar": {
              "outlinewidth": 0,
              "ticks": ""
             }
            },
            "marker": {
             "colorbar": {
              "outlinewidth": 0,
              "ticks": ""
             }
            },
            "type": "scatter3d"
           }
          ],
          "scattercarpet": [
           {
            "marker": {
             "colorbar": {
              "outlinewidth": 0,
              "ticks": ""
             }
            },
            "type": "scattercarpet"
           }
          ],
          "scattergeo": [
           {
            "marker": {
             "colorbar": {
              "outlinewidth": 0,
              "ticks": ""
             }
            },
            "type": "scattergeo"
           }
          ],
          "scattergl": [
           {
            "marker": {
             "colorbar": {
              "outlinewidth": 0,
              "ticks": ""
             }
            },
            "type": "scattergl"
           }
          ],
          "scattermapbox": [
           {
            "marker": {
             "colorbar": {
              "outlinewidth": 0,
              "ticks": ""
             }
            },
            "type": "scattermapbox"
           }
          ],
          "scatterpolar": [
           {
            "marker": {
             "colorbar": {
              "outlinewidth": 0,
              "ticks": ""
             }
            },
            "type": "scatterpolar"
           }
          ],
          "scatterpolargl": [
           {
            "marker": {
             "colorbar": {
              "outlinewidth": 0,
              "ticks": ""
             }
            },
            "type": "scatterpolargl"
           }
          ],
          "scatterternary": [
           {
            "marker": {
             "colorbar": {
              "outlinewidth": 0,
              "ticks": ""
             }
            },
            "type": "scatterternary"
           }
          ],
          "surface": [
           {
            "colorbar": {
             "outlinewidth": 0,
             "ticks": ""
            },
            "colorscale": [
             [
              0,
              "#0d0887"
             ],
             [
              0.1111111111111111,
              "#46039f"
             ],
             [
              0.2222222222222222,
              "#7201a8"
             ],
             [
              0.3333333333333333,
              "#9c179e"
             ],
             [
              0.4444444444444444,
              "#bd3786"
             ],
             [
              0.5555555555555556,
              "#d8576b"
             ],
             [
              0.6666666666666666,
              "#ed7953"
             ],
             [
              0.7777777777777778,
              "#fb9f3a"
             ],
             [
              0.8888888888888888,
              "#fdca26"
             ],
             [
              1,
              "#f0f921"
             ]
            ],
            "type": "surface"
           }
          ],
          "table": [
           {
            "cells": {
             "fill": {
              "color": "#EBF0F8"
             },
             "line": {
              "color": "white"
             }
            },
            "header": {
             "fill": {
              "color": "#C8D4E3"
             },
             "line": {
              "color": "white"
             }
            },
            "type": "table"
           }
          ]
         },
         "layout": {
          "annotationdefaults": {
           "arrowcolor": "#2a3f5f",
           "arrowhead": 0,
           "arrowwidth": 1
          },
          "autotypenumbers": "strict",
          "coloraxis": {
           "colorbar": {
            "outlinewidth": 0,
            "ticks": ""
           }
          },
          "colorscale": {
           "diverging": [
            [
             0,
             "#8e0152"
            ],
            [
             0.1,
             "#c51b7d"
            ],
            [
             0.2,
             "#de77ae"
            ],
            [
             0.3,
             "#f1b6da"
            ],
            [
             0.4,
             "#fde0ef"
            ],
            [
             0.5,
             "#f7f7f7"
            ],
            [
             0.6,
             "#e6f5d0"
            ],
            [
             0.7,
             "#b8e186"
            ],
            [
             0.8,
             "#7fbc41"
            ],
            [
             0.9,
             "#4d9221"
            ],
            [
             1,
             "#276419"
            ]
           ],
           "sequential": [
            [
             0,
             "#0d0887"
            ],
            [
             0.1111111111111111,
             "#46039f"
            ],
            [
             0.2222222222222222,
             "#7201a8"
            ],
            [
             0.3333333333333333,
             "#9c179e"
            ],
            [
             0.4444444444444444,
             "#bd3786"
            ],
            [
             0.5555555555555556,
             "#d8576b"
            ],
            [
             0.6666666666666666,
             "#ed7953"
            ],
            [
             0.7777777777777778,
             "#fb9f3a"
            ],
            [
             0.8888888888888888,
             "#fdca26"
            ],
            [
             1,
             "#f0f921"
            ]
           ],
           "sequentialminus": [
            [
             0,
             "#0d0887"
            ],
            [
             0.1111111111111111,
             "#46039f"
            ],
            [
             0.2222222222222222,
             "#7201a8"
            ],
            [
             0.3333333333333333,
             "#9c179e"
            ],
            [
             0.4444444444444444,
             "#bd3786"
            ],
            [
             0.5555555555555556,
             "#d8576b"
            ],
            [
             0.6666666666666666,
             "#ed7953"
            ],
            [
             0.7777777777777778,
             "#fb9f3a"
            ],
            [
             0.8888888888888888,
             "#fdca26"
            ],
            [
             1,
             "#f0f921"
            ]
           ]
          },
          "colorway": [
           "#636efa",
           "#EF553B",
           "#00cc96",
           "#ab63fa",
           "#FFA15A",
           "#19d3f3",
           "#FF6692",
           "#B6E880",
           "#FF97FF",
           "#FECB52"
          ],
          "font": {
           "color": "#2a3f5f"
          },
          "geo": {
           "bgcolor": "white",
           "lakecolor": "white",
           "landcolor": "#E5ECF6",
           "showlakes": true,
           "showland": true,
           "subunitcolor": "white"
          },
          "hoverlabel": {
           "align": "left"
          },
          "hovermode": "closest",
          "mapbox": {
           "style": "light"
          },
          "paper_bgcolor": "white",
          "plot_bgcolor": "#E5ECF6",
          "polar": {
           "angularaxis": {
            "gridcolor": "white",
            "linecolor": "white",
            "ticks": ""
           },
           "bgcolor": "#E5ECF6",
           "radialaxis": {
            "gridcolor": "white",
            "linecolor": "white",
            "ticks": ""
           }
          },
          "scene": {
           "xaxis": {
            "backgroundcolor": "#E5ECF6",
            "gridcolor": "white",
            "gridwidth": 2,
            "linecolor": "white",
            "showbackground": true,
            "ticks": "",
            "zerolinecolor": "white"
           },
           "yaxis": {
            "backgroundcolor": "#E5ECF6",
            "gridcolor": "white",
            "gridwidth": 2,
            "linecolor": "white",
            "showbackground": true,
            "ticks": "",
            "zerolinecolor": "white"
           },
           "zaxis": {
            "backgroundcolor": "#E5ECF6",
            "gridcolor": "white",
            "gridwidth": 2,
            "linecolor": "white",
            "showbackground": true,
            "ticks": "",
            "zerolinecolor": "white"
           }
          },
          "shapedefaults": {
           "line": {
            "color": "#2a3f5f"
           }
          },
          "ternary": {
           "aaxis": {
            "gridcolor": "white",
            "linecolor": "white",
            "ticks": ""
           },
           "baxis": {
            "gridcolor": "white",
            "linecolor": "white",
            "ticks": ""
           },
           "bgcolor": "#E5ECF6",
           "caxis": {
            "gridcolor": "white",
            "linecolor": "white",
            "ticks": ""
           }
          },
          "title": {
           "x": 0.05
          },
          "xaxis": {
           "automargin": true,
           "gridcolor": "white",
           "linecolor": "white",
           "ticks": "",
           "title": {
            "standoff": 15
           },
           "zerolinecolor": "white",
           "zerolinewidth": 2
          },
          "yaxis": {
           "automargin": true,
           "gridcolor": "white",
           "linecolor": "white",
           "ticks": "",
           "title": {
            "standoff": 15
           },
           "zerolinecolor": "white",
           "zerolinewidth": 2
          }
         }
        }
       }
      }
     },
     "metadata": {},
     "output_type": "display_data"
    }
   ],
   "source": [
    "import plotly.express as px\n",
    "\n",
    "fig = px.scatter_mapbox(df_q1, lat=\"latitude\", lon=\"longitude\", hover_name=\"local_site_name\", hover_data=[\"arithmetic_mean\", \"parameter\"],\n",
    "                        color_discrete_sequence=[\"fuchsia\"], zoom=10, height=300)\n",
    "fig.update_layout(mapbox_style=\"carto-positron\")\n",
    "fig.update_layout(margin={\"r\":0,\"t\":0,\"l\":0,\"b\":0})\n",
    "fig.show()\n"
   ]
  },
  {
   "attachments": {},
   "cell_type": "markdown",
   "metadata": {},
   "source": [
    "### encapsulate the code above\n",
    "\n",
    "- `get_api_key(filename)`\n",
    "- `base_url`\n",
    "- `create_endpoint(goal)` --- based on user's serach `goal`, return the *endpoint* for API \n",
    "- `param_requirement(email,api_key,goal)` --- based on `goal`, prompt user inputs (e.g. time, area code, etc.) and return the *params* for API (**TO BE MODIFIED**)\n",
    "- `get_data`(endpoint, params) --- return a dataframe based on user requirement\n",
    "\n"
   ]
  },
  {
   "cell_type": "code",
   "execution_count": 36,
   "metadata": {},
   "outputs": [],
   "source": [
    "import air_quality_util as aq\n"
   ]
  },
  {
   "cell_type": "code",
   "execution_count": 37,
   "metadata": {},
   "outputs": [],
   "source": [
    "email, api_key = aq.get_api_key(\"myEmailKey.txt\")\n",
    "base_url = aq.base_url"
   ]
  },
  {
   "cell_type": "code",
   "execution_count": 38,
   "metadata": {},
   "outputs": [
    {
     "name": "stdout",
     "output_type": "stream",
     "text": [
      "list/sitesByCounty\n"
     ]
    }
   ],
   "source": [
    "endpoint=aq.create_endpoint(\"Sites\")\n",
    "print(endpoint)"
   ]
  },
  {
   "cell_type": "code",
   "execution_count": 5,
   "metadata": {},
   "outputs": [],
   "source": [
    "param = aq.param_requirement(email, api_key, \"Sites\") ## califonia: 06, LA: 037\n"
   ]
  },
  {
   "cell_type": "code",
   "execution_count": 6,
   "metadata": {},
   "outputs": [],
   "source": [
    "df = aq.get_data(endpoint,param)"
   ]
  },
  {
   "cell_type": "code",
   "execution_count": null,
   "metadata": {},
   "outputs": [],
   "source": [
    "df"
   ]
  },
  {
   "cell_type": "code",
   "execution_count": 21,
   "metadata": {},
   "outputs": [],
   "source": [
    "param = aq.param_requirement(email, api_key, \"Quarterly by County\") \n",
    "## e.g.  param(PM2.5): 88101, bdate: 20190101, edate: 20191231, state: 06, county: 037\n",
    "\n",
    "## ozone: 44201\n",
    "## PM2.5: 88101\n",
    "## PM10: 81102\n",
    "\n"
   ]
  },
  {
   "cell_type": "code",
   "execution_count": 22,
   "metadata": {},
   "outputs": [],
   "source": [
    "endpoint = aq.create_endpoint(\"Quarterly by County\")\n",
    "df = aq.get_data(endpoint,param)\n"
   ]
  },
  {
   "cell_type": "code",
   "execution_count": null,
   "metadata": {},
   "outputs": [],
   "source": [
    "df"
   ]
  },
  {
   "attachments": {},
   "cell_type": "markdown",
   "metadata": {},
   "source": [
    "#### sample plot -- need encapsulation and more details later"
   ]
  },
  {
   "cell_type": "code",
   "execution_count": 24,
   "metadata": {},
   "outputs": [
    {
     "data": {
      "application/vnd.plotly.v1+json": {
       "config": {
        "plotlyServerURL": "https://plot.ly"
       },
       "data": [
        {
         "customdata": [
          [
           9.4667,
           "PM10 Total 0-10um STP"
          ],
          [
           21.3571,
           "PM10 Total 0-10um STP"
          ],
          [
           23.3125,
           "PM10 Total 0-10um STP"
          ],
          [
           19.3333,
           "PM10 Total 0-10um STP"
          ],
          [
           14.5333,
           "PM10 Total 0-10um STP"
          ],
          [
           28.4,
           "PM10 Total 0-10um STP"
          ],
          [
           40.6875,
           "PM10 Total 0-10um STP"
          ],
          [
           28.7333,
           "PM10 Total 0-10um STP"
          ],
          [
           18.1429,
           "PM10 Total 0-10um STP"
          ],
          [
           24.2,
           "PM10 Total 0-10um STP"
          ],
          [
           28,
           "PM10 Total 0-10um STP"
          ],
          [
           31.8,
           "PM10 Total 0-10um STP"
          ],
          [
           27.7857,
           "PM10 Total 0-10um STP"
          ],
          [
           14.3333,
           "PM10 Total 0-10um STP"
          ],
          [
           16,
           "PM10 Total 0-10um STP"
          ],
          [
           18.5,
           "PM10 Total 0-10um STP"
          ],
          [
           20.12,
           "PM10 Total 0-10um STP"
          ],
          [
           9.7011,
           "PM10 Total 0-10um STP"
          ],
          [
           9.1429,
           "PM10 Total 0-10um STP"
          ],
          [
           20.5969,
           "PM10 Total 0-10um STP"
          ],
          [
           33.0356,
           "PM10 Total 0-10um STP"
          ],
          [
           32.5978,
           "PM10 Total 0-10um STP"
          ],
          [
           21.7204,
           "PM10 Total 0-10um STP"
          ],
          [
           10.4628,
           "PM10 Total 0-10um STP"
          ],
          [
           10,
           "PM10 Total 0-10um STP"
          ],
          [
           20.8377,
           "PM10 Total 0-10um STP"
          ],
          [
           20.3951,
           "PM10 Total 0-10um STP"
          ],
          [
           28.4648,
           "PM10 Total 0-10um STP"
          ],
          [
           27.9891,
           "PM10 Total 0-10um STP"
          ],
          [
           30.6232,
           "PM10 Total 0-10um STP"
          ],
          [
           30.2921,
           "PM10 Total 0-10um STP"
          ],
          [
           27.2143,
           "PM10 Total 0-10um STP"
          ],
          [
           20.2857,
           "PM10 Total 0-10um STP"
          ],
          [
           29.2667,
           "PM10 Total 0-10um STP"
          ],
          [
           29.2667,
           "PM10 Total 0-10um STP"
          ],
          [
           26.4667,
           "PM10 Total 0-10um STP"
          ],
          [
           33.7333,
           "PM10 Total 0-10um STP"
          ],
          [
           21.2921,
           "PM10 Total 0-10um STP"
          ],
          [
           27.7333,
           "PM10 Total 0-10um STP"
          ],
          [
           17.8,
           "PM10 Total 0-10um STP"
          ],
          [
           16.8667,
           "PM10 Total 0-10um STP"
          ],
          [
           21.4,
           "PM10 Total 0-10um STP"
          ]
         ],
         "hovertemplate": "<b>%{hovertext}</b><br><br>latitude=%{lat}<br>longitude=%{lon}<br>arithmetic_mean=%{customdata[0]}<br>parameter=%{customdata[1]}<extra></extra>",
         "hovertext": [
          "Santa Clarita",
          "Santa Clarita",
          "Santa Clarita",
          "Santa Clarita",
          "Azusa",
          "Azusa",
          "Azusa",
          "Azusa",
          "Los Angeles-North Main Street",
          "Los Angeles-North Main Street",
          "Los Angeles-North Main Street",
          "Los Angeles-North Main Street",
          "LAX Hastings",
          "LAX Hastings",
          "LAX Hastings",
          "LAX Hastings",
          "Glendora",
          "Glendora",
          "Glendora",
          "Glendora",
          "Glendora",
          "Glendora",
          "Glendora",
          "Lancaster-Division Street",
          "Lancaster-Division Street",
          "Lancaster-Division Street",
          "Lancaster-Division Street",
          "Lancaster-Division Street",
          "Lancaster-Division Street",
          "Lancaster-Division Street",
          "Lancaster-Division Street",
          "Long Beach (Hudson)",
          "Long Beach (Hudson)",
          "Long Beach (Hudson)",
          "Long Beach (Hudson)",
          "Long Beach (Hudson)",
          "Long Beach (Hudson)",
          "Glendora",
          "Long Beach (South)",
          "Long Beach (South)",
          "Long Beach (South)",
          "Long Beach (South)"
         ],
         "lat": [
          34.38344,
          34.38344,
          34.38344,
          34.38344,
          34.1365,
          34.1365,
          34.1365,
          34.1365,
          34.06659,
          34.06659,
          34.06659,
          34.06659,
          33.95507,
          33.95507,
          33.95507,
          33.95507,
          34.14435,
          34.14435,
          34.14435,
          34.14435,
          34.14435,
          34.14435,
          34.14435,
          34.669739,
          34.669739,
          34.669739,
          34.669739,
          34.669739,
          34.669739,
          34.669739,
          34.669739,
          33.8025,
          33.8025,
          33.8025,
          33.8025,
          33.8025,
          33.8025,
          34.14435,
          33.79236,
          33.79236,
          33.79236,
          33.79236
         ],
         "legendgroup": "",
         "lon": [
          -118.5284,
          -118.5284,
          -118.5284,
          -118.5284,
          -117.92391,
          -117.92391,
          -117.92391,
          -117.92391,
          -118.22688,
          -118.22688,
          -118.22688,
          -118.22688,
          -118.43049,
          -118.43049,
          -118.43049,
          -118.43049,
          -117.85036,
          -117.85036,
          -117.85036,
          -117.85036,
          -117.85036,
          -117.85036,
          -117.85036,
          -118.130511,
          -118.130511,
          -118.130511,
          -118.130511,
          -118.130511,
          -118.130511,
          -118.130511,
          -118.130511,
          -118.22,
          -118.22,
          -118.22,
          -118.22,
          -118.22,
          -118.22,
          -117.85036,
          -118.17533,
          -118.17533,
          -118.17533,
          -118.17533
         ],
         "marker": {
          "color": "fuchsia"
         },
         "mode": "markers",
         "name": "",
         "showlegend": false,
         "subplot": "mapbox",
         "type": "scattermapbox"
        }
       ],
       "layout": {
        "height": 300,
        "legend": {
         "tracegroupgap": 0
        },
        "mapbox": {
         "center": {
          "lat": 34.15865599999999,
          "lon": -118.15016685714285
         },
         "domain": {
          "x": [
           0,
           1
          ],
          "y": [
           0,
           1
          ]
         },
         "style": "carto-positron",
         "zoom": 10
        },
        "margin": {
         "b": 0,
         "l": 0,
         "r": 0,
         "t": 0
        },
        "template": {
         "data": {
          "bar": [
           {
            "error_x": {
             "color": "#2a3f5f"
            },
            "error_y": {
             "color": "#2a3f5f"
            },
            "marker": {
             "line": {
              "color": "#E5ECF6",
              "width": 0.5
             },
             "pattern": {
              "fillmode": "overlay",
              "size": 10,
              "solidity": 0.2
             }
            },
            "type": "bar"
           }
          ],
          "barpolar": [
           {
            "marker": {
             "line": {
              "color": "#E5ECF6",
              "width": 0.5
             },
             "pattern": {
              "fillmode": "overlay",
              "size": 10,
              "solidity": 0.2
             }
            },
            "type": "barpolar"
           }
          ],
          "carpet": [
           {
            "aaxis": {
             "endlinecolor": "#2a3f5f",
             "gridcolor": "white",
             "linecolor": "white",
             "minorgridcolor": "white",
             "startlinecolor": "#2a3f5f"
            },
            "baxis": {
             "endlinecolor": "#2a3f5f",
             "gridcolor": "white",
             "linecolor": "white",
             "minorgridcolor": "white",
             "startlinecolor": "#2a3f5f"
            },
            "type": "carpet"
           }
          ],
          "choropleth": [
           {
            "colorbar": {
             "outlinewidth": 0,
             "ticks": ""
            },
            "type": "choropleth"
           }
          ],
          "contour": [
           {
            "colorbar": {
             "outlinewidth": 0,
             "ticks": ""
            },
            "colorscale": [
             [
              0,
              "#0d0887"
             ],
             [
              0.1111111111111111,
              "#46039f"
             ],
             [
              0.2222222222222222,
              "#7201a8"
             ],
             [
              0.3333333333333333,
              "#9c179e"
             ],
             [
              0.4444444444444444,
              "#bd3786"
             ],
             [
              0.5555555555555556,
              "#d8576b"
             ],
             [
              0.6666666666666666,
              "#ed7953"
             ],
             [
              0.7777777777777778,
              "#fb9f3a"
             ],
             [
              0.8888888888888888,
              "#fdca26"
             ],
             [
              1,
              "#f0f921"
             ]
            ],
            "type": "contour"
           }
          ],
          "contourcarpet": [
           {
            "colorbar": {
             "outlinewidth": 0,
             "ticks": ""
            },
            "type": "contourcarpet"
           }
          ],
          "heatmap": [
           {
            "colorbar": {
             "outlinewidth": 0,
             "ticks": ""
            },
            "colorscale": [
             [
              0,
              "#0d0887"
             ],
             [
              0.1111111111111111,
              "#46039f"
             ],
             [
              0.2222222222222222,
              "#7201a8"
             ],
             [
              0.3333333333333333,
              "#9c179e"
             ],
             [
              0.4444444444444444,
              "#bd3786"
             ],
             [
              0.5555555555555556,
              "#d8576b"
             ],
             [
              0.6666666666666666,
              "#ed7953"
             ],
             [
              0.7777777777777778,
              "#fb9f3a"
             ],
             [
              0.8888888888888888,
              "#fdca26"
             ],
             [
              1,
              "#f0f921"
             ]
            ],
            "type": "heatmap"
           }
          ],
          "heatmapgl": [
           {
            "colorbar": {
             "outlinewidth": 0,
             "ticks": ""
            },
            "colorscale": [
             [
              0,
              "#0d0887"
             ],
             [
              0.1111111111111111,
              "#46039f"
             ],
             [
              0.2222222222222222,
              "#7201a8"
             ],
             [
              0.3333333333333333,
              "#9c179e"
             ],
             [
              0.4444444444444444,
              "#bd3786"
             ],
             [
              0.5555555555555556,
              "#d8576b"
             ],
             [
              0.6666666666666666,
              "#ed7953"
             ],
             [
              0.7777777777777778,
              "#fb9f3a"
             ],
             [
              0.8888888888888888,
              "#fdca26"
             ],
             [
              1,
              "#f0f921"
             ]
            ],
            "type": "heatmapgl"
           }
          ],
          "histogram": [
           {
            "marker": {
             "pattern": {
              "fillmode": "overlay",
              "size": 10,
              "solidity": 0.2
             }
            },
            "type": "histogram"
           }
          ],
          "histogram2d": [
           {
            "colorbar": {
             "outlinewidth": 0,
             "ticks": ""
            },
            "colorscale": [
             [
              0,
              "#0d0887"
             ],
             [
              0.1111111111111111,
              "#46039f"
             ],
             [
              0.2222222222222222,
              "#7201a8"
             ],
             [
              0.3333333333333333,
              "#9c179e"
             ],
             [
              0.4444444444444444,
              "#bd3786"
             ],
             [
              0.5555555555555556,
              "#d8576b"
             ],
             [
              0.6666666666666666,
              "#ed7953"
             ],
             [
              0.7777777777777778,
              "#fb9f3a"
             ],
             [
              0.8888888888888888,
              "#fdca26"
             ],
             [
              1,
              "#f0f921"
             ]
            ],
            "type": "histogram2d"
           }
          ],
          "histogram2dcontour": [
           {
            "colorbar": {
             "outlinewidth": 0,
             "ticks": ""
            },
            "colorscale": [
             [
              0,
              "#0d0887"
             ],
             [
              0.1111111111111111,
              "#46039f"
             ],
             [
              0.2222222222222222,
              "#7201a8"
             ],
             [
              0.3333333333333333,
              "#9c179e"
             ],
             [
              0.4444444444444444,
              "#bd3786"
             ],
             [
              0.5555555555555556,
              "#d8576b"
             ],
             [
              0.6666666666666666,
              "#ed7953"
             ],
             [
              0.7777777777777778,
              "#fb9f3a"
             ],
             [
              0.8888888888888888,
              "#fdca26"
             ],
             [
              1,
              "#f0f921"
             ]
            ],
            "type": "histogram2dcontour"
           }
          ],
          "mesh3d": [
           {
            "colorbar": {
             "outlinewidth": 0,
             "ticks": ""
            },
            "type": "mesh3d"
           }
          ],
          "parcoords": [
           {
            "line": {
             "colorbar": {
              "outlinewidth": 0,
              "ticks": ""
             }
            },
            "type": "parcoords"
           }
          ],
          "pie": [
           {
            "automargin": true,
            "type": "pie"
           }
          ],
          "scatter": [
           {
            "fillpattern": {
             "fillmode": "overlay",
             "size": 10,
             "solidity": 0.2
            },
            "type": "scatter"
           }
          ],
          "scatter3d": [
           {
            "line": {
             "colorbar": {
              "outlinewidth": 0,
              "ticks": ""
             }
            },
            "marker": {
             "colorbar": {
              "outlinewidth": 0,
              "ticks": ""
             }
            },
            "type": "scatter3d"
           }
          ],
          "scattercarpet": [
           {
            "marker": {
             "colorbar": {
              "outlinewidth": 0,
              "ticks": ""
             }
            },
            "type": "scattercarpet"
           }
          ],
          "scattergeo": [
           {
            "marker": {
             "colorbar": {
              "outlinewidth": 0,
              "ticks": ""
             }
            },
            "type": "scattergeo"
           }
          ],
          "scattergl": [
           {
            "marker": {
             "colorbar": {
              "outlinewidth": 0,
              "ticks": ""
             }
            },
            "type": "scattergl"
           }
          ],
          "scattermapbox": [
           {
            "marker": {
             "colorbar": {
              "outlinewidth": 0,
              "ticks": ""
             }
            },
            "type": "scattermapbox"
           }
          ],
          "scatterpolar": [
           {
            "marker": {
             "colorbar": {
              "outlinewidth": 0,
              "ticks": ""
             }
            },
            "type": "scatterpolar"
           }
          ],
          "scatterpolargl": [
           {
            "marker": {
             "colorbar": {
              "outlinewidth": 0,
              "ticks": ""
             }
            },
            "type": "scatterpolargl"
           }
          ],
          "scatterternary": [
           {
            "marker": {
             "colorbar": {
              "outlinewidth": 0,
              "ticks": ""
             }
            },
            "type": "scatterternary"
           }
          ],
          "surface": [
           {
            "colorbar": {
             "outlinewidth": 0,
             "ticks": ""
            },
            "colorscale": [
             [
              0,
              "#0d0887"
             ],
             [
              0.1111111111111111,
              "#46039f"
             ],
             [
              0.2222222222222222,
              "#7201a8"
             ],
             [
              0.3333333333333333,
              "#9c179e"
             ],
             [
              0.4444444444444444,
              "#bd3786"
             ],
             [
              0.5555555555555556,
              "#d8576b"
             ],
             [
              0.6666666666666666,
              "#ed7953"
             ],
             [
              0.7777777777777778,
              "#fb9f3a"
             ],
             [
              0.8888888888888888,
              "#fdca26"
             ],
             [
              1,
              "#f0f921"
             ]
            ],
            "type": "surface"
           }
          ],
          "table": [
           {
            "cells": {
             "fill": {
              "color": "#EBF0F8"
             },
             "line": {
              "color": "white"
             }
            },
            "header": {
             "fill": {
              "color": "#C8D4E3"
             },
             "line": {
              "color": "white"
             }
            },
            "type": "table"
           }
          ]
         },
         "layout": {
          "annotationdefaults": {
           "arrowcolor": "#2a3f5f",
           "arrowhead": 0,
           "arrowwidth": 1
          },
          "autotypenumbers": "strict",
          "coloraxis": {
           "colorbar": {
            "outlinewidth": 0,
            "ticks": ""
           }
          },
          "colorscale": {
           "diverging": [
            [
             0,
             "#8e0152"
            ],
            [
             0.1,
             "#c51b7d"
            ],
            [
             0.2,
             "#de77ae"
            ],
            [
             0.3,
             "#f1b6da"
            ],
            [
             0.4,
             "#fde0ef"
            ],
            [
             0.5,
             "#f7f7f7"
            ],
            [
             0.6,
             "#e6f5d0"
            ],
            [
             0.7,
             "#b8e186"
            ],
            [
             0.8,
             "#7fbc41"
            ],
            [
             0.9,
             "#4d9221"
            ],
            [
             1,
             "#276419"
            ]
           ],
           "sequential": [
            [
             0,
             "#0d0887"
            ],
            [
             0.1111111111111111,
             "#46039f"
            ],
            [
             0.2222222222222222,
             "#7201a8"
            ],
            [
             0.3333333333333333,
             "#9c179e"
            ],
            [
             0.4444444444444444,
             "#bd3786"
            ],
            [
             0.5555555555555556,
             "#d8576b"
            ],
            [
             0.6666666666666666,
             "#ed7953"
            ],
            [
             0.7777777777777778,
             "#fb9f3a"
            ],
            [
             0.8888888888888888,
             "#fdca26"
            ],
            [
             1,
             "#f0f921"
            ]
           ],
           "sequentialminus": [
            [
             0,
             "#0d0887"
            ],
            [
             0.1111111111111111,
             "#46039f"
            ],
            [
             0.2222222222222222,
             "#7201a8"
            ],
            [
             0.3333333333333333,
             "#9c179e"
            ],
            [
             0.4444444444444444,
             "#bd3786"
            ],
            [
             0.5555555555555556,
             "#d8576b"
            ],
            [
             0.6666666666666666,
             "#ed7953"
            ],
            [
             0.7777777777777778,
             "#fb9f3a"
            ],
            [
             0.8888888888888888,
             "#fdca26"
            ],
            [
             1,
             "#f0f921"
            ]
           ]
          },
          "colorway": [
           "#636efa",
           "#EF553B",
           "#00cc96",
           "#ab63fa",
           "#FFA15A",
           "#19d3f3",
           "#FF6692",
           "#B6E880",
           "#FF97FF",
           "#FECB52"
          ],
          "font": {
           "color": "#2a3f5f"
          },
          "geo": {
           "bgcolor": "white",
           "lakecolor": "white",
           "landcolor": "#E5ECF6",
           "showlakes": true,
           "showland": true,
           "subunitcolor": "white"
          },
          "hoverlabel": {
           "align": "left"
          },
          "hovermode": "closest",
          "mapbox": {
           "style": "light"
          },
          "paper_bgcolor": "white",
          "plot_bgcolor": "#E5ECF6",
          "polar": {
           "angularaxis": {
            "gridcolor": "white",
            "linecolor": "white",
            "ticks": ""
           },
           "bgcolor": "#E5ECF6",
           "radialaxis": {
            "gridcolor": "white",
            "linecolor": "white",
            "ticks": ""
           }
          },
          "scene": {
           "xaxis": {
            "backgroundcolor": "#E5ECF6",
            "gridcolor": "white",
            "gridwidth": 2,
            "linecolor": "white",
            "showbackground": true,
            "ticks": "",
            "zerolinecolor": "white"
           },
           "yaxis": {
            "backgroundcolor": "#E5ECF6",
            "gridcolor": "white",
            "gridwidth": 2,
            "linecolor": "white",
            "showbackground": true,
            "ticks": "",
            "zerolinecolor": "white"
           },
           "zaxis": {
            "backgroundcolor": "#E5ECF6",
            "gridcolor": "white",
            "gridwidth": 2,
            "linecolor": "white",
            "showbackground": true,
            "ticks": "",
            "zerolinecolor": "white"
           }
          },
          "shapedefaults": {
           "line": {
            "color": "#2a3f5f"
           }
          },
          "ternary": {
           "aaxis": {
            "gridcolor": "white",
            "linecolor": "white",
            "ticks": ""
           },
           "baxis": {
            "gridcolor": "white",
            "linecolor": "white",
            "ticks": ""
           },
           "bgcolor": "#E5ECF6",
           "caxis": {
            "gridcolor": "white",
            "linecolor": "white",
            "ticks": ""
           }
          },
          "title": {
           "x": 0.05
          },
          "xaxis": {
           "automargin": true,
           "gridcolor": "white",
           "linecolor": "white",
           "ticks": "",
           "title": {
            "standoff": 15
           },
           "zerolinecolor": "white",
           "zerolinewidth": 2
          },
          "yaxis": {
           "automargin": true,
           "gridcolor": "white",
           "linecolor": "white",
           "ticks": "",
           "title": {
            "standoff": 15
           },
           "zerolinecolor": "white",
           "zerolinewidth": 2
          }
         }
        }
       }
      }
     },
     "metadata": {},
     "output_type": "display_data"
    }
   ],
   "source": [
    "import plotly.express as px\n",
    "\n",
    "fig = px.scatter_mapbox(df, lat=\"latitude\", lon=\"longitude\", hover_name=\"local_site_name\", hover_data=[\"arithmetic_mean\", \"parameter\"],\n",
    "                        color_discrete_sequence=[\"fuchsia\"], zoom=10, height=300)\n",
    "fig.update_layout(mapbox_style=\"carto-positron\")\n",
    "fig.update_layout(margin={\"r\":0,\"t\":0,\"l\":0,\"b\":0})\n",
    "fig.show()"
   ]
  },
  {
   "attachments": {},
   "cell_type": "markdown",
   "metadata": {},
   "source": [
    "### Current issues regarding AQI:\n",
    "1. Popular air quality measures include PM2.5, PM10, Ozone, CO, etc. Yet, NOT every site has all those measures throughout the time periods.\n",
    "2. The location/geographic distribution of the sites are uneven -- need to think about ways to integrate with Census data based on geographic locations\n",
    "3. We might want to query all the data into one *database* before analyzing; so we have to decide a time range and an area (i.e latitude and longitude range) and write query functions to collect them into separate catagories based on air quality parameters."
   ]
  },
  {
   "attachments": {},
   "cell_type": "markdown",
   "metadata": {},
   "source": [
    "#### ALternative dataset for air quality -- Airnow\n",
    "\n",
    "`https://docs.airnowapi.org/HistoricalObservationsByZip/docs`"
   ]
  },
  {
   "cell_type": "code",
   "execution_count": 26,
   "metadata": {},
   "outputs": [],
   "source": [
    "import pandas as pd"
   ]
  },
  {
   "cell_type": "code",
   "execution_count": null,
   "metadata": {},
   "outputs": [],
   "source": [
    "## read csv: output.csv\n",
    "df = pd.read_csv(\"Output_2.csv\")\n",
    "df"
   ]
  },
  {
   "cell_type": "code",
   "execution_count": 32,
   "metadata": {},
   "outputs": [
    {
     "data": {
      "text/html": [
       "<div>\n",
       "<style scoped>\n",
       "    .dataframe tbody tr th:only-of-type {\n",
       "        vertical-align: middle;\n",
       "    }\n",
       "\n",
       "    .dataframe tbody tr th {\n",
       "        vertical-align: top;\n",
       "    }\n",
       "\n",
       "    .dataframe thead th {\n",
       "        text-align: right;\n",
       "    }\n",
       "</style>\n",
       "<table border=\"1\" class=\"dataframe\">\n",
       "  <thead>\n",
       "    <tr style=\"text-align: right;\">\n",
       "      <th></th>\n",
       "      <th>lat</th>\n",
       "      <th>lon</th>\n",
       "      <th>time</th>\n",
       "      <th>parameter</th>\n",
       "      <th>value</th>\n",
       "      <th>unit</th>\n",
       "      <th>aqi</th>\n",
       "      <th>type</th>\n",
       "    </tr>\n",
       "  </thead>\n",
       "  <tbody>\n",
       "    <tr>\n",
       "      <th>0</th>\n",
       "      <td>34.210170</td>\n",
       "      <td>-118.870510</td>\n",
       "      <td>2023-04-09T19:00</td>\n",
       "      <td>PM2.5</td>\n",
       "      <td>4.8</td>\n",
       "      <td>UG/M3</td>\n",
       "      <td>20</td>\n",
       "      <td>1</td>\n",
       "    </tr>\n",
       "    <tr>\n",
       "      <th>1</th>\n",
       "      <td>34.404280</td>\n",
       "      <td>-118.809980</td>\n",
       "      <td>2023-04-09T19:00</td>\n",
       "      <td>OZONE</td>\n",
       "      <td>34.0</td>\n",
       "      <td>PPB</td>\n",
       "      <td>31</td>\n",
       "      <td>1</td>\n",
       "    </tr>\n",
       "    <tr>\n",
       "      <th>2</th>\n",
       "      <td>34.404280</td>\n",
       "      <td>-118.809980</td>\n",
       "      <td>2023-04-09T19:00</td>\n",
       "      <td>PM2.5</td>\n",
       "      <td>5.5</td>\n",
       "      <td>UG/M3</td>\n",
       "      <td>23</td>\n",
       "      <td>1</td>\n",
       "    </tr>\n",
       "    <tr>\n",
       "      <th>3</th>\n",
       "      <td>34.276320</td>\n",
       "      <td>-118.683690</td>\n",
       "      <td>2023-04-09T19:00</td>\n",
       "      <td>OZONE</td>\n",
       "      <td>42.0</td>\n",
       "      <td>PPB</td>\n",
       "      <td>39</td>\n",
       "      <td>1</td>\n",
       "    </tr>\n",
       "    <tr>\n",
       "      <th>4</th>\n",
       "      <td>34.276320</td>\n",
       "      <td>-118.683690</td>\n",
       "      <td>2023-04-09T19:00</td>\n",
       "      <td>PM2.5</td>\n",
       "      <td>2.5</td>\n",
       "      <td>UG/M3</td>\n",
       "      <td>10</td>\n",
       "      <td>1</td>\n",
       "    </tr>\n",
       "    <tr>\n",
       "      <th>...</th>\n",
       "      <td>...</td>\n",
       "      <td>...</td>\n",
       "      <td>...</td>\n",
       "      <td>...</td>\n",
       "      <td>...</td>\n",
       "      <td>...</td>\n",
       "      <td>...</td>\n",
       "      <td>...</td>\n",
       "    </tr>\n",
       "    <tr>\n",
       "      <th>21855</th>\n",
       "      <td>33.901400</td>\n",
       "      <td>-118.205000</td>\n",
       "      <td>2023-05-09T19:00</td>\n",
       "      <td>PM2.5</td>\n",
       "      <td>8.7</td>\n",
       "      <td>UG/M3</td>\n",
       "      <td>36</td>\n",
       "      <td>1</td>\n",
       "    </tr>\n",
       "    <tr>\n",
       "      <th>21856</th>\n",
       "      <td>33.793713</td>\n",
       "      <td>-118.171019</td>\n",
       "      <td>2023-05-09T19:00</td>\n",
       "      <td>PM2.5</td>\n",
       "      <td>8.7</td>\n",
       "      <td>UG/M3</td>\n",
       "      <td>36</td>\n",
       "      <td>1</td>\n",
       "    </tr>\n",
       "    <tr>\n",
       "      <th>21857</th>\n",
       "      <td>33.830586</td>\n",
       "      <td>-117.938509</td>\n",
       "      <td>2023-05-09T19:00</td>\n",
       "      <td>PM2.5</td>\n",
       "      <td>6.0</td>\n",
       "      <td>UG/M3</td>\n",
       "      <td>25</td>\n",
       "      <td>1</td>\n",
       "    </tr>\n",
       "    <tr>\n",
       "      <th>21858</th>\n",
       "      <td>34.143900</td>\n",
       "      <td>-117.850800</td>\n",
       "      <td>2023-05-09T19:00</td>\n",
       "      <td>PM2.5</td>\n",
       "      <td>5.1</td>\n",
       "      <td>UG/M3</td>\n",
       "      <td>21</td>\n",
       "      <td>1</td>\n",
       "    </tr>\n",
       "    <tr>\n",
       "      <th>21859</th>\n",
       "      <td>33.996387</td>\n",
       "      <td>-117.492500</td>\n",
       "      <td>2023-05-09T19:00</td>\n",
       "      <td>PM2.5</td>\n",
       "      <td>8.7</td>\n",
       "      <td>UG/M3</td>\n",
       "      <td>36</td>\n",
       "      <td>1</td>\n",
       "    </tr>\n",
       "  </tbody>\n",
       "</table>\n",
       "<p>21860 rows × 8 columns</p>\n",
       "</div>"
      ],
      "text/plain": [
       "             lat         lon              time parameter  value   unit  aqi  \\\n",
       "0      34.210170 -118.870510  2023-04-09T19:00     PM2.5    4.8  UG/M3   20   \n",
       "1      34.404280 -118.809980  2023-04-09T19:00     OZONE   34.0    PPB   31   \n",
       "2      34.404280 -118.809980  2023-04-09T19:00     PM2.5    5.5  UG/M3   23   \n",
       "3      34.276320 -118.683690  2023-04-09T19:00     OZONE   42.0    PPB   39   \n",
       "4      34.276320 -118.683690  2023-04-09T19:00     PM2.5    2.5  UG/M3   10   \n",
       "...          ...         ...               ...       ...    ...    ...  ...   \n",
       "21855  33.901400 -118.205000  2023-05-09T19:00     PM2.5    8.7  UG/M3   36   \n",
       "21856  33.793713 -118.171019  2023-05-09T19:00     PM2.5    8.7  UG/M3   36   \n",
       "21857  33.830586 -117.938509  2023-05-09T19:00     PM2.5    6.0  UG/M3   25   \n",
       "21858  34.143900 -117.850800  2023-05-09T19:00     PM2.5    5.1  UG/M3   21   \n",
       "21859  33.996387 -117.492500  2023-05-09T19:00     PM2.5    8.7  UG/M3   36   \n",
       "\n",
       "       type  \n",
       "0         1  \n",
       "1         1  \n",
       "2         1  \n",
       "3         1  \n",
       "4         1  \n",
       "...     ...  \n",
       "21855     1  \n",
       "21856     1  \n",
       "21857     1  \n",
       "21858     1  \n",
       "21859     1  \n",
       "\n",
       "[21860 rows x 8 columns]"
      ]
     },
     "execution_count": 32,
     "metadata": {},
     "output_type": "execute_result"
    }
   ],
   "source": [
    "## change column name: coloumn 1 is lat, column 2 is lon\n",
    "\n",
    "df.columns = [\"lat\", \"lon\", \"time\", \"parameter\", \"value\", \"unit\", \"aqi\", \"type\"]\n",
    "df"
   ]
  },
  {
   "cell_type": "code",
   "execution_count": 33,
   "metadata": {},
   "outputs": [],
   "source": [
    "## kept only PM2.5 data and  time = 2023-04-09T19:00\t\n",
    "\n",
    "df = df[(df[\"parameter\"] == \"PM2.5\") & (df[\"time\"] == \"2023-04-09T19:00\")]"
   ]
  },
  {
   "cell_type": "code",
   "execution_count": 9,
   "metadata": {},
   "outputs": [
    {
     "data": {
      "text/plain": [
       "0         2010-02-05\n",
       "1         2010-02-07\n",
       "2         2010-02-07\n",
       "3         2010-02-07\n",
       "4         2010-02-09\n",
       "             ...    \n",
       "240994    2010-02-01\n",
       "240995    2010-02-13\n",
       "240996    2010-02-25\n",
       "240997    2010-03-09\n",
       "240998    2010-03-21\n",
       "Name: date_gmt, Length: 240999, dtype: object"
      ]
     },
     "execution_count": 9,
     "metadata": {},
     "output_type": "execute_result"
    }
   ],
   "source": [
    "\n"
   ]
  },
  {
   "cell_type": "code",
   "execution_count": 35,
   "metadata": {},
   "outputs": [
    {
     "data": {
      "application/vnd.plotly.v1+json": {
       "config": {
        "plotlyServerURL": "https://plot.ly"
       },
       "data": [
        {
         "customdata": [
          [
           "PM2.5",
           20
          ],
          [
           "PM2.5",
           23
          ],
          [
           "PM2.5",
           10
          ],
          [
           "PM2.5",
           63
          ],
          [
           "PM2.5",
           28
          ],
          [
           "PM2.5",
           62
          ],
          [
           "PM2.5",
           78
          ],
          [
           "PM2.5",
           63
          ],
          [
           "PM2.5",
           57
          ],
          [
           "PM2.5",
           56
          ],
          [
           "PM2.5",
           63
          ]
         ],
         "hovertemplate": "lat=%{lat}<br>lon=%{lon}<br>parameter=%{customdata[0]}<br>aqi=%{customdata[1]}<extra></extra>",
         "lat": [
          34.21017,
          34.40428,
          34.27632,
          34.1992,
          34.3833,
          34.181977,
          34.066429,
          33.9014,
          33.793713,
          34.1439,
          33.996387
         ],
         "legendgroup": "",
         "lon": [
          -118.87051,
          -118.80998,
          -118.68369,
          -118.5331,
          -118.5283,
          -118.363036,
          -118.226755,
          -118.205,
          -118.171019,
          -117.8508,
          -117.4925
         ],
         "marker": {
          "color": "fuchsia"
         },
         "mode": "markers",
         "name": "",
         "showlegend": false,
         "subplot": "mapbox",
         "type": "scattermapbox"
        }
       ],
       "layout": {
        "height": 300,
        "legend": {
         "tracegroupgap": 0
        },
        "mapbox": {
         "center": {
          "lat": 34.14155236363637,
          "lon": -118.33951727272728
         },
         "domain": {
          "x": [
           0,
           1
          ],
          "y": [
           0,
           1
          ]
         },
         "style": "carto-positron",
         "zoom": 10
        },
        "margin": {
         "b": 0,
         "l": 0,
         "r": 0,
         "t": 0
        },
        "template": {
         "data": {
          "bar": [
           {
            "error_x": {
             "color": "#2a3f5f"
            },
            "error_y": {
             "color": "#2a3f5f"
            },
            "marker": {
             "line": {
              "color": "#E5ECF6",
              "width": 0.5
             },
             "pattern": {
              "fillmode": "overlay",
              "size": 10,
              "solidity": 0.2
             }
            },
            "type": "bar"
           }
          ],
          "barpolar": [
           {
            "marker": {
             "line": {
              "color": "#E5ECF6",
              "width": 0.5
             },
             "pattern": {
              "fillmode": "overlay",
              "size": 10,
              "solidity": 0.2
             }
            },
            "type": "barpolar"
           }
          ],
          "carpet": [
           {
            "aaxis": {
             "endlinecolor": "#2a3f5f",
             "gridcolor": "white",
             "linecolor": "white",
             "minorgridcolor": "white",
             "startlinecolor": "#2a3f5f"
            },
            "baxis": {
             "endlinecolor": "#2a3f5f",
             "gridcolor": "white",
             "linecolor": "white",
             "minorgridcolor": "white",
             "startlinecolor": "#2a3f5f"
            },
            "type": "carpet"
           }
          ],
          "choropleth": [
           {
            "colorbar": {
             "outlinewidth": 0,
             "ticks": ""
            },
            "type": "choropleth"
           }
          ],
          "contour": [
           {
            "colorbar": {
             "outlinewidth": 0,
             "ticks": ""
            },
            "colorscale": [
             [
              0,
              "#0d0887"
             ],
             [
              0.1111111111111111,
              "#46039f"
             ],
             [
              0.2222222222222222,
              "#7201a8"
             ],
             [
              0.3333333333333333,
              "#9c179e"
             ],
             [
              0.4444444444444444,
              "#bd3786"
             ],
             [
              0.5555555555555556,
              "#d8576b"
             ],
             [
              0.6666666666666666,
              "#ed7953"
             ],
             [
              0.7777777777777778,
              "#fb9f3a"
             ],
             [
              0.8888888888888888,
              "#fdca26"
             ],
             [
              1,
              "#f0f921"
             ]
            ],
            "type": "contour"
           }
          ],
          "contourcarpet": [
           {
            "colorbar": {
             "outlinewidth": 0,
             "ticks": ""
            },
            "type": "contourcarpet"
           }
          ],
          "heatmap": [
           {
            "colorbar": {
             "outlinewidth": 0,
             "ticks": ""
            },
            "colorscale": [
             [
              0,
              "#0d0887"
             ],
             [
              0.1111111111111111,
              "#46039f"
             ],
             [
              0.2222222222222222,
              "#7201a8"
             ],
             [
              0.3333333333333333,
              "#9c179e"
             ],
             [
              0.4444444444444444,
              "#bd3786"
             ],
             [
              0.5555555555555556,
              "#d8576b"
             ],
             [
              0.6666666666666666,
              "#ed7953"
             ],
             [
              0.7777777777777778,
              "#fb9f3a"
             ],
             [
              0.8888888888888888,
              "#fdca26"
             ],
             [
              1,
              "#f0f921"
             ]
            ],
            "type": "heatmap"
           }
          ],
          "heatmapgl": [
           {
            "colorbar": {
             "outlinewidth": 0,
             "ticks": ""
            },
            "colorscale": [
             [
              0,
              "#0d0887"
             ],
             [
              0.1111111111111111,
              "#46039f"
             ],
             [
              0.2222222222222222,
              "#7201a8"
             ],
             [
              0.3333333333333333,
              "#9c179e"
             ],
             [
              0.4444444444444444,
              "#bd3786"
             ],
             [
              0.5555555555555556,
              "#d8576b"
             ],
             [
              0.6666666666666666,
              "#ed7953"
             ],
             [
              0.7777777777777778,
              "#fb9f3a"
             ],
             [
              0.8888888888888888,
              "#fdca26"
             ],
             [
              1,
              "#f0f921"
             ]
            ],
            "type": "heatmapgl"
           }
          ],
          "histogram": [
           {
            "marker": {
             "pattern": {
              "fillmode": "overlay",
              "size": 10,
              "solidity": 0.2
             }
            },
            "type": "histogram"
           }
          ],
          "histogram2d": [
           {
            "colorbar": {
             "outlinewidth": 0,
             "ticks": ""
            },
            "colorscale": [
             [
              0,
              "#0d0887"
             ],
             [
              0.1111111111111111,
              "#46039f"
             ],
             [
              0.2222222222222222,
              "#7201a8"
             ],
             [
              0.3333333333333333,
              "#9c179e"
             ],
             [
              0.4444444444444444,
              "#bd3786"
             ],
             [
              0.5555555555555556,
              "#d8576b"
             ],
             [
              0.6666666666666666,
              "#ed7953"
             ],
             [
              0.7777777777777778,
              "#fb9f3a"
             ],
             [
              0.8888888888888888,
              "#fdca26"
             ],
             [
              1,
              "#f0f921"
             ]
            ],
            "type": "histogram2d"
           }
          ],
          "histogram2dcontour": [
           {
            "colorbar": {
             "outlinewidth": 0,
             "ticks": ""
            },
            "colorscale": [
             [
              0,
              "#0d0887"
             ],
             [
              0.1111111111111111,
              "#46039f"
             ],
             [
              0.2222222222222222,
              "#7201a8"
             ],
             [
              0.3333333333333333,
              "#9c179e"
             ],
             [
              0.4444444444444444,
              "#bd3786"
             ],
             [
              0.5555555555555556,
              "#d8576b"
             ],
             [
              0.6666666666666666,
              "#ed7953"
             ],
             [
              0.7777777777777778,
              "#fb9f3a"
             ],
             [
              0.8888888888888888,
              "#fdca26"
             ],
             [
              1,
              "#f0f921"
             ]
            ],
            "type": "histogram2dcontour"
           }
          ],
          "mesh3d": [
           {
            "colorbar": {
             "outlinewidth": 0,
             "ticks": ""
            },
            "type": "mesh3d"
           }
          ],
          "parcoords": [
           {
            "line": {
             "colorbar": {
              "outlinewidth": 0,
              "ticks": ""
             }
            },
            "type": "parcoords"
           }
          ],
          "pie": [
           {
            "automargin": true,
            "type": "pie"
           }
          ],
          "scatter": [
           {
            "fillpattern": {
             "fillmode": "overlay",
             "size": 10,
             "solidity": 0.2
            },
            "type": "scatter"
           }
          ],
          "scatter3d": [
           {
            "line": {
             "colorbar": {
              "outlinewidth": 0,
              "ticks": ""
             }
            },
            "marker": {
             "colorbar": {
              "outlinewidth": 0,
              "ticks": ""
             }
            },
            "type": "scatter3d"
           }
          ],
          "scattercarpet": [
           {
            "marker": {
             "colorbar": {
              "outlinewidth": 0,
              "ticks": ""
             }
            },
            "type": "scattercarpet"
           }
          ],
          "scattergeo": [
           {
            "marker": {
             "colorbar": {
              "outlinewidth": 0,
              "ticks": ""
             }
            },
            "type": "scattergeo"
           }
          ],
          "scattergl": [
           {
            "marker": {
             "colorbar": {
              "outlinewidth": 0,
              "ticks": ""
             }
            },
            "type": "scattergl"
           }
          ],
          "scattermapbox": [
           {
            "marker": {
             "colorbar": {
              "outlinewidth": 0,
              "ticks": ""
             }
            },
            "type": "scattermapbox"
           }
          ],
          "scatterpolar": [
           {
            "marker": {
             "colorbar": {
              "outlinewidth": 0,
              "ticks": ""
             }
            },
            "type": "scatterpolar"
           }
          ],
          "scatterpolargl": [
           {
            "marker": {
             "colorbar": {
              "outlinewidth": 0,
              "ticks": ""
             }
            },
            "type": "scatterpolargl"
           }
          ],
          "scatterternary": [
           {
            "marker": {
             "colorbar": {
              "outlinewidth": 0,
              "ticks": ""
             }
            },
            "type": "scatterternary"
           }
          ],
          "surface": [
           {
            "colorbar": {
             "outlinewidth": 0,
             "ticks": ""
            },
            "colorscale": [
             [
              0,
              "#0d0887"
             ],
             [
              0.1111111111111111,
              "#46039f"
             ],
             [
              0.2222222222222222,
              "#7201a8"
             ],
             [
              0.3333333333333333,
              "#9c179e"
             ],
             [
              0.4444444444444444,
              "#bd3786"
             ],
             [
              0.5555555555555556,
              "#d8576b"
             ],
             [
              0.6666666666666666,
              "#ed7953"
             ],
             [
              0.7777777777777778,
              "#fb9f3a"
             ],
             [
              0.8888888888888888,
              "#fdca26"
             ],
             [
              1,
              "#f0f921"
             ]
            ],
            "type": "surface"
           }
          ],
          "table": [
           {
            "cells": {
             "fill": {
              "color": "#EBF0F8"
             },
             "line": {
              "color": "white"
             }
            },
            "header": {
             "fill": {
              "color": "#C8D4E3"
             },
             "line": {
              "color": "white"
             }
            },
            "type": "table"
           }
          ]
         },
         "layout": {
          "annotationdefaults": {
           "arrowcolor": "#2a3f5f",
           "arrowhead": 0,
           "arrowwidth": 1
          },
          "autotypenumbers": "strict",
          "coloraxis": {
           "colorbar": {
            "outlinewidth": 0,
            "ticks": ""
           }
          },
          "colorscale": {
           "diverging": [
            [
             0,
             "#8e0152"
            ],
            [
             0.1,
             "#c51b7d"
            ],
            [
             0.2,
             "#de77ae"
            ],
            [
             0.3,
             "#f1b6da"
            ],
            [
             0.4,
             "#fde0ef"
            ],
            [
             0.5,
             "#f7f7f7"
            ],
            [
             0.6,
             "#e6f5d0"
            ],
            [
             0.7,
             "#b8e186"
            ],
            [
             0.8,
             "#7fbc41"
            ],
            [
             0.9,
             "#4d9221"
            ],
            [
             1,
             "#276419"
            ]
           ],
           "sequential": [
            [
             0,
             "#0d0887"
            ],
            [
             0.1111111111111111,
             "#46039f"
            ],
            [
             0.2222222222222222,
             "#7201a8"
            ],
            [
             0.3333333333333333,
             "#9c179e"
            ],
            [
             0.4444444444444444,
             "#bd3786"
            ],
            [
             0.5555555555555556,
             "#d8576b"
            ],
            [
             0.6666666666666666,
             "#ed7953"
            ],
            [
             0.7777777777777778,
             "#fb9f3a"
            ],
            [
             0.8888888888888888,
             "#fdca26"
            ],
            [
             1,
             "#f0f921"
            ]
           ],
           "sequentialminus": [
            [
             0,
             "#0d0887"
            ],
            [
             0.1111111111111111,
             "#46039f"
            ],
            [
             0.2222222222222222,
             "#7201a8"
            ],
            [
             0.3333333333333333,
             "#9c179e"
            ],
            [
             0.4444444444444444,
             "#bd3786"
            ],
            [
             0.5555555555555556,
             "#d8576b"
            ],
            [
             0.6666666666666666,
             "#ed7953"
            ],
            [
             0.7777777777777778,
             "#fb9f3a"
            ],
            [
             0.8888888888888888,
             "#fdca26"
            ],
            [
             1,
             "#f0f921"
            ]
           ]
          },
          "colorway": [
           "#636efa",
           "#EF553B",
           "#00cc96",
           "#ab63fa",
           "#FFA15A",
           "#19d3f3",
           "#FF6692",
           "#B6E880",
           "#FF97FF",
           "#FECB52"
          ],
          "font": {
           "color": "#2a3f5f"
          },
          "geo": {
           "bgcolor": "white",
           "lakecolor": "white",
           "landcolor": "#E5ECF6",
           "showlakes": true,
           "showland": true,
           "subunitcolor": "white"
          },
          "hoverlabel": {
           "align": "left"
          },
          "hovermode": "closest",
          "mapbox": {
           "style": "light"
          },
          "paper_bgcolor": "white",
          "plot_bgcolor": "#E5ECF6",
          "polar": {
           "angularaxis": {
            "gridcolor": "white",
            "linecolor": "white",
            "ticks": ""
           },
           "bgcolor": "#E5ECF6",
           "radialaxis": {
            "gridcolor": "white",
            "linecolor": "white",
            "ticks": ""
           }
          },
          "scene": {
           "xaxis": {
            "backgroundcolor": "#E5ECF6",
            "gridcolor": "white",
            "gridwidth": 2,
            "linecolor": "white",
            "showbackground": true,
            "ticks": "",
            "zerolinecolor": "white"
           },
           "yaxis": {
            "backgroundcolor": "#E5ECF6",
            "gridcolor": "white",
            "gridwidth": 2,
            "linecolor": "white",
            "showbackground": true,
            "ticks": "",
            "zerolinecolor": "white"
           },
           "zaxis": {
            "backgroundcolor": "#E5ECF6",
            "gridcolor": "white",
            "gridwidth": 2,
            "linecolor": "white",
            "showbackground": true,
            "ticks": "",
            "zerolinecolor": "white"
           }
          },
          "shapedefaults": {
           "line": {
            "color": "#2a3f5f"
           }
          },
          "ternary": {
           "aaxis": {
            "gridcolor": "white",
            "linecolor": "white",
            "ticks": ""
           },
           "baxis": {
            "gridcolor": "white",
            "linecolor": "white",
            "ticks": ""
           },
           "bgcolor": "#E5ECF6",
           "caxis": {
            "gridcolor": "white",
            "linecolor": "white",
            "ticks": ""
           }
          },
          "title": {
           "x": 0.05
          },
          "xaxis": {
           "automargin": true,
           "gridcolor": "white",
           "linecolor": "white",
           "ticks": "",
           "title": {
            "standoff": 15
           },
           "zerolinecolor": "white",
           "zerolinewidth": 2
          },
          "yaxis": {
           "automargin": true,
           "gridcolor": "white",
           "linecolor": "white",
           "ticks": "",
           "title": {
            "standoff": 15
           },
           "zerolinecolor": "white",
           "zerolinewidth": 2
          }
         }
        }
       }
      }
     },
     "metadata": {},
     "output_type": "display_data"
    }
   ],
   "source": [
    "fig = px.scatter_mapbox(df, lat=\"lat\", lon=\"lon\", hover_data=[\"parameter\", \"aqi\"],\n",
    "                        color_discrete_sequence=[\"fuchsia\"], zoom=10, height=300)\n",
    "fig.update_layout(mapbox_style=\"carto-positron\")\n",
    "fig.update_layout(margin={\"r\":0,\"t\":0,\"l\":0,\"b\":0})\n",
    "fig.show()"
   ]
  },
  {
   "cell_type": "code",
   "execution_count": null,
   "metadata": {},
   "outputs": [],
   "source": [
    "## https://www.airnowapi.org/aq/data/?startDate=2013-05-09T19&endDate=2023-05-09T20&parameters=OZONE,PM25&BBOX=-119.857788,33.162553,-116.957397,35.699402&dataType=B&format=text/csv&verbose=0&monitorType=0&includerawconcentrations=0&API_KEY=C19E652A-FC64-4A48-A3B9-A1B0939C9E3A"
   ]
  },
  {
   "attachments": {},
   "cell_type": "markdown",
   "metadata": {},
   "source": [
    "### Future tasks:\n",
    "1. We might need geographic data (beside Census and AQI) to visualize county-level population and air quality\n",
    "`https://chart-studio.plotly.com/~jackp/18273.embed?_ga=2.232249817.779600767.1683598940-14096325.1682002206`\n",
    "2. We need to think about ways to classify sites based on location (we might directly use location data from the data base, but it is not in the form of *county* ...)\n"
   ]
  },
  {
   "attachments": {},
   "cell_type": "markdown",
   "metadata": {},
   "source": [
    "#### p.s. A visualization of 2010-02-07 8am PM2.5 data "
   ]
  },
  {
   "attachments": {},
   "cell_type": "markdown",
   "metadata": {},
   "source": [
    "https://aqs.epa.gov/data/api/metaData/fieldsByService?email=test@aqs.api&key=test&service=sampleData"
   ]
  },
  {
   "cell_type": "code",
   "execution_count": 23,
   "metadata": {},
   "outputs": [
    {
     "ename": "SyntaxError",
     "evalue": "invalid syntax (2508296525.py, line 1)",
     "output_type": "error",
     "traceback": [
      "\u001b[1;36m  Cell \u001b[1;32mIn[23], line 1\u001b[1;36m\u001b[0m\n\u001b[1;33m    https://aqs.epa.gov/data/api/metaData/fieldsByService?email=test@aqs.api&key=test&service=sampleData\u001b[0m\n\u001b[1;37m          ^\u001b[0m\n\u001b[1;31mSyntaxError\u001b[0m\u001b[1;31m:\u001b[0m invalid syntax\n"
     ]
    }
   ],
   "source": []
  },
  {
   "cell_type": "code",
   "execution_count": 5,
   "metadata": {},
   "outputs": [
    {
     "name": "stderr",
     "output_type": "stream",
     "text": [
      "C:\\Users\\Public\\Documents\\Wondershare\\CreatorTemp\\ipykernel_14696\\599517166.py:1: DtypeWarning: Columns (21) have mixed types. Specify dtype option on import or set low_memory=False.\n",
      "  df = pd.read_csv(\"CA_2010_PM2.5.csv\")\n"
     ]
    },
    {
     "data": {
      "text/plain": [
       "(240999, 29)"
      ]
     },
     "execution_count": 5,
     "metadata": {},
     "output_type": "execute_result"
    }
   ],
   "source": [
    "df = pd.read_csv(\"CA_2010_PM2.5.csv\")\n",
    "\n",
    "df.shape"
   ]
  },
  {
   "cell_type": "code",
   "execution_count": 14,
   "metadata": {},
   "outputs": [
    {
     "data": {
      "text/plain": [
       "<bound method Series.unique of 0         13:00\n",
       "1         13:00\n",
       "2         14:00\n",
       "3         22:00\n",
       "4         18:00\n",
       "          ...  \n",
       "240994    08:00\n",
       "240995    08:00\n",
       "240996    08:00\n",
       "240997    08:00\n",
       "240998    08:00\n",
       "Name: time_gmt, Length: 240999, dtype: object>"
      ]
     },
     "execution_count": 14,
     "metadata": {},
     "output_type": "execute_result"
    }
   ],
   "source": [
    "df.time_gmt.unique"
   ]
  },
  {
   "cell_type": "code",
   "execution_count": 4,
   "metadata": {},
   "outputs": [
    {
     "data": {
      "text/plain": [
       "Index(['state_code', 'county_code', 'site_number', 'parameter_code', 'poc',\n",
       "       'latitude', 'longitude', 'datum', 'parameter', 'date_local',\n",
       "       'time_local', 'date_gmt', 'time_gmt', 'sample_measurement',\n",
       "       'units_of_measure', 'units_of_measure_code', 'sample_duration',\n",
       "       'sample_duration_code', 'sample_frequency', 'detection_limit',\n",
       "       'uncertainty', 'qualifier', 'method_type', 'method', 'method_code',\n",
       "       'state', 'county', 'date_of_last_change', 'cbsa_code'],\n",
       "      dtype='object')"
      ]
     },
     "execution_count": 4,
     "metadata": {},
     "output_type": "execute_result"
    }
   ],
   "source": [
    "## display what columns we have\n",
    "df.columns"
   ]
  },
  {
   "cell_type": "code",
   "execution_count": 16,
   "metadata": {},
   "outputs": [],
   "source": [
    "sub_df = df.loc[df['date_gmt'] == '2010-02-07', ['time_gmt', 'latitude', 'longitude', 'sample_measurement', 'date_local', 'site_number']]"
   ]
  },
  {
   "cell_type": "code",
   "execution_count": 18,
   "metadata": {},
   "outputs": [],
   "source": [
    "sub_df = sub_df.loc[df['time_gmt'] == '08:00']"
   ]
  },
  {
   "cell_type": "code",
   "execution_count": 19,
   "metadata": {},
   "outputs": [
    {
     "data": {
      "text/html": [
       "<div>\n",
       "<style scoped>\n",
       "    .dataframe tbody tr th:only-of-type {\n",
       "        vertical-align: middle;\n",
       "    }\n",
       "\n",
       "    .dataframe tbody tr th {\n",
       "        vertical-align: top;\n",
       "    }\n",
       "\n",
       "    .dataframe thead th {\n",
       "        text-align: right;\n",
       "    }\n",
       "</style>\n",
       "<table border=\"1\" class=\"dataframe\">\n",
       "  <thead>\n",
       "    <tr style=\"text-align: right;\">\n",
       "      <th></th>\n",
       "      <th>time_gmt</th>\n",
       "      <th>latitude</th>\n",
       "      <th>longitude</th>\n",
       "      <th>sample_measurement</th>\n",
       "      <th>date_local</th>\n",
       "      <th>site_number</th>\n",
       "    </tr>\n",
       "  </thead>\n",
       "  <tbody>\n",
       "    <tr>\n",
       "      <th>1803</th>\n",
       "      <td>08:00</td>\n",
       "      <td>37.535833</td>\n",
       "      <td>-121.961823</td>\n",
       "      <td>8.0</td>\n",
       "      <td>2010-02-07</td>\n",
       "      <td>1001</td>\n",
       "    </tr>\n",
       "    <tr>\n",
       "      <th>5674</th>\n",
       "      <td>08:00</td>\n",
       "      <td>36.487823</td>\n",
       "      <td>-117.871036</td>\n",
       "      <td>-0.2</td>\n",
       "      <td>2010-02-07</td>\n",
       "      <td>1003</td>\n",
       "    </tr>\n",
       "    <tr>\n",
       "      <th>14137</th>\n",
       "      <td>08:00</td>\n",
       "      <td>36.634225</td>\n",
       "      <td>-120.382331</td>\n",
       "      <td>2.0</td>\n",
       "      <td>2010-02-07</td>\n",
       "      <td>2009</td>\n",
       "    </tr>\n",
       "    <tr>\n",
       "      <th>21538</th>\n",
       "      <td>08:00</td>\n",
       "      <td>40.801780</td>\n",
       "      <td>-124.162100</td>\n",
       "      <td>5.5</td>\n",
       "      <td>2010-02-07</td>\n",
       "      <td>1002</td>\n",
       "    </tr>\n",
       "    <tr>\n",
       "      <th>21648</th>\n",
       "      <td>08:00</td>\n",
       "      <td>40.776780</td>\n",
       "      <td>-124.179490</td>\n",
       "      <td>8.5</td>\n",
       "      <td>2010-02-07</td>\n",
       "      <td>1004</td>\n",
       "    </tr>\n",
       "    <tr>\n",
       "      <th>...</th>\n",
       "      <td>...</td>\n",
       "      <td>...</td>\n",
       "      <td>...</td>\n",
       "      <td>...</td>\n",
       "      <td>...</td>\n",
       "      <td>...</td>\n",
       "    </tr>\n",
       "    <tr>\n",
       "      <th>239898</th>\n",
       "      <td>08:00</td>\n",
       "      <td>37.687526</td>\n",
       "      <td>-121.784217</td>\n",
       "      <td>4.8</td>\n",
       "      <td>2010-02-07</td>\n",
       "      <td>7</td>\n",
       "    </tr>\n",
       "    <tr>\n",
       "      <th>240157</th>\n",
       "      <td>08:00</td>\n",
       "      <td>37.936013</td>\n",
       "      <td>-122.026154</td>\n",
       "      <td>3.4</td>\n",
       "      <td>2010-02-07</td>\n",
       "      <td>2</td>\n",
       "    </tr>\n",
       "    <tr>\n",
       "      <th>240330</th>\n",
       "      <td>08:00</td>\n",
       "      <td>37.348497</td>\n",
       "      <td>-121.894898</td>\n",
       "      <td>5.4</td>\n",
       "      <td>2010-02-07</td>\n",
       "      <td>5</td>\n",
       "    </tr>\n",
       "    <tr>\n",
       "      <th>240496</th>\n",
       "      <td>08:00</td>\n",
       "      <td>38.102507</td>\n",
       "      <td>-122.237976</td>\n",
       "      <td>3.0</td>\n",
       "      <td>2010-02-07</td>\n",
       "      <td>4</td>\n",
       "    </tr>\n",
       "    <tr>\n",
       "      <th>240659</th>\n",
       "      <td>08:00</td>\n",
       "      <td>35.356615</td>\n",
       "      <td>-119.062613</td>\n",
       "      <td>5.3</td>\n",
       "      <td>2010-02-07</td>\n",
       "      <td>14</td>\n",
       "    </tr>\n",
       "  </tbody>\n",
       "</table>\n",
       "<p>104 rows × 6 columns</p>\n",
       "</div>"
      ],
      "text/plain": [
       "       time_gmt   latitude   longitude  sample_measurement  date_local  \\\n",
       "1803      08:00  37.535833 -121.961823                 8.0  2010-02-07   \n",
       "5674      08:00  36.487823 -117.871036                -0.2  2010-02-07   \n",
       "14137     08:00  36.634225 -120.382331                 2.0  2010-02-07   \n",
       "21538     08:00  40.801780 -124.162100                 5.5  2010-02-07   \n",
       "21648     08:00  40.776780 -124.179490                 8.5  2010-02-07   \n",
       "...         ...        ...         ...                 ...         ...   \n",
       "239898    08:00  37.687526 -121.784217                 4.8  2010-02-07   \n",
       "240157    08:00  37.936013 -122.026154                 3.4  2010-02-07   \n",
       "240330    08:00  37.348497 -121.894898                 5.4  2010-02-07   \n",
       "240496    08:00  38.102507 -122.237976                 3.0  2010-02-07   \n",
       "240659    08:00  35.356615 -119.062613                 5.3  2010-02-07   \n",
       "\n",
       "        site_number  \n",
       "1803           1001  \n",
       "5674           1003  \n",
       "14137          2009  \n",
       "21538          1002  \n",
       "21648          1004  \n",
       "...             ...  \n",
       "239898            7  \n",
       "240157            2  \n",
       "240330            5  \n",
       "240496            4  \n",
       "240659           14  \n",
       "\n",
       "[104 rows x 6 columns]"
      ]
     },
     "execution_count": 19,
     "metadata": {},
     "output_type": "execute_result"
    }
   ],
   "source": [
    "sub_df"
   ]
  },
  {
   "cell_type": "code",
   "execution_count": 24,
   "metadata": {},
   "outputs": [
    {
     "data": {
      "application/vnd.plotly.v1+json": {
       "config": {
        "plotlyServerURL": "https://plot.ly"
       },
       "data": [
        {
         "customdata": [
          [
           8,
           1001
          ],
          [
           -0.2,
           1003
          ],
          [
           2,
           2009
          ],
          [
           5.5,
           1002
          ],
          [
           8.5,
           1004
          ],
          [
           6.1,
           2
          ],
          [
           4.5,
           1
          ],
          [
           1.5,
           3001
          ],
          [
           3.5,
           1003
          ],
          [
           1,
           5
          ],
          [
           4.8,
           6
          ],
          [
           4,
           2006
          ],
          [
           4.5,
           8001
          ],
          [
           4,
           1008
          ],
          [
           4.2,
           8001
          ],
          [
           3,
           4
          ],
          [
           2,
           9033
          ],
          [
           2,
           306
          ],
          [
           2,
           306
          ],
          [
           7,
           3004
          ],
          [
           1,
           3005
          ],
          [
           10,
           9
          ],
          [
           1,
           5001
          ],
          [
           6,
           1
          ],
          [
           2,
           4
          ],
          [
           3,
           3
          ],
          [
           0,
           1201
          ],
          [
           6,
           6
          ],
          [
           5,
           2002
          ],
          [
           4,
           1008
          ],
          [
           11,
           1003
          ],
          [
           5,
           5
          ],
          [
           16,
           8001
          ],
          [
           0,
           2
          ],
          [
           4,
           2004
          ],
          [
           6,
           1001
          ],
          [
           3,
           7
          ],
          [
           9,
           2
          ],
          [
           30,
           3
          ],
          [
           9,
           6
          ],
          [
           null,
           8001
          ],
          [
           4.5,
           4
          ],
          [
           6.6,
           5025
          ],
          [
           5.4,
           1103
          ],
          [
           10.3,
           2510
          ],
          [
           3,
           2002
          ],
          [
           6.9,
           8001
          ],
          [
           6.5,
           4004
          ],
          [
           7.6,
           1002
          ],
          [
           6.7,
           4002
          ],
          [
           5.8,
           7
          ],
          [
           5.4,
           1103
          ],
          [
           7,
           8005
          ],
          [
           6.3,
           8001
          ],
          [
           null,
           1003
          ],
          [
           2.8,
           2
          ],
          [
           4.3,
           1201
          ],
          [
           12.3,
           1302
          ],
          [
           6.8,
           1602
          ],
          [
           5.6,
           2005
          ],
          [
           5.7,
           9004
          ],
          [
           3.5,
           2002
          ],
          [
           6.6,
           2002
          ],
          [
           6.9,
           25
          ],
          [
           4.6,
           2022
          ],
          [
           2.4,
           5001
          ],
          [
           7.4,
           8
          ],
          [
           7,
           1010
          ],
          [
           null,
           1
          ],
          [
           12.9,
           7
          ],
          [
           null,
           9
          ],
          [
           2.2,
           1003
          ],
          [
           4.2,
           5
          ],
          [
           1,
           1003
          ],
          [
           5.1,
           6
          ],
          [
           5.8,
           10
          ],
          [
           8.5,
           1002
          ],
          [
           6.1,
           1001
          ],
          [
           12.2,
           1009
          ],
          [
           3.8,
           1006
          ],
          [
           3.6,
           1002
          ],
          [
           8.4,
           3
          ],
          [
           9,
           5
          ],
          [
           9.3,
           2002
          ],
          [
           3.3,
           3001
          ],
          [
           3.7,
           2002
          ],
          [
           5.1,
           7
          ],
          [
           4.1,
           1002
          ],
          [
           null,
           5
          ],
          [
           7.6,
           8
          ],
          [
           4.2,
           11
          ],
          [
           0.4,
           15
          ],
          [
           6.3,
           1001
          ],
          [
           5.2,
           7
          ],
          [
           2.8,
           1003
          ],
          [
           49.1,
           14
          ],
          [
           null,
           16
          ],
          [
           5.8,
           4001
          ],
          [
           9,
           6
          ],
          [
           4.8,
           7
          ],
          [
           3.4,
           2
          ],
          [
           5.4,
           5
          ],
          [
           3,
           4
          ],
          [
           5.3,
           14
          ]
         ],
         "hovertemplate": "latitude=%{lat}<br>longitude=%{lon}<br>sample_measurement=%{customdata[0]}<br>site_number=%{customdata[1]}<extra></extra>",
         "lat": [
          37.535833,
          36.487823,
          36.634225,
          40.80178,
          40.77678,
          39.757371,
          38.20185,
          39.0327,
          36.694261,
          39.233477,
          38.74643,
          35.25651,
          35.49158,
          34.942872,
          35.49158,
          40.55013,
          34.669739,
          34.510961,
          34.510961,
          40.6304,
          40.69184,
          37.743065,
          36.819449,
          37.97231,
          36.102244,
          37.281853,
          33.362593,
          39.15047,
          39.41174,
          33.217055,
          36.694261,
          37.765946,
          35.49158,
          36.843425,
          35.02083,
          37.482934,
          36.98332,
          36.999571,
          38.443503,
          37.488317,
          34.26464,
          36.102244,
          36.72639,
          34.06659,
          37.30832,
          33.70853,
          33.99958,
          33.79236,
          34.17605,
          33.82376,
          33.83062,
          34.06659,
          33.99636,
          33.99958,
          33.94603,
          34.1365,
          34.19925,
          33.901389,
          34.01029,
          34.1326,
          34.106678,
          33.70853,
          34.10002,
          34.037234,
          33.63003,
          33.85275,
          36.781333,
          32.701492,
          32.631242,
          32.97833,
          34.404281,
          32.79222,
          32.67618,
          36.487823,
          32.836461,
          38.56844,
          33.127769,
          39.32783,
          39.808333,
          39.939567,
          37.950741,
          32.791194,
          37.642165,
          36.332179,
          34.25239,
          34.276316,
          34.210169,
          39.18919,
          32.67618,
          36.781333,
          35.050551,
          35.62109,
          39.32783,
          34.210169,
          38.66121,
          35.356615,
          35.324636,
          38.556326,
          38.613779,
          37.687526,
          37.936013,
          37.348497,
          38.102507,
          35.356615
         ],
         "legendgroup": "",
         "lon": [
          -121.961823,
          -117.871036,
          -120.382331,
          -124.1621,
          -124.17949,
          -121.843286,
          -120.680277,
          -122.92229,
          -121.623271,
          -121.055608,
          -121.26498,
          -120.6693,
          -120.66804,
          -120.435611,
          -120.66804,
          -122.38092,
          -118.130511,
          -117.32554,
          -117.32554,
          -122.4031,
          -122.40179,
          -122.169935,
          -119.716433,
          -122.520004,
          -119.56565,
          -120.433671,
          -117.09023,
          -123.20655,
          -123.35264,
          -117.396177,
          -121.623271,
          -122.399044,
          -120.66804,
          -121.3621,
          -120.56388,
          -122.20337,
          -121.98822,
          -121.574684,
          -122.710169,
          -120.836008,
          -116.86147,
          -119.56565,
          -119.733,
          -118.22688,
          -120.480456,
          -116.21537,
          -117.41601,
          -118.17533,
          -118.31712,
          -118.18921,
          -117.93845,
          -118.22688,
          -117.4924,
          -117.41601,
          -117.40063,
          -117.92391,
          -118.53276,
          -118.205,
          -118.0685,
          -118.1272,
          -117.274063,
          -116.21537,
          -117.49201,
          -117.690889,
          -117.67593,
          -116.54101,
          -119.77319,
          -117.149653,
          -117.059088,
          -115.53917,
          -118.80998,
          -115.56306,
          -115.48307,
          -117.871036,
          -117.128752,
          -121.49311,
          -117.075086,
          -120.184592,
          -120.471667,
          -120.944376,
          -121.268523,
          -116.942092,
          -120.994212,
          -119.291228,
          -119.143182,
          -118.683685,
          -118.870509,
          -121.99887,
          -115.48307,
          -119.77319,
          -118.147294,
          -117.67296,
          -120.184592,
          -118.870509,
          -121.73269,
          -119.062613,
          -118.997627,
          -121.458499,
          -121.368014,
          -121.784217,
          -122.026154,
          -121.894898,
          -122.237976,
          -119.062613
         ],
         "marker": {
          "color": "fuchsia"
         },
         "mode": "markers",
         "name": "",
         "showlegend": false,
         "subplot": "mapbox",
         "type": "scattermapbox"
        }
       ],
       "layout": {
        "height": 300,
        "legend": {
         "tracegroupgap": 0
        },
        "mapbox": {
         "center": {
          "lat": 36.065990442307694,
          "lon": -119.60222610576923
         },
         "domain": {
          "x": [
           0,
           1
          ],
          "y": [
           0,
           1
          ]
         },
         "style": "carto-positron",
         "zoom": 10
        },
        "margin": {
         "b": 0,
         "l": 0,
         "r": 0,
         "t": 0
        },
        "template": {
         "data": {
          "bar": [
           {
            "error_x": {
             "color": "#2a3f5f"
            },
            "error_y": {
             "color": "#2a3f5f"
            },
            "marker": {
             "line": {
              "color": "#E5ECF6",
              "width": 0.5
             },
             "pattern": {
              "fillmode": "overlay",
              "size": 10,
              "solidity": 0.2
             }
            },
            "type": "bar"
           }
          ],
          "barpolar": [
           {
            "marker": {
             "line": {
              "color": "#E5ECF6",
              "width": 0.5
             },
             "pattern": {
              "fillmode": "overlay",
              "size": 10,
              "solidity": 0.2
             }
            },
            "type": "barpolar"
           }
          ],
          "carpet": [
           {
            "aaxis": {
             "endlinecolor": "#2a3f5f",
             "gridcolor": "white",
             "linecolor": "white",
             "minorgridcolor": "white",
             "startlinecolor": "#2a3f5f"
            },
            "baxis": {
             "endlinecolor": "#2a3f5f",
             "gridcolor": "white",
             "linecolor": "white",
             "minorgridcolor": "white",
             "startlinecolor": "#2a3f5f"
            },
            "type": "carpet"
           }
          ],
          "choropleth": [
           {
            "colorbar": {
             "outlinewidth": 0,
             "ticks": ""
            },
            "type": "choropleth"
           }
          ],
          "contour": [
           {
            "colorbar": {
             "outlinewidth": 0,
             "ticks": ""
            },
            "colorscale": [
             [
              0,
              "#0d0887"
             ],
             [
              0.1111111111111111,
              "#46039f"
             ],
             [
              0.2222222222222222,
              "#7201a8"
             ],
             [
              0.3333333333333333,
              "#9c179e"
             ],
             [
              0.4444444444444444,
              "#bd3786"
             ],
             [
              0.5555555555555556,
              "#d8576b"
             ],
             [
              0.6666666666666666,
              "#ed7953"
             ],
             [
              0.7777777777777778,
              "#fb9f3a"
             ],
             [
              0.8888888888888888,
              "#fdca26"
             ],
             [
              1,
              "#f0f921"
             ]
            ],
            "type": "contour"
           }
          ],
          "contourcarpet": [
           {
            "colorbar": {
             "outlinewidth": 0,
             "ticks": ""
            },
            "type": "contourcarpet"
           }
          ],
          "heatmap": [
           {
            "colorbar": {
             "outlinewidth": 0,
             "ticks": ""
            },
            "colorscale": [
             [
              0,
              "#0d0887"
             ],
             [
              0.1111111111111111,
              "#46039f"
             ],
             [
              0.2222222222222222,
              "#7201a8"
             ],
             [
              0.3333333333333333,
              "#9c179e"
             ],
             [
              0.4444444444444444,
              "#bd3786"
             ],
             [
              0.5555555555555556,
              "#d8576b"
             ],
             [
              0.6666666666666666,
              "#ed7953"
             ],
             [
              0.7777777777777778,
              "#fb9f3a"
             ],
             [
              0.8888888888888888,
              "#fdca26"
             ],
             [
              1,
              "#f0f921"
             ]
            ],
            "type": "heatmap"
           }
          ],
          "heatmapgl": [
           {
            "colorbar": {
             "outlinewidth": 0,
             "ticks": ""
            },
            "colorscale": [
             [
              0,
              "#0d0887"
             ],
             [
              0.1111111111111111,
              "#46039f"
             ],
             [
              0.2222222222222222,
              "#7201a8"
             ],
             [
              0.3333333333333333,
              "#9c179e"
             ],
             [
              0.4444444444444444,
              "#bd3786"
             ],
             [
              0.5555555555555556,
              "#d8576b"
             ],
             [
              0.6666666666666666,
              "#ed7953"
             ],
             [
              0.7777777777777778,
              "#fb9f3a"
             ],
             [
              0.8888888888888888,
              "#fdca26"
             ],
             [
              1,
              "#f0f921"
             ]
            ],
            "type": "heatmapgl"
           }
          ],
          "histogram": [
           {
            "marker": {
             "pattern": {
              "fillmode": "overlay",
              "size": 10,
              "solidity": 0.2
             }
            },
            "type": "histogram"
           }
          ],
          "histogram2d": [
           {
            "colorbar": {
             "outlinewidth": 0,
             "ticks": ""
            },
            "colorscale": [
             [
              0,
              "#0d0887"
             ],
             [
              0.1111111111111111,
              "#46039f"
             ],
             [
              0.2222222222222222,
              "#7201a8"
             ],
             [
              0.3333333333333333,
              "#9c179e"
             ],
             [
              0.4444444444444444,
              "#bd3786"
             ],
             [
              0.5555555555555556,
              "#d8576b"
             ],
             [
              0.6666666666666666,
              "#ed7953"
             ],
             [
              0.7777777777777778,
              "#fb9f3a"
             ],
             [
              0.8888888888888888,
              "#fdca26"
             ],
             [
              1,
              "#f0f921"
             ]
            ],
            "type": "histogram2d"
           }
          ],
          "histogram2dcontour": [
           {
            "colorbar": {
             "outlinewidth": 0,
             "ticks": ""
            },
            "colorscale": [
             [
              0,
              "#0d0887"
             ],
             [
              0.1111111111111111,
              "#46039f"
             ],
             [
              0.2222222222222222,
              "#7201a8"
             ],
             [
              0.3333333333333333,
              "#9c179e"
             ],
             [
              0.4444444444444444,
              "#bd3786"
             ],
             [
              0.5555555555555556,
              "#d8576b"
             ],
             [
              0.6666666666666666,
              "#ed7953"
             ],
             [
              0.7777777777777778,
              "#fb9f3a"
             ],
             [
              0.8888888888888888,
              "#fdca26"
             ],
             [
              1,
              "#f0f921"
             ]
            ],
            "type": "histogram2dcontour"
           }
          ],
          "mesh3d": [
           {
            "colorbar": {
             "outlinewidth": 0,
             "ticks": ""
            },
            "type": "mesh3d"
           }
          ],
          "parcoords": [
           {
            "line": {
             "colorbar": {
              "outlinewidth": 0,
              "ticks": ""
             }
            },
            "type": "parcoords"
           }
          ],
          "pie": [
           {
            "automargin": true,
            "type": "pie"
           }
          ],
          "scatter": [
           {
            "fillpattern": {
             "fillmode": "overlay",
             "size": 10,
             "solidity": 0.2
            },
            "type": "scatter"
           }
          ],
          "scatter3d": [
           {
            "line": {
             "colorbar": {
              "outlinewidth": 0,
              "ticks": ""
             }
            },
            "marker": {
             "colorbar": {
              "outlinewidth": 0,
              "ticks": ""
             }
            },
            "type": "scatter3d"
           }
          ],
          "scattercarpet": [
           {
            "marker": {
             "colorbar": {
              "outlinewidth": 0,
              "ticks": ""
             }
            },
            "type": "scattercarpet"
           }
          ],
          "scattergeo": [
           {
            "marker": {
             "colorbar": {
              "outlinewidth": 0,
              "ticks": ""
             }
            },
            "type": "scattergeo"
           }
          ],
          "scattergl": [
           {
            "marker": {
             "colorbar": {
              "outlinewidth": 0,
              "ticks": ""
             }
            },
            "type": "scattergl"
           }
          ],
          "scattermapbox": [
           {
            "marker": {
             "colorbar": {
              "outlinewidth": 0,
              "ticks": ""
             }
            },
            "type": "scattermapbox"
           }
          ],
          "scatterpolar": [
           {
            "marker": {
             "colorbar": {
              "outlinewidth": 0,
              "ticks": ""
             }
            },
            "type": "scatterpolar"
           }
          ],
          "scatterpolargl": [
           {
            "marker": {
             "colorbar": {
              "outlinewidth": 0,
              "ticks": ""
             }
            },
            "type": "scatterpolargl"
           }
          ],
          "scatterternary": [
           {
            "marker": {
             "colorbar": {
              "outlinewidth": 0,
              "ticks": ""
             }
            },
            "type": "scatterternary"
           }
          ],
          "surface": [
           {
            "colorbar": {
             "outlinewidth": 0,
             "ticks": ""
            },
            "colorscale": [
             [
              0,
              "#0d0887"
             ],
             [
              0.1111111111111111,
              "#46039f"
             ],
             [
              0.2222222222222222,
              "#7201a8"
             ],
             [
              0.3333333333333333,
              "#9c179e"
             ],
             [
              0.4444444444444444,
              "#bd3786"
             ],
             [
              0.5555555555555556,
              "#d8576b"
             ],
             [
              0.6666666666666666,
              "#ed7953"
             ],
             [
              0.7777777777777778,
              "#fb9f3a"
             ],
             [
              0.8888888888888888,
              "#fdca26"
             ],
             [
              1,
              "#f0f921"
             ]
            ],
            "type": "surface"
           }
          ],
          "table": [
           {
            "cells": {
             "fill": {
              "color": "#EBF0F8"
             },
             "line": {
              "color": "white"
             }
            },
            "header": {
             "fill": {
              "color": "#C8D4E3"
             },
             "line": {
              "color": "white"
             }
            },
            "type": "table"
           }
          ]
         },
         "layout": {
          "annotationdefaults": {
           "arrowcolor": "#2a3f5f",
           "arrowhead": 0,
           "arrowwidth": 1
          },
          "autotypenumbers": "strict",
          "coloraxis": {
           "colorbar": {
            "outlinewidth": 0,
            "ticks": ""
           }
          },
          "colorscale": {
           "diverging": [
            [
             0,
             "#8e0152"
            ],
            [
             0.1,
             "#c51b7d"
            ],
            [
             0.2,
             "#de77ae"
            ],
            [
             0.3,
             "#f1b6da"
            ],
            [
             0.4,
             "#fde0ef"
            ],
            [
             0.5,
             "#f7f7f7"
            ],
            [
             0.6,
             "#e6f5d0"
            ],
            [
             0.7,
             "#b8e186"
            ],
            [
             0.8,
             "#7fbc41"
            ],
            [
             0.9,
             "#4d9221"
            ],
            [
             1,
             "#276419"
            ]
           ],
           "sequential": [
            [
             0,
             "#0d0887"
            ],
            [
             0.1111111111111111,
             "#46039f"
            ],
            [
             0.2222222222222222,
             "#7201a8"
            ],
            [
             0.3333333333333333,
             "#9c179e"
            ],
            [
             0.4444444444444444,
             "#bd3786"
            ],
            [
             0.5555555555555556,
             "#d8576b"
            ],
            [
             0.6666666666666666,
             "#ed7953"
            ],
            [
             0.7777777777777778,
             "#fb9f3a"
            ],
            [
             0.8888888888888888,
             "#fdca26"
            ],
            [
             1,
             "#f0f921"
            ]
           ],
           "sequentialminus": [
            [
             0,
             "#0d0887"
            ],
            [
             0.1111111111111111,
             "#46039f"
            ],
            [
             0.2222222222222222,
             "#7201a8"
            ],
            [
             0.3333333333333333,
             "#9c179e"
            ],
            [
             0.4444444444444444,
             "#bd3786"
            ],
            [
             0.5555555555555556,
             "#d8576b"
            ],
            [
             0.6666666666666666,
             "#ed7953"
            ],
            [
             0.7777777777777778,
             "#fb9f3a"
            ],
            [
             0.8888888888888888,
             "#fdca26"
            ],
            [
             1,
             "#f0f921"
            ]
           ]
          },
          "colorway": [
           "#636efa",
           "#EF553B",
           "#00cc96",
           "#ab63fa",
           "#FFA15A",
           "#19d3f3",
           "#FF6692",
           "#B6E880",
           "#FF97FF",
           "#FECB52"
          ],
          "font": {
           "color": "#2a3f5f"
          },
          "geo": {
           "bgcolor": "white",
           "lakecolor": "white",
           "landcolor": "#E5ECF6",
           "showlakes": true,
           "showland": true,
           "subunitcolor": "white"
          },
          "hoverlabel": {
           "align": "left"
          },
          "hovermode": "closest",
          "mapbox": {
           "style": "light"
          },
          "paper_bgcolor": "white",
          "plot_bgcolor": "#E5ECF6",
          "polar": {
           "angularaxis": {
            "gridcolor": "white",
            "linecolor": "white",
            "ticks": ""
           },
           "bgcolor": "#E5ECF6",
           "radialaxis": {
            "gridcolor": "white",
            "linecolor": "white",
            "ticks": ""
           }
          },
          "scene": {
           "xaxis": {
            "backgroundcolor": "#E5ECF6",
            "gridcolor": "white",
            "gridwidth": 2,
            "linecolor": "white",
            "showbackground": true,
            "ticks": "",
            "zerolinecolor": "white"
           },
           "yaxis": {
            "backgroundcolor": "#E5ECF6",
            "gridcolor": "white",
            "gridwidth": 2,
            "linecolor": "white",
            "showbackground": true,
            "ticks": "",
            "zerolinecolor": "white"
           },
           "zaxis": {
            "backgroundcolor": "#E5ECF6",
            "gridcolor": "white",
            "gridwidth": 2,
            "linecolor": "white",
            "showbackground": true,
            "ticks": "",
            "zerolinecolor": "white"
           }
          },
          "shapedefaults": {
           "line": {
            "color": "#2a3f5f"
           }
          },
          "ternary": {
           "aaxis": {
            "gridcolor": "white",
            "linecolor": "white",
            "ticks": ""
           },
           "baxis": {
            "gridcolor": "white",
            "linecolor": "white",
            "ticks": ""
           },
           "bgcolor": "#E5ECF6",
           "caxis": {
            "gridcolor": "white",
            "linecolor": "white",
            "ticks": ""
           }
          },
          "title": {
           "x": 0.05
          },
          "xaxis": {
           "automargin": true,
           "gridcolor": "white",
           "linecolor": "white",
           "ticks": "",
           "title": {
            "standoff": 15
           },
           "zerolinecolor": "white",
           "zerolinewidth": 2
          },
          "yaxis": {
           "automargin": true,
           "gridcolor": "white",
           "linecolor": "white",
           "ticks": "",
           "title": {
            "standoff": 15
           },
           "zerolinecolor": "white",
           "zerolinewidth": 2
          }
         }
        }
       }
      }
     },
     "metadata": {},
     "output_type": "display_data"
    }
   ],
   "source": [
    "import plotly.express as px\n",
    "fig = px.scatter_mapbox(sub_df, lat=\"latitude\", lon=\"longitude\", hover_data=[\"sample_measurement\", \"site_number\"],\n",
    "                        color_discrete_sequence=[\"fuchsia\"], zoom=10, height=300)\n",
    "fig.update_layout(mapbox_style=\"carto-positron\")\n",
    "fig.update_layout(margin={\"r\":0,\"t\":0,\"l\":0,\"b\":0})\n",
    "fig.show()\n",
    "\n",
    "## make this plot available on the web\n",
    "\n",
    "import plotly.io as pio\n",
    "pio.write_html(fig, file='index.html', auto_open=True)\n",
    "\n"
   ]
  },
  {
   "cell_type": "code",
   "execution_count": 22,
   "metadata": {},
   "outputs": [
    {
     "data": {
      "application/vnd.plotly.v1+json": {
       "config": {
        "plotlyServerURL": "https://plot.ly"
       },
       "data": [
        {
         "coloraxis": "coloraxis",
         "customdata": [
          [
           1001
          ],
          [
           1003
          ],
          [
           2009
          ],
          [
           1002
          ],
          [
           1004
          ],
          [
           2
          ],
          [
           1
          ],
          [
           3001
          ],
          [
           1003
          ],
          [
           5
          ],
          [
           6
          ],
          [
           2006
          ],
          [
           8001
          ],
          [
           1008
          ],
          [
           8001
          ],
          [
           4
          ],
          [
           9033
          ],
          [
           306
          ],
          [
           306
          ],
          [
           3004
          ],
          [
           3005
          ],
          [
           9
          ],
          [
           5001
          ],
          [
           1
          ],
          [
           4
          ],
          [
           3
          ],
          [
           1201
          ],
          [
           6
          ],
          [
           2002
          ],
          [
           1008
          ],
          [
           1003
          ],
          [
           5
          ],
          [
           8001
          ],
          [
           2
          ],
          [
           2004
          ],
          [
           1001
          ],
          [
           7
          ],
          [
           2
          ],
          [
           3
          ],
          [
           6
          ],
          [
           8001
          ],
          [
           4
          ],
          [
           5025
          ],
          [
           1103
          ],
          [
           2510
          ],
          [
           2002
          ],
          [
           8001
          ],
          [
           4004
          ],
          [
           1002
          ],
          [
           4002
          ],
          [
           7
          ],
          [
           1103
          ],
          [
           8005
          ],
          [
           8001
          ],
          [
           1003
          ],
          [
           2
          ],
          [
           1201
          ],
          [
           1302
          ],
          [
           1602
          ],
          [
           2005
          ],
          [
           9004
          ],
          [
           2002
          ],
          [
           2002
          ],
          [
           25
          ],
          [
           2022
          ],
          [
           5001
          ],
          [
           8
          ],
          [
           1010
          ],
          [
           1
          ],
          [
           7
          ],
          [
           9
          ],
          [
           1003
          ],
          [
           5
          ],
          [
           1003
          ],
          [
           6
          ],
          [
           10
          ],
          [
           1002
          ],
          [
           1001
          ],
          [
           1009
          ],
          [
           1006
          ],
          [
           1002
          ],
          [
           3
          ],
          [
           5
          ],
          [
           2002
          ],
          [
           3001
          ],
          [
           2002
          ],
          [
           7
          ],
          [
           1002
          ],
          [
           5
          ],
          [
           8
          ],
          [
           11
          ],
          [
           15
          ],
          [
           1001
          ],
          [
           7
          ],
          [
           1003
          ],
          [
           14
          ],
          [
           16
          ],
          [
           4001
          ],
          [
           6
          ],
          [
           7
          ],
          [
           2
          ],
          [
           5
          ],
          [
           4
          ],
          [
           14
          ]
         ],
         "hovertemplate": "sample_measurement=%{z}<br>latitude=%{lat}<br>longitude=%{lon}<br>site_number=%{customdata[0]}<extra></extra>",
         "lat": [
          37.535833,
          36.487823,
          36.634225,
          40.80178,
          40.77678,
          39.757371,
          38.20185,
          39.0327,
          36.694261,
          39.233477,
          38.74643,
          35.25651,
          35.49158,
          34.942872,
          35.49158,
          40.55013,
          34.669739,
          34.510961,
          34.510961,
          40.6304,
          40.69184,
          37.743065,
          36.819449,
          37.97231,
          36.102244,
          37.281853,
          33.362593,
          39.15047,
          39.41174,
          33.217055,
          36.694261,
          37.765946,
          35.49158,
          36.843425,
          35.02083,
          37.482934,
          36.98332,
          36.999571,
          38.443503,
          37.488317,
          34.26464,
          36.102244,
          36.72639,
          34.06659,
          37.30832,
          33.70853,
          33.99958,
          33.79236,
          34.17605,
          33.82376,
          33.83062,
          34.06659,
          33.99636,
          33.99958,
          33.94603,
          34.1365,
          34.19925,
          33.901389,
          34.01029,
          34.1326,
          34.106678,
          33.70853,
          34.10002,
          34.037234,
          33.63003,
          33.85275,
          36.781333,
          32.701492,
          32.631242,
          32.97833,
          34.404281,
          32.79222,
          32.67618,
          36.487823,
          32.836461,
          38.56844,
          33.127769,
          39.32783,
          39.808333,
          39.939567,
          37.950741,
          32.791194,
          37.642165,
          36.332179,
          34.25239,
          34.276316,
          34.210169,
          39.18919,
          32.67618,
          36.781333,
          35.050551,
          35.62109,
          39.32783,
          34.210169,
          38.66121,
          35.356615,
          35.324636,
          38.556326,
          38.613779,
          37.687526,
          37.936013,
          37.348497,
          38.102507,
          35.356615
         ],
         "lon": [
          -121.961823,
          -117.871036,
          -120.382331,
          -124.1621,
          -124.17949,
          -121.843286,
          -120.680277,
          -122.92229,
          -121.623271,
          -121.055608,
          -121.26498,
          -120.6693,
          -120.66804,
          -120.435611,
          -120.66804,
          -122.38092,
          -118.130511,
          -117.32554,
          -117.32554,
          -122.4031,
          -122.40179,
          -122.169935,
          -119.716433,
          -122.520004,
          -119.56565,
          -120.433671,
          -117.09023,
          -123.20655,
          -123.35264,
          -117.396177,
          -121.623271,
          -122.399044,
          -120.66804,
          -121.3621,
          -120.56388,
          -122.20337,
          -121.98822,
          -121.574684,
          -122.710169,
          -120.836008,
          -116.86147,
          -119.56565,
          -119.733,
          -118.22688,
          -120.480456,
          -116.21537,
          -117.41601,
          -118.17533,
          -118.31712,
          -118.18921,
          -117.93845,
          -118.22688,
          -117.4924,
          -117.41601,
          -117.40063,
          -117.92391,
          -118.53276,
          -118.205,
          -118.0685,
          -118.1272,
          -117.274063,
          -116.21537,
          -117.49201,
          -117.690889,
          -117.67593,
          -116.54101,
          -119.77319,
          -117.149653,
          -117.059088,
          -115.53917,
          -118.80998,
          -115.56306,
          -115.48307,
          -117.871036,
          -117.128752,
          -121.49311,
          -117.075086,
          -120.184592,
          -120.471667,
          -120.944376,
          -121.268523,
          -116.942092,
          -120.994212,
          -119.291228,
          -119.143182,
          -118.683685,
          -118.870509,
          -121.99887,
          -115.48307,
          -119.77319,
          -118.147294,
          -117.67296,
          -120.184592,
          -118.870509,
          -121.73269,
          -119.062613,
          -118.997627,
          -121.458499,
          -121.368014,
          -121.784217,
          -122.026154,
          -121.894898,
          -122.237976,
          -119.062613
         ],
         "name": "",
         "radius": 10,
         "subplot": "mapbox",
         "type": "densitymapbox",
         "z": [
          8,
          -0.2,
          2,
          5.5,
          8.5,
          6.1,
          4.5,
          1.5,
          3.5,
          1,
          4.8,
          4,
          4.5,
          4,
          4.2,
          3,
          2,
          2,
          2,
          7,
          1,
          10,
          1,
          6,
          2,
          3,
          0,
          6,
          5,
          4,
          11,
          5,
          16,
          0,
          4,
          6,
          3,
          9,
          30,
          9,
          null,
          4.5,
          6.6,
          5.4,
          10.3,
          3,
          6.9,
          6.5,
          7.6,
          6.7,
          5.8,
          5.4,
          7,
          6.3,
          null,
          2.8,
          4.3,
          12.3,
          6.8,
          5.6,
          5.7,
          3.5,
          6.6,
          6.9,
          4.6,
          2.4,
          7.4,
          7,
          null,
          12.9,
          null,
          2.2,
          4.2,
          1,
          5.1,
          5.8,
          8.5,
          6.1,
          12.2,
          3.8,
          3.6,
          8.4,
          9,
          9.3,
          3.3,
          3.7,
          5.1,
          4.1,
          null,
          7.6,
          4.2,
          0.4,
          6.3,
          5.2,
          2.8,
          49.1,
          null,
          5.8,
          9,
          4.8,
          3.4,
          5.4,
          3,
          5.3
         ]
        }
       ],
       "layout": {
        "coloraxis": {
         "colorbar": {
          "title": {
           "text": "sample_measurement"
          }
         },
         "colorscale": [
          [
           0,
           "#440154"
          ],
          [
           0.1111111111111111,
           "#482878"
          ],
          [
           0.2222222222222222,
           "#3e4989"
          ],
          [
           0.3333333333333333,
           "#31688e"
          ],
          [
           0.4444444444444444,
           "#26828e"
          ],
          [
           0.5555555555555556,
           "#1f9e89"
          ],
          [
           0.6666666666666666,
           "#35b779"
          ],
          [
           0.7777777777777778,
           "#6ece58"
          ],
          [
           0.8888888888888888,
           "#b5de2b"
          ],
          [
           1,
           "#fde725"
          ]
         ]
        },
        "height": 500,
        "legend": {
         "tracegroupgap": 0
        },
        "mapbox": {
         "center": {
          "lat": 36.065990442307694,
          "lon": -119.60222610576923
         },
         "domain": {
          "x": [
           0,
           1
          ],
          "y": [
           0,
           1
          ]
         },
         "style": "carto-positron",
         "zoom": 10
        },
        "margin": {
         "b": 0,
         "l": 0,
         "r": 0,
         "t": 0
        },
        "template": {
         "data": {
          "bar": [
           {
            "error_x": {
             "color": "#2a3f5f"
            },
            "error_y": {
             "color": "#2a3f5f"
            },
            "marker": {
             "line": {
              "color": "#E5ECF6",
              "width": 0.5
             },
             "pattern": {
              "fillmode": "overlay",
              "size": 10,
              "solidity": 0.2
             }
            },
            "type": "bar"
           }
          ],
          "barpolar": [
           {
            "marker": {
             "line": {
              "color": "#E5ECF6",
              "width": 0.5
             },
             "pattern": {
              "fillmode": "overlay",
              "size": 10,
              "solidity": 0.2
             }
            },
            "type": "barpolar"
           }
          ],
          "carpet": [
           {
            "aaxis": {
             "endlinecolor": "#2a3f5f",
             "gridcolor": "white",
             "linecolor": "white",
             "minorgridcolor": "white",
             "startlinecolor": "#2a3f5f"
            },
            "baxis": {
             "endlinecolor": "#2a3f5f",
             "gridcolor": "white",
             "linecolor": "white",
             "minorgridcolor": "white",
             "startlinecolor": "#2a3f5f"
            },
            "type": "carpet"
           }
          ],
          "choropleth": [
           {
            "colorbar": {
             "outlinewidth": 0,
             "ticks": ""
            },
            "type": "choropleth"
           }
          ],
          "contour": [
           {
            "colorbar": {
             "outlinewidth": 0,
             "ticks": ""
            },
            "colorscale": [
             [
              0,
              "#0d0887"
             ],
             [
              0.1111111111111111,
              "#46039f"
             ],
             [
              0.2222222222222222,
              "#7201a8"
             ],
             [
              0.3333333333333333,
              "#9c179e"
             ],
             [
              0.4444444444444444,
              "#bd3786"
             ],
             [
              0.5555555555555556,
              "#d8576b"
             ],
             [
              0.6666666666666666,
              "#ed7953"
             ],
             [
              0.7777777777777778,
              "#fb9f3a"
             ],
             [
              0.8888888888888888,
              "#fdca26"
             ],
             [
              1,
              "#f0f921"
             ]
            ],
            "type": "contour"
           }
          ],
          "contourcarpet": [
           {
            "colorbar": {
             "outlinewidth": 0,
             "ticks": ""
            },
            "type": "contourcarpet"
           }
          ],
          "heatmap": [
           {
            "colorbar": {
             "outlinewidth": 0,
             "ticks": ""
            },
            "colorscale": [
             [
              0,
              "#0d0887"
             ],
             [
              0.1111111111111111,
              "#46039f"
             ],
             [
              0.2222222222222222,
              "#7201a8"
             ],
             [
              0.3333333333333333,
              "#9c179e"
             ],
             [
              0.4444444444444444,
              "#bd3786"
             ],
             [
              0.5555555555555556,
              "#d8576b"
             ],
             [
              0.6666666666666666,
              "#ed7953"
             ],
             [
              0.7777777777777778,
              "#fb9f3a"
             ],
             [
              0.8888888888888888,
              "#fdca26"
             ],
             [
              1,
              "#f0f921"
             ]
            ],
            "type": "heatmap"
           }
          ],
          "heatmapgl": [
           {
            "colorbar": {
             "outlinewidth": 0,
             "ticks": ""
            },
            "colorscale": [
             [
              0,
              "#0d0887"
             ],
             [
              0.1111111111111111,
              "#46039f"
             ],
             [
              0.2222222222222222,
              "#7201a8"
             ],
             [
              0.3333333333333333,
              "#9c179e"
             ],
             [
              0.4444444444444444,
              "#bd3786"
             ],
             [
              0.5555555555555556,
              "#d8576b"
             ],
             [
              0.6666666666666666,
              "#ed7953"
             ],
             [
              0.7777777777777778,
              "#fb9f3a"
             ],
             [
              0.8888888888888888,
              "#fdca26"
             ],
             [
              1,
              "#f0f921"
             ]
            ],
            "type": "heatmapgl"
           }
          ],
          "histogram": [
           {
            "marker": {
             "pattern": {
              "fillmode": "overlay",
              "size": 10,
              "solidity": 0.2
             }
            },
            "type": "histogram"
           }
          ],
          "histogram2d": [
           {
            "colorbar": {
             "outlinewidth": 0,
             "ticks": ""
            },
            "colorscale": [
             [
              0,
              "#0d0887"
             ],
             [
              0.1111111111111111,
              "#46039f"
             ],
             [
              0.2222222222222222,
              "#7201a8"
             ],
             [
              0.3333333333333333,
              "#9c179e"
             ],
             [
              0.4444444444444444,
              "#bd3786"
             ],
             [
              0.5555555555555556,
              "#d8576b"
             ],
             [
              0.6666666666666666,
              "#ed7953"
             ],
             [
              0.7777777777777778,
              "#fb9f3a"
             ],
             [
              0.8888888888888888,
              "#fdca26"
             ],
             [
              1,
              "#f0f921"
             ]
            ],
            "type": "histogram2d"
           }
          ],
          "histogram2dcontour": [
           {
            "colorbar": {
             "outlinewidth": 0,
             "ticks": ""
            },
            "colorscale": [
             [
              0,
              "#0d0887"
             ],
             [
              0.1111111111111111,
              "#46039f"
             ],
             [
              0.2222222222222222,
              "#7201a8"
             ],
             [
              0.3333333333333333,
              "#9c179e"
             ],
             [
              0.4444444444444444,
              "#bd3786"
             ],
             [
              0.5555555555555556,
              "#d8576b"
             ],
             [
              0.6666666666666666,
              "#ed7953"
             ],
             [
              0.7777777777777778,
              "#fb9f3a"
             ],
             [
              0.8888888888888888,
              "#fdca26"
             ],
             [
              1,
              "#f0f921"
             ]
            ],
            "type": "histogram2dcontour"
           }
          ],
          "mesh3d": [
           {
            "colorbar": {
             "outlinewidth": 0,
             "ticks": ""
            },
            "type": "mesh3d"
           }
          ],
          "parcoords": [
           {
            "line": {
             "colorbar": {
              "outlinewidth": 0,
              "ticks": ""
             }
            },
            "type": "parcoords"
           }
          ],
          "pie": [
           {
            "automargin": true,
            "type": "pie"
           }
          ],
          "scatter": [
           {
            "fillpattern": {
             "fillmode": "overlay",
             "size": 10,
             "solidity": 0.2
            },
            "type": "scatter"
           }
          ],
          "scatter3d": [
           {
            "line": {
             "colorbar": {
              "outlinewidth": 0,
              "ticks": ""
             }
            },
            "marker": {
             "colorbar": {
              "outlinewidth": 0,
              "ticks": ""
             }
            },
            "type": "scatter3d"
           }
          ],
          "scattercarpet": [
           {
            "marker": {
             "colorbar": {
              "outlinewidth": 0,
              "ticks": ""
             }
            },
            "type": "scattercarpet"
           }
          ],
          "scattergeo": [
           {
            "marker": {
             "colorbar": {
              "outlinewidth": 0,
              "ticks": ""
             }
            },
            "type": "scattergeo"
           }
          ],
          "scattergl": [
           {
            "marker": {
             "colorbar": {
              "outlinewidth": 0,
              "ticks": ""
             }
            },
            "type": "scattergl"
           }
          ],
          "scattermapbox": [
           {
            "marker": {
             "colorbar": {
              "outlinewidth": 0,
              "ticks": ""
             }
            },
            "type": "scattermapbox"
           }
          ],
          "scatterpolar": [
           {
            "marker": {
             "colorbar": {
              "outlinewidth": 0,
              "ticks": ""
             }
            },
            "type": "scatterpolar"
           }
          ],
          "scatterpolargl": [
           {
            "marker": {
             "colorbar": {
              "outlinewidth": 0,
              "ticks": ""
             }
            },
            "type": "scatterpolargl"
           }
          ],
          "scatterternary": [
           {
            "marker": {
             "colorbar": {
              "outlinewidth": 0,
              "ticks": ""
             }
            },
            "type": "scatterternary"
           }
          ],
          "surface": [
           {
            "colorbar": {
             "outlinewidth": 0,
             "ticks": ""
            },
            "colorscale": [
             [
              0,
              "#0d0887"
             ],
             [
              0.1111111111111111,
              "#46039f"
             ],
             [
              0.2222222222222222,
              "#7201a8"
             ],
             [
              0.3333333333333333,
              "#9c179e"
             ],
             [
              0.4444444444444444,
              "#bd3786"
             ],
             [
              0.5555555555555556,
              "#d8576b"
             ],
             [
              0.6666666666666666,
              "#ed7953"
             ],
             [
              0.7777777777777778,
              "#fb9f3a"
             ],
             [
              0.8888888888888888,
              "#fdca26"
             ],
             [
              1,
              "#f0f921"
             ]
            ],
            "type": "surface"
           }
          ],
          "table": [
           {
            "cells": {
             "fill": {
              "color": "#EBF0F8"
             },
             "line": {
              "color": "white"
             }
            },
            "header": {
             "fill": {
              "color": "#C8D4E3"
             },
             "line": {
              "color": "white"
             }
            },
            "type": "table"
           }
          ]
         },
         "layout": {
          "annotationdefaults": {
           "arrowcolor": "#2a3f5f",
           "arrowhead": 0,
           "arrowwidth": 1
          },
          "autotypenumbers": "strict",
          "coloraxis": {
           "colorbar": {
            "outlinewidth": 0,
            "ticks": ""
           }
          },
          "colorscale": {
           "diverging": [
            [
             0,
             "#8e0152"
            ],
            [
             0.1,
             "#c51b7d"
            ],
            [
             0.2,
             "#de77ae"
            ],
            [
             0.3,
             "#f1b6da"
            ],
            [
             0.4,
             "#fde0ef"
            ],
            [
             0.5,
             "#f7f7f7"
            ],
            [
             0.6,
             "#e6f5d0"
            ],
            [
             0.7,
             "#b8e186"
            ],
            [
             0.8,
             "#7fbc41"
            ],
            [
             0.9,
             "#4d9221"
            ],
            [
             1,
             "#276419"
            ]
           ],
           "sequential": [
            [
             0,
             "#0d0887"
            ],
            [
             0.1111111111111111,
             "#46039f"
            ],
            [
             0.2222222222222222,
             "#7201a8"
            ],
            [
             0.3333333333333333,
             "#9c179e"
            ],
            [
             0.4444444444444444,
             "#bd3786"
            ],
            [
             0.5555555555555556,
             "#d8576b"
            ],
            [
             0.6666666666666666,
             "#ed7953"
            ],
            [
             0.7777777777777778,
             "#fb9f3a"
            ],
            [
             0.8888888888888888,
             "#fdca26"
            ],
            [
             1,
             "#f0f921"
            ]
           ],
           "sequentialminus": [
            [
             0,
             "#0d0887"
            ],
            [
             0.1111111111111111,
             "#46039f"
            ],
            [
             0.2222222222222222,
             "#7201a8"
            ],
            [
             0.3333333333333333,
             "#9c179e"
            ],
            [
             0.4444444444444444,
             "#bd3786"
            ],
            [
             0.5555555555555556,
             "#d8576b"
            ],
            [
             0.6666666666666666,
             "#ed7953"
            ],
            [
             0.7777777777777778,
             "#fb9f3a"
            ],
            [
             0.8888888888888888,
             "#fdca26"
            ],
            [
             1,
             "#f0f921"
            ]
           ]
          },
          "colorway": [
           "#636efa",
           "#EF553B",
           "#00cc96",
           "#ab63fa",
           "#FFA15A",
           "#19d3f3",
           "#FF6692",
           "#B6E880",
           "#FF97FF",
           "#FECB52"
          ],
          "font": {
           "color": "#2a3f5f"
          },
          "geo": {
           "bgcolor": "white",
           "lakecolor": "white",
           "landcolor": "#E5ECF6",
           "showlakes": true,
           "showland": true,
           "subunitcolor": "white"
          },
          "hoverlabel": {
           "align": "left"
          },
          "hovermode": "closest",
          "mapbox": {
           "style": "light"
          },
          "paper_bgcolor": "white",
          "plot_bgcolor": "#E5ECF6",
          "polar": {
           "angularaxis": {
            "gridcolor": "white",
            "linecolor": "white",
            "ticks": ""
           },
           "bgcolor": "#E5ECF6",
           "radialaxis": {
            "gridcolor": "white",
            "linecolor": "white",
            "ticks": ""
           }
          },
          "scene": {
           "xaxis": {
            "backgroundcolor": "#E5ECF6",
            "gridcolor": "white",
            "gridwidth": 2,
            "linecolor": "white",
            "showbackground": true,
            "ticks": "",
            "zerolinecolor": "white"
           },
           "yaxis": {
            "backgroundcolor": "#E5ECF6",
            "gridcolor": "white",
            "gridwidth": 2,
            "linecolor": "white",
            "showbackground": true,
            "ticks": "",
            "zerolinecolor": "white"
           },
           "zaxis": {
            "backgroundcolor": "#E5ECF6",
            "gridcolor": "white",
            "gridwidth": 2,
            "linecolor": "white",
            "showbackground": true,
            "ticks": "",
            "zerolinecolor": "white"
           }
          },
          "shapedefaults": {
           "line": {
            "color": "#2a3f5f"
           }
          },
          "ternary": {
           "aaxis": {
            "gridcolor": "white",
            "linecolor": "white",
            "ticks": ""
           },
           "baxis": {
            "gridcolor": "white",
            "linecolor": "white",
            "ticks": ""
           },
           "bgcolor": "#E5ECF6",
           "caxis": {
            "gridcolor": "white",
            "linecolor": "white",
            "ticks": ""
           }
          },
          "title": {
           "x": 0.05
          },
          "xaxis": {
           "automargin": true,
           "gridcolor": "white",
           "linecolor": "white",
           "ticks": "",
           "title": {
            "standoff": 15
           },
           "zerolinecolor": "white",
           "zerolinewidth": 2
          },
          "yaxis": {
           "automargin": true,
           "gridcolor": "white",
           "linecolor": "white",
           "ticks": "",
           "title": {
            "standoff": 15
           },
           "zerolinecolor": "white",
           "zerolinewidth": 2
          }
         }
        }
       }
      }
     },
     "metadata": {},
     "output_type": "display_data"
    }
   ],
   "source": [
    "import plotly.express as px\n",
    "\n",
    "fig = px.density_mapbox(sub_df, lat=\"latitude\", lon=\"longitude\", z=\"sample_measurement\", radius=10,\n",
    "                        zoom=10, height=500, color_continuous_scale=\"Viridis\",\n",
    "                        hover_data=[\"site_number\", \"sample_measurement\"])\n",
    "fig.update_layout(mapbox_style=\"carto-positron\")\n",
    "fig.update_layout(margin={\"r\":0,\"t\":0,\"l\":0,\"b\":0})\n",
    "fig.show()"
   ]
  },
  {
   "cell_type": "code",
   "execution_count": 1,
   "metadata": {},
   "outputs": [
    {
     "name": "stderr",
     "output_type": "stream",
     "text": [
      "C:\\Users\\tim09\\AppData\\Local\\Temp\\ipykernel_16208\\2141021470.py:5: DtypeWarning: Columns (21) have mixed types. Specify dtype option on import or set low_memory=False.\n",
      "  df = pd.read_csv(r'C:\\Users\\tim09\\git_repo\\Air-Pandas\\Air_quality_query\\CA_2010_PM2.5.csv')\n"
     ]
    },
    {
     "data": {
      "text/plain": [
       "(240999, 29)"
      ]
     },
     "execution_count": 1,
     "metadata": {},
     "output_type": "execute_result"
    }
   ],
   "source": [
    "import pandas as pd\n",
    "\n",
    "## read csv: CA_2010_PM2.5.csv\n",
    "\n",
    "df = pd.read_csv(r'C:\\Users\\tim09\\git_repo\\Air-Pandas\\Air_quality_query\\CA_2010_PM2.5.csv')\n",
    "\n",
    "df.shape"
   ]
  },
  {
   "cell_type": "code",
   "execution_count": 2,
   "metadata": {},
   "outputs": [
    {
     "data": {
      "text/plain": [
       "Index(['state_code', 'county_code', 'site_number', 'parameter_code', 'poc',\n",
       "       'latitude', 'longitude', 'datum', 'parameter', 'date_local',\n",
       "       'time_local', 'date_gmt', 'time_gmt', 'sample_measurement',\n",
       "       'units_of_measure', 'units_of_measure_code', 'sample_duration',\n",
       "       'sample_duration_code', 'sample_frequency', 'detection_limit',\n",
       "       'uncertainty', 'qualifier', 'method_type', 'method', 'method_code',\n",
       "       'state', 'county', 'date_of_last_change', 'cbsa_code'],\n",
       "      dtype='object')"
      ]
     },
     "execution_count": 2,
     "metadata": {},
     "output_type": "execute_result"
    }
   ],
   "source": [
    "## See what columns we have\n",
    "df.columns"
   ]
  },
  {
   "cell_type": "code",
   "execution_count": 25,
   "metadata": {},
   "outputs": [
    {
     "data": {
      "text/plain": [
       "(227678, 8)"
      ]
     },
     "execution_count": 25,
     "metadata": {},
     "output_type": "execute_result"
    }
   ],
   "source": [
    "## we want those sub columns: 'site_number', 'latitude', 'longitude', 'date_gmt', 'time_gmt', 'sample_measurement', 'units_of_measure', 'county'\n",
    "\n",
    "sub_df = df[['site_number', 'latitude', 'longitude', 'date_gmt', 'time_gmt', 'sample_measurement', 'units_of_measure', 'county']]\n",
    "\n",
    "## and we can remove those where sample_measurement is NAN\n",
    "\n",
    "sub_df = sub_df[sub_df['sample_measurement'].notna()]\n",
    "\n",
    "sub_df.shape\n",
    "\n"
   ]
  },
  {
   "cell_type": "code",
   "execution_count": 26,
   "metadata": {},
   "outputs": [
    {
     "data": {
      "text/html": [
       "<div>\n",
       "<style scoped>\n",
       "    .dataframe tbody tr th:only-of-type {\n",
       "        vertical-align: middle;\n",
       "    }\n",
       "\n",
       "    .dataframe tbody tr th {\n",
       "        vertical-align: top;\n",
       "    }\n",
       "\n",
       "    .dataframe thead th {\n",
       "        text-align: right;\n",
       "    }\n",
       "</style>\n",
       "<table border=\"1\" class=\"dataframe\">\n",
       "  <thead>\n",
       "    <tr style=\"text-align: right;\">\n",
       "      <th></th>\n",
       "      <th>site_number</th>\n",
       "      <th>date_gmt</th>\n",
       "      <th>sample_measurement</th>\n",
       "    </tr>\n",
       "  </thead>\n",
       "  <tbody>\n",
       "    <tr>\n",
       "      <th>0</th>\n",
       "      <td>1</td>\n",
       "      <td>2010-01-01</td>\n",
       "      <td>18.500000</td>\n",
       "    </tr>\n",
       "    <tr>\n",
       "      <th>1</th>\n",
       "      <td>1</td>\n",
       "      <td>2010-01-02</td>\n",
       "      <td>7.557692</td>\n",
       "    </tr>\n",
       "    <tr>\n",
       "      <th>2</th>\n",
       "      <td>1</td>\n",
       "      <td>2010-01-03</td>\n",
       "      <td>16.250000</td>\n",
       "    </tr>\n",
       "    <tr>\n",
       "      <th>3</th>\n",
       "      <td>1</td>\n",
       "      <td>2010-01-04</td>\n",
       "      <td>33.391304</td>\n",
       "    </tr>\n",
       "    <tr>\n",
       "      <th>4</th>\n",
       "      <td>1</td>\n",
       "      <td>2010-01-05</td>\n",
       "      <td>30.291667</td>\n",
       "    </tr>\n",
       "    <tr>\n",
       "      <th>...</th>\n",
       "      <td>...</td>\n",
       "      <td>...</td>\n",
       "      <td>...</td>\n",
       "    </tr>\n",
       "    <tr>\n",
       "      <th>11618</th>\n",
       "      <td>9033</td>\n",
       "      <td>2010-11-16</td>\n",
       "      <td>6.000000</td>\n",
       "    </tr>\n",
       "    <tr>\n",
       "      <th>11619</th>\n",
       "      <td>9033</td>\n",
       "      <td>2010-11-28</td>\n",
       "      <td>2.000000</td>\n",
       "    </tr>\n",
       "    <tr>\n",
       "      <th>11620</th>\n",
       "      <td>9033</td>\n",
       "      <td>2010-12-04</td>\n",
       "      <td>14.000000</td>\n",
       "    </tr>\n",
       "    <tr>\n",
       "      <th>11621</th>\n",
       "      <td>9033</td>\n",
       "      <td>2010-12-22</td>\n",
       "      <td>2.000000</td>\n",
       "    </tr>\n",
       "    <tr>\n",
       "      <th>11622</th>\n",
       "      <td>9033</td>\n",
       "      <td>2010-12-28</td>\n",
       "      <td>6.000000</td>\n",
       "    </tr>\n",
       "  </tbody>\n",
       "</table>\n",
       "<p>11623 rows × 3 columns</p>\n",
       "</div>"
      ],
      "text/plain": [
       "       site_number    date_gmt  sample_measurement\n",
       "0                1  2010-01-01           18.500000\n",
       "1                1  2010-01-02            7.557692\n",
       "2                1  2010-01-03           16.250000\n",
       "3                1  2010-01-04           33.391304\n",
       "4                1  2010-01-05           30.291667\n",
       "...            ...         ...                 ...\n",
       "11618         9033  2010-11-16            6.000000\n",
       "11619         9033  2010-11-28            2.000000\n",
       "11620         9033  2010-12-04           14.000000\n",
       "11621         9033  2010-12-22            2.000000\n",
       "11622         9033  2010-12-28            6.000000\n",
       "\n",
       "[11623 rows x 3 columns]"
      ]
     },
     "execution_count": 26,
     "metadata": {},
     "output_type": "execute_result"
    }
   ],
   "source": [
    "avg_df = sub_df.groupby(['site_number', 'date_gmt'])['sample_measurement'].mean().reset_index()\n",
    "avg_df"
   ]
  },
  {
   "cell_type": "code",
   "execution_count": 29,
   "metadata": {},
   "outputs": [],
   "source": [
    "## do not use site number!\n",
    "avg_df = sub_df.groupby(['latitude', 'longitude', 'date_gmt'])['sample_measurement'].mean().reset_index()\n",
    "# Create a reference dataframe with latitude, longitude and corresponding site_number, units_of_measure, and county\n",
    "ref_df = sub_df[['latitude', 'longitude', 'site_number', 'units_of_measure', 'county']].drop_duplicates()\n",
    "\n",
    "# Merge the reference dataframe with the average dataframe\n",
    "final_df = pd.merge(avg_df, ref_df, on=['latitude', 'longitude'], how='left')\n"
   ]
  },
  {
   "cell_type": "code",
   "execution_count": 30,
   "metadata": {},
   "outputs": [
    {
     "data": {
      "text/html": [
       "<div>\n",
       "<style scoped>\n",
       "    .dataframe tbody tr th:only-of-type {\n",
       "        vertical-align: middle;\n",
       "    }\n",
       "\n",
       "    .dataframe tbody tr th {\n",
       "        vertical-align: top;\n",
       "    }\n",
       "\n",
       "    .dataframe thead th {\n",
       "        text-align: right;\n",
       "    }\n",
       "</style>\n",
       "<table border=\"1\" class=\"dataframe\">\n",
       "  <thead>\n",
       "    <tr style=\"text-align: right;\">\n",
       "      <th></th>\n",
       "      <th>latitude</th>\n",
       "      <th>longitude</th>\n",
       "      <th>date_gmt</th>\n",
       "      <th>sample_measurement</th>\n",
       "      <th>site_number</th>\n",
       "      <th>units_of_measure</th>\n",
       "      <th>county</th>\n",
       "    </tr>\n",
       "  </thead>\n",
       "  <tbody>\n",
       "    <tr>\n",
       "      <th>0</th>\n",
       "      <td>32.631242</td>\n",
       "      <td>-117.059088</td>\n",
       "      <td>2010-01-02</td>\n",
       "      <td>10.2</td>\n",
       "      <td>1</td>\n",
       "      <td>Micrograms/cubic meter (LC)</td>\n",
       "      <td>San Diego</td>\n",
       "    </tr>\n",
       "    <tr>\n",
       "      <th>1</th>\n",
       "      <td>32.631242</td>\n",
       "      <td>-117.059088</td>\n",
       "      <td>2010-01-08</td>\n",
       "      <td>7.9</td>\n",
       "      <td>1</td>\n",
       "      <td>Micrograms/cubic meter (LC)</td>\n",
       "      <td>San Diego</td>\n",
       "    </tr>\n",
       "    <tr>\n",
       "      <th>2</th>\n",
       "      <td>32.631242</td>\n",
       "      <td>-117.059088</td>\n",
       "      <td>2010-01-11</td>\n",
       "      <td>9.2</td>\n",
       "      <td>1</td>\n",
       "      <td>Micrograms/cubic meter (LC)</td>\n",
       "      <td>San Diego</td>\n",
       "    </tr>\n",
       "    <tr>\n",
       "      <th>3</th>\n",
       "      <td>32.631242</td>\n",
       "      <td>-117.059088</td>\n",
       "      <td>2010-01-14</td>\n",
       "      <td>10.4</td>\n",
       "      <td>1</td>\n",
       "      <td>Micrograms/cubic meter (LC)</td>\n",
       "      <td>San Diego</td>\n",
       "    </tr>\n",
       "    <tr>\n",
       "      <th>4</th>\n",
       "      <td>32.631242</td>\n",
       "      <td>-117.059088</td>\n",
       "      <td>2010-01-20</td>\n",
       "      <td>9.1</td>\n",
       "      <td>1</td>\n",
       "      <td>Micrograms/cubic meter (LC)</td>\n",
       "      <td>San Diego</td>\n",
       "    </tr>\n",
       "    <tr>\n",
       "      <th>...</th>\n",
       "      <td>...</td>\n",
       "      <td>...</td>\n",
       "      <td>...</td>\n",
       "      <td>...</td>\n",
       "      <td>...</td>\n",
       "      <td>...</td>\n",
       "      <td>...</td>\n",
       "    </tr>\n",
       "    <tr>\n",
       "      <th>18552</th>\n",
       "      <td>41.726892</td>\n",
       "      <td>-122.633579</td>\n",
       "      <td>2010-12-04</td>\n",
       "      <td>10.3</td>\n",
       "      <td>2001</td>\n",
       "      <td>Micrograms/cubic meter (LC)</td>\n",
       "      <td>Siskiyou</td>\n",
       "    </tr>\n",
       "    <tr>\n",
       "      <th>18553</th>\n",
       "      <td>41.726892</td>\n",
       "      <td>-122.633579</td>\n",
       "      <td>2010-12-10</td>\n",
       "      <td>7.9</td>\n",
       "      <td>2001</td>\n",
       "      <td>Micrograms/cubic meter (LC)</td>\n",
       "      <td>Siskiyou</td>\n",
       "    </tr>\n",
       "    <tr>\n",
       "      <th>18554</th>\n",
       "      <td>41.726892</td>\n",
       "      <td>-122.633579</td>\n",
       "      <td>2010-12-19</td>\n",
       "      <td>4.8</td>\n",
       "      <td>2001</td>\n",
       "      <td>Micrograms/cubic meter (LC)</td>\n",
       "      <td>Siskiyou</td>\n",
       "    </tr>\n",
       "    <tr>\n",
       "      <th>18555</th>\n",
       "      <td>41.726892</td>\n",
       "      <td>-122.633579</td>\n",
       "      <td>2010-12-22</td>\n",
       "      <td>5.7</td>\n",
       "      <td>2001</td>\n",
       "      <td>Micrograms/cubic meter (LC)</td>\n",
       "      <td>Siskiyou</td>\n",
       "    </tr>\n",
       "    <tr>\n",
       "      <th>18556</th>\n",
       "      <td>41.726892</td>\n",
       "      <td>-122.633579</td>\n",
       "      <td>2010-12-28</td>\n",
       "      <td>5.1</td>\n",
       "      <td>2001</td>\n",
       "      <td>Micrograms/cubic meter (LC)</td>\n",
       "      <td>Siskiyou</td>\n",
       "    </tr>\n",
       "  </tbody>\n",
       "</table>\n",
       "<p>18557 rows × 7 columns</p>\n",
       "</div>"
      ],
      "text/plain": [
       "        latitude   longitude    date_gmt  sample_measurement  site_number  \\\n",
       "0      32.631242 -117.059088  2010-01-02                10.2            1   \n",
       "1      32.631242 -117.059088  2010-01-08                 7.9            1   \n",
       "2      32.631242 -117.059088  2010-01-11                 9.2            1   \n",
       "3      32.631242 -117.059088  2010-01-14                10.4            1   \n",
       "4      32.631242 -117.059088  2010-01-20                 9.1            1   \n",
       "...          ...         ...         ...                 ...          ...   \n",
       "18552  41.726892 -122.633579  2010-12-04                10.3         2001   \n",
       "18553  41.726892 -122.633579  2010-12-10                 7.9         2001   \n",
       "18554  41.726892 -122.633579  2010-12-19                 4.8         2001   \n",
       "18555  41.726892 -122.633579  2010-12-22                 5.7         2001   \n",
       "18556  41.726892 -122.633579  2010-12-28                 5.1         2001   \n",
       "\n",
       "                  units_of_measure     county  \n",
       "0      Micrograms/cubic meter (LC)  San Diego  \n",
       "1      Micrograms/cubic meter (LC)  San Diego  \n",
       "2      Micrograms/cubic meter (LC)  San Diego  \n",
       "3      Micrograms/cubic meter (LC)  San Diego  \n",
       "4      Micrograms/cubic meter (LC)  San Diego  \n",
       "...                            ...        ...  \n",
       "18552  Micrograms/cubic meter (LC)   Siskiyou  \n",
       "18553  Micrograms/cubic meter (LC)   Siskiyou  \n",
       "18554  Micrograms/cubic meter (LC)   Siskiyou  \n",
       "18555  Micrograms/cubic meter (LC)   Siskiyou  \n",
       "18556  Micrograms/cubic meter (LC)   Siskiyou  \n",
       "\n",
       "[18557 rows x 7 columns]"
      ]
     },
     "execution_count": 30,
     "metadata": {},
     "output_type": "execute_result"
    }
   ],
   "source": [
    "final_df"
   ]
  },
  {
   "cell_type": "code",
   "execution_count": 15,
   "metadata": {},
   "outputs": [
    {
     "data": {
      "text/plain": [
       "(18557, 7)"
      ]
     },
     "execution_count": 15,
     "metadata": {},
     "output_type": "execute_result"
    }
   ],
   "source": [
    "# Group the data by site, date, and other desired columns\n",
    "grouped_df = sub_df.groupby(['site_number', 'latitude', 'longitude', 'date_gmt', 'units_of_measure', 'county'])\n",
    "\n",
    "# Calculate the average of 'sample_measurement' for each group\n",
    "averaged_df = grouped_df['sample_measurement'].mean().reset_index()\n",
    "\n",
    "averaged_df.shape"
   ]
  },
  {
   "cell_type": "code",
   "execution_count": 16,
   "metadata": {},
   "outputs": [
    {
     "data": {
      "text/html": [
       "<div>\n",
       "<style scoped>\n",
       "    .dataframe tbody tr th:only-of-type {\n",
       "        vertical-align: middle;\n",
       "    }\n",
       "\n",
       "    .dataframe tbody tr th {\n",
       "        vertical-align: top;\n",
       "    }\n",
       "\n",
       "    .dataframe thead th {\n",
       "        text-align: right;\n",
       "    }\n",
       "</style>\n",
       "<table border=\"1\" class=\"dataframe\">\n",
       "  <thead>\n",
       "    <tr style=\"text-align: right;\">\n",
       "      <th></th>\n",
       "      <th>site_number</th>\n",
       "      <th>latitude</th>\n",
       "      <th>longitude</th>\n",
       "      <th>date_gmt</th>\n",
       "      <th>units_of_measure</th>\n",
       "      <th>county</th>\n",
       "      <th>sample_measurement</th>\n",
       "    </tr>\n",
       "  </thead>\n",
       "  <tbody>\n",
       "    <tr>\n",
       "      <th>0</th>\n",
       "      <td>1</td>\n",
       "      <td>32.631242</td>\n",
       "      <td>-117.059088</td>\n",
       "      <td>2010-01-02</td>\n",
       "      <td>Micrograms/cubic meter (LC)</td>\n",
       "      <td>San Diego</td>\n",
       "      <td>10.2</td>\n",
       "    </tr>\n",
       "    <tr>\n",
       "      <th>1</th>\n",
       "      <td>1</td>\n",
       "      <td>32.631242</td>\n",
       "      <td>-117.059088</td>\n",
       "      <td>2010-01-08</td>\n",
       "      <td>Micrograms/cubic meter (LC)</td>\n",
       "      <td>San Diego</td>\n",
       "      <td>7.9</td>\n",
       "    </tr>\n",
       "    <tr>\n",
       "      <th>2</th>\n",
       "      <td>1</td>\n",
       "      <td>32.631242</td>\n",
       "      <td>-117.059088</td>\n",
       "      <td>2010-01-11</td>\n",
       "      <td>Micrograms/cubic meter (LC)</td>\n",
       "      <td>San Diego</td>\n",
       "      <td>9.2</td>\n",
       "    </tr>\n",
       "    <tr>\n",
       "      <th>3</th>\n",
       "      <td>1</td>\n",
       "      <td>32.631242</td>\n",
       "      <td>-117.059088</td>\n",
       "      <td>2010-01-14</td>\n",
       "      <td>Micrograms/cubic meter (LC)</td>\n",
       "      <td>San Diego</td>\n",
       "      <td>10.4</td>\n",
       "    </tr>\n",
       "    <tr>\n",
       "      <th>4</th>\n",
       "      <td>1</td>\n",
       "      <td>32.631242</td>\n",
       "      <td>-117.059088</td>\n",
       "      <td>2010-01-20</td>\n",
       "      <td>Micrograms/cubic meter (LC)</td>\n",
       "      <td>San Diego</td>\n",
       "      <td>9.1</td>\n",
       "    </tr>\n",
       "  </tbody>\n",
       "</table>\n",
       "</div>"
      ],
      "text/plain": [
       "   site_number   latitude   longitude    date_gmt  \\\n",
       "0            1  32.631242 -117.059088  2010-01-02   \n",
       "1            1  32.631242 -117.059088  2010-01-08   \n",
       "2            1  32.631242 -117.059088  2010-01-11   \n",
       "3            1  32.631242 -117.059088  2010-01-14   \n",
       "4            1  32.631242 -117.059088  2010-01-20   \n",
       "\n",
       "              units_of_measure     county  sample_measurement  \n",
       "0  Micrograms/cubic meter (LC)  San Diego                10.2  \n",
       "1  Micrograms/cubic meter (LC)  San Diego                 7.9  \n",
       "2  Micrograms/cubic meter (LC)  San Diego                 9.2  \n",
       "3  Micrograms/cubic meter (LC)  San Diego                10.4  \n",
       "4  Micrograms/cubic meter (LC)  San Diego                 9.1  "
      ]
     },
     "execution_count": 16,
     "metadata": {},
     "output_type": "execute_result"
    }
   ],
   "source": [
    "averaged_df.head()"
   ]
  },
  {
   "cell_type": "code",
   "execution_count": 33,
   "metadata": {},
   "outputs": [
    {
     "data": {
      "text/html": [
       "<div>\n",
       "<style scoped>\n",
       "    .dataframe tbody tr th:only-of-type {\n",
       "        vertical-align: middle;\n",
       "    }\n",
       "\n",
       "    .dataframe tbody tr th {\n",
       "        vertical-align: top;\n",
       "    }\n",
       "\n",
       "    .dataframe thead th {\n",
       "        text-align: right;\n",
       "    }\n",
       "</style>\n",
       "<table border=\"1\" class=\"dataframe\">\n",
       "  <thead>\n",
       "    <tr style=\"text-align: right;\">\n",
       "      <th></th>\n",
       "      <th>latitude</th>\n",
       "      <th>longitude</th>\n",
       "      <th>total_hours</th>\n",
       "      <th>exceed_15_hours</th>\n",
       "      <th>exceed_40_hours</th>\n",
       "      <th>exceed_65_hours</th>\n",
       "      <th>percent_exceed_15</th>\n",
       "      <th>percent_exceed_40</th>\n",
       "      <th>percent_exceed_65</th>\n",
       "    </tr>\n",
       "  </thead>\n",
       "  <tbody>\n",
       "    <tr>\n",
       "      <th>0</th>\n",
       "      <td>32.631242</td>\n",
       "      <td>-117.059088</td>\n",
       "      <td>101</td>\n",
       "      <td>7.0</td>\n",
       "      <td>0.0</td>\n",
       "      <td>0.0</td>\n",
       "      <td>6.930693</td>\n",
       "      <td>0.000000</td>\n",
       "      <td>0.000000</td>\n",
       "    </tr>\n",
       "    <tr>\n",
       "      <th>1</th>\n",
       "      <td>32.676180</td>\n",
       "      <td>-115.483070</td>\n",
       "      <td>193</td>\n",
       "      <td>42.0</td>\n",
       "      <td>3.0</td>\n",
       "      <td>0.0</td>\n",
       "      <td>21.761658</td>\n",
       "      <td>1.554404</td>\n",
       "      <td>0.000000</td>\n",
       "    </tr>\n",
       "    <tr>\n",
       "      <th>2</th>\n",
       "      <td>32.701492</td>\n",
       "      <td>-117.149653</td>\n",
       "      <td>320</td>\n",
       "      <td>39.0</td>\n",
       "      <td>0.0</td>\n",
       "      <td>0.0</td>\n",
       "      <td>12.187500</td>\n",
       "      <td>0.000000</td>\n",
       "      <td>0.000000</td>\n",
       "    </tr>\n",
       "    <tr>\n",
       "      <th>3</th>\n",
       "      <td>32.725226</td>\n",
       "      <td>-116.365203</td>\n",
       "      <td>73</td>\n",
       "      <td>1.0</td>\n",
       "      <td>1.0</td>\n",
       "      <td>1.0</td>\n",
       "      <td>1.369863</td>\n",
       "      <td>1.369863</td>\n",
       "      <td>1.369863</td>\n",
       "    </tr>\n",
       "    <tr>\n",
       "      <th>4</th>\n",
       "      <td>32.791194</td>\n",
       "      <td>-116.942092</td>\n",
       "      <td>116</td>\n",
       "      <td>13.0</td>\n",
       "      <td>0.0</td>\n",
       "      <td>0.0</td>\n",
       "      <td>11.206897</td>\n",
       "      <td>0.000000</td>\n",
       "      <td>0.000000</td>\n",
       "    </tr>\n",
       "  </tbody>\n",
       "</table>\n",
       "</div>"
      ],
      "text/plain": [
       "    latitude   longitude  total_hours  exceed_15_hours  exceed_40_hours  \\\n",
       "0  32.631242 -117.059088          101              7.0              0.0   \n",
       "1  32.676180 -115.483070          193             42.0              3.0   \n",
       "2  32.701492 -117.149653          320             39.0              0.0   \n",
       "3  32.725226 -116.365203           73              1.0              1.0   \n",
       "4  32.791194 -116.942092          116             13.0              0.0   \n",
       "\n",
       "   exceed_65_hours  percent_exceed_15  percent_exceed_40  percent_exceed_65  \n",
       "0              0.0           6.930693           0.000000           0.000000  \n",
       "1              0.0          21.761658           1.554404           0.000000  \n",
       "2              0.0          12.187500           0.000000           0.000000  \n",
       "3              1.0           1.369863           1.369863           1.369863  \n",
       "4              0.0          11.206897           0.000000           0.000000  "
      ]
     },
     "execution_count": 33,
     "metadata": {},
     "output_type": "execute_result"
    }
   ],
   "source": [
    "# Total number of hours measured for each site\n",
    "total_hours = sub_df.groupby(['latitude', 'longitude']).size().reset_index(name='total_hours')\n",
    "\n",
    "# Number of hours where measurement exceeds 15.5, 40.5, 65.5\n",
    "exceed_15_hours = sub_df[sub_df['sample_measurement'] > 15.5].groupby(['latitude', 'longitude']).size().reset_index(name='exceed_15_hours')\n",
    "exceed_40_hours = sub_df[sub_df['sample_measurement'] > 40.5].groupby(['latitude', 'longitude']).size().reset_index(name='exceed_40_hours')\n",
    "exceed_65_hours = sub_df[sub_df['sample_measurement'] > 65.5].groupby(['latitude', 'longitude']).size().reset_index(name='exceed_65_hours')\n",
    "\n",
    "# Merge dataframes\n",
    "merge_df = pd.merge(total_hours, exceed_15_hours, on=['latitude', 'longitude'], how='left')\n",
    "merge_df = pd.merge(merge_df, exceed_40_hours, on=['latitude', 'longitude'], how='left')\n",
    "merge_df = pd.merge(merge_df, exceed_65_hours, on=['latitude', 'longitude'], how='left')\n",
    "\n",
    "merge_df = merge_df.fillna(0)\n",
    "\n",
    "# Calculate percentages\n",
    "merge_df['percent_exceed_15'] = (merge_df['exceed_15_hours'] / merge_df['total_hours']) * 100\n",
    "merge_df['percent_exceed_40'] = (merge_df['exceed_40_hours'] / merge_df['total_hours']) * 100\n",
    "merge_df['percent_exceed_65'] = (merge_df['exceed_65_hours'] / merge_df['total_hours']) * 100\n",
    "\n",
    "merge_df.head()"
   ]
  },
  {
   "cell_type": "code",
   "execution_count": 35,
   "metadata": {},
   "outputs": [],
   "source": [
    "avg_latitude = merge_df['latitude'].mean()\n",
    "avg_longitude = merge_df['longitude'].mean()"
   ]
  },
  {
   "cell_type": "code",
   "execution_count": 37,
   "metadata": {},
   "outputs": [
    {
     "data": {
      "text/html": [
       "<div style=\"width:100%;\"><div style=\"position:relative;width:100%;height:0;padding-bottom:60%;\"><span style=\"color:#565656\">Make this Notebook Trusted to load map: File -> Trust Notebook</span><iframe srcdoc=\"&lt;!DOCTYPE html&gt;\n",
       "&lt;html&gt;\n",
       "&lt;head&gt;\n",
       "    \n",
       "    &lt;meta http-equiv=&quot;content-type&quot; content=&quot;text/html; charset=UTF-8&quot; /&gt;\n",
       "    \n",
       "        &lt;script&gt;\n",
       "            L_NO_TOUCH = false;\n",
       "            L_DISABLE_3D = false;\n",
       "        &lt;/script&gt;\n",
       "    \n",
       "    &lt;style&gt;html, body {width: 100%;height: 100%;margin: 0;padding: 0;}&lt;/style&gt;\n",
       "    &lt;style&gt;#map {position:absolute;top:0;bottom:0;right:0;left:0;}&lt;/style&gt;\n",
       "    &lt;script src=&quot;https://cdn.jsdelivr.net/npm/leaflet@1.9.3/dist/leaflet.js&quot;&gt;&lt;/script&gt;\n",
       "    &lt;script src=&quot;https://code.jquery.com/jquery-1.12.4.min.js&quot;&gt;&lt;/script&gt;\n",
       "    &lt;script src=&quot;https://cdn.jsdelivr.net/npm/bootstrap@5.2.2/dist/js/bootstrap.bundle.min.js&quot;&gt;&lt;/script&gt;\n",
       "    &lt;script src=&quot;https://cdnjs.cloudflare.com/ajax/libs/Leaflet.awesome-markers/2.0.2/leaflet.awesome-markers.js&quot;&gt;&lt;/script&gt;\n",
       "    &lt;link rel=&quot;stylesheet&quot; href=&quot;https://cdn.jsdelivr.net/npm/leaflet@1.9.3/dist/leaflet.css&quot;/&gt;\n",
       "    &lt;link rel=&quot;stylesheet&quot; href=&quot;https://cdn.jsdelivr.net/npm/bootstrap@5.2.2/dist/css/bootstrap.min.css&quot;/&gt;\n",
       "    &lt;link rel=&quot;stylesheet&quot; href=&quot;https://netdna.bootstrapcdn.com/bootstrap/3.0.0/css/bootstrap.min.css&quot;/&gt;\n",
       "    &lt;link rel=&quot;stylesheet&quot; href=&quot;https://cdn.jsdelivr.net/npm/@fortawesome/fontawesome-free@6.2.0/css/all.min.css&quot;/&gt;\n",
       "    &lt;link rel=&quot;stylesheet&quot; href=&quot;https://cdnjs.cloudflare.com/ajax/libs/Leaflet.awesome-markers/2.0.2/leaflet.awesome-markers.css&quot;/&gt;\n",
       "    &lt;link rel=&quot;stylesheet&quot; href=&quot;https://cdn.jsdelivr.net/gh/python-visualization/folium/folium/templates/leaflet.awesome.rotate.min.css&quot;/&gt;\n",
       "    \n",
       "            &lt;meta name=&quot;viewport&quot; content=&quot;width=device-width,\n",
       "                initial-scale=1.0, maximum-scale=1.0, user-scalable=no&quot; /&gt;\n",
       "            &lt;style&gt;\n",
       "                #map_7d6c8a7f4c460d1d3ee38c8d53f43bf9 {\n",
       "                    position: relative;\n",
       "                    width: 100.0%;\n",
       "                    height: 100.0%;\n",
       "                    left: 0.0%;\n",
       "                    top: 0.0%;\n",
       "                }\n",
       "                .leaflet-container { font-size: 1rem; }\n",
       "            &lt;/style&gt;\n",
       "        \n",
       "&lt;/head&gt;\n",
       "&lt;body&gt;\n",
       "    \n",
       "    \n",
       "            &lt;div class=&quot;folium-map&quot; id=&quot;map_7d6c8a7f4c460d1d3ee38c8d53f43bf9&quot; &gt;&lt;/div&gt;\n",
       "        \n",
       "&lt;/body&gt;\n",
       "&lt;script&gt;\n",
       "    \n",
       "    \n",
       "            var map_7d6c8a7f4c460d1d3ee38c8d53f43bf9 = L.map(\n",
       "                &quot;map_7d6c8a7f4c460d1d3ee38c8d53f43bf9&quot;,\n",
       "                {\n",
       "                    center: [36.197306171717166, -119.7433151111111],\n",
       "                    crs: L.CRS.EPSG3857,\n",
       "                    zoom: 4,\n",
       "                    zoomControl: true,\n",
       "                    preferCanvas: false,\n",
       "                }\n",
       "            );\n",
       "\n",
       "            \n",
       "\n",
       "        \n",
       "    \n",
       "            var tile_layer_2e04a04f82487520aaed37a4f783039e = L.tileLayer(\n",
       "                &quot;https://{s}.tile.openstreetmap.org/{z}/{x}/{y}.png&quot;,\n",
       "                {&quot;attribution&quot;: &quot;Data by \\u0026copy; \\u003ca target=\\&quot;_blank\\&quot; href=\\&quot;http://openstreetmap.org\\&quot;\\u003eOpenStreetMap\\u003c/a\\u003e, under \\u003ca target=\\&quot;_blank\\&quot; href=\\&quot;http://www.openstreetmap.org/copyright\\&quot;\\u003eODbL\\u003c/a\\u003e.&quot;, &quot;detectRetina&quot;: false, &quot;maxNativeZoom&quot;: 18, &quot;maxZoom&quot;: 18, &quot;minZoom&quot;: 0, &quot;noWrap&quot;: false, &quot;opacity&quot;: 1, &quot;subdomains&quot;: &quot;abc&quot;, &quot;tms&quot;: false}\n",
       "            ).addTo(map_7d6c8a7f4c460d1d3ee38c8d53f43bf9);\n",
       "        \n",
       "    \n",
       "            var circle_marker_5454a10c85685cc22671110bf43637a6 = L.circleMarker(\n",
       "                [32.631242, -117.059088],\n",
       "                {&quot;bubblingMouseEvents&quot;: true, &quot;color&quot;: &quot;green&quot;, &quot;dashArray&quot;: null, &quot;dashOffset&quot;: null, &quot;fill&quot;: true, &quot;fillColor&quot;: &quot;green&quot;, &quot;fillOpacity&quot;: 0.2, &quot;fillRule&quot;: &quot;evenodd&quot;, &quot;lineCap&quot;: &quot;round&quot;, &quot;lineJoin&quot;: &quot;round&quot;, &quot;opacity&quot;: 1.0, &quot;radius&quot;: 5, &quot;stroke&quot;: true, &quot;weight&quot;: 3}\n",
       "            ).addTo(map_7d6c8a7f4c460d1d3ee38c8d53f43bf9);\n",
       "        \n",
       "    \n",
       "            var circle_marker_00b57bc3f201b2c10a72ef266c498f93 = L.circleMarker(\n",
       "                [32.67618, -115.48307],\n",
       "                {&quot;bubblingMouseEvents&quot;: true, &quot;color&quot;: &quot;orange&quot;, &quot;dashArray&quot;: null, &quot;dashOffset&quot;: null, &quot;fill&quot;: true, &quot;fillColor&quot;: &quot;orange&quot;, &quot;fillOpacity&quot;: 0.2, &quot;fillRule&quot;: &quot;evenodd&quot;, &quot;lineCap&quot;: &quot;round&quot;, &quot;lineJoin&quot;: &quot;round&quot;, &quot;opacity&quot;: 1.0, &quot;radius&quot;: 5, &quot;stroke&quot;: true, &quot;weight&quot;: 3}\n",
       "            ).addTo(map_7d6c8a7f4c460d1d3ee38c8d53f43bf9);\n",
       "        \n",
       "    \n",
       "            var circle_marker_a22c4f031b3f32414ad4b78baf4952b5 = L.circleMarker(\n",
       "                [32.701492, -117.149653],\n",
       "                {&quot;bubblingMouseEvents&quot;: true, &quot;color&quot;: &quot;green&quot;, &quot;dashArray&quot;: null, &quot;dashOffset&quot;: null, &quot;fill&quot;: true, &quot;fillColor&quot;: &quot;green&quot;, &quot;fillOpacity&quot;: 0.2, &quot;fillRule&quot;: &quot;evenodd&quot;, &quot;lineCap&quot;: &quot;round&quot;, &quot;lineJoin&quot;: &quot;round&quot;, &quot;opacity&quot;: 1.0, &quot;radius&quot;: 5, &quot;stroke&quot;: true, &quot;weight&quot;: 3}\n",
       "            ).addTo(map_7d6c8a7f4c460d1d3ee38c8d53f43bf9);\n",
       "        \n",
       "    \n",
       "            var circle_marker_82625c58344a7ac33f01d551376d96d3 = L.circleMarker(\n",
       "                [32.725226, -116.365203],\n",
       "                {&quot;bubblingMouseEvents&quot;: true, &quot;color&quot;: &quot;green&quot;, &quot;dashArray&quot;: null, &quot;dashOffset&quot;: null, &quot;fill&quot;: true, &quot;fillColor&quot;: &quot;green&quot;, &quot;fillOpacity&quot;: 0.2, &quot;fillRule&quot;: &quot;evenodd&quot;, &quot;lineCap&quot;: &quot;round&quot;, &quot;lineJoin&quot;: &quot;round&quot;, &quot;opacity&quot;: 1.0, &quot;radius&quot;: 5, &quot;stroke&quot;: true, &quot;weight&quot;: 3}\n",
       "            ).addTo(map_7d6c8a7f4c460d1d3ee38c8d53f43bf9);\n",
       "        \n",
       "    \n",
       "            var circle_marker_95e16c39f3a6d7feebd161877df6a886 = L.circleMarker(\n",
       "                [32.791194, -116.942092],\n",
       "                {&quot;bubblingMouseEvents&quot;: true, &quot;color&quot;: &quot;green&quot;, &quot;dashArray&quot;: null, &quot;dashOffset&quot;: null, &quot;fill&quot;: true, &quot;fillColor&quot;: &quot;green&quot;, &quot;fillOpacity&quot;: 0.2, &quot;fillRule&quot;: &quot;evenodd&quot;, &quot;lineCap&quot;: &quot;round&quot;, &quot;lineJoin&quot;: &quot;round&quot;, &quot;opacity&quot;: 1.0, &quot;radius&quot;: 5, &quot;stroke&quot;: true, &quot;weight&quot;: 3}\n",
       "            ).addTo(map_7d6c8a7f4c460d1d3ee38c8d53f43bf9);\n",
       "        \n",
       "    \n",
       "            var circle_marker_0cceb4a9861b0cc8ef353858260a9e95 = L.circleMarker(\n",
       "                [32.79222, -115.56306],\n",
       "                {&quot;bubblingMouseEvents&quot;: true, &quot;color&quot;: &quot;green&quot;, &quot;dashArray&quot;: null, &quot;dashOffset&quot;: null, &quot;fill&quot;: true, &quot;fillColor&quot;: &quot;green&quot;, &quot;fillOpacity&quot;: 0.2, &quot;fillRule&quot;: &quot;evenodd&quot;, &quot;lineCap&quot;: &quot;round&quot;, &quot;lineJoin&quot;: &quot;round&quot;, &quot;opacity&quot;: 1.0, &quot;radius&quot;: 5, &quot;stroke&quot;: true, &quot;weight&quot;: 3}\n",
       "            ).addTo(map_7d6c8a7f4c460d1d3ee38c8d53f43bf9);\n",
       "        \n",
       "    \n",
       "            var circle_marker_f4869f06674082b83958f3c12a1ff173 = L.circleMarker(\n",
       "                [32.836461, -117.128752],\n",
       "                {&quot;bubblingMouseEvents&quot;: true, &quot;color&quot;: &quot;green&quot;, &quot;dashArray&quot;: null, &quot;dashOffset&quot;: null, &quot;fill&quot;: true, &quot;fillColor&quot;: &quot;green&quot;, &quot;fillOpacity&quot;: 0.2, &quot;fillRule&quot;: &quot;evenodd&quot;, &quot;lineCap&quot;: &quot;round&quot;, &quot;lineJoin&quot;: &quot;round&quot;, &quot;opacity&quot;: 1.0, &quot;radius&quot;: 5, &quot;stroke&quot;: true, &quot;weight&quot;: 3}\n",
       "            ).addTo(map_7d6c8a7f4c460d1d3ee38c8d53f43bf9);\n",
       "        \n",
       "    \n",
       "            var circle_marker_8f8b166b71315bb0c802665d1945ff32 = L.circleMarker(\n",
       "                [32.97833, -115.53917],\n",
       "                {&quot;bubblingMouseEvents&quot;: true, &quot;color&quot;: &quot;green&quot;, &quot;dashArray&quot;: null, &quot;dashOffset&quot;: null, &quot;fill&quot;: true, &quot;fillColor&quot;: &quot;green&quot;, &quot;fillOpacity&quot;: 0.2, &quot;fillRule&quot;: &quot;evenodd&quot;, &quot;lineCap&quot;: &quot;round&quot;, &quot;lineJoin&quot;: &quot;round&quot;, &quot;opacity&quot;: 1.0, &quot;radius&quot;: 5, &quot;stroke&quot;: true, &quot;weight&quot;: 3}\n",
       "            ).addTo(map_7d6c8a7f4c460d1d3ee38c8d53f43bf9);\n",
       "        \n",
       "    \n",
       "            var circle_marker_cbdc2aa20c2807fc7baf687d572eac07 = L.circleMarker(\n",
       "                [33.127769, -117.075086],\n",
       "                {&quot;bubblingMouseEvents&quot;: true, &quot;color&quot;: &quot;green&quot;, &quot;dashArray&quot;: null, &quot;dashOffset&quot;: null, &quot;fill&quot;: true, &quot;fillColor&quot;: &quot;green&quot;, &quot;fillOpacity&quot;: 0.2, &quot;fillRule&quot;: &quot;evenodd&quot;, &quot;lineCap&quot;: &quot;round&quot;, &quot;lineJoin&quot;: &quot;round&quot;, &quot;opacity&quot;: 1.0, &quot;radius&quot;: 5, &quot;stroke&quot;: true, &quot;weight&quot;: 3}\n",
       "            ).addTo(map_7d6c8a7f4c460d1d3ee38c8d53f43bf9);\n",
       "        \n",
       "    \n",
       "            var circle_marker_32aa67322aac7c17b38cd3cbafa5f6ba = L.circleMarker(\n",
       "                [33.217055, -117.396177],\n",
       "                {&quot;bubblingMouseEvents&quot;: true, &quot;color&quot;: &quot;green&quot;, &quot;dashArray&quot;: null, &quot;dashOffset&quot;: null, &quot;fill&quot;: true, &quot;fillColor&quot;: &quot;green&quot;, &quot;fillOpacity&quot;: 0.2, &quot;fillRule&quot;: &quot;evenodd&quot;, &quot;lineCap&quot;: &quot;round&quot;, &quot;lineJoin&quot;: &quot;round&quot;, &quot;opacity&quot;: 1.0, &quot;radius&quot;: 5, &quot;stroke&quot;: true, &quot;weight&quot;: 3}\n",
       "            ).addTo(map_7d6c8a7f4c460d1d3ee38c8d53f43bf9);\n",
       "        \n",
       "    \n",
       "            var circle_marker_4e63eca58c31090f636caee23ae0835f = L.circleMarker(\n",
       "                [33.362593, -117.09023],\n",
       "                {&quot;bubblingMouseEvents&quot;: true, &quot;color&quot;: &quot;green&quot;, &quot;dashArray&quot;: null, &quot;dashOffset&quot;: null, &quot;fill&quot;: true, &quot;fillColor&quot;: &quot;green&quot;, &quot;fillOpacity&quot;: 0.2, &quot;fillRule&quot;: &quot;evenodd&quot;, &quot;lineCap&quot;: &quot;round&quot;, &quot;lineJoin&quot;: &quot;round&quot;, &quot;opacity&quot;: 1.0, &quot;radius&quot;: 5, &quot;stroke&quot;: true, &quot;weight&quot;: 3}\n",
       "            ).addTo(map_7d6c8a7f4c460d1d3ee38c8d53f43bf9);\n",
       "        \n",
       "    \n",
       "            var circle_marker_ceb8c75812b356dc8cfc12b5168730ae = L.circleMarker(\n",
       "                [33.447867, -117.088649],\n",
       "                {&quot;bubblingMouseEvents&quot;: true, &quot;color&quot;: &quot;green&quot;, &quot;dashArray&quot;: null, &quot;dashOffset&quot;: null, &quot;fill&quot;: true, &quot;fillColor&quot;: &quot;green&quot;, &quot;fillOpacity&quot;: 0.2, &quot;fillRule&quot;: &quot;evenodd&quot;, &quot;lineCap&quot;: &quot;round&quot;, &quot;lineJoin&quot;: &quot;round&quot;, &quot;opacity&quot;: 1.0, &quot;radius&quot;: 5, &quot;stroke&quot;: true, &quot;weight&quot;: 3}\n",
       "            ).addTo(map_7d6c8a7f4c460d1d3ee38c8d53f43bf9);\n",
       "        \n",
       "    \n",
       "            var circle_marker_e51f0cdf1f8f4e8909715679190fb8ae = L.circleMarker(\n",
       "                [33.63003, -117.67593],\n",
       "                {&quot;bubblingMouseEvents&quot;: true, &quot;color&quot;: &quot;green&quot;, &quot;dashArray&quot;: null, &quot;dashOffset&quot;: null, &quot;fill&quot;: true, &quot;fillColor&quot;: &quot;green&quot;, &quot;fillOpacity&quot;: 0.2, &quot;fillRule&quot;: &quot;evenodd&quot;, &quot;lineCap&quot;: &quot;round&quot;, &quot;lineJoin&quot;: &quot;round&quot;, &quot;opacity&quot;: 1.0, &quot;radius&quot;: 5, &quot;stroke&quot;: true, &quot;weight&quot;: 3}\n",
       "            ).addTo(map_7d6c8a7f4c460d1d3ee38c8d53f43bf9);\n",
       "        \n",
       "    \n",
       "            var circle_marker_0011a9d4aecf5c210196da4c5419e9d4 = L.circleMarker(\n",
       "                [33.70853, -116.21537],\n",
       "                {&quot;bubblingMouseEvents&quot;: true, &quot;color&quot;: &quot;green&quot;, &quot;dashArray&quot;: null, &quot;dashOffset&quot;: null, &quot;fill&quot;: true, &quot;fillColor&quot;: &quot;green&quot;, &quot;fillOpacity&quot;: 0.2, &quot;fillRule&quot;: &quot;evenodd&quot;, &quot;lineCap&quot;: &quot;round&quot;, &quot;lineJoin&quot;: &quot;round&quot;, &quot;opacity&quot;: 1.0, &quot;radius&quot;: 5, &quot;stroke&quot;: true, &quot;weight&quot;: 3}\n",
       "            ).addTo(map_7d6c8a7f4c460d1d3ee38c8d53f43bf9);\n",
       "        \n",
       "    \n",
       "            var circle_marker_93962ecbcca80d858abbffadbe913a29 = L.circleMarker(\n",
       "                [33.79236, -118.17533],\n",
       "                {&quot;bubblingMouseEvents&quot;: true, &quot;color&quot;: &quot;green&quot;, &quot;dashArray&quot;: null, &quot;dashOffset&quot;: null, &quot;fill&quot;: true, &quot;fillColor&quot;: &quot;green&quot;, &quot;fillOpacity&quot;: 0.2, &quot;fillRule&quot;: &quot;evenodd&quot;, &quot;lineCap&quot;: &quot;round&quot;, &quot;lineJoin&quot;: &quot;round&quot;, &quot;opacity&quot;: 1.0, &quot;radius&quot;: 5, &quot;stroke&quot;: true, &quot;weight&quot;: 3}\n",
       "            ).addTo(map_7d6c8a7f4c460d1d3ee38c8d53f43bf9);\n",
       "        \n",
       "    \n",
       "            var circle_marker_3f5832e18b0e69280870fa904410567f = L.circleMarker(\n",
       "                [33.82376, -118.18921],\n",
       "                {&quot;bubblingMouseEvents&quot;: true, &quot;color&quot;: &quot;green&quot;, &quot;dashArray&quot;: null, &quot;dashOffset&quot;: null, &quot;fill&quot;: true, &quot;fillColor&quot;: &quot;green&quot;, &quot;fillOpacity&quot;: 0.2, &quot;fillRule&quot;: &quot;evenodd&quot;, &quot;lineCap&quot;: &quot;round&quot;, &quot;lineJoin&quot;: &quot;round&quot;, &quot;opacity&quot;: 1.0, &quot;radius&quot;: 5, &quot;stroke&quot;: true, &quot;weight&quot;: 3}\n",
       "            ).addTo(map_7d6c8a7f4c460d1d3ee38c8d53f43bf9);\n",
       "        \n",
       "    \n",
       "            var circle_marker_d0aa6713eae220d65601112345751863 = L.circleMarker(\n",
       "                [33.83062, -117.93845],\n",
       "                {&quot;bubblingMouseEvents&quot;: true, &quot;color&quot;: &quot;green&quot;, &quot;dashArray&quot;: null, &quot;dashOffset&quot;: null, &quot;fill&quot;: true, &quot;fillColor&quot;: &quot;green&quot;, &quot;fillOpacity&quot;: 0.2, &quot;fillRule&quot;: &quot;evenodd&quot;, &quot;lineCap&quot;: &quot;round&quot;, &quot;lineJoin&quot;: &quot;round&quot;, &quot;opacity&quot;: 1.0, &quot;radius&quot;: 5, &quot;stroke&quot;: true, &quot;weight&quot;: 3}\n",
       "            ).addTo(map_7d6c8a7f4c460d1d3ee38c8d53f43bf9);\n",
       "        \n",
       "    \n",
       "            var circle_marker_4ce35b60f5766963e4f14aa4cd5a37ea = L.circleMarker(\n",
       "                [33.85275, -116.54101],\n",
       "                {&quot;bubblingMouseEvents&quot;: true, &quot;color&quot;: &quot;green&quot;, &quot;dashArray&quot;: null, &quot;dashOffset&quot;: null, &quot;fill&quot;: true, &quot;fillColor&quot;: &quot;green&quot;, &quot;fillOpacity&quot;: 0.2, &quot;fillRule&quot;: &quot;evenodd&quot;, &quot;lineCap&quot;: &quot;round&quot;, &quot;lineJoin&quot;: &quot;round&quot;, &quot;opacity&quot;: 1.0, &quot;radius&quot;: 5, &quot;stroke&quot;: true, &quot;weight&quot;: 3}\n",
       "            ).addTo(map_7d6c8a7f4c460d1d3ee38c8d53f43bf9);\n",
       "        \n",
       "    \n",
       "            var circle_marker_116923089b4c33457c73e596c41ae92b = L.circleMarker(\n",
       "                [33.901389, -118.205],\n",
       "                {&quot;bubblingMouseEvents&quot;: true, &quot;color&quot;: &quot;orange&quot;, &quot;dashArray&quot;: null, &quot;dashOffset&quot;: null, &quot;fill&quot;: true, &quot;fillColor&quot;: &quot;orange&quot;, &quot;fillOpacity&quot;: 0.2, &quot;fillRule&quot;: &quot;evenodd&quot;, &quot;lineCap&quot;: &quot;round&quot;, &quot;lineJoin&quot;: &quot;round&quot;, &quot;opacity&quot;: 1.0, &quot;radius&quot;: 5, &quot;stroke&quot;: true, &quot;weight&quot;: 3}\n",
       "            ).addTo(map_7d6c8a7f4c460d1d3ee38c8d53f43bf9);\n",
       "        \n",
       "    \n",
       "            var circle_marker_f7884aa4ea39b35634b804a82a7b0bcb = L.circleMarker(\n",
       "                [33.94603, -117.40063],\n",
       "                {&quot;bubblingMouseEvents&quot;: true, &quot;color&quot;: &quot;green&quot;, &quot;dashArray&quot;: null, &quot;dashOffset&quot;: null, &quot;fill&quot;: true, &quot;fillColor&quot;: &quot;green&quot;, &quot;fillOpacity&quot;: 0.2, &quot;fillRule&quot;: &quot;evenodd&quot;, &quot;lineCap&quot;: &quot;round&quot;, &quot;lineJoin&quot;: &quot;round&quot;, &quot;opacity&quot;: 1.0, &quot;radius&quot;: 5, &quot;stroke&quot;: true, &quot;weight&quot;: 3}\n",
       "            ).addTo(map_7d6c8a7f4c460d1d3ee38c8d53f43bf9);\n",
       "        \n",
       "    \n",
       "            var circle_marker_1c9db5b446db6b4180809c7019ebe4e8 = L.circleMarker(\n",
       "                [33.99636, -117.4924],\n",
       "                {&quot;bubblingMouseEvents&quot;: true, &quot;color&quot;: &quot;orange&quot;, &quot;dashArray&quot;: null, &quot;dashOffset&quot;: null, &quot;fill&quot;: true, &quot;fillColor&quot;: &quot;orange&quot;, &quot;fillOpacity&quot;: 0.2, &quot;fillRule&quot;: &quot;evenodd&quot;, &quot;lineCap&quot;: &quot;round&quot;, &quot;lineJoin&quot;: &quot;round&quot;, &quot;opacity&quot;: 1.0, &quot;radius&quot;: 5, &quot;stroke&quot;: true, &quot;weight&quot;: 3}\n",
       "            ).addTo(map_7d6c8a7f4c460d1d3ee38c8d53f43bf9);\n",
       "        \n",
       "    \n",
       "            var circle_marker_7f6dd18be98041beff060024f6994d9a = L.circleMarker(\n",
       "                [33.99958, -117.41601],\n",
       "                {&quot;bubblingMouseEvents&quot;: true, &quot;color&quot;: &quot;orange&quot;, &quot;dashArray&quot;: null, &quot;dashOffset&quot;: null, &quot;fill&quot;: true, &quot;fillColor&quot;: &quot;orange&quot;, &quot;fillOpacity&quot;: 0.2, &quot;fillRule&quot;: &quot;evenodd&quot;, &quot;lineCap&quot;: &quot;round&quot;, &quot;lineJoin&quot;: &quot;round&quot;, &quot;opacity&quot;: 1.0, &quot;radius&quot;: 5, &quot;stroke&quot;: true, &quot;weight&quot;: 3}\n",
       "            ).addTo(map_7d6c8a7f4c460d1d3ee38c8d53f43bf9);\n",
       "        \n",
       "    \n",
       "            var circle_marker_3a4f5d3559fd2c676e42c37aaf5e8013 = L.circleMarker(\n",
       "                [34.01029, -118.0685],\n",
       "                {&quot;bubblingMouseEvents&quot;: true, &quot;color&quot;: &quot;green&quot;, &quot;dashArray&quot;: null, &quot;dashOffset&quot;: null, &quot;fill&quot;: true, &quot;fillColor&quot;: &quot;green&quot;, &quot;fillOpacity&quot;: 0.2, &quot;fillRule&quot;: &quot;evenodd&quot;, &quot;lineCap&quot;: &quot;round&quot;, &quot;lineJoin&quot;: &quot;round&quot;, &quot;opacity&quot;: 1.0, &quot;radius&quot;: 5, &quot;stroke&quot;: true, &quot;weight&quot;: 3}\n",
       "            ).addTo(map_7d6c8a7f4c460d1d3ee38c8d53f43bf9);\n",
       "        \n",
       "    \n",
       "            var circle_marker_b17e5bf597b830a0e6d4d4d3398422ac = L.circleMarker(\n",
       "                [34.037234, -117.690889],\n",
       "                {&quot;bubblingMouseEvents&quot;: true, &quot;color&quot;: &quot;green&quot;, &quot;dashArray&quot;: null, &quot;dashOffset&quot;: null, &quot;fill&quot;: true, &quot;fillColor&quot;: &quot;green&quot;, &quot;fillOpacity&quot;: 0.2, &quot;fillRule&quot;: &quot;evenodd&quot;, &quot;lineCap&quot;: &quot;round&quot;, &quot;lineJoin&quot;: &quot;round&quot;, &quot;opacity&quot;: 1.0, &quot;radius&quot;: 5, &quot;stroke&quot;: true, &quot;weight&quot;: 3}\n",
       "            ).addTo(map_7d6c8a7f4c460d1d3ee38c8d53f43bf9);\n",
       "        \n",
       "    \n",
       "            var circle_marker_390f7cfb11b9854f67756a42c6e27cd5 = L.circleMarker(\n",
       "                [34.06659, -118.22688],\n",
       "                {&quot;bubblingMouseEvents&quot;: true, &quot;color&quot;: &quot;orange&quot;, &quot;dashArray&quot;: null, &quot;dashOffset&quot;: null, &quot;fill&quot;: true, &quot;fillColor&quot;: &quot;orange&quot;, &quot;fillOpacity&quot;: 0.2, &quot;fillRule&quot;: &quot;evenodd&quot;, &quot;lineCap&quot;: &quot;round&quot;, &quot;lineJoin&quot;: &quot;round&quot;, &quot;opacity&quot;: 1.0, &quot;radius&quot;: 5, &quot;stroke&quot;: true, &quot;weight&quot;: 3}\n",
       "            ).addTo(map_7d6c8a7f4c460d1d3ee38c8d53f43bf9);\n",
       "        \n",
       "    \n",
       "            var circle_marker_b7dc2533d7af45f88fd91280e0fa51a5 = L.circleMarker(\n",
       "                [34.10002, -117.49201],\n",
       "                {&quot;bubblingMouseEvents&quot;: true, &quot;color&quot;: &quot;green&quot;, &quot;dashArray&quot;: null, &quot;dashOffset&quot;: null, &quot;fill&quot;: true, &quot;fillColor&quot;: &quot;green&quot;, &quot;fillOpacity&quot;: 0.2, &quot;fillRule&quot;: &quot;evenodd&quot;, &quot;lineCap&quot;: &quot;round&quot;, &quot;lineJoin&quot;: &quot;round&quot;, &quot;opacity&quot;: 1.0, &quot;radius&quot;: 5, &quot;stroke&quot;: true, &quot;weight&quot;: 3}\n",
       "            ).addTo(map_7d6c8a7f4c460d1d3ee38c8d53f43bf9);\n",
       "        \n",
       "    \n",
       "            var circle_marker_2fd8392fd4dbff79d11658262b9de032 = L.circleMarker(\n",
       "                [34.106678, -117.274063],\n",
       "                {&quot;bubblingMouseEvents&quot;: true, &quot;color&quot;: &quot;green&quot;, &quot;dashArray&quot;: null, &quot;dashOffset&quot;: null, &quot;fill&quot;: true, &quot;fillColor&quot;: &quot;green&quot;, &quot;fillOpacity&quot;: 0.2, &quot;fillRule&quot;: &quot;evenodd&quot;, &quot;lineCap&quot;: &quot;round&quot;, &quot;lineJoin&quot;: &quot;round&quot;, &quot;opacity&quot;: 1.0, &quot;radius&quot;: 5, &quot;stroke&quot;: true, &quot;weight&quot;: 3}\n",
       "            ).addTo(map_7d6c8a7f4c460d1d3ee38c8d53f43bf9);\n",
       "        \n",
       "    \n",
       "            var circle_marker_aff7535059dab8800f0fa4dc5fc73731 = L.circleMarker(\n",
       "                [34.1326, -118.1272],\n",
       "                {&quot;bubblingMouseEvents&quot;: true, &quot;color&quot;: &quot;green&quot;, &quot;dashArray&quot;: null, &quot;dashOffset&quot;: null, &quot;fill&quot;: true, &quot;fillColor&quot;: &quot;green&quot;, &quot;fillOpacity&quot;: 0.2, &quot;fillRule&quot;: &quot;evenodd&quot;, &quot;lineCap&quot;: &quot;round&quot;, &quot;lineJoin&quot;: &quot;round&quot;, &quot;opacity&quot;: 1.0, &quot;radius&quot;: 5, &quot;stroke&quot;: true, &quot;weight&quot;: 3}\n",
       "            ).addTo(map_7d6c8a7f4c460d1d3ee38c8d53f43bf9);\n",
       "        \n",
       "    \n",
       "            var circle_marker_6b3b372e97cc5aeed5209d3162da3cda = L.circleMarker(\n",
       "                [34.1365, -117.92391],\n",
       "                {&quot;bubblingMouseEvents&quot;: true, &quot;color&quot;: &quot;green&quot;, &quot;dashArray&quot;: null, &quot;dashOffset&quot;: null, &quot;fill&quot;: true, &quot;fillColor&quot;: &quot;green&quot;, &quot;fillOpacity&quot;: 0.2, &quot;fillRule&quot;: &quot;evenodd&quot;, &quot;lineCap&quot;: &quot;round&quot;, &quot;lineJoin&quot;: &quot;round&quot;, &quot;opacity&quot;: 1.0, &quot;radius&quot;: 5, &quot;stroke&quot;: true, &quot;weight&quot;: 3}\n",
       "            ).addTo(map_7d6c8a7f4c460d1d3ee38c8d53f43bf9);\n",
       "        \n",
       "    \n",
       "            var circle_marker_4be89719fa5ee80d538b19866cfcce0c = L.circleMarker(\n",
       "                [34.17605, -118.31712],\n",
       "                {&quot;bubblingMouseEvents&quot;: true, &quot;color&quot;: &quot;orange&quot;, &quot;dashArray&quot;: null, &quot;dashOffset&quot;: null, &quot;fill&quot;: true, &quot;fillColor&quot;: &quot;orange&quot;, &quot;fillOpacity&quot;: 0.2, &quot;fillRule&quot;: &quot;evenodd&quot;, &quot;lineCap&quot;: &quot;round&quot;, &quot;lineJoin&quot;: &quot;round&quot;, &quot;opacity&quot;: 1.0, &quot;radius&quot;: 5, &quot;stroke&quot;: true, &quot;weight&quot;: 3}\n",
       "            ).addTo(map_7d6c8a7f4c460d1d3ee38c8d53f43bf9);\n",
       "        \n",
       "    \n",
       "            var circle_marker_3a0caebcf5edb0d0872a586048d3bbbd = L.circleMarker(\n",
       "                [34.19925, -118.53276],\n",
       "                {&quot;bubblingMouseEvents&quot;: true, &quot;color&quot;: &quot;green&quot;, &quot;dashArray&quot;: null, &quot;dashOffset&quot;: null, &quot;fill&quot;: true, &quot;fillColor&quot;: &quot;green&quot;, &quot;fillOpacity&quot;: 0.2, &quot;fillRule&quot;: &quot;evenodd&quot;, &quot;lineCap&quot;: &quot;round&quot;, &quot;lineJoin&quot;: &quot;round&quot;, &quot;opacity&quot;: 1.0, &quot;radius&quot;: 5, &quot;stroke&quot;: true, &quot;weight&quot;: 3}\n",
       "            ).addTo(map_7d6c8a7f4c460d1d3ee38c8d53f43bf9);\n",
       "        \n",
       "    \n",
       "            var circle_marker_19581a6cd8077e5812a280a9dc412138 = L.circleMarker(\n",
       "                [34.210169, -118.870509],\n",
       "                {&quot;bubblingMouseEvents&quot;: true, &quot;color&quot;: &quot;green&quot;, &quot;dashArray&quot;: null, &quot;dashOffset&quot;: null, &quot;fill&quot;: true, &quot;fillColor&quot;: &quot;green&quot;, &quot;fillOpacity&quot;: 0.2, &quot;fillRule&quot;: &quot;evenodd&quot;, &quot;lineCap&quot;: &quot;round&quot;, &quot;lineJoin&quot;: &quot;round&quot;, &quot;opacity&quot;: 1.0, &quot;radius&quot;: 5, &quot;stroke&quot;: true, &quot;weight&quot;: 3}\n",
       "            ).addTo(map_7d6c8a7f4c460d1d3ee38c8d53f43bf9);\n",
       "        \n",
       "    \n",
       "            var circle_marker_9b043824e76aa38bd388cc2735e485ad = L.circleMarker(\n",
       "                [34.25239, -119.143182],\n",
       "                {&quot;bubblingMouseEvents&quot;: true, &quot;color&quot;: &quot;green&quot;, &quot;dashArray&quot;: null, &quot;dashOffset&quot;: null, &quot;fill&quot;: true, &quot;fillColor&quot;: &quot;green&quot;, &quot;fillOpacity&quot;: 0.2, &quot;fillRule&quot;: &quot;evenodd&quot;, &quot;lineCap&quot;: &quot;round&quot;, &quot;lineJoin&quot;: &quot;round&quot;, &quot;opacity&quot;: 1.0, &quot;radius&quot;: 5, &quot;stroke&quot;: true, &quot;weight&quot;: 3}\n",
       "            ).addTo(map_7d6c8a7f4c460d1d3ee38c8d53f43bf9);\n",
       "        \n",
       "    \n",
       "            var circle_marker_998797b6a442c94e501c6c98f0286ed1 = L.circleMarker(\n",
       "                [34.26464, -116.86147],\n",
       "                {&quot;bubblingMouseEvents&quot;: true, &quot;color&quot;: &quot;green&quot;, &quot;dashArray&quot;: null, &quot;dashOffset&quot;: null, &quot;fill&quot;: true, &quot;fillColor&quot;: &quot;green&quot;, &quot;fillOpacity&quot;: 0.2, &quot;fillRule&quot;: &quot;evenodd&quot;, &quot;lineCap&quot;: &quot;round&quot;, &quot;lineJoin&quot;: &quot;round&quot;, &quot;opacity&quot;: 1.0, &quot;radius&quot;: 5, &quot;stroke&quot;: true, &quot;weight&quot;: 3}\n",
       "            ).addTo(map_7d6c8a7f4c460d1d3ee38c8d53f43bf9);\n",
       "        \n",
       "    \n",
       "            var circle_marker_1235eb6e9e8274821cd0bfadce8fa72e = L.circleMarker(\n",
       "                [34.276316, -118.683685],\n",
       "                {&quot;bubblingMouseEvents&quot;: true, &quot;color&quot;: &quot;green&quot;, &quot;dashArray&quot;: null, &quot;dashOffset&quot;: null, &quot;fill&quot;: true, &quot;fillColor&quot;: &quot;green&quot;, &quot;fillOpacity&quot;: 0.2, &quot;fillRule&quot;: &quot;evenodd&quot;, &quot;lineCap&quot;: &quot;round&quot;, &quot;lineJoin&quot;: &quot;round&quot;, &quot;opacity&quot;: 1.0, &quot;radius&quot;: 5, &quot;stroke&quot;: true, &quot;weight&quot;: 3}\n",
       "            ).addTo(map_7d6c8a7f4c460d1d3ee38c8d53f43bf9);\n",
       "        \n",
       "    \n",
       "            var circle_marker_7c2709d854062cc89a533e87fc221214 = L.circleMarker(\n",
       "                [34.404281, -118.80998],\n",
       "                {&quot;bubblingMouseEvents&quot;: true, &quot;color&quot;: &quot;green&quot;, &quot;dashArray&quot;: null, &quot;dashOffset&quot;: null, &quot;fill&quot;: true, &quot;fillColor&quot;: &quot;green&quot;, &quot;fillOpacity&quot;: 0.2, &quot;fillRule&quot;: &quot;evenodd&quot;, &quot;lineCap&quot;: &quot;round&quot;, &quot;lineJoin&quot;: &quot;round&quot;, &quot;opacity&quot;: 1.0, &quot;radius&quot;: 5, &quot;stroke&quot;: true, &quot;weight&quot;: 3}\n",
       "            ).addTo(map_7d6c8a7f4c460d1d3ee38c8d53f43bf9);\n",
       "        \n",
       "    \n",
       "            var circle_marker_82087dbe0bd1937a2622aa201c310573 = L.circleMarker(\n",
       "                [34.427775, -119.691218],\n",
       "                {&quot;bubblingMouseEvents&quot;: true, &quot;color&quot;: &quot;green&quot;, &quot;dashArray&quot;: null, &quot;dashOffset&quot;: null, &quot;fill&quot;: true, &quot;fillColor&quot;: &quot;green&quot;, &quot;fillOpacity&quot;: 0.2, &quot;fillRule&quot;: &quot;evenodd&quot;, &quot;lineCap&quot;: &quot;round&quot;, &quot;lineJoin&quot;: &quot;round&quot;, &quot;opacity&quot;: 1.0, &quot;radius&quot;: 5, &quot;stroke&quot;: true, &quot;weight&quot;: 3}\n",
       "            ).addTo(map_7d6c8a7f4c460d1d3ee38c8d53f43bf9);\n",
       "        \n",
       "    \n",
       "            var circle_marker_ea9f25f7b50c2496608065b75f114f1c = L.circleMarker(\n",
       "                [34.510961, -117.32554],\n",
       "                {&quot;bubblingMouseEvents&quot;: true, &quot;color&quot;: &quot;green&quot;, &quot;dashArray&quot;: null, &quot;dashOffset&quot;: null, &quot;fill&quot;: true, &quot;fillColor&quot;: &quot;green&quot;, &quot;fillOpacity&quot;: 0.2, &quot;fillRule&quot;: &quot;evenodd&quot;, &quot;lineCap&quot;: &quot;round&quot;, &quot;lineJoin&quot;: &quot;round&quot;, &quot;opacity&quot;: 1.0, &quot;radius&quot;: 5, &quot;stroke&quot;: true, &quot;weight&quot;: 3}\n",
       "            ).addTo(map_7d6c8a7f4c460d1d3ee38c8d53f43bf9);\n",
       "        \n",
       "    \n",
       "            var circle_marker_11f542f9b5cc733917288fee68b36550 = L.circleMarker(\n",
       "                [34.669739, -118.130511],\n",
       "                {&quot;bubblingMouseEvents&quot;: true, &quot;color&quot;: &quot;green&quot;, &quot;dashArray&quot;: null, &quot;dashOffset&quot;: null, &quot;fill&quot;: true, &quot;fillColor&quot;: &quot;green&quot;, &quot;fillOpacity&quot;: 0.2, &quot;fillRule&quot;: &quot;evenodd&quot;, &quot;lineCap&quot;: &quot;round&quot;, &quot;lineJoin&quot;: &quot;round&quot;, &quot;opacity&quot;: 1.0, &quot;radius&quot;: 5, &quot;stroke&quot;: true, &quot;weight&quot;: 3}\n",
       "            ).addTo(map_7d6c8a7f4c460d1d3ee38c8d53f43bf9);\n",
       "        \n",
       "    \n",
       "            var circle_marker_04884e1c4ba5a9074b5f529400471fa8 = L.circleMarker(\n",
       "                [34.942872, -120.435611],\n",
       "                {&quot;bubblingMouseEvents&quot;: true, &quot;color&quot;: &quot;green&quot;, &quot;dashArray&quot;: null, &quot;dashOffset&quot;: null, &quot;fill&quot;: true, &quot;fillColor&quot;: &quot;green&quot;, &quot;fillOpacity&quot;: 0.2, &quot;fillRule&quot;: &quot;evenodd&quot;, &quot;lineCap&quot;: &quot;round&quot;, &quot;lineJoin&quot;: &quot;round&quot;, &quot;opacity&quot;: 1.0, &quot;radius&quot;: 5, &quot;stroke&quot;: true, &quot;weight&quot;: 3}\n",
       "            ).addTo(map_7d6c8a7f4c460d1d3ee38c8d53f43bf9);\n",
       "        \n",
       "    \n",
       "            var circle_marker_6f8f544c2eda5aca14e74cf014110fd7 = L.circleMarker(\n",
       "                [35.02083, -120.56388],\n",
       "                {&quot;bubblingMouseEvents&quot;: true, &quot;color&quot;: &quot;green&quot;, &quot;dashArray&quot;: null, &quot;dashOffset&quot;: null, &quot;fill&quot;: true, &quot;fillColor&quot;: &quot;green&quot;, &quot;fillOpacity&quot;: 0.2, &quot;fillRule&quot;: &quot;evenodd&quot;, &quot;lineCap&quot;: &quot;round&quot;, &quot;lineJoin&quot;: &quot;round&quot;, &quot;opacity&quot;: 1.0, &quot;radius&quot;: 5, &quot;stroke&quot;: true, &quot;weight&quot;: 3}\n",
       "            ).addTo(map_7d6c8a7f4c460d1d3ee38c8d53f43bf9);\n",
       "        \n",
       "    \n",
       "            var circle_marker_fc69bf39321cec1dd503979e3ba2f320 = L.circleMarker(\n",
       "                [35.04673, -120.58777],\n",
       "                {&quot;bubblingMouseEvents&quot;: true, &quot;color&quot;: &quot;green&quot;, &quot;dashArray&quot;: null, &quot;dashOffset&quot;: null, &quot;fill&quot;: true, &quot;fillColor&quot;: &quot;green&quot;, &quot;fillOpacity&quot;: 0.2, &quot;fillRule&quot;: &quot;evenodd&quot;, &quot;lineCap&quot;: &quot;round&quot;, &quot;lineJoin&quot;: &quot;round&quot;, &quot;opacity&quot;: 1.0, &quot;radius&quot;: 5, &quot;stroke&quot;: true, &quot;weight&quot;: 3}\n",
       "            ).addTo(map_7d6c8a7f4c460d1d3ee38c8d53f43bf9);\n",
       "        \n",
       "    \n",
       "            var circle_marker_ea0b28ac1308e63557641ffef510d748 = L.circleMarker(\n",
       "                [35.050551, -118.147294],\n",
       "                {&quot;bubblingMouseEvents&quot;: true, &quot;color&quot;: &quot;green&quot;, &quot;dashArray&quot;: null, &quot;dashOffset&quot;: null, &quot;fill&quot;: true, &quot;fillColor&quot;: &quot;green&quot;, &quot;fillOpacity&quot;: 0.2, &quot;fillRule&quot;: &quot;evenodd&quot;, &quot;lineCap&quot;: &quot;round&quot;, &quot;lineJoin&quot;: &quot;round&quot;, &quot;opacity&quot;: 1.0, &quot;radius&quot;: 5, &quot;stroke&quot;: true, &quot;weight&quot;: 3}\n",
       "            ).addTo(map_7d6c8a7f4c460d1d3ee38c8d53f43bf9);\n",
       "        \n",
       "    \n",
       "            var circle_marker_803da733eae055f79e68eb4345ee893c = L.circleMarker(\n",
       "                [35.25651, -120.6693],\n",
       "                {&quot;bubblingMouseEvents&quot;: true, &quot;color&quot;: &quot;green&quot;, &quot;dashArray&quot;: null, &quot;dashOffset&quot;: null, &quot;fill&quot;: true, &quot;fillColor&quot;: &quot;green&quot;, &quot;fillOpacity&quot;: 0.2, &quot;fillRule&quot;: &quot;evenodd&quot;, &quot;lineCap&quot;: &quot;round&quot;, &quot;lineJoin&quot;: &quot;round&quot;, &quot;opacity&quot;: 1.0, &quot;radius&quot;: 5, &quot;stroke&quot;: true, &quot;weight&quot;: 3}\n",
       "            ).addTo(map_7d6c8a7f4c460d1d3ee38c8d53f43bf9);\n",
       "        \n",
       "    \n",
       "            var circle_marker_e8031aa29906b19584459c3c3a6f93fa = L.circleMarker(\n",
       "                [35.324636, -118.997627],\n",
       "                {&quot;bubblingMouseEvents&quot;: true, &quot;color&quot;: &quot;orange&quot;, &quot;dashArray&quot;: null, &quot;dashOffset&quot;: null, &quot;fill&quot;: true, &quot;fillColor&quot;: &quot;orange&quot;, &quot;fillOpacity&quot;: 0.2, &quot;fillRule&quot;: &quot;evenodd&quot;, &quot;lineCap&quot;: &quot;round&quot;, &quot;lineJoin&quot;: &quot;round&quot;, &quot;opacity&quot;: 1.0, &quot;radius&quot;: 5, &quot;stroke&quot;: true, &quot;weight&quot;: 3}\n",
       "            ).addTo(map_7d6c8a7f4c460d1d3ee38c8d53f43bf9);\n",
       "        \n",
       "    \n",
       "            var circle_marker_a1ed549580e589f352bbfc48c2b19b86 = L.circleMarker(\n",
       "                [35.356615, -119.062613],\n",
       "                {&quot;bubblingMouseEvents&quot;: true, &quot;color&quot;: &quot;orange&quot;, &quot;dashArray&quot;: null, &quot;dashOffset&quot;: null, &quot;fill&quot;: true, &quot;fillColor&quot;: &quot;orange&quot;, &quot;fillOpacity&quot;: 0.2, &quot;fillRule&quot;: &quot;evenodd&quot;, &quot;lineCap&quot;: &quot;round&quot;, &quot;lineJoin&quot;: &quot;round&quot;, &quot;opacity&quot;: 1.0, &quot;radius&quot;: 5, &quot;stroke&quot;: true, &quot;weight&quot;: 3}\n",
       "            ).addTo(map_7d6c8a7f4c460d1d3ee38c8d53f43bf9);\n",
       "        \n",
       "    \n",
       "            var circle_marker_d83f1b656d4099c13ef5f9ec14ac240a = L.circleMarker(\n",
       "                [35.49158, -120.66804],\n",
       "                {&quot;bubblingMouseEvents&quot;: true, &quot;color&quot;: &quot;green&quot;, &quot;dashArray&quot;: null, &quot;dashOffset&quot;: null, &quot;fill&quot;: true, &quot;fillColor&quot;: &quot;green&quot;, &quot;fillOpacity&quot;: 0.2, &quot;fillRule&quot;: &quot;evenodd&quot;, &quot;lineCap&quot;: &quot;round&quot;, &quot;lineJoin&quot;: &quot;round&quot;, &quot;opacity&quot;: 1.0, &quot;radius&quot;: 5, &quot;stroke&quot;: true, &quot;weight&quot;: 3}\n",
       "            ).addTo(map_7d6c8a7f4c460d1d3ee38c8d53f43bf9);\n",
       "        \n",
       "    \n",
       "            var circle_marker_11c12d4988fe3d5b83b44c768f547f85 = L.circleMarker(\n",
       "                [35.62109, -117.67296],\n",
       "                {&quot;bubblingMouseEvents&quot;: true, &quot;color&quot;: &quot;green&quot;, &quot;dashArray&quot;: null, &quot;dashOffset&quot;: null, &quot;fill&quot;: true, &quot;fillColor&quot;: &quot;green&quot;, &quot;fillOpacity&quot;: 0.2, &quot;fillRule&quot;: &quot;evenodd&quot;, &quot;lineCap&quot;: &quot;round&quot;, &quot;lineJoin&quot;: &quot;round&quot;, &quot;opacity&quot;: 1.0, &quot;radius&quot;: 5, &quot;stroke&quot;: true, &quot;weight&quot;: 3}\n",
       "            ).addTo(map_7d6c8a7f4c460d1d3ee38c8d53f43bf9);\n",
       "        \n",
       "    \n",
       "            var circle_marker_315ee6f73675de66d378e15a21995d10 = L.circleMarker(\n",
       "                [36.102244, -119.56565],\n",
       "                {&quot;bubblingMouseEvents&quot;: true, &quot;color&quot;: &quot;red&quot;, &quot;dashArray&quot;: null, &quot;dashOffset&quot;: null, &quot;fill&quot;: true, &quot;fillColor&quot;: &quot;red&quot;, &quot;fillOpacity&quot;: 0.2, &quot;fillRule&quot;: &quot;evenodd&quot;, &quot;lineCap&quot;: &quot;round&quot;, &quot;lineJoin&quot;: &quot;round&quot;, &quot;opacity&quot;: 1.0, &quot;radius&quot;: 5, &quot;stroke&quot;: true, &quot;weight&quot;: 3}\n",
       "            ).addTo(map_7d6c8a7f4c460d1d3ee38c8d53f43bf9);\n",
       "        \n",
       "    \n",
       "            var circle_marker_ba00c8e937dac86d81632e0601d2c2e0 = L.circleMarker(\n",
       "                [36.31567, -119.643447],\n",
       "                {&quot;bubblingMouseEvents&quot;: true, &quot;color&quot;: &quot;orange&quot;, &quot;dashArray&quot;: null, &quot;dashOffset&quot;: null, &quot;fill&quot;: true, &quot;fillColor&quot;: &quot;orange&quot;, &quot;fillOpacity&quot;: 0.2, &quot;fillRule&quot;: &quot;evenodd&quot;, &quot;lineCap&quot;: &quot;round&quot;, &quot;lineJoin&quot;: &quot;round&quot;, &quot;opacity&quot;: 1.0, &quot;radius&quot;: 5, &quot;stroke&quot;: true, &quot;weight&quot;: 3}\n",
       "            ).addTo(map_7d6c8a7f4c460d1d3ee38c8d53f43bf9);\n",
       "        \n",
       "    \n",
       "            var circle_marker_8fcd110d554f9c6b4140a248c1f59e53 = L.circleMarker(\n",
       "                [36.332179, -119.291228],\n",
       "                {&quot;bubblingMouseEvents&quot;: true, &quot;color&quot;: &quot;orange&quot;, &quot;dashArray&quot;: null, &quot;dashOffset&quot;: null, &quot;fill&quot;: true, &quot;fillColor&quot;: &quot;orange&quot;, &quot;fillOpacity&quot;: 0.2, &quot;fillRule&quot;: &quot;evenodd&quot;, &quot;lineCap&quot;: &quot;round&quot;, &quot;lineJoin&quot;: &quot;round&quot;, &quot;opacity&quot;: 1.0, &quot;radius&quot;: 5, &quot;stroke&quot;: true, &quot;weight&quot;: 3}\n",
       "            ).addTo(map_7d6c8a7f4c460d1d3ee38c8d53f43bf9);\n",
       "        \n",
       "    \n",
       "            var circle_marker_5969f7da6dd7e5dd04a269a052b5f629 = L.circleMarker(\n",
       "                [36.487823, -117.871036],\n",
       "                {&quot;bubblingMouseEvents&quot;: true, &quot;color&quot;: &quot;green&quot;, &quot;dashArray&quot;: null, &quot;dashOffset&quot;: null, &quot;fill&quot;: true, &quot;fillColor&quot;: &quot;green&quot;, &quot;fillOpacity&quot;: 0.2, &quot;fillRule&quot;: &quot;evenodd&quot;, &quot;lineCap&quot;: &quot;round&quot;, &quot;lineJoin&quot;: &quot;round&quot;, &quot;opacity&quot;: 1.0, &quot;radius&quot;: 5, &quot;stroke&quot;: true, &quot;weight&quot;: 3}\n",
       "            ).addTo(map_7d6c8a7f4c460d1d3ee38c8d53f43bf9);\n",
       "        \n",
       "    \n",
       "            var circle_marker_c9d60ef556605ae6351783a5d6b96f66 = L.circleMarker(\n",
       "                [36.634225, -120.382331],\n",
       "                {&quot;bubblingMouseEvents&quot;: true, &quot;color&quot;: &quot;green&quot;, &quot;dashArray&quot;: null, &quot;dashOffset&quot;: null, &quot;fill&quot;: true, &quot;fillColor&quot;: &quot;green&quot;, &quot;fillOpacity&quot;: 0.2, &quot;fillRule&quot;: &quot;evenodd&quot;, &quot;lineCap&quot;: &quot;round&quot;, &quot;lineJoin&quot;: &quot;round&quot;, &quot;opacity&quot;: 1.0, &quot;radius&quot;: 5, &quot;stroke&quot;: true, &quot;weight&quot;: 3}\n",
       "            ).addTo(map_7d6c8a7f4c460d1d3ee38c8d53f43bf9);\n",
       "        \n",
       "    \n",
       "            var circle_marker_28f33f36d6938184f6532f71125e66d5 = L.circleMarker(\n",
       "                [36.694261, -121.623271],\n",
       "                {&quot;bubblingMouseEvents&quot;: true, &quot;color&quot;: &quot;green&quot;, &quot;dashArray&quot;: null, &quot;dashOffset&quot;: null, &quot;fill&quot;: true, &quot;fillColor&quot;: &quot;green&quot;, &quot;fillOpacity&quot;: 0.2, &quot;fillRule&quot;: &quot;evenodd&quot;, &quot;lineCap&quot;: &quot;round&quot;, &quot;lineJoin&quot;: &quot;round&quot;, &quot;opacity&quot;: 1.0, &quot;radius&quot;: 5, &quot;stroke&quot;: true, &quot;weight&quot;: 3}\n",
       "            ).addTo(map_7d6c8a7f4c460d1d3ee38c8d53f43bf9);\n",
       "        \n",
       "    \n",
       "            var circle_marker_e932dc44daeffc929c84a43b23aeae0e = L.circleMarker(\n",
       "                [36.72639, -119.733],\n",
       "                {&quot;bubblingMouseEvents&quot;: true, &quot;color&quot;: &quot;orange&quot;, &quot;dashArray&quot;: null, &quot;dashOffset&quot;: null, &quot;fill&quot;: true, &quot;fillColor&quot;: &quot;orange&quot;, &quot;fillOpacity&quot;: 0.2, &quot;fillRule&quot;: &quot;evenodd&quot;, &quot;lineCap&quot;: &quot;round&quot;, &quot;lineJoin&quot;: &quot;round&quot;, &quot;opacity&quot;: 1.0, &quot;radius&quot;: 5, &quot;stroke&quot;: true, &quot;weight&quot;: 3}\n",
       "            ).addTo(map_7d6c8a7f4c460d1d3ee38c8d53f43bf9);\n",
       "        \n",
       "    \n",
       "            var circle_marker_8984a0a65ab06fae21cb343b24931e0a = L.circleMarker(\n",
       "                [36.781333, -119.77319],\n",
       "                {&quot;bubblingMouseEvents&quot;: true, &quot;color&quot;: &quot;orange&quot;, &quot;dashArray&quot;: null, &quot;dashOffset&quot;: null, &quot;fill&quot;: true, &quot;fillColor&quot;: &quot;orange&quot;, &quot;fillOpacity&quot;: 0.2, &quot;fillRule&quot;: &quot;evenodd&quot;, &quot;lineCap&quot;: &quot;round&quot;, &quot;lineJoin&quot;: &quot;round&quot;, &quot;opacity&quot;: 1.0, &quot;radius&quot;: 5, &quot;stroke&quot;: true, &quot;weight&quot;: 3}\n",
       "            ).addTo(map_7d6c8a7f4c460d1d3ee38c8d53f43bf9);\n",
       "        \n",
       "    \n",
       "            var circle_marker_c293915de7d64f6c9873b7e1feb65887 = L.circleMarker(\n",
       "                [36.819449, -119.716433],\n",
       "                {&quot;bubblingMouseEvents&quot;: true, &quot;color&quot;: &quot;orange&quot;, &quot;dashArray&quot;: null, &quot;dashOffset&quot;: null, &quot;fill&quot;: true, &quot;fillColor&quot;: &quot;orange&quot;, &quot;fillOpacity&quot;: 0.2, &quot;fillRule&quot;: &quot;evenodd&quot;, &quot;lineCap&quot;: &quot;round&quot;, &quot;lineJoin&quot;: &quot;round&quot;, &quot;opacity&quot;: 1.0, &quot;radius&quot;: 5, &quot;stroke&quot;: true, &quot;weight&quot;: 3}\n",
       "            ).addTo(map_7d6c8a7f4c460d1d3ee38c8d53f43bf9);\n",
       "        \n",
       "    \n",
       "            var circle_marker_9880d1d8645a86739f42cf0d5c643e8a = L.circleMarker(\n",
       "                [36.843425, -121.3621],\n",
       "                {&quot;bubblingMouseEvents&quot;: true, &quot;color&quot;: &quot;green&quot;, &quot;dashArray&quot;: null, &quot;dashOffset&quot;: null, &quot;fill&quot;: true, &quot;fillColor&quot;: &quot;green&quot;, &quot;fillOpacity&quot;: 0.2, &quot;fillRule&quot;: &quot;evenodd&quot;, &quot;lineCap&quot;: &quot;round&quot;, &quot;lineJoin&quot;: &quot;round&quot;, &quot;opacity&quot;: 1.0, &quot;radius&quot;: 5, &quot;stroke&quot;: true, &quot;weight&quot;: 3}\n",
       "            ).addTo(map_7d6c8a7f4c460d1d3ee38c8d53f43bf9);\n",
       "        \n",
       "    \n",
       "            var circle_marker_e5892574d92d336133a34730ede432f5 = L.circleMarker(\n",
       "                [36.953256, -120.034203],\n",
       "                {&quot;bubblingMouseEvents&quot;: true, &quot;color&quot;: &quot;red&quot;, &quot;dashArray&quot;: null, &quot;dashOffset&quot;: null, &quot;fill&quot;: true, &quot;fillColor&quot;: &quot;red&quot;, &quot;fillOpacity&quot;: 0.2, &quot;fillRule&quot;: &quot;evenodd&quot;, &quot;lineCap&quot;: &quot;round&quot;, &quot;lineJoin&quot;: &quot;round&quot;, &quot;opacity&quot;: 1.0, &quot;radius&quot;: 5, &quot;stroke&quot;: true, &quot;weight&quot;: 3}\n",
       "            ).addTo(map_7d6c8a7f4c460d1d3ee38c8d53f43bf9);\n",
       "        \n",
       "    \n",
       "            var circle_marker_f27cd079ed7a802f4a61449d2d6b070c = L.circleMarker(\n",
       "                [36.98332, -121.98822],\n",
       "                {&quot;bubblingMouseEvents&quot;: true, &quot;color&quot;: &quot;green&quot;, &quot;dashArray&quot;: null, &quot;dashOffset&quot;: null, &quot;fill&quot;: true, &quot;fillColor&quot;: &quot;green&quot;, &quot;fillOpacity&quot;: 0.2, &quot;fillRule&quot;: &quot;evenodd&quot;, &quot;lineCap&quot;: &quot;round&quot;, &quot;lineJoin&quot;: &quot;round&quot;, &quot;opacity&quot;: 1.0, &quot;radius&quot;: 5, &quot;stroke&quot;: true, &quot;weight&quot;: 3}\n",
       "            ).addTo(map_7d6c8a7f4c460d1d3ee38c8d53f43bf9);\n",
       "        \n",
       "    \n",
       "            var circle_marker_bd7ef96b9b9c117c452dd515dd47a389 = L.circleMarker(\n",
       "                [36.999571, -121.574684],\n",
       "                {&quot;bubblingMouseEvents&quot;: true, &quot;color&quot;: &quot;green&quot;, &quot;dashArray&quot;: null, &quot;dashOffset&quot;: null, &quot;fill&quot;: true, &quot;fillColor&quot;: &quot;green&quot;, &quot;fillOpacity&quot;: 0.2, &quot;fillRule&quot;: &quot;evenodd&quot;, &quot;lineCap&quot;: &quot;round&quot;, &quot;lineJoin&quot;: &quot;round&quot;, &quot;opacity&quot;: 1.0, &quot;radius&quot;: 5, &quot;stroke&quot;: true, &quot;weight&quot;: 3}\n",
       "            ).addTo(map_7d6c8a7f4c460d1d3ee38c8d53f43bf9);\n",
       "        \n",
       "    \n",
       "            var circle_marker_7aefc44566a9be59a7746569b325447a = L.circleMarker(\n",
       "                [37.281853, -120.433671],\n",
       "                {&quot;bubblingMouseEvents&quot;: true, &quot;color&quot;: &quot;orange&quot;, &quot;dashArray&quot;: null, &quot;dashOffset&quot;: null, &quot;fill&quot;: true, &quot;fillColor&quot;: &quot;orange&quot;, &quot;fillOpacity&quot;: 0.2, &quot;fillRule&quot;: &quot;evenodd&quot;, &quot;lineCap&quot;: &quot;round&quot;, &quot;lineJoin&quot;: &quot;round&quot;, &quot;opacity&quot;: 1.0, &quot;radius&quot;: 5, &quot;stroke&quot;: true, &quot;weight&quot;: 3}\n",
       "            ).addTo(map_7d6c8a7f4c460d1d3ee38c8d53f43bf9);\n",
       "        \n",
       "    \n",
       "            var circle_marker_a565fbb016b967007fecd9ce985ca06d = L.circleMarker(\n",
       "                [37.30832, -120.480456],\n",
       "                {&quot;bubblingMouseEvents&quot;: true, &quot;color&quot;: &quot;orange&quot;, &quot;dashArray&quot;: null, &quot;dashOffset&quot;: null, &quot;fill&quot;: true, &quot;fillColor&quot;: &quot;orange&quot;, &quot;fillOpacity&quot;: 0.2, &quot;fillRule&quot;: &quot;evenodd&quot;, &quot;lineCap&quot;: &quot;round&quot;, &quot;lineJoin&quot;: &quot;round&quot;, &quot;opacity&quot;: 1.0, &quot;radius&quot;: 5, &quot;stroke&quot;: true, &quot;weight&quot;: 3}\n",
       "            ).addTo(map_7d6c8a7f4c460d1d3ee38c8d53f43bf9);\n",
       "        \n",
       "    \n",
       "            var circle_marker_698502d7e3769fdc4c6e371f764e9dad = L.circleMarker(\n",
       "                [37.348497, -121.894898],\n",
       "                {&quot;bubblingMouseEvents&quot;: true, &quot;color&quot;: &quot;green&quot;, &quot;dashArray&quot;: null, &quot;dashOffset&quot;: null, &quot;fill&quot;: true, &quot;fillColor&quot;: &quot;green&quot;, &quot;fillOpacity&quot;: 0.2, &quot;fillRule&quot;: &quot;evenodd&quot;, &quot;lineCap&quot;: &quot;round&quot;, &quot;lineJoin&quot;: &quot;round&quot;, &quot;opacity&quot;: 1.0, &quot;radius&quot;: 5, &quot;stroke&quot;: true, &quot;weight&quot;: 3}\n",
       "            ).addTo(map_7d6c8a7f4c460d1d3ee38c8d53f43bf9);\n",
       "        \n",
       "    \n",
       "            var circle_marker_7613ebb60004ce9df7cbc052d25a1696 = L.circleMarker(\n",
       "                [37.482934, -122.20337],\n",
       "                {&quot;bubblingMouseEvents&quot;: true, &quot;color&quot;: &quot;green&quot;, &quot;dashArray&quot;: null, &quot;dashOffset&quot;: null, &quot;fill&quot;: true, &quot;fillColor&quot;: &quot;green&quot;, &quot;fillOpacity&quot;: 0.2, &quot;fillRule&quot;: &quot;evenodd&quot;, &quot;lineCap&quot;: &quot;round&quot;, &quot;lineJoin&quot;: &quot;round&quot;, &quot;opacity&quot;: 1.0, &quot;radius&quot;: 5, &quot;stroke&quot;: true, &quot;weight&quot;: 3}\n",
       "            ).addTo(map_7d6c8a7f4c460d1d3ee38c8d53f43bf9);\n",
       "        \n",
       "    \n",
       "            var circle_marker_ea5bbfe2777b9e030e653e2f2a4a5e4c = L.circleMarker(\n",
       "                [37.488317, -120.836008],\n",
       "                {&quot;bubblingMouseEvents&quot;: true, &quot;color&quot;: &quot;orange&quot;, &quot;dashArray&quot;: null, &quot;dashOffset&quot;: null, &quot;fill&quot;: true, &quot;fillColor&quot;: &quot;orange&quot;, &quot;fillOpacity&quot;: 0.2, &quot;fillRule&quot;: &quot;evenodd&quot;, &quot;lineCap&quot;: &quot;round&quot;, &quot;lineJoin&quot;: &quot;round&quot;, &quot;opacity&quot;: 1.0, &quot;radius&quot;: 5, &quot;stroke&quot;: true, &quot;weight&quot;: 3}\n",
       "            ).addTo(map_7d6c8a7f4c460d1d3ee38c8d53f43bf9);\n",
       "        \n",
       "    \n",
       "            var circle_marker_2be198a26cbf53c822f98b08a1e52ca1 = L.circleMarker(\n",
       "                [37.535833, -121.961823],\n",
       "                {&quot;bubblingMouseEvents&quot;: true, &quot;color&quot;: &quot;green&quot;, &quot;dashArray&quot;: null, &quot;dashOffset&quot;: null, &quot;fill&quot;: true, &quot;fillColor&quot;: &quot;green&quot;, &quot;fillOpacity&quot;: 0.2, &quot;fillRule&quot;: &quot;evenodd&quot;, &quot;lineCap&quot;: &quot;round&quot;, &quot;lineJoin&quot;: &quot;round&quot;, &quot;opacity&quot;: 1.0, &quot;radius&quot;: 5, &quot;stroke&quot;: true, &quot;weight&quot;: 3}\n",
       "            ).addTo(map_7d6c8a7f4c460d1d3ee38c8d53f43bf9);\n",
       "        \n",
       "    \n",
       "            var circle_marker_9870892b5cceaff54ca09ff863a079ab = L.circleMarker(\n",
       "                [37.642165, -120.994212],\n",
       "                {&quot;bubblingMouseEvents&quot;: true, &quot;color&quot;: &quot;orange&quot;, &quot;dashArray&quot;: null, &quot;dashOffset&quot;: null, &quot;fill&quot;: true, &quot;fillColor&quot;: &quot;orange&quot;, &quot;fillOpacity&quot;: 0.2, &quot;fillRule&quot;: &quot;evenodd&quot;, &quot;lineCap&quot;: &quot;round&quot;, &quot;lineJoin&quot;: &quot;round&quot;, &quot;opacity&quot;: 1.0, &quot;radius&quot;: 5, &quot;stroke&quot;: true, &quot;weight&quot;: 3}\n",
       "            ).addTo(map_7d6c8a7f4c460d1d3ee38c8d53f43bf9);\n",
       "        \n",
       "    \n",
       "            var circle_marker_feaf718dacaa38dd31375ea5554c3a0b = L.circleMarker(\n",
       "                [37.687526, -121.784217],\n",
       "                {&quot;bubblingMouseEvents&quot;: true, &quot;color&quot;: &quot;green&quot;, &quot;dashArray&quot;: null, &quot;dashOffset&quot;: null, &quot;fill&quot;: true, &quot;fillColor&quot;: &quot;green&quot;, &quot;fillOpacity&quot;: 0.2, &quot;fillRule&quot;: &quot;evenodd&quot;, &quot;lineCap&quot;: &quot;round&quot;, &quot;lineJoin&quot;: &quot;round&quot;, &quot;opacity&quot;: 1.0, &quot;radius&quot;: 5, &quot;stroke&quot;: true, &quot;weight&quot;: 3}\n",
       "            ).addTo(map_7d6c8a7f4c460d1d3ee38c8d53f43bf9);\n",
       "        \n",
       "    \n",
       "            var circle_marker_3cd351cbddf14b8a6ff85cd2b45d401e = L.circleMarker(\n",
       "                [37.743065, -122.169935],\n",
       "                {&quot;bubblingMouseEvents&quot;: true, &quot;color&quot;: &quot;green&quot;, &quot;dashArray&quot;: null, &quot;dashOffset&quot;: null, &quot;fill&quot;: true, &quot;fillColor&quot;: &quot;green&quot;, &quot;fillOpacity&quot;: 0.2, &quot;fillRule&quot;: &quot;evenodd&quot;, &quot;lineCap&quot;: &quot;round&quot;, &quot;lineJoin&quot;: &quot;round&quot;, &quot;opacity&quot;: 1.0, &quot;radius&quot;: 5, &quot;stroke&quot;: true, &quot;weight&quot;: 3}\n",
       "            ).addTo(map_7d6c8a7f4c460d1d3ee38c8d53f43bf9);\n",
       "        \n",
       "    \n",
       "            var circle_marker_d26c5d0bd1c369387b699cb99fadd72b = L.circleMarker(\n",
       "                [37.765946, -122.399044],\n",
       "                {&quot;bubblingMouseEvents&quot;: true, &quot;color&quot;: &quot;orange&quot;, &quot;dashArray&quot;: null, &quot;dashOffset&quot;: null, &quot;fill&quot;: true, &quot;fillColor&quot;: &quot;orange&quot;, &quot;fillOpacity&quot;: 0.2, &quot;fillRule&quot;: &quot;evenodd&quot;, &quot;lineCap&quot;: &quot;round&quot;, &quot;lineJoin&quot;: &quot;round&quot;, &quot;opacity&quot;: 1.0, &quot;radius&quot;: 5, &quot;stroke&quot;: true, &quot;weight&quot;: 3}\n",
       "            ).addTo(map_7d6c8a7f4c460d1d3ee38c8d53f43bf9);\n",
       "        \n",
       "    \n",
       "            var circle_marker_c1098b90451d5258f1d9a74b54fa0a53 = L.circleMarker(\n",
       "                [37.793392, -121.247874],\n",
       "                {&quot;bubblingMouseEvents&quot;: true, &quot;color&quot;: &quot;orange&quot;, &quot;dashArray&quot;: null, &quot;dashOffset&quot;: null, &quot;fill&quot;: true, &quot;fillColor&quot;: &quot;orange&quot;, &quot;fillOpacity&quot;: 0.2, &quot;fillRule&quot;: &quot;evenodd&quot;, &quot;lineCap&quot;: &quot;round&quot;, &quot;lineJoin&quot;: &quot;round&quot;, &quot;opacity&quot;: 1.0, &quot;radius&quot;: 5, &quot;stroke&quot;: true, &quot;weight&quot;: 3}\n",
       "            ).addTo(map_7d6c8a7f4c460d1d3ee38c8d53f43bf9);\n",
       "        \n",
       "    \n",
       "            var circle_marker_0a853f49600510d70f67039f00d9ebc1 = L.circleMarker(\n",
       "                [37.936013, -122.026154],\n",
       "                {&quot;bubblingMouseEvents&quot;: true, &quot;color&quot;: &quot;green&quot;, &quot;dashArray&quot;: null, &quot;dashOffset&quot;: null, &quot;fill&quot;: true, &quot;fillColor&quot;: &quot;green&quot;, &quot;fillOpacity&quot;: 0.2, &quot;fillRule&quot;: &quot;evenodd&quot;, &quot;lineCap&quot;: &quot;round&quot;, &quot;lineJoin&quot;: &quot;round&quot;, &quot;opacity&quot;: 1.0, &quot;radius&quot;: 5, &quot;stroke&quot;: true, &quot;weight&quot;: 3}\n",
       "            ).addTo(map_7d6c8a7f4c460d1d3ee38c8d53f43bf9);\n",
       "        \n",
       "    \n",
       "            var circle_marker_1d85af7077a813cb1fd1e312ec9d1452 = L.circleMarker(\n",
       "                [37.950741, -121.268523],\n",
       "                {&quot;bubblingMouseEvents&quot;: true, &quot;color&quot;: &quot;orange&quot;, &quot;dashArray&quot;: null, &quot;dashOffset&quot;: null, &quot;fill&quot;: true, &quot;fillColor&quot;: &quot;orange&quot;, &quot;fillOpacity&quot;: 0.2, &quot;fillRule&quot;: &quot;evenodd&quot;, &quot;lineCap&quot;: &quot;round&quot;, &quot;lineJoin&quot;: &quot;round&quot;, &quot;opacity&quot;: 1.0, &quot;radius&quot;: 5, &quot;stroke&quot;: true, &quot;weight&quot;: 3}\n",
       "            ).addTo(map_7d6c8a7f4c460d1d3ee38c8d53f43bf9);\n",
       "        \n",
       "    \n",
       "            var circle_marker_7c5eac5f0bce297767162b06e943cb6c = L.circleMarker(\n",
       "                [37.97231, -122.520004],\n",
       "                {&quot;bubblingMouseEvents&quot;: true, &quot;color&quot;: &quot;green&quot;, &quot;dashArray&quot;: null, &quot;dashOffset&quot;: null, &quot;fill&quot;: true, &quot;fillColor&quot;: &quot;green&quot;, &quot;fillOpacity&quot;: 0.2, &quot;fillRule&quot;: &quot;evenodd&quot;, &quot;lineCap&quot;: &quot;round&quot;, &quot;lineJoin&quot;: &quot;round&quot;, &quot;opacity&quot;: 1.0, &quot;radius&quot;: 5, &quot;stroke&quot;: true, &quot;weight&quot;: 3}\n",
       "            ).addTo(map_7d6c8a7f4c460d1d3ee38c8d53f43bf9);\n",
       "        \n",
       "    \n",
       "            var circle_marker_f8ea41239da3770584243326343628f2 = L.circleMarker(\n",
       "                [38.102507, -122.237976],\n",
       "                {&quot;bubblingMouseEvents&quot;: true, &quot;color&quot;: &quot;green&quot;, &quot;dashArray&quot;: null, &quot;dashOffset&quot;: null, &quot;fill&quot;: true, &quot;fillColor&quot;: &quot;green&quot;, &quot;fillOpacity&quot;: 0.2, &quot;fillRule&quot;: &quot;evenodd&quot;, &quot;lineCap&quot;: &quot;round&quot;, &quot;lineJoin&quot;: &quot;round&quot;, &quot;opacity&quot;: 1.0, &quot;radius&quot;: 5, &quot;stroke&quot;: true, &quot;weight&quot;: 3}\n",
       "            ).addTo(map_7d6c8a7f4c460d1d3ee38c8d53f43bf9);\n",
       "        \n",
       "    \n",
       "            var circle_marker_815ce53f41b650428f7686741b270e88 = L.circleMarker(\n",
       "                [38.20185, -120.680277],\n",
       "                {&quot;bubblingMouseEvents&quot;: true, &quot;color&quot;: &quot;green&quot;, &quot;dashArray&quot;: null, &quot;dashOffset&quot;: null, &quot;fill&quot;: true, &quot;fillColor&quot;: &quot;green&quot;, &quot;fillOpacity&quot;: 0.2, &quot;fillRule&quot;: &quot;evenodd&quot;, &quot;lineCap&quot;: &quot;round&quot;, &quot;lineJoin&quot;: &quot;round&quot;, &quot;opacity&quot;: 1.0, &quot;radius&quot;: 5, &quot;stroke&quot;: true, &quot;weight&quot;: 3}\n",
       "            ).addTo(map_7d6c8a7f4c460d1d3ee38c8d53f43bf9);\n",
       "        \n",
       "    \n",
       "            var circle_marker_b20ed135b0089018e05f9eac67f21592 = L.circleMarker(\n",
       "                [38.443503, -122.710169],\n",
       "                {&quot;bubblingMouseEvents&quot;: true, &quot;color&quot;: &quot;green&quot;, &quot;dashArray&quot;: null, &quot;dashOffset&quot;: null, &quot;fill&quot;: true, &quot;fillColor&quot;: &quot;green&quot;, &quot;fillOpacity&quot;: 0.2, &quot;fillRule&quot;: &quot;evenodd&quot;, &quot;lineCap&quot;: &quot;round&quot;, &quot;lineJoin&quot;: &quot;round&quot;, &quot;opacity&quot;: 1.0, &quot;radius&quot;: 5, &quot;stroke&quot;: true, &quot;weight&quot;: 3}\n",
       "            ).addTo(map_7d6c8a7f4c460d1d3ee38c8d53f43bf9);\n",
       "        \n",
       "    \n",
       "            var circle_marker_46806d0340f77aade28cd292c4ea4522 = L.circleMarker(\n",
       "                [38.556326, -121.458499],\n",
       "                {&quot;bubblingMouseEvents&quot;: true, &quot;color&quot;: &quot;green&quot;, &quot;dashArray&quot;: null, &quot;dashOffset&quot;: null, &quot;fill&quot;: true, &quot;fillColor&quot;: &quot;green&quot;, &quot;fillOpacity&quot;: 0.2, &quot;fillRule&quot;: &quot;evenodd&quot;, &quot;lineCap&quot;: &quot;round&quot;, &quot;lineJoin&quot;: &quot;round&quot;, &quot;opacity&quot;: 1.0, &quot;radius&quot;: 5, &quot;stroke&quot;: true, &quot;weight&quot;: 3}\n",
       "            ).addTo(map_7d6c8a7f4c460d1d3ee38c8d53f43bf9);\n",
       "        \n",
       "    \n",
       "            var circle_marker_16a02a95a77f9d2252eb38fae70f1719 = L.circleMarker(\n",
       "                [38.56844, -121.49311],\n",
       "                {&quot;bubblingMouseEvents&quot;: true, &quot;color&quot;: &quot;green&quot;, &quot;dashArray&quot;: null, &quot;dashOffset&quot;: null, &quot;fill&quot;: true, &quot;fillColor&quot;: &quot;green&quot;, &quot;fillOpacity&quot;: 0.2, &quot;fillRule&quot;: &quot;evenodd&quot;, &quot;lineCap&quot;: &quot;round&quot;, &quot;lineJoin&quot;: &quot;round&quot;, &quot;opacity&quot;: 1.0, &quot;radius&quot;: 5, &quot;stroke&quot;: true, &quot;weight&quot;: 3}\n",
       "            ).addTo(map_7d6c8a7f4c460d1d3ee38c8d53f43bf9);\n",
       "        \n",
       "    \n",
       "            var circle_marker_c041a17f538b0181c3fe3b2282a1a720 = L.circleMarker(\n",
       "                [38.613779, -121.368014],\n",
       "                {&quot;bubblingMouseEvents&quot;: true, &quot;color&quot;: &quot;green&quot;, &quot;dashArray&quot;: null, &quot;dashOffset&quot;: null, &quot;fill&quot;: true, &quot;fillColor&quot;: &quot;green&quot;, &quot;fillOpacity&quot;: 0.2, &quot;fillRule&quot;: &quot;evenodd&quot;, &quot;lineCap&quot;: &quot;round&quot;, &quot;lineJoin&quot;: &quot;round&quot;, &quot;opacity&quot;: 1.0, &quot;radius&quot;: 5, &quot;stroke&quot;: true, &quot;weight&quot;: 3}\n",
       "            ).addTo(map_7d6c8a7f4c460d1d3ee38c8d53f43bf9);\n",
       "        \n",
       "    \n",
       "            var circle_marker_3c5419ce37f9e3157ccfdc1aec95a912 = L.circleMarker(\n",
       "                [38.66121, -121.73269],\n",
       "                {&quot;bubblingMouseEvents&quot;: true, &quot;color&quot;: &quot;green&quot;, &quot;dashArray&quot;: null, &quot;dashOffset&quot;: null, &quot;fill&quot;: true, &quot;fillColor&quot;: &quot;green&quot;, &quot;fillOpacity&quot;: 0.2, &quot;fillRule&quot;: &quot;evenodd&quot;, &quot;lineCap&quot;: &quot;round&quot;, &quot;lineJoin&quot;: &quot;round&quot;, &quot;opacity&quot;: 1.0, &quot;radius&quot;: 5, &quot;stroke&quot;: true, &quot;weight&quot;: 3}\n",
       "            ).addTo(map_7d6c8a7f4c460d1d3ee38c8d53f43bf9);\n",
       "        \n",
       "    \n",
       "            var circle_marker_f18cfacdd6c5d7f07a7ee97fc3849533 = L.circleMarker(\n",
       "                [38.74643, -121.26498],\n",
       "                {&quot;bubblingMouseEvents&quot;: true, &quot;color&quot;: &quot;green&quot;, &quot;dashArray&quot;: null, &quot;dashOffset&quot;: null, &quot;fill&quot;: true, &quot;fillColor&quot;: &quot;green&quot;, &quot;fillOpacity&quot;: 0.2, &quot;fillRule&quot;: &quot;evenodd&quot;, &quot;lineCap&quot;: &quot;round&quot;, &quot;lineJoin&quot;: &quot;round&quot;, &quot;opacity&quot;: 1.0, &quot;radius&quot;: 5, &quot;stroke&quot;: true, &quot;weight&quot;: 3}\n",
       "            ).addTo(map_7d6c8a7f4c460d1d3ee38c8d53f43bf9);\n",
       "        \n",
       "    \n",
       "            var circle_marker_efc441d2216962c4f26364ace94b5cff = L.circleMarker(\n",
       "                [39.0327, -122.92229],\n",
       "                {&quot;bubblingMouseEvents&quot;: true, &quot;color&quot;: &quot;green&quot;, &quot;dashArray&quot;: null, &quot;dashOffset&quot;: null, &quot;fill&quot;: true, &quot;fillColor&quot;: &quot;green&quot;, &quot;fillOpacity&quot;: 0.2, &quot;fillRule&quot;: &quot;evenodd&quot;, &quot;lineCap&quot;: &quot;round&quot;, &quot;lineJoin&quot;: &quot;round&quot;, &quot;opacity&quot;: 1.0, &quot;radius&quot;: 5, &quot;stroke&quot;: true, &quot;weight&quot;: 3}\n",
       "            ).addTo(map_7d6c8a7f4c460d1d3ee38c8d53f43bf9);\n",
       "        \n",
       "    \n",
       "            var circle_marker_117808c622662a7fca1293a4bdbac600 = L.circleMarker(\n",
       "                [39.138773, -121.618549],\n",
       "                {&quot;bubblingMouseEvents&quot;: true, &quot;color&quot;: &quot;green&quot;, &quot;dashArray&quot;: null, &quot;dashOffset&quot;: null, &quot;fill&quot;: true, &quot;fillColor&quot;: &quot;green&quot;, &quot;fillOpacity&quot;: 0.2, &quot;fillRule&quot;: &quot;evenodd&quot;, &quot;lineCap&quot;: &quot;round&quot;, &quot;lineJoin&quot;: &quot;round&quot;, &quot;opacity&quot;: 1.0, &quot;radius&quot;: 5, &quot;stroke&quot;: true, &quot;weight&quot;: 3}\n",
       "            ).addTo(map_7d6c8a7f4c460d1d3ee38c8d53f43bf9);\n",
       "        \n",
       "    \n",
       "            var circle_marker_38b1fb2eb2bed82bb5921bea508302e3 = L.circleMarker(\n",
       "                [39.15047, -123.20655],\n",
       "                {&quot;bubblingMouseEvents&quot;: true, &quot;color&quot;: &quot;green&quot;, &quot;dashArray&quot;: null, &quot;dashOffset&quot;: null, &quot;fill&quot;: true, &quot;fillColor&quot;: &quot;green&quot;, &quot;fillOpacity&quot;: 0.2, &quot;fillRule&quot;: &quot;evenodd&quot;, &quot;lineCap&quot;: &quot;round&quot;, &quot;lineJoin&quot;: &quot;round&quot;, &quot;opacity&quot;: 1.0, &quot;radius&quot;: 5, &quot;stroke&quot;: true, &quot;weight&quot;: 3}\n",
       "            ).addTo(map_7d6c8a7f4c460d1d3ee38c8d53f43bf9);\n",
       "        \n",
       "    \n",
       "            var circle_marker_e72d4f2b7e2c2c33ff4a0e40eb735d9e = L.circleMarker(\n",
       "                [39.18919, -121.99887],\n",
       "                {&quot;bubblingMouseEvents&quot;: true, &quot;color&quot;: &quot;green&quot;, &quot;dashArray&quot;: null, &quot;dashOffset&quot;: null, &quot;fill&quot;: true, &quot;fillColor&quot;: &quot;green&quot;, &quot;fillOpacity&quot;: 0.2, &quot;fillRule&quot;: &quot;evenodd&quot;, &quot;lineCap&quot;: &quot;round&quot;, &quot;lineJoin&quot;: &quot;round&quot;, &quot;opacity&quot;: 1.0, &quot;radius&quot;: 5, &quot;stroke&quot;: true, &quot;weight&quot;: 3}\n",
       "            ).addTo(map_7d6c8a7f4c460d1d3ee38c8d53f43bf9);\n",
       "        \n",
       "    \n",
       "            var circle_marker_511c2b6e852129a54e0a2b76eeaa0cf3 = L.circleMarker(\n",
       "                [39.233477, -121.055608],\n",
       "                {&quot;bubblingMouseEvents&quot;: true, &quot;color&quot;: &quot;green&quot;, &quot;dashArray&quot;: null, &quot;dashOffset&quot;: null, &quot;fill&quot;: true, &quot;fillColor&quot;: &quot;green&quot;, &quot;fillOpacity&quot;: 0.2, &quot;fillRule&quot;: &quot;evenodd&quot;, &quot;lineCap&quot;: &quot;round&quot;, &quot;lineJoin&quot;: &quot;round&quot;, &quot;opacity&quot;: 1.0, &quot;radius&quot;: 5, &quot;stroke&quot;: true, &quot;weight&quot;: 3}\n",
       "            ).addTo(map_7d6c8a7f4c460d1d3ee38c8d53f43bf9);\n",
       "        \n",
       "    \n",
       "            var circle_marker_dcb618d13c9aef31cf91b3fe03e613f0 = L.circleMarker(\n",
       "                [39.32783, -120.184592],\n",
       "                {&quot;bubblingMouseEvents&quot;: true, &quot;color&quot;: &quot;green&quot;, &quot;dashArray&quot;: null, &quot;dashOffset&quot;: null, &quot;fill&quot;: true, &quot;fillColor&quot;: &quot;green&quot;, &quot;fillOpacity&quot;: 0.2, &quot;fillRule&quot;: &quot;evenodd&quot;, &quot;lineCap&quot;: &quot;round&quot;, &quot;lineJoin&quot;: &quot;round&quot;, &quot;opacity&quot;: 1.0, &quot;radius&quot;: 5, &quot;stroke&quot;: true, &quot;weight&quot;: 3}\n",
       "            ).addTo(map_7d6c8a7f4c460d1d3ee38c8d53f43bf9);\n",
       "        \n",
       "    \n",
       "            var circle_marker_3af04c57ffad6496496364f10599486f = L.circleMarker(\n",
       "                [39.41174, -123.35264],\n",
       "                {&quot;bubblingMouseEvents&quot;: true, &quot;color&quot;: &quot;green&quot;, &quot;dashArray&quot;: null, &quot;dashOffset&quot;: null, &quot;fill&quot;: true, &quot;fillColor&quot;: &quot;green&quot;, &quot;fillOpacity&quot;: 0.2, &quot;fillRule&quot;: &quot;evenodd&quot;, &quot;lineCap&quot;: &quot;round&quot;, &quot;lineJoin&quot;: &quot;round&quot;, &quot;opacity&quot;: 1.0, &quot;radius&quot;: 5, &quot;stroke&quot;: true, &quot;weight&quot;: 3}\n",
       "            ).addTo(map_7d6c8a7f4c460d1d3ee38c8d53f43bf9);\n",
       "        \n",
       "    \n",
       "            var circle_marker_5bb545717480acb7a5234624075aaf0a = L.circleMarker(\n",
       "                [39.757371, -121.843286],\n",
       "                {&quot;bubblingMouseEvents&quot;: true, &quot;color&quot;: &quot;green&quot;, &quot;dashArray&quot;: null, &quot;dashOffset&quot;: null, &quot;fill&quot;: true, &quot;fillColor&quot;: &quot;green&quot;, &quot;fillOpacity&quot;: 0.2, &quot;fillRule&quot;: &quot;evenodd&quot;, &quot;lineCap&quot;: &quot;round&quot;, &quot;lineJoin&quot;: &quot;round&quot;, &quot;opacity&quot;: 1.0, &quot;radius&quot;: 5, &quot;stroke&quot;: true, &quot;weight&quot;: 3}\n",
       "            ).addTo(map_7d6c8a7f4c460d1d3ee38c8d53f43bf9);\n",
       "        \n",
       "    \n",
       "            var circle_marker_99c881b1388a6151732aad3d7a84d8e5 = L.circleMarker(\n",
       "                [39.808333, -120.471667],\n",
       "                {&quot;bubblingMouseEvents&quot;: true, &quot;color&quot;: &quot;green&quot;, &quot;dashArray&quot;: null, &quot;dashOffset&quot;: null, &quot;fill&quot;: true, &quot;fillColor&quot;: &quot;green&quot;, &quot;fillOpacity&quot;: 0.2, &quot;fillRule&quot;: &quot;evenodd&quot;, &quot;lineCap&quot;: &quot;round&quot;, &quot;lineJoin&quot;: &quot;round&quot;, &quot;opacity&quot;: 1.0, &quot;radius&quot;: 5, &quot;stroke&quot;: true, &quot;weight&quot;: 3}\n",
       "            ).addTo(map_7d6c8a7f4c460d1d3ee38c8d53f43bf9);\n",
       "        \n",
       "    \n",
       "            var circle_marker_6f93b34bde33a252a9e6a48772de0a15 = L.circleMarker(\n",
       "                [39.939567, -120.944376],\n",
       "                {&quot;bubblingMouseEvents&quot;: true, &quot;color&quot;: &quot;green&quot;, &quot;dashArray&quot;: null, &quot;dashOffset&quot;: null, &quot;fill&quot;: true, &quot;fillColor&quot;: &quot;green&quot;, &quot;fillOpacity&quot;: 0.2, &quot;fillRule&quot;: &quot;evenodd&quot;, &quot;lineCap&quot;: &quot;round&quot;, &quot;lineJoin&quot;: &quot;round&quot;, &quot;opacity&quot;: 1.0, &quot;radius&quot;: 5, &quot;stroke&quot;: true, &quot;weight&quot;: 3}\n",
       "            ).addTo(map_7d6c8a7f4c460d1d3ee38c8d53f43bf9);\n",
       "        \n",
       "    \n",
       "            var circle_marker_d188acfda8a0f882e718a27a1d4f5746 = L.circleMarker(\n",
       "                [40.55013, -122.38092],\n",
       "                {&quot;bubblingMouseEvents&quot;: true, &quot;color&quot;: &quot;green&quot;, &quot;dashArray&quot;: null, &quot;dashOffset&quot;: null, &quot;fill&quot;: true, &quot;fillColor&quot;: &quot;green&quot;, &quot;fillOpacity&quot;: 0.2, &quot;fillRule&quot;: &quot;evenodd&quot;, &quot;lineCap&quot;: &quot;round&quot;, &quot;lineJoin&quot;: &quot;round&quot;, &quot;opacity&quot;: 1.0, &quot;radius&quot;: 5, &quot;stroke&quot;: true, &quot;weight&quot;: 3}\n",
       "            ).addTo(map_7d6c8a7f4c460d1d3ee38c8d53f43bf9);\n",
       "        \n",
       "    \n",
       "            var circle_marker_d0ff93fa13d70d1b65cc2efdce69b167 = L.circleMarker(\n",
       "                [40.6304, -122.4031],\n",
       "                {&quot;bubblingMouseEvents&quot;: true, &quot;color&quot;: &quot;green&quot;, &quot;dashArray&quot;: null, &quot;dashOffset&quot;: null, &quot;fill&quot;: true, &quot;fillColor&quot;: &quot;green&quot;, &quot;fillOpacity&quot;: 0.2, &quot;fillRule&quot;: &quot;evenodd&quot;, &quot;lineCap&quot;: &quot;round&quot;, &quot;lineJoin&quot;: &quot;round&quot;, &quot;opacity&quot;: 1.0, &quot;radius&quot;: 5, &quot;stroke&quot;: true, &quot;weight&quot;: 3}\n",
       "            ).addTo(map_7d6c8a7f4c460d1d3ee38c8d53f43bf9);\n",
       "        \n",
       "    \n",
       "            var circle_marker_45cc594f2bad8bc9f7ef413d8dddeab2 = L.circleMarker(\n",
       "                [40.69184, -122.40179],\n",
       "                {&quot;bubblingMouseEvents&quot;: true, &quot;color&quot;: &quot;green&quot;, &quot;dashArray&quot;: null, &quot;dashOffset&quot;: null, &quot;fill&quot;: true, &quot;fillColor&quot;: &quot;green&quot;, &quot;fillOpacity&quot;: 0.2, &quot;fillRule&quot;: &quot;evenodd&quot;, &quot;lineCap&quot;: &quot;round&quot;, &quot;lineJoin&quot;: &quot;round&quot;, &quot;opacity&quot;: 1.0, &quot;radius&quot;: 5, &quot;stroke&quot;: true, &quot;weight&quot;: 3}\n",
       "            ).addTo(map_7d6c8a7f4c460d1d3ee38c8d53f43bf9);\n",
       "        \n",
       "    \n",
       "            var circle_marker_2241c2f919b80683cba7344e2b8c9364 = L.circleMarker(\n",
       "                [40.77678, -124.17949],\n",
       "                {&quot;bubblingMouseEvents&quot;: true, &quot;color&quot;: &quot;green&quot;, &quot;dashArray&quot;: null, &quot;dashOffset&quot;: null, &quot;fill&quot;: true, &quot;fillColor&quot;: &quot;green&quot;, &quot;fillOpacity&quot;: 0.2, &quot;fillRule&quot;: &quot;evenodd&quot;, &quot;lineCap&quot;: &quot;round&quot;, &quot;lineJoin&quot;: &quot;round&quot;, &quot;opacity&quot;: 1.0, &quot;radius&quot;: 5, &quot;stroke&quot;: true, &quot;weight&quot;: 3}\n",
       "            ).addTo(map_7d6c8a7f4c460d1d3ee38c8d53f43bf9);\n",
       "        \n",
       "    \n",
       "            var circle_marker_0c46f975ab3b04431e9950e6112c644b = L.circleMarker(\n",
       "                [40.80178, -124.1621],\n",
       "                {&quot;bubblingMouseEvents&quot;: true, &quot;color&quot;: &quot;green&quot;, &quot;dashArray&quot;: null, &quot;dashOffset&quot;: null, &quot;fill&quot;: true, &quot;fillColor&quot;: &quot;green&quot;, &quot;fillOpacity&quot;: 0.2, &quot;fillRule&quot;: &quot;evenodd&quot;, &quot;lineCap&quot;: &quot;round&quot;, &quot;lineJoin&quot;: &quot;round&quot;, &quot;opacity&quot;: 1.0, &quot;radius&quot;: 5, &quot;stroke&quot;: true, &quot;weight&quot;: 3}\n",
       "            ).addTo(map_7d6c8a7f4c460d1d3ee38c8d53f43bf9);\n",
       "        \n",
       "    \n",
       "            var circle_marker_8c6ee451f71a8524a83af2085e5dcd8f = L.circleMarker(\n",
       "                [41.726892, -122.633579],\n",
       "                {&quot;bubblingMouseEvents&quot;: true, &quot;color&quot;: &quot;green&quot;, &quot;dashArray&quot;: null, &quot;dashOffset&quot;: null, &quot;fill&quot;: true, &quot;fillColor&quot;: &quot;green&quot;, &quot;fillOpacity&quot;: 0.2, &quot;fillRule&quot;: &quot;evenodd&quot;, &quot;lineCap&quot;: &quot;round&quot;, &quot;lineJoin&quot;: &quot;round&quot;, &quot;opacity&quot;: 1.0, &quot;radius&quot;: 5, &quot;stroke&quot;: true, &quot;weight&quot;: 3}\n",
       "            ).addTo(map_7d6c8a7f4c460d1d3ee38c8d53f43bf9);\n",
       "        \n",
       "&lt;/script&gt;\n",
       "&lt;/html&gt;\" style=\"position:absolute;width:100%;height:100%;left:0;top:0;border:none !important;\" allowfullscreen webkitallowfullscreen mozallowfullscreen></iframe></div></div>"
      ],
      "text/plain": [
       "<folium.folium.Map at 0x1e629085220>"
      ]
     },
     "execution_count": 37,
     "metadata": {},
     "output_type": "execute_result"
    }
   ],
   "source": [
    "import folium\n",
    "\n",
    "# Create a Map instance\n",
    "m = folium.Map(location=[avg_latitude, avg_longitude], zoom_start=4)\n",
    "\n",
    "# Add points to the map instance\n",
    "for idx, row in merge_df.iterrows():\n",
    "    # Define the color to be used in the marker\n",
    "    if row['percent_exceed_15'] > 50:\n",
    "        color = 'red'\n",
    "    elif row['percent_exceed_15'] > 20:\n",
    "        color = 'orange'\n",
    "    else:\n",
    "        color = 'green'\n",
    "\n",
    "    # Add marker to the map\n",
    "    folium.CircleMarker(location=(row['latitude'], row['longitude']),\n",
    "                        radius=5,\n",
    "                        color=color,\n",
    "                        fill=True,\n",
    "                        fill_color=color).add_to(m)\n",
    "\n",
    "# Show the map\n",
    "m"
   ]
  },
  {
   "cell_type": "code",
   "execution_count": 4,
   "metadata": {},
   "outputs": [
    {
     "data": {
      "text/html": [
       "<div>\n",
       "<style scoped>\n",
       "    .dataframe tbody tr th:only-of-type {\n",
       "        vertical-align: middle;\n",
       "    }\n",
       "\n",
       "    .dataframe tbody tr th {\n",
       "        vertical-align: top;\n",
       "    }\n",
       "\n",
       "    .dataframe thead th {\n",
       "        text-align: right;\n",
       "    }\n",
       "</style>\n",
       "<table border=\"1\" class=\"dataframe\">\n",
       "  <thead>\n",
       "    <tr style=\"text-align: right;\">\n",
       "      <th></th>\n",
       "      <th>site_number</th>\n",
       "      <th>latitude</th>\n",
       "      <th>longitude</th>\n",
       "      <th>date_gmt</th>\n",
       "      <th>time_gmt</th>\n",
       "      <th>sample_measurement</th>\n",
       "      <th>units_of_measure</th>\n",
       "      <th>county</th>\n",
       "    </tr>\n",
       "  </thead>\n",
       "  <tbody>\n",
       "    <tr>\n",
       "      <th>138</th>\n",
       "      <td>1001</td>\n",
       "      <td>37.535833</td>\n",
       "      <td>-121.961823</td>\n",
       "      <td>2010-01-01</td>\n",
       "      <td>08:00</td>\n",
       "      <td>23.0</td>\n",
       "      <td>Micrograms/cubic meter (LC)</td>\n",
       "      <td>Alameda</td>\n",
       "    </tr>\n",
       "    <tr>\n",
       "      <th>139</th>\n",
       "      <td>1001</td>\n",
       "      <td>37.535833</td>\n",
       "      <td>-121.961823</td>\n",
       "      <td>2010-01-01</td>\n",
       "      <td>09:00</td>\n",
       "      <td>29.0</td>\n",
       "      <td>Micrograms/cubic meter (LC)</td>\n",
       "      <td>Alameda</td>\n",
       "    </tr>\n",
       "    <tr>\n",
       "      <th>140</th>\n",
       "      <td>1001</td>\n",
       "      <td>37.535833</td>\n",
       "      <td>-121.961823</td>\n",
       "      <td>2010-01-01</td>\n",
       "      <td>10:00</td>\n",
       "      <td>25.0</td>\n",
       "      <td>Micrograms/cubic meter (LC)</td>\n",
       "      <td>Alameda</td>\n",
       "    </tr>\n",
       "    <tr>\n",
       "      <th>141</th>\n",
       "      <td>1001</td>\n",
       "      <td>37.535833</td>\n",
       "      <td>-121.961823</td>\n",
       "      <td>2010-01-01</td>\n",
       "      <td>11:00</td>\n",
       "      <td>22.0</td>\n",
       "      <td>Micrograms/cubic meter (LC)</td>\n",
       "      <td>Alameda</td>\n",
       "    </tr>\n",
       "    <tr>\n",
       "      <th>142</th>\n",
       "      <td>1001</td>\n",
       "      <td>37.535833</td>\n",
       "      <td>-121.961823</td>\n",
       "      <td>2010-01-01</td>\n",
       "      <td>12:00</td>\n",
       "      <td>14.0</td>\n",
       "      <td>Micrograms/cubic meter (LC)</td>\n",
       "      <td>Alameda</td>\n",
       "    </tr>\n",
       "  </tbody>\n",
       "</table>\n",
       "</div>"
      ],
      "text/plain": [
       "     site_number   latitude   longitude    date_gmt time_gmt  \\\n",
       "138         1001  37.535833 -121.961823  2010-01-01    08:00   \n",
       "139         1001  37.535833 -121.961823  2010-01-01    09:00   \n",
       "140         1001  37.535833 -121.961823  2010-01-01    10:00   \n",
       "141         1001  37.535833 -121.961823  2010-01-01    11:00   \n",
       "142         1001  37.535833 -121.961823  2010-01-01    12:00   \n",
       "\n",
       "     sample_measurement             units_of_measure   county  \n",
       "138                23.0  Micrograms/cubic meter (LC)  Alameda  \n",
       "139                29.0  Micrograms/cubic meter (LC)  Alameda  \n",
       "140                25.0  Micrograms/cubic meter (LC)  Alameda  \n",
       "141                22.0  Micrograms/cubic meter (LC)  Alameda  \n",
       "142                14.0  Micrograms/cubic meter (LC)  Alameda  "
      ]
     },
     "execution_count": 4,
     "metadata": {},
     "output_type": "execute_result"
    }
   ],
   "source": [
    "sub_df.head()"
   ]
  },
  {
   "cell_type": "code",
   "execution_count": 24,
   "metadata": {},
   "outputs": [
    {
     "data": {
      "text/html": [
       "<div>\n",
       "<style scoped>\n",
       "    .dataframe tbody tr th:only-of-type {\n",
       "        vertical-align: middle;\n",
       "    }\n",
       "\n",
       "    .dataframe tbody tr th {\n",
       "        vertical-align: top;\n",
       "    }\n",
       "\n",
       "    .dataframe thead th {\n",
       "        text-align: right;\n",
       "    }\n",
       "</style>\n",
       "<table border=\"1\" class=\"dataframe\">\n",
       "  <thead>\n",
       "    <tr style=\"text-align: right;\">\n",
       "      <th></th>\n",
       "      <th>site_number</th>\n",
       "      <th>latitude</th>\n",
       "      <th>longitude</th>\n",
       "      <th>date_gmt</th>\n",
       "      <th>units_of_measure</th>\n",
       "      <th>county</th>\n",
       "      <th>sample_measurement</th>\n",
       "    </tr>\n",
       "  </thead>\n",
       "  <tbody>\n",
       "    <tr>\n",
       "      <th>0</th>\n",
       "      <td>1</td>\n",
       "      <td>32.631242</td>\n",
       "      <td>-117.059088</td>\n",
       "      <td>2010-03-21</td>\n",
       "      <td>Micrograms/cubic meter (LC)</td>\n",
       "      <td>San Diego</td>\n",
       "      <td>1</td>\n",
       "    </tr>\n",
       "    <tr>\n",
       "      <th>1</th>\n",
       "      <td>1</td>\n",
       "      <td>32.631242</td>\n",
       "      <td>-117.059088</td>\n",
       "      <td>2010-04-26</td>\n",
       "      <td>Micrograms/cubic meter (LC)</td>\n",
       "      <td>San Diego</td>\n",
       "      <td>1</td>\n",
       "    </tr>\n",
       "    <tr>\n",
       "      <th>2</th>\n",
       "      <td>1</td>\n",
       "      <td>32.631242</td>\n",
       "      <td>-117.059088</td>\n",
       "      <td>2010-08-24</td>\n",
       "      <td>Micrograms/cubic meter (LC)</td>\n",
       "      <td>San Diego</td>\n",
       "      <td>1</td>\n",
       "    </tr>\n",
       "    <tr>\n",
       "      <th>3</th>\n",
       "      <td>1</td>\n",
       "      <td>32.631242</td>\n",
       "      <td>-117.059088</td>\n",
       "      <td>2010-10-11</td>\n",
       "      <td>Micrograms/cubic meter (LC)</td>\n",
       "      <td>San Diego</td>\n",
       "      <td>1</td>\n",
       "    </tr>\n",
       "    <tr>\n",
       "      <th>4</th>\n",
       "      <td>1</td>\n",
       "      <td>32.631242</td>\n",
       "      <td>-117.059088</td>\n",
       "      <td>2010-12-04</td>\n",
       "      <td>Micrograms/cubic meter (LC)</td>\n",
       "      <td>San Diego</td>\n",
       "      <td>1</td>\n",
       "    </tr>\n",
       "    <tr>\n",
       "      <th>...</th>\n",
       "      <td>...</td>\n",
       "      <td>...</td>\n",
       "      <td>...</td>\n",
       "      <td>...</td>\n",
       "      <td>...</td>\n",
       "      <td>...</td>\n",
       "      <td>...</td>\n",
       "    </tr>\n",
       "    <tr>\n",
       "      <th>6337</th>\n",
       "      <td>9004</td>\n",
       "      <td>34.106678</td>\n",
       "      <td>-117.274063</td>\n",
       "      <td>2010-10-17</td>\n",
       "      <td>Micrograms/cubic meter (LC)</td>\n",
       "      <td>San Bernardino</td>\n",
       "      <td>1</td>\n",
       "    </tr>\n",
       "    <tr>\n",
       "      <th>6338</th>\n",
       "      <td>9004</td>\n",
       "      <td>34.106678</td>\n",
       "      <td>-117.274063</td>\n",
       "      <td>2010-11-19</td>\n",
       "      <td>Micrograms/cubic meter (LC)</td>\n",
       "      <td>San Bernardino</td>\n",
       "      <td>1</td>\n",
       "    </tr>\n",
       "    <tr>\n",
       "      <th>6339</th>\n",
       "      <td>9004</td>\n",
       "      <td>34.106678</td>\n",
       "      <td>-117.274063</td>\n",
       "      <td>2010-12-04</td>\n",
       "      <td>Micrograms/cubic meter (LC)</td>\n",
       "      <td>San Bernardino</td>\n",
       "      <td>1</td>\n",
       "    </tr>\n",
       "    <tr>\n",
       "      <th>6340</th>\n",
       "      <td>9004</td>\n",
       "      <td>34.106678</td>\n",
       "      <td>-117.274063</td>\n",
       "      <td>2010-12-10</td>\n",
       "      <td>Micrograms/cubic meter (LC)</td>\n",
       "      <td>San Bernardino</td>\n",
       "      <td>1</td>\n",
       "    </tr>\n",
       "    <tr>\n",
       "      <th>6341</th>\n",
       "      <td>9004</td>\n",
       "      <td>34.106678</td>\n",
       "      <td>-117.274063</td>\n",
       "      <td>2010-12-25</td>\n",
       "      <td>Micrograms/cubic meter (LC)</td>\n",
       "      <td>San Bernardino</td>\n",
       "      <td>1</td>\n",
       "    </tr>\n",
       "  </tbody>\n",
       "</table>\n",
       "<p>6342 rows × 7 columns</p>\n",
       "</div>"
      ],
      "text/plain": [
       "      site_number   latitude   longitude    date_gmt  \\\n",
       "0               1  32.631242 -117.059088  2010-03-21   \n",
       "1               1  32.631242 -117.059088  2010-04-26   \n",
       "2               1  32.631242 -117.059088  2010-08-24   \n",
       "3               1  32.631242 -117.059088  2010-10-11   \n",
       "4               1  32.631242 -117.059088  2010-12-04   \n",
       "...           ...        ...         ...         ...   \n",
       "6337         9004  34.106678 -117.274063  2010-10-17   \n",
       "6338         9004  34.106678 -117.274063  2010-11-19   \n",
       "6339         9004  34.106678 -117.274063  2010-12-04   \n",
       "6340         9004  34.106678 -117.274063  2010-12-10   \n",
       "6341         9004  34.106678 -117.274063  2010-12-25   \n",
       "\n",
       "                 units_of_measure          county  sample_measurement  \n",
       "0     Micrograms/cubic meter (LC)       San Diego                   1  \n",
       "1     Micrograms/cubic meter (LC)       San Diego                   1  \n",
       "2     Micrograms/cubic meter (LC)       San Diego                   1  \n",
       "3     Micrograms/cubic meter (LC)       San Diego                   1  \n",
       "4     Micrograms/cubic meter (LC)       San Diego                   1  \n",
       "...                           ...             ...                 ...  \n",
       "6337  Micrograms/cubic meter (LC)  San Bernardino                   1  \n",
       "6338  Micrograms/cubic meter (LC)  San Bernardino                   1  \n",
       "6339  Micrograms/cubic meter (LC)  San Bernardino                   1  \n",
       "6340  Micrograms/cubic meter (LC)  San Bernardino                   1  \n",
       "6341  Micrograms/cubic meter (LC)  San Bernardino                   1  \n",
       "\n",
       "[6342 rows x 7 columns]"
      ]
     },
     "execution_count": 24,
     "metadata": {},
     "output_type": "execute_result"
    }
   ],
   "source": [
    "# Filter the data for sample measurements higher than the thresholds\n",
    "filtered_df = sub_df[sub_df['sample_measurement'] > 15.5]\n",
    "\n",
    "# Group the filtered data by site, date, and other desired columns\n",
    "grouped_df = filtered_df.groupby(['site_number', 'latitude', 'longitude', 'date_gmt', 'units_of_measure', 'county'])\n",
    "\n",
    "#grouped_df.head(5)\n",
    "\n",
    "# count the number of rows for each group and reset the index\n",
    "counts_df = grouped_df['sample_measurement'].count().reset_index()\n",
    "\n",
    "counts_df"
   ]
  },
  {
   "cell_type": "code",
   "execution_count": 5,
   "metadata": {},
   "outputs": [
    {
     "data": {
      "text/html": [
       "<div>\n",
       "<style scoped>\n",
       "    .dataframe tbody tr th:only-of-type {\n",
       "        vertical-align: middle;\n",
       "    }\n",
       "\n",
       "    .dataframe tbody tr th {\n",
       "        vertical-align: top;\n",
       "    }\n",
       "\n",
       "    .dataframe thead th {\n",
       "        text-align: right;\n",
       "    }\n",
       "</style>\n",
       "<table border=\"1\" class=\"dataframe\">\n",
       "  <thead>\n",
       "    <tr style=\"text-align: right;\">\n",
       "      <th></th>\n",
       "      <th></th>\n",
       "      <th></th>\n",
       "      <th></th>\n",
       "      <th>date_gmt</th>\n",
       "      <th>time_gmt</th>\n",
       "      <th>sample_measurement</th>\n",
       "      <th>units_of_measure</th>\n",
       "    </tr>\n",
       "    <tr>\n",
       "      <th>site_number</th>\n",
       "      <th>latitude</th>\n",
       "      <th>longitude</th>\n",
       "      <th>county</th>\n",
       "      <th></th>\n",
       "      <th></th>\n",
       "      <th></th>\n",
       "      <th></th>\n",
       "    </tr>\n",
       "  </thead>\n",
       "  <tbody>\n",
       "    <tr>\n",
       "      <th rowspan=\"5\" valign=\"top\">1001</th>\n",
       "      <th rowspan=\"5\" valign=\"top\">37.535833</th>\n",
       "      <th rowspan=\"5\" valign=\"top\">-121.961823</th>\n",
       "      <th>Alameda</th>\n",
       "      <td>2010-01-01</td>\n",
       "      <td>08:00</td>\n",
       "      <td>23.0</td>\n",
       "      <td>Micrograms/cubic meter (LC)</td>\n",
       "    </tr>\n",
       "    <tr>\n",
       "      <th>Alameda</th>\n",
       "      <td>2010-01-01</td>\n",
       "      <td>09:00</td>\n",
       "      <td>29.0</td>\n",
       "      <td>Micrograms/cubic meter (LC)</td>\n",
       "    </tr>\n",
       "    <tr>\n",
       "      <th>Alameda</th>\n",
       "      <td>2010-01-01</td>\n",
       "      <td>10:00</td>\n",
       "      <td>25.0</td>\n",
       "      <td>Micrograms/cubic meter (LC)</td>\n",
       "    </tr>\n",
       "    <tr>\n",
       "      <th>Alameda</th>\n",
       "      <td>2010-01-01</td>\n",
       "      <td>11:00</td>\n",
       "      <td>22.0</td>\n",
       "      <td>Micrograms/cubic meter (LC)</td>\n",
       "    </tr>\n",
       "    <tr>\n",
       "      <th>Alameda</th>\n",
       "      <td>2010-01-01</td>\n",
       "      <td>12:00</td>\n",
       "      <td>14.0</td>\n",
       "      <td>Micrograms/cubic meter (LC)</td>\n",
       "    </tr>\n",
       "  </tbody>\n",
       "</table>\n",
       "</div>"
      ],
      "text/plain": [
       "                                             date_gmt time_gmt  \\\n",
       "site_number latitude  longitude   county                         \n",
       "1001        37.535833 -121.961823 Alameda  2010-01-01    08:00   \n",
       "                                  Alameda  2010-01-01    09:00   \n",
       "                                  Alameda  2010-01-01    10:00   \n",
       "                                  Alameda  2010-01-01    11:00   \n",
       "                                  Alameda  2010-01-01    12:00   \n",
       "\n",
       "                                           sample_measurement  \\\n",
       "site_number latitude  longitude   county                        \n",
       "1001        37.535833 -121.961823 Alameda                23.0   \n",
       "                                  Alameda                29.0   \n",
       "                                  Alameda                25.0   \n",
       "                                  Alameda                22.0   \n",
       "                                  Alameda                14.0   \n",
       "\n",
       "                                                      units_of_measure  \n",
       "site_number latitude  longitude   county                                \n",
       "1001        37.535833 -121.961823 Alameda  Micrograms/cubic meter (LC)  \n",
       "                                  Alameda  Micrograms/cubic meter (LC)  \n",
       "                                  Alameda  Micrograms/cubic meter (LC)  \n",
       "                                  Alameda  Micrograms/cubic meter (LC)  \n",
       "                                  Alameda  Micrograms/cubic meter (LC)  "
      ]
     },
     "execution_count": 5,
     "metadata": {},
     "output_type": "execute_result"
    }
   ],
   "source": [
    "## modify the index: each would represent a unique site, i.e. site_number, latitude, longitude, county would be combined to be a unique index\n",
    "\n",
    "sub_df.set_index(['site_number', 'latitude', 'longitude', 'county'], inplace=True)\n",
    "\n",
    "sub_df.head()"
   ]
  },
  {
   "cell_type": "code",
   "execution_count": 6,
   "metadata": {},
   "outputs": [
    {
     "name": "stderr",
     "output_type": "stream",
     "text": [
      "C:\\Users\\tim09\\AppData\\Local\\Temp\\ipykernel_16208\\3643344816.py:3: FutureWarning: The default value of numeric_only in DataFrameGroupBy.mean is deprecated. In a future version, numeric_only will default to False. Either specify numeric_only or select only columns which should be valid for the function.\n",
      "  sub_df2 = sub_df.groupby(['site_number', 'latitude', 'longitude', 'county', 'date_gmt']).mean()\n"
     ]
    },
    {
     "data": {
      "text/html": [
       "<div>\n",
       "<style scoped>\n",
       "    .dataframe tbody tr th:only-of-type {\n",
       "        vertical-align: middle;\n",
       "    }\n",
       "\n",
       "    .dataframe tbody tr th {\n",
       "        vertical-align: top;\n",
       "    }\n",
       "\n",
       "    .dataframe thead th {\n",
       "        text-align: right;\n",
       "    }\n",
       "</style>\n",
       "<table border=\"1\" class=\"dataframe\">\n",
       "  <thead>\n",
       "    <tr style=\"text-align: right;\">\n",
       "      <th></th>\n",
       "      <th></th>\n",
       "      <th></th>\n",
       "      <th></th>\n",
       "      <th></th>\n",
       "      <th>sample_measurement</th>\n",
       "    </tr>\n",
       "    <tr>\n",
       "      <th>site_number</th>\n",
       "      <th>latitude</th>\n",
       "      <th>longitude</th>\n",
       "      <th>county</th>\n",
       "      <th>date_gmt</th>\n",
       "      <th></th>\n",
       "    </tr>\n",
       "  </thead>\n",
       "  <tbody>\n",
       "    <tr>\n",
       "      <th rowspan=\"5\" valign=\"top\">1</th>\n",
       "      <th rowspan=\"5\" valign=\"top\">32.631242</th>\n",
       "      <th rowspan=\"5\" valign=\"top\">-117.059088</th>\n",
       "      <th rowspan=\"5\" valign=\"top\">San Diego</th>\n",
       "      <th>2010-01-02</th>\n",
       "      <td>10.2</td>\n",
       "    </tr>\n",
       "    <tr>\n",
       "      <th>2010-01-08</th>\n",
       "      <td>7.9</td>\n",
       "    </tr>\n",
       "    <tr>\n",
       "      <th>2010-01-11</th>\n",
       "      <td>9.2</td>\n",
       "    </tr>\n",
       "    <tr>\n",
       "      <th>2010-01-14</th>\n",
       "      <td>10.4</td>\n",
       "    </tr>\n",
       "    <tr>\n",
       "      <th>2010-01-20</th>\n",
       "      <td>9.1</td>\n",
       "    </tr>\n",
       "  </tbody>\n",
       "</table>\n",
       "</div>"
      ],
      "text/plain": [
       "                                                        sample_measurement\n",
       "site_number latitude  longitude   county    date_gmt                      \n",
       "1           32.631242 -117.059088 San Diego 2010-01-02                10.2\n",
       "                                            2010-01-08                 7.9\n",
       "                                            2010-01-11                 9.2\n",
       "                                            2010-01-14                10.4\n",
       "                                            2010-01-20                 9.1"
      ]
     },
     "execution_count": 6,
     "metadata": {},
     "output_type": "execute_result"
    }
   ],
   "source": [
    "## we want to calculated the mean of sample_measurement for each site on each date_gmt\n",
    "\n",
    "sub_df2 = sub_df.groupby(['site_number', 'latitude', 'longitude', 'county', 'date_gmt']).mean()\n",
    "\n",
    "sub_df2.head()\n"
   ]
  },
  {
   "cell_type": "code",
   "execution_count": 9,
   "metadata": {},
   "outputs": [
    {
     "data": {
      "text/html": [
       "<div>\n",
       "<style scoped>\n",
       "    .dataframe tbody tr th:only-of-type {\n",
       "        vertical-align: middle;\n",
       "    }\n",
       "\n",
       "    .dataframe tbody tr th {\n",
       "        vertical-align: top;\n",
       "    }\n",
       "\n",
       "    .dataframe thead th {\n",
       "        text-align: right;\n",
       "    }\n",
       "</style>\n",
       "<table border=\"1\" class=\"dataframe\">\n",
       "  <thead>\n",
       "    <tr style=\"text-align: right;\">\n",
       "      <th></th>\n",
       "      <th></th>\n",
       "      <th></th>\n",
       "      <th></th>\n",
       "      <th></th>\n",
       "      <th>sample_measurement</th>\n",
       "    </tr>\n",
       "    <tr>\n",
       "      <th>site_number</th>\n",
       "      <th>latitude</th>\n",
       "      <th>longitude</th>\n",
       "      <th>county</th>\n",
       "      <th>date_gmt</th>\n",
       "      <th></th>\n",
       "    </tr>\n",
       "  </thead>\n",
       "  <tbody>\n",
       "    <tr>\n",
       "      <th rowspan=\"5\" valign=\"top\">1</th>\n",
       "      <th rowspan=\"5\" valign=\"top\">32.631242</th>\n",
       "      <th rowspan=\"5\" valign=\"top\">-117.059088</th>\n",
       "      <th rowspan=\"5\" valign=\"top\">San Diego</th>\n",
       "      <th>2010-01-02</th>\n",
       "      <td>10.2</td>\n",
       "    </tr>\n",
       "    <tr>\n",
       "      <th>2010-01-08</th>\n",
       "      <td>7.9</td>\n",
       "    </tr>\n",
       "    <tr>\n",
       "      <th>2010-01-11</th>\n",
       "      <td>9.2</td>\n",
       "    </tr>\n",
       "    <tr>\n",
       "      <th>2010-01-14</th>\n",
       "      <td>10.4</td>\n",
       "    </tr>\n",
       "    <tr>\n",
       "      <th>2010-01-20</th>\n",
       "      <td>9.1</td>\n",
       "    </tr>\n",
       "    <tr>\n",
       "      <th>...</th>\n",
       "      <th>...</th>\n",
       "      <th>...</th>\n",
       "      <th>...</th>\n",
       "      <th>...</th>\n",
       "      <td>...</td>\n",
       "    </tr>\n",
       "    <tr>\n",
       "      <th rowspan=\"5\" valign=\"top\">9033</th>\n",
       "      <th rowspan=\"5\" valign=\"top\">34.669739</th>\n",
       "      <th rowspan=\"5\" valign=\"top\">-118.130511</th>\n",
       "      <th rowspan=\"5\" valign=\"top\">Los Angeles</th>\n",
       "      <th>2010-11-16</th>\n",
       "      <td>6.0</td>\n",
       "    </tr>\n",
       "    <tr>\n",
       "      <th>2010-11-28</th>\n",
       "      <td>2.0</td>\n",
       "    </tr>\n",
       "    <tr>\n",
       "      <th>2010-12-04</th>\n",
       "      <td>14.0</td>\n",
       "    </tr>\n",
       "    <tr>\n",
       "      <th>2010-12-22</th>\n",
       "      <td>2.0</td>\n",
       "    </tr>\n",
       "    <tr>\n",
       "      <th>2010-12-28</th>\n",
       "      <td>6.0</td>\n",
       "    </tr>\n",
       "  </tbody>\n",
       "</table>\n",
       "<p>18557 rows × 1 columns</p>\n",
       "</div>"
      ],
      "text/plain": [
       "                                                          sample_measurement\n",
       "site_number latitude  longitude   county      date_gmt                      \n",
       "1           32.631242 -117.059088 San Diego   2010-01-02                10.2\n",
       "                                              2010-01-08                 7.9\n",
       "                                              2010-01-11                 9.2\n",
       "                                              2010-01-14                10.4\n",
       "                                              2010-01-20                 9.1\n",
       "...                                                                      ...\n",
       "9033        34.669739 -118.130511 Los Angeles 2010-11-16                 6.0\n",
       "                                              2010-11-28                 2.0\n",
       "                                              2010-12-04                14.0\n",
       "                                              2010-12-22                 2.0\n",
       "                                              2010-12-28                 6.0\n",
       "\n",
       "[18557 rows x 1 columns]"
      ]
     },
     "execution_count": 9,
     "metadata": {},
     "output_type": "execute_result"
    }
   ],
   "source": [
    "sub_df2"
   ]
  },
  {
   "cell_type": "code",
   "execution_count": 11,
   "metadata": {},
   "outputs": [],
   "source": [
    "## find those sample_measurement > 15.5\n",
    "\n",
    "sub_df_danger = sub_df2[sub_df2['sample_measurement'] > 15.5]"
   ]
  },
  {
   "cell_type": "code",
   "execution_count": 12,
   "metadata": {},
   "outputs": [
    {
     "data": {
      "text/html": [
       "<div>\n",
       "<style scoped>\n",
       "    .dataframe tbody tr th:only-of-type {\n",
       "        vertical-align: middle;\n",
       "    }\n",
       "\n",
       "    .dataframe tbody tr th {\n",
       "        vertical-align: top;\n",
       "    }\n",
       "\n",
       "    .dataframe thead th {\n",
       "        text-align: right;\n",
       "    }\n",
       "</style>\n",
       "<table border=\"1\" class=\"dataframe\">\n",
       "  <thead>\n",
       "    <tr style=\"text-align: right;\">\n",
       "      <th></th>\n",
       "      <th></th>\n",
       "      <th></th>\n",
       "      <th></th>\n",
       "      <th></th>\n",
       "      <th>sample_measurement</th>\n",
       "    </tr>\n",
       "    <tr>\n",
       "      <th>site_number</th>\n",
       "      <th>latitude</th>\n",
       "      <th>longitude</th>\n",
       "      <th>county</th>\n",
       "      <th>date_gmt</th>\n",
       "      <th></th>\n",
       "    </tr>\n",
       "  </thead>\n",
       "  <tbody>\n",
       "    <tr>\n",
       "      <th rowspan=\"5\" valign=\"top\">1</th>\n",
       "      <th rowspan=\"5\" valign=\"top\">32.631242</th>\n",
       "      <th rowspan=\"5\" valign=\"top\">-117.059088</th>\n",
       "      <th rowspan=\"5\" valign=\"top\">San Diego</th>\n",
       "      <th>2010-03-21</th>\n",
       "      <td>16.0</td>\n",
       "    </tr>\n",
       "    <tr>\n",
       "      <th>2010-04-26</th>\n",
       "      <td>16.0</td>\n",
       "    </tr>\n",
       "    <tr>\n",
       "      <th>2010-08-24</th>\n",
       "      <td>17.8</td>\n",
       "    </tr>\n",
       "    <tr>\n",
       "      <th>2010-10-11</th>\n",
       "      <td>19.4</td>\n",
       "    </tr>\n",
       "    <tr>\n",
       "      <th>2010-12-04</th>\n",
       "      <td>22.7</td>\n",
       "    </tr>\n",
       "    <tr>\n",
       "      <th>...</th>\n",
       "      <th>...</th>\n",
       "      <th>...</th>\n",
       "      <th>...</th>\n",
       "      <th>...</th>\n",
       "      <td>...</td>\n",
       "    </tr>\n",
       "    <tr>\n",
       "      <th rowspan=\"5\" valign=\"top\">9004</th>\n",
       "      <th rowspan=\"5\" valign=\"top\">34.106678</th>\n",
       "      <th rowspan=\"5\" valign=\"top\">-117.274063</th>\n",
       "      <th rowspan=\"5\" valign=\"top\">San Bernardino</th>\n",
       "      <th>2010-10-17</th>\n",
       "      <td>21.6</td>\n",
       "    </tr>\n",
       "    <tr>\n",
       "      <th>2010-11-19</th>\n",
       "      <td>39.3</td>\n",
       "    </tr>\n",
       "    <tr>\n",
       "      <th>2010-12-04</th>\n",
       "      <td>22.2</td>\n",
       "    </tr>\n",
       "    <tr>\n",
       "      <th>2010-12-10</th>\n",
       "      <td>38.3</td>\n",
       "    </tr>\n",
       "    <tr>\n",
       "      <th>2010-12-25</th>\n",
       "      <td>23.2</td>\n",
       "    </tr>\n",
       "  </tbody>\n",
       "</table>\n",
       "<p>2498 rows × 1 columns</p>\n",
       "</div>"
      ],
      "text/plain": [
       "                                                             sample_measurement\n",
       "site_number latitude  longitude   county         date_gmt                      \n",
       "1           32.631242 -117.059088 San Diego      2010-03-21                16.0\n",
       "                                                 2010-04-26                16.0\n",
       "                                                 2010-08-24                17.8\n",
       "                                                 2010-10-11                19.4\n",
       "                                                 2010-12-04                22.7\n",
       "...                                                                         ...\n",
       "9004        34.106678 -117.274063 San Bernardino 2010-10-17                21.6\n",
       "                                                 2010-11-19                39.3\n",
       "                                                 2010-12-04                22.2\n",
       "                                                 2010-12-10                38.3\n",
       "                                                 2010-12-25                23.2\n",
       "\n",
       "[2498 rows x 1 columns]"
      ]
     },
     "execution_count": 12,
     "metadata": {},
     "output_type": "execute_result"
    }
   ],
   "source": [
    "sub_df_danger"
   ]
  }
 ],
 "metadata": {
  "kernelspec": {
   "display_name": "Projec16B",
   "language": "python",
   "name": "python3"
  },
  "language_info": {
   "codemirror_mode": {
    "name": "ipython",
    "version": 3
   },
   "file_extension": ".py",
   "mimetype": "text/x-python",
   "name": "python",
   "nbconvert_exporter": "python",
   "pygments_lexer": "ipython3",
   "version": "3.9.15"
  },
  "orig_nbformat": 4
 },
 "nbformat": 4,
 "nbformat_minor": 2
}
