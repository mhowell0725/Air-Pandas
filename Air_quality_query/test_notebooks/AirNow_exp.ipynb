{
 "cells": [
  {
   "cell_type": "code",
   "execution_count": 1,
   "metadata": {},
   "outputs": [
    {
     "name": "stdout",
     "output_type": "stream",
     "text": [
      "Looking in indexes: https://mirrors.bfsu.edu.cn/pypi/web/simple\n",
      "Collecting pyairnow\n",
      "  Downloading https://mirrors.bfsu.edu.cn/pypi/web/packages/01/c2/6f25406950413084c730ecc8c1edb6fcfef2ceec5b830226a4e8aef895e0/pyairnow-1.2.1-py3-none-any.whl (8.0 kB)\n",
      "Requirement already satisfied: aiohttp<4.0.0,>=3.8.3 in c:\\users\\tim09\\anaconda3\\envs\\16a\\lib\\site-packages (from pyairnow) (3.8.4)\n",
      "Requirement already satisfied: attrs>=17.3.0 in c:\\users\\tim09\\anaconda3\\envs\\16a\\lib\\site-packages (from aiohttp<4.0.0,>=3.8.3->pyairnow) (22.1.0)\n",
      "Requirement already satisfied: multidict<7.0,>=4.5 in c:\\users\\tim09\\anaconda3\\envs\\16a\\lib\\site-packages (from aiohttp<4.0.0,>=3.8.3->pyairnow) (6.0.4)\n",
      "Requirement already satisfied: charset-normalizer<4.0,>=2.0 in c:\\users\\tim09\\anaconda3\\envs\\16a\\lib\\site-packages (from aiohttp<4.0.0,>=3.8.3->pyairnow) (2.0.4)\n",
      "Requirement already satisfied: async-timeout<5.0,>=4.0.0a3 in c:\\users\\tim09\\anaconda3\\envs\\16a\\lib\\site-packages (from aiohttp<4.0.0,>=3.8.3->pyairnow) (4.0.2)\n",
      "Requirement already satisfied: yarl<2.0,>=1.0 in c:\\users\\tim09\\anaconda3\\envs\\16a\\lib\\site-packages (from aiohttp<4.0.0,>=3.8.3->pyairnow) (1.8.2)\n",
      "Requirement already satisfied: aiosignal>=1.1.2 in c:\\users\\tim09\\anaconda3\\envs\\16a\\lib\\site-packages (from aiohttp<4.0.0,>=3.8.3->pyairnow) (1.3.1)\n",
      "Requirement already satisfied: frozenlist>=1.1.1 in c:\\users\\tim09\\anaconda3\\envs\\16a\\lib\\site-packages (from aiohttp<4.0.0,>=3.8.3->pyairnow) (1.3.3)\n",
      "Requirement already satisfied: idna>=2.0 in c:\\users\\tim09\\anaconda3\\envs\\16a\\lib\\site-packages (from yarl<2.0,>=1.0->aiohttp<4.0.0,>=3.8.3->pyairnow) (3.4)\n",
      "Installing collected packages: pyairnow\n",
      "Successfully installed pyairnow-1.2.1\n",
      "Note: you may need to restart the kernel to use updated packages.\n"
     ]
    }
   ],
   "source": [
    "%pip install pyairnow"
   ]
  },
  {
   "cell_type": "code",
   "execution_count": 2,
   "metadata": {},
   "outputs": [
    {
     "name": "stdout",
     "output_type": "stream",
     "text": [
      "Looking in indexes: https://mirrors.bfsu.edu.cn/pypi/web/simple\n",
      "Collecting asyncio\n",
      "  Downloading https://mirrors.bfsu.edu.cn/pypi/web/packages/22/74/07679c5b9f98a7cb0fc147b1ef1cc1853bc07a4eb9cb5731e24732c5f773/asyncio-3.4.3-py3-none-any.whl (101 kB)\n",
      "     ------------------------------------ 101.8/101.8 kB 167.3 kB/s eta 0:00:00\n",
      "Installing collected packages: asyncio\n",
      "Successfully installed asyncio-3.4.3\n",
      "Note: you may need to restart the kernel to use updated packages.\n",
      "Looking in indexes: https://mirrors.bfsu.edu.cn/pypi/web/simple\n",
      "Note: you may need to restart the kernel to use updated packages.\n"
     ]
    },
    {
     "name": "stderr",
     "output_type": "stream",
     "text": [
      "ERROR: Could not find a version that satisfies the requirement datatime (from versions: none)\n",
      "ERROR: No matching distribution found for datatime\n"
     ]
    }
   ],
   "source": [
    "%pip install asyncio\n",
    "%pip install datatime"
   ]
  },
  {
   "cell_type": "code",
   "execution_count": 13,
   "metadata": {},
   "outputs": [],
   "source": [
    "import asyncio\n",
    "import datetime\n",
    "\n",
    "from pyairnow import WebServiceAPI\n",
    "\n",
    "\n",
    "async def main() -> None:\n",
    "  client = WebServiceAPI('C19E652A-FC64-4A48-A3B9-A1B0939C9E3A')\n",
    "\n",
    "  # Get current observational data based on a zip code\n",
    "  data = await client.observations.zipCode(\n",
    "    '90001',\n",
    "    # if there are no observation stations in this zip code, optionally\n",
    "    # provide a radius to search (in miles)\n",
    "    distance=50,\n",
    "  )\n",
    "  print(data)\n",
    "  print(type(data))\n",
    "  print(data[0])\n",
    " \n",
    "\n",
    "#   # Get current observational data based on a latitude and longitude\n",
    "#   data = await client.observations.latLong(\n",
    "#     34.053718, -118.244842,\n",
    "#     # if there are no observation stations at this location, optionally\n",
    "#     # provide a radius to search (in miles)\n",
    "#     distance=50,\n",
    "#   )\n",
    "\n",
    "#   # Get forecast data based on a zip code\n",
    "#   data = await client.forecast.zipCode(\n",
    "#     '90001',\n",
    "#     # to get a forecast for a certain day, provide a date in yyyy-mm-dd,\n",
    "#     # if not specified the current day will be used\n",
    "#     date='2020-09-01',\n",
    "#     # if there are no observation stations in this zip code, optionally\n",
    "#     # provide a radius to search (in miles)\n",
    "#     distance=50,\n",
    "#   )\n",
    "\n",
    "#   # Get forecast data based on a latitude and longitude\n",
    "#   data = await client.forecast.latLong(\n",
    "#     # Lat/Long may be strings or floats\n",
    "#     '34.053718', '-118.244842',\n",
    "#     # forecast dates may also be datetime.date or datetime.datetime objects\n",
    "#     date=datetime.date(2020, 9, 1),\n",
    "#     # if there are no observation stations in this zip code, optionally\n",
    "#     # provide a radius to search (in miles)\n",
    "#     distance=50,\n",
    "#   )\n",
    "\n",
    "\n"
   ]
  },
  {
   "cell_type": "code",
   "execution_count": 14,
   "metadata": {},
   "outputs": [
    {
     "name": "stdout",
     "output_type": "stream",
     "text": [
      "[{'DateObserved': '2023-05-10 ', 'HourObserved': 21, 'LocalTimeZone': 'PST', 'ReportingArea': 'S Central LA CO', 'StateCode': 'CA', 'Latitude': 33.9288, 'Longitude': -118.2108, 'ParameterName': 'O3', 'AQI': 31, 'Category': {'Number': 1, 'Name': 'Good'}}, {'DateObserved': '2023-05-10 ', 'HourObserved': 21, 'LocalTimeZone': 'PST', 'ReportingArea': 'S Central LA CO', 'StateCode': 'CA', 'Latitude': 33.9288, 'Longitude': -118.2108, 'ParameterName': 'PM2.5', 'AQI': 26, 'Category': {'Number': 1, 'Name': 'Good'}}]\n",
      "<class 'list'>\n",
      "{'DateObserved': '2023-05-10 ', 'HourObserved': 21, 'LocalTimeZone': 'PST', 'ReportingArea': 'S Central LA CO', 'StateCode': 'CA', 'Latitude': 33.9288, 'Longitude': -118.2108, 'ParameterName': 'O3', 'AQI': 31, 'Category': {'Number': 1, 'Name': 'Good'}}\n"
     ]
    }
   ],
   "source": [
    "await main()"
   ]
  },
  {
   "cell_type": "code",
   "execution_count": 1,
   "metadata": {},
   "outputs": [
    {
     "ename": "EmptyResponseError",
     "evalue": "No data was returned",
     "output_type": "error",
     "traceback": [
      "\u001b[1;31m---------------------------------------------------------------------------\u001b[0m",
      "\u001b[1;31mEmptyResponseError\u001b[0m                        Traceback (most recent call last)",
      "Cell \u001b[1;32mIn[1], line 29\u001b[0m\n\u001b[0;32m     26\u001b[0m     \u001b[39m# Print the final DataFrame\u001b[39;00m\n\u001b[0;32m     27\u001b[0m     \u001b[39mprint\u001b[39m(final_df)\n\u001b[1;32m---> 29\u001b[0m \u001b[39mawait\u001b[39;00m main()\n",
      "Cell \u001b[1;32mIn[1], line 13\u001b[0m, in \u001b[0;36mmain\u001b[1;34m()\u001b[0m\n\u001b[0;32m     10\u001b[0m \u001b[39m# Loop over the range of zip codes\u001b[39;00m\n\u001b[0;32m     11\u001b[0m \u001b[39mfor\u001b[39;00m zip_code \u001b[39min\u001b[39;00m \u001b[39mrange\u001b[39m(\u001b[39m90001\u001b[39m, \u001b[39m90051\u001b[39m): \u001b[39m## can be change\u001b[39;00m\n\u001b[0;32m     12\u001b[0m     \u001b[39m# Get current observational data based on the zip code\u001b[39;00m\n\u001b[1;32m---> 13\u001b[0m     data \u001b[39m=\u001b[39m \u001b[39mawait\u001b[39;00m client\u001b[39m.\u001b[39mobservations\u001b[39m.\u001b[39mzipCode(\n\u001b[0;32m     14\u001b[0m         \u001b[39mstr\u001b[39m(zip_code),\n\u001b[0;32m     15\u001b[0m         \u001b[39m# if there are no observation stations in this zip code, optionally\u001b[39;00m\n\u001b[0;32m     16\u001b[0m         \u001b[39m# provide a radius to search (in miles)\u001b[39;00m\n\u001b[0;32m     17\u001b[0m         distance\u001b[39m=\u001b[39m\u001b[39m50\u001b[39m,\n\u001b[0;32m     18\u001b[0m     )\n\u001b[0;32m     20\u001b[0m     \u001b[39m# Convert the data to a DataFrame and add it to the list\u001b[39;00m\n\u001b[0;32m     21\u001b[0m     dfs\u001b[39m.\u001b[39mappend(pd\u001b[39m.\u001b[39mDataFrame(data))\n",
      "File \u001b[1;32mc:\\Users\\tim09\\anaconda3\\envs\\16A\\lib\\site-packages\\pyairnow\\observation.py:24\u001b[0m, in \u001b[0;36mObservations.zipCode\u001b[1;34m(self, zipCode, distance)\u001b[0m\n\u001b[0;32m     21\u001b[0m \u001b[39mif\u001b[39;00m distance:\n\u001b[0;32m     22\u001b[0m     params[\u001b[39m'\u001b[39m\u001b[39mdistance\u001b[39m\u001b[39m'\u001b[39m] \u001b[39m=\u001b[39m distance\n\u001b[1;32m---> 24\u001b[0m \u001b[39mreturn\u001b[39;00m \u001b[39mawait\u001b[39;00m \u001b[39mself\u001b[39m\u001b[39m.\u001b[39m_request(\n\u001b[0;32m     25\u001b[0m     \u001b[39m'\u001b[39m\u001b[39maq/observation/zipCode/current\u001b[39m\u001b[39m'\u001b[39m,\n\u001b[0;32m     26\u001b[0m     params\u001b[39m=\u001b[39mparams\n\u001b[0;32m     27\u001b[0m )\n",
      "File \u001b[1;32mc:\\Users\\tim09\\anaconda3\\envs\\16A\\lib\\site-packages\\pyairnow\\api.py:86\u001b[0m, in \u001b[0;36mWebServiceAPI._get\u001b[1;34m(self, endpoint, base_url, **kwargs)\u001b[0m\n\u001b[0;32m     80\u001b[0m     \u001b[39mraise\u001b[39;00m InvalidJsonError(\n\u001b[0;32m     81\u001b[0m         \u001b[39m'\u001b[39m\u001b[39mUnexpected response type: \u001b[39m\u001b[39m%s\u001b[39;00m\u001b[39m'\u001b[39m \u001b[39m%\u001b[39m (\u001b[39mtype\u001b[39m(data))\n\u001b[0;32m     82\u001b[0m     )\n\u001b[0;32m     84\u001b[0m \u001b[39melif\u001b[39;00m \u001b[39mlen\u001b[39m(data) \u001b[39m==\u001b[39m \u001b[39m0\u001b[39m:\n\u001b[0;32m     85\u001b[0m     \u001b[39m# No objects were returned\u001b[39;00m\n\u001b[1;32m---> 86\u001b[0m     \u001b[39mraise\u001b[39;00m EmptyResponseError(\u001b[39m'\u001b[39m\u001b[39mNo data was returned\u001b[39m\u001b[39m'\u001b[39m)\n\u001b[0;32m     88\u001b[0m \u001b[39m# Return list of objects for further processing\u001b[39;00m\n\u001b[0;32m     89\u001b[0m \u001b[39mreturn\u001b[39;00m data\n",
      "\u001b[1;31mEmptyResponseError\u001b[0m: No data was returned"
     ]
    }
   ],
   "source": [
    "import asyncio\n",
    "import pandas as pd\n",
    "from pyairnow import WebServiceAPI\n",
    "\n",
    "async def main() -> None:\n",
    "    client = WebServiceAPI('C19E652A-FC64-4A48-A3B9-A1B0939C9E3A')\n",
    "\n",
    "    dfs = []  # A list to hold each DataFrame\n",
    "\n",
    "    # Loop over the range of zip codes\n",
    "    for zip_code in range(90001, 90051): ## can be change\n",
    "        # Get current observational data based on the zip code\n",
    "        data = await client.observations.zipCode(\n",
    "            str(zip_code),\n",
    "            # if there are no observation stations in this zip code, optionally\n",
    "            # provide a radius to search (in miles)\n",
    "            distance=50,\n",
    "        )\n",
    "\n",
    "        # Convert the data to a DataFrame and add it to the list\n",
    "        dfs.append(pd.DataFrame(data))\n",
    "\n",
    "    # Concatenate all the DataFrames into one\n",
    "    final_df = pd.concat(dfs, ignore_index=True)\n",
    "\n",
    "    # Print the final DataFrame\n",
    "    print(final_df)\n",
    "\n",
    "await main()"
   ]
  }
 ],
 "metadata": {
  "kernelspec": {
   "display_name": "16A",
   "language": "python",
   "name": "python3"
  },
  "language_info": {
   "codemirror_mode": {
    "name": "ipython",
    "version": 3
   },
   "file_extension": ".py",
   "mimetype": "text/x-python",
   "name": "python",
   "nbconvert_exporter": "python",
   "pygments_lexer": "ipython3",
   "version": "3.9.15"
  },
  "orig_nbformat": 4
 },
 "nbformat": 4,
 "nbformat_minor": 2
}
