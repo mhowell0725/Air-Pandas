{
 "cells": [
  {
   "cell_type": "code",
   "execution_count": 10,
   "metadata": {},
   "outputs": [],
   "source": [
    "import requests\n",
    "import json\n",
    "import pandas as pd\n"
   ]
  },
  {
   "attachments": {},
   "cell_type": "markdown",
   "metadata": {},
   "source": [
    "### US official EPA AQS air quality dataset --\n",
    "\n",
    "`https://www.epa.gov/aqs/aqs-code-list`\n",
    "\n",
    "You need to get your API for AQS and make a txt file `myEmailKey.txt` to store your email and key in the first two lines.\n",
    "\n",
    "Also, note that sometimes it may not allow you to access the API due to internet and geographical conditions! Try different connection and devices ~"
   ]
  },
  {
   "cell_type": "code",
   "execution_count": 11,
   "metadata": {},
   "outputs": [
    {
     "name": "stdout",
     "output_type": "stream",
     "text": [
      "{'Header': [{'status': 'Success', 'request_time': '2023-05-08T23:38:29-04:00', 'url': 'https://aqs.epa.gov/data/api/list/countiesByState?email=zhu.tim99%40gmail.com&key=copperswift75&state=37', 'rows': 100}], 'Data': [{'code': '001', 'value_represented': 'Alamance'}, {'code': '003', 'value_represented': 'Alexander'}, {'code': '005', 'value_represented': 'Alleghany'}, {'code': '007', 'value_represented': 'Anson'}, {'code': '009', 'value_represented': 'Ashe'}, {'code': '011', 'value_represented': 'Avery'}, {'code': '013', 'value_represented': 'Beaufort'}, {'code': '015', 'value_represented': 'Bertie'}, {'code': '017', 'value_represented': 'Bladen'}, {'code': '019', 'value_represented': 'Brunswick'}, {'code': '021', 'value_represented': 'Buncombe'}, {'code': '023', 'value_represented': 'Burke'}, {'code': '025', 'value_represented': 'Cabarrus'}, {'code': '027', 'value_represented': 'Caldwell'}, {'code': '029', 'value_represented': 'Camden'}, {'code': '031', 'value_represented': 'Carteret'}, {'code': '033', 'value_represented': 'Caswell'}, {'code': '035', 'value_represented': 'Catawba'}, {'code': '037', 'value_represented': 'Chatham'}, {'code': '039', 'value_represented': 'Cherokee'}, {'code': '041', 'value_represented': 'Chowan'}, {'code': '043', 'value_represented': 'Clay'}, {'code': '045', 'value_represented': 'Cleveland'}, {'code': '047', 'value_represented': 'Columbus'}, {'code': '049', 'value_represented': 'Craven'}, {'code': '051', 'value_represented': 'Cumberland'}, {'code': '053', 'value_represented': 'Currituck'}, {'code': '055', 'value_represented': 'Dare'}, {'code': '057', 'value_represented': 'Davidson'}, {'code': '059', 'value_represented': 'Davie'}, {'code': '061', 'value_represented': 'Duplin'}, {'code': '063', 'value_represented': 'Durham'}, {'code': '065', 'value_represented': 'Edgecombe'}, {'code': '067', 'value_represented': 'Forsyth'}, {'code': '069', 'value_represented': 'Franklin'}, {'code': '071', 'value_represented': 'Gaston'}, {'code': '073', 'value_represented': 'Gates'}, {'code': '075', 'value_represented': 'Graham'}, {'code': '077', 'value_represented': 'Granville'}, {'code': '079', 'value_represented': 'Greene'}, {'code': '081', 'value_represented': 'Guilford'}, {'code': '083', 'value_represented': 'Halifax'}, {'code': '085', 'value_represented': 'Harnett'}, {'code': '087', 'value_represented': 'Haywood'}, {'code': '089', 'value_represented': 'Henderson'}, {'code': '091', 'value_represented': 'Hertford'}, {'code': '093', 'value_represented': 'Hoke'}, {'code': '095', 'value_represented': 'Hyde'}, {'code': '097', 'value_represented': 'Iredell'}, {'code': '099', 'value_represented': 'Jackson'}, {'code': '101', 'value_represented': 'Johnston'}, {'code': '103', 'value_represented': 'Jones'}, {'code': '105', 'value_represented': 'Lee'}, {'code': '107', 'value_represented': 'Lenoir'}, {'code': '109', 'value_represented': 'Lincoln'}, {'code': '111', 'value_represented': 'McDowell'}, {'code': '113', 'value_represented': 'Macon'}, {'code': '115', 'value_represented': 'Madison'}, {'code': '117', 'value_represented': 'Martin'}, {'code': '119', 'value_represented': 'Mecklenburg'}, {'code': '121', 'value_represented': 'Mitchell'}, {'code': '123', 'value_represented': 'Montgomery'}, {'code': '125', 'value_represented': 'Moore'}, {'code': '127', 'value_represented': 'Nash'}, {'code': '129', 'value_represented': 'New Hanover'}, {'code': '131', 'value_represented': 'Northampton'}, {'code': '133', 'value_represented': 'Onslow'}, {'code': '135', 'value_represented': 'Orange'}, {'code': '137', 'value_represented': 'Pamlico'}, {'code': '139', 'value_represented': 'Pasquotank'}, {'code': '141', 'value_represented': 'Pender'}, {'code': '143', 'value_represented': 'Perquimans'}, {'code': '145', 'value_represented': 'Person'}, {'code': '147', 'value_represented': 'Pitt'}, {'code': '149', 'value_represented': 'Polk'}, {'code': '151', 'value_represented': 'Randolph'}, {'code': '153', 'value_represented': 'Richmond'}, {'code': '155', 'value_represented': 'Robeson'}, {'code': '157', 'value_represented': 'Rockingham'}, {'code': '159', 'value_represented': 'Rowan'}, {'code': '161', 'value_represented': 'Rutherford'}, {'code': '163', 'value_represented': 'Sampson'}, {'code': '165', 'value_represented': 'Scotland'}, {'code': '167', 'value_represented': 'Stanly'}, {'code': '169', 'value_represented': 'Stokes'}, {'code': '171', 'value_represented': 'Surry'}, {'code': '173', 'value_represented': 'Swain'}, {'code': '175', 'value_represented': 'Transylvania'}, {'code': '177', 'value_represented': 'Tyrrell'}, {'code': '179', 'value_represented': 'Union'}, {'code': '181', 'value_represented': 'Vance'}, {'code': '183', 'value_represented': 'Wake'}, {'code': '185', 'value_represented': 'Warren'}, {'code': '187', 'value_represented': 'Washington'}, {'code': '189', 'value_represented': 'Watauga'}, {'code': '191', 'value_represented': 'Wayne'}, {'code': '193', 'value_represented': 'Wilkes'}, {'code': '195', 'value_represented': 'Wilson'}, {'code': '197', 'value_represented': 'Yadkin'}, {'code': '199', 'value_represented': 'Yancey'}]}\n"
     ]
    }
   ],
   "source": [
    "# Read email and API key from the file\n",
    "with open(\"myEmailKey.txt\", \"r\") as file:\n",
    "    email = file.readline().strip()\n",
    "    api_key = file.readline().strip()\n",
    "\n",
    "# Define the base API URL\n",
    "base_url = \"https://aqs.epa.gov/data/api\"\n",
    "\n",
    "# Define the endpoint and parameters\n",
    "endpoint = \"/list/countiesByState\"\n",
    "params = {\n",
    "    \"email\": email,\n",
    "    \"key\": api_key,\n",
    "    \"state\": \"37\"\n",
    "}\n",
    "\n",
    "# Make the GET request with SSL/TLS verification disabled (NOT recommended for production)\n",
    "response = requests.get(base_url + endpoint, params=params)\n",
    "\n",
    "# Check if the request was successful (status code 200)\n",
    "if response.status_code == 200:\n",
    "    data = response.json()\n",
    "    print(data)\n",
    "else:\n",
    "    print(f\"Error: {response.status_code}\")\n"
   ]
  },
  {
   "cell_type": "code",
   "execution_count": 3,
   "metadata": {},
   "outputs": [],
   "source": [
    "## similarly we can get different data using the same sturcture\n",
    "# Read email and API key from the file\n",
    "with open(\"myEmailKey.txt\", \"r\") as file:\n",
    "    email = file.readline().strip()\n",
    "    api_key = file.readline().strip()\n",
    "\n",
    "# Define the base API URL\n",
    "base_url = \"https://aqs.epa.gov/data/api\"\n"
   ]
  },
  {
   "cell_type": "code",
   "execution_count": null,
   "metadata": {},
   "outputs": [],
   "source": [
    "## quarterly summary data by county e.g Example; returns quarterly summary FRM/FEM and non-FRM PM2.5 data for Wake County for 2016: https://aqs.epa.gov/data/api/quarterlyData/byCounty?email=test@aqs.api&key=test&param=88101,88502&bdate=20160101&edate=20160228&state=37&county=183\n",
    "\n",
    "## we want LA county data for 2019 qualters 1 \n",
    "\n",
    "endpoint = \"/quarterlyData/byCounty\"\n",
    "params = {\n",
    "    \"email\": email,\n",
    "    \"key\": api_key,\n",
    "    \"param\": \"88101,88502\",\n",
    "    \"bdate\": \"20190101\",\n",
    "    \"edate\": \"20191231\",\n",
    "    \"state\": \"06\",\n",
    "    \"county\": \"037\"\n",
    "}\n",
    "\n",
    "# Get the data\n",
    "data = get_data(base_url, endpoint, params)\n",
    "\n",
    "# Create a DataFrame from the JSON response\n",
    "\n",
    "df = pd.DataFrame.from_dict(data[\"Data\"])\n",
    "\n",
    "df"
   ]
  },
  {
   "cell_type": "code",
   "execution_count": 18,
   "metadata": {},
   "outputs": [
    {
     "data": {
      "text/plain": [
       "Index(['state_code', 'county_code', 'site_number', 'parameter_code', 'poc',\n",
       "       'latitude', 'longitude', 'datum', 'parameter', 'sample_duration',\n",
       "       'sample_duration_code', 'sample_duration_type', 'pollutant_standard',\n",
       "       'year', 'quarter', 'units_of_measure', 'event_type',\n",
       "       'observation_count', 'observation_percent', 'arithmetic_mean',\n",
       "       'minimum_value', 'maximum_value', 'quarterly_criteria_met',\n",
       "       'actual_days_gt_std', 'estimated_days_gt_std', 'valid_samples',\n",
       "       'valid_day_count', 'scheduled_samples', 'percent_days',\n",
       "       'percent_one_value', 'monitoring_agency_code', 'monitoring_agency',\n",
       "       'local_site_name', 'address', 'state', 'county', 'city', 'tribal_code',\n",
       "       'tribal_land', 'cbsa_code', 'cbsa', 'date_of_last_change'],\n",
       "      dtype='object')"
      ]
     },
     "execution_count": 18,
     "metadata": {},
     "output_type": "execute_result"
    }
   ],
   "source": [
    "## see what data is in the df\n",
    "df.columns\n",
    "\n",
    "\n"
   ]
  },
  {
   "cell_type": "code",
   "execution_count": 19,
   "metadata": {},
   "outputs": [
    {
     "data": {
      "text/html": [
       "<div>\n",
       "<style scoped>\n",
       "    .dataframe tbody tr th:only-of-type {\n",
       "        vertical-align: middle;\n",
       "    }\n",
       "\n",
       "    .dataframe tbody tr th {\n",
       "        vertical-align: top;\n",
       "    }\n",
       "\n",
       "    .dataframe thead th {\n",
       "        text-align: right;\n",
       "    }\n",
       "</style>\n",
       "<table border=\"1\" class=\"dataframe\">\n",
       "  <thead>\n",
       "    <tr style=\"text-align: right;\">\n",
       "      <th></th>\n",
       "      <th>latitude</th>\n",
       "      <th>longitude</th>\n",
       "      <th>parameter</th>\n",
       "      <th>year</th>\n",
       "      <th>quarter</th>\n",
       "      <th>units_of_measure</th>\n",
       "      <th>arithmetic_mean</th>\n",
       "      <th>minimum_value</th>\n",
       "      <th>maximum_value</th>\n",
       "      <th>local_site_name</th>\n",
       "      <th>cbsa</th>\n",
       "    </tr>\n",
       "  </thead>\n",
       "  <tbody>\n",
       "    <tr>\n",
       "      <th>0</th>\n",
       "      <td>34.13650</td>\n",
       "      <td>-117.92391</td>\n",
       "      <td>PM2.5 - Local Conditions</td>\n",
       "      <td>2019</td>\n",
       "      <td>1</td>\n",
       "      <td>Micrograms/cubic meter (LC)</td>\n",
       "      <td>7.2267</td>\n",
       "      <td>2.4</td>\n",
       "      <td>21.5</td>\n",
       "      <td>Azusa</td>\n",
       "      <td>Los Angeles-Long Beach-Anaheim, CA</td>\n",
       "    </tr>\n",
       "    <tr>\n",
       "      <th>1</th>\n",
       "      <td>34.13650</td>\n",
       "      <td>-117.92391</td>\n",
       "      <td>PM2.5 - Local Conditions</td>\n",
       "      <td>2019</td>\n",
       "      <td>2</td>\n",
       "      <td>Micrograms/cubic meter (LC)</td>\n",
       "      <td>9.8067</td>\n",
       "      <td>4.7</td>\n",
       "      <td>17.4</td>\n",
       "      <td>Azusa</td>\n",
       "      <td>Los Angeles-Long Beach-Anaheim, CA</td>\n",
       "    </tr>\n",
       "    <tr>\n",
       "      <th>2</th>\n",
       "      <td>34.13650</td>\n",
       "      <td>-117.92391</td>\n",
       "      <td>PM2.5 - Local Conditions</td>\n",
       "      <td>2019</td>\n",
       "      <td>3</td>\n",
       "      <td>Micrograms/cubic meter (LC)</td>\n",
       "      <td>12.4429</td>\n",
       "      <td>8.0</td>\n",
       "      <td>16.7</td>\n",
       "      <td>Azusa</td>\n",
       "      <td>Los Angeles-Long Beach-Anaheim, CA</td>\n",
       "    </tr>\n",
       "    <tr>\n",
       "      <th>3</th>\n",
       "      <td>34.13650</td>\n",
       "      <td>-117.92391</td>\n",
       "      <td>PM2.5 - Local Conditions</td>\n",
       "      <td>2019</td>\n",
       "      <td>3</td>\n",
       "      <td>Micrograms/cubic meter (LC)</td>\n",
       "      <td>16.2800</td>\n",
       "      <td>8.0</td>\n",
       "      <td>70.0</td>\n",
       "      <td>Azusa</td>\n",
       "      <td>Los Angeles-Long Beach-Anaheim, CA</td>\n",
       "    </tr>\n",
       "    <tr>\n",
       "      <th>4</th>\n",
       "      <td>34.13650</td>\n",
       "      <td>-117.92391</td>\n",
       "      <td>PM2.5 - Local Conditions</td>\n",
       "      <td>2019</td>\n",
       "      <td>3</td>\n",
       "      <td>Micrograms/cubic meter (LC)</td>\n",
       "      <td>16.2800</td>\n",
       "      <td>8.0</td>\n",
       "      <td>70.0</td>\n",
       "      <td>Azusa</td>\n",
       "      <td>Los Angeles-Long Beach-Anaheim, CA</td>\n",
       "    </tr>\n",
       "    <tr>\n",
       "      <th>...</th>\n",
       "      <td>...</td>\n",
       "      <td>...</td>\n",
       "      <td>...</td>\n",
       "      <td>...</td>\n",
       "      <td>...</td>\n",
       "      <td>...</td>\n",
       "      <td>...</td>\n",
       "      <td>...</td>\n",
       "      <td>...</td>\n",
       "      <td>...</td>\n",
       "      <td>...</td>\n",
       "    </tr>\n",
       "    <tr>\n",
       "      <th>474</th>\n",
       "      <td>34.01029</td>\n",
       "      <td>-118.06850</td>\n",
       "      <td>PM2.5 - Local Conditions</td>\n",
       "      <td>2019</td>\n",
       "      <td>4</td>\n",
       "      <td>Micrograms/cubic meter (LC)</td>\n",
       "      <td>12.1857</td>\n",
       "      <td>4.5</td>\n",
       "      <td>27.4</td>\n",
       "      <td>Pico Rivera #2</td>\n",
       "      <td>Los Angeles-Long Beach-Anaheim, CA</td>\n",
       "    </tr>\n",
       "    <tr>\n",
       "      <th>475</th>\n",
       "      <td>34.01029</td>\n",
       "      <td>-118.06850</td>\n",
       "      <td>PM2.5 - Local Conditions</td>\n",
       "      <td>2019</td>\n",
       "      <td>1</td>\n",
       "      <td>Micrograms/cubic meter (LC)</td>\n",
       "      <td>8.2067</td>\n",
       "      <td>2.5</td>\n",
       "      <td>19.2</td>\n",
       "      <td>Pico Rivera #2</td>\n",
       "      <td>Los Angeles-Long Beach-Anaheim, CA</td>\n",
       "    </tr>\n",
       "    <tr>\n",
       "      <th>476</th>\n",
       "      <td>34.01029</td>\n",
       "      <td>-118.06850</td>\n",
       "      <td>PM2.5 - Local Conditions</td>\n",
       "      <td>2019</td>\n",
       "      <td>2</td>\n",
       "      <td>Micrograms/cubic meter (LC)</td>\n",
       "      <td>8.1600</td>\n",
       "      <td>3.6</td>\n",
       "      <td>14.3</td>\n",
       "      <td>Pico Rivera #2</td>\n",
       "      <td>Los Angeles-Long Beach-Anaheim, CA</td>\n",
       "    </tr>\n",
       "    <tr>\n",
       "      <th>477</th>\n",
       "      <td>34.01029</td>\n",
       "      <td>-118.06850</td>\n",
       "      <td>PM2.5 - Local Conditions</td>\n",
       "      <td>2019</td>\n",
       "      <td>3</td>\n",
       "      <td>Micrograms/cubic meter (LC)</td>\n",
       "      <td>11.2750</td>\n",
       "      <td>7.6</td>\n",
       "      <td>15.6</td>\n",
       "      <td>Pico Rivera #2</td>\n",
       "      <td>Los Angeles-Long Beach-Anaheim, CA</td>\n",
       "    </tr>\n",
       "    <tr>\n",
       "      <th>478</th>\n",
       "      <td>34.01029</td>\n",
       "      <td>-118.06850</td>\n",
       "      <td>PM2.5 - Local Conditions</td>\n",
       "      <td>2019</td>\n",
       "      <td>4</td>\n",
       "      <td>Micrograms/cubic meter (LC)</td>\n",
       "      <td>12.0733</td>\n",
       "      <td>4.4</td>\n",
       "      <td>27.5</td>\n",
       "      <td>Pico Rivera #2</td>\n",
       "      <td>Los Angeles-Long Beach-Anaheim, CA</td>\n",
       "    </tr>\n",
       "  </tbody>\n",
       "</table>\n",
       "<p>479 rows × 11 columns</p>\n",
       "</div>"
      ],
      "text/plain": [
       "     latitude  longitude                 parameter  year quarter  \\\n",
       "0    34.13650 -117.92391  PM2.5 - Local Conditions  2019       1   \n",
       "1    34.13650 -117.92391  PM2.5 - Local Conditions  2019       2   \n",
       "2    34.13650 -117.92391  PM2.5 - Local Conditions  2019       3   \n",
       "3    34.13650 -117.92391  PM2.5 - Local Conditions  2019       3   \n",
       "4    34.13650 -117.92391  PM2.5 - Local Conditions  2019       3   \n",
       "..        ...        ...                       ...   ...     ...   \n",
       "474  34.01029 -118.06850  PM2.5 - Local Conditions  2019       4   \n",
       "475  34.01029 -118.06850  PM2.5 - Local Conditions  2019       1   \n",
       "476  34.01029 -118.06850  PM2.5 - Local Conditions  2019       2   \n",
       "477  34.01029 -118.06850  PM2.5 - Local Conditions  2019       3   \n",
       "478  34.01029 -118.06850  PM2.5 - Local Conditions  2019       4   \n",
       "\n",
       "                units_of_measure  arithmetic_mean minimum_value maximum_value  \\\n",
       "0    Micrograms/cubic meter (LC)           7.2267           2.4          21.5   \n",
       "1    Micrograms/cubic meter (LC)           9.8067           4.7          17.4   \n",
       "2    Micrograms/cubic meter (LC)          12.4429           8.0          16.7   \n",
       "3    Micrograms/cubic meter (LC)          16.2800           8.0          70.0   \n",
       "4    Micrograms/cubic meter (LC)          16.2800           8.0          70.0   \n",
       "..                           ...              ...           ...           ...   \n",
       "474  Micrograms/cubic meter (LC)          12.1857           4.5          27.4   \n",
       "475  Micrograms/cubic meter (LC)           8.2067           2.5          19.2   \n",
       "476  Micrograms/cubic meter (LC)           8.1600           3.6          14.3   \n",
       "477  Micrograms/cubic meter (LC)          11.2750           7.6          15.6   \n",
       "478  Micrograms/cubic meter (LC)          12.0733           4.4          27.5   \n",
       "\n",
       "    local_site_name                                cbsa  \n",
       "0             Azusa  Los Angeles-Long Beach-Anaheim, CA  \n",
       "1             Azusa  Los Angeles-Long Beach-Anaheim, CA  \n",
       "2             Azusa  Los Angeles-Long Beach-Anaheim, CA  \n",
       "3             Azusa  Los Angeles-Long Beach-Anaheim, CA  \n",
       "4             Azusa  Los Angeles-Long Beach-Anaheim, CA  \n",
       "..              ...                                 ...  \n",
       "474  Pico Rivera #2  Los Angeles-Long Beach-Anaheim, CA  \n",
       "475  Pico Rivera #2  Los Angeles-Long Beach-Anaheim, CA  \n",
       "476  Pico Rivera #2  Los Angeles-Long Beach-Anaheim, CA  \n",
       "477  Pico Rivera #2  Los Angeles-Long Beach-Anaheim, CA  \n",
       "478  Pico Rivera #2  Los Angeles-Long Beach-Anaheim, CA  \n",
       "\n",
       "[479 rows x 11 columns]"
      ]
     },
     "execution_count": 19,
     "metadata": {},
     "output_type": "execute_result"
    }
   ],
   "source": [
    "## Here are some useful data if we want to plot it on the map\n",
    "# 'latitude', 'longitude', 'parameter', 'year', 'quarter', 'units_of_measure', 'arithmetic_mean', 'minimum_value', 'maximum_value', 'local_site_name','cbsa'\n",
    "\n",
    "## make a subset of the data \n",
    "\n",
    "df = df[['latitude', 'longitude', 'parameter', 'year', 'quarter', 'units_of_measure', 'arithmetic_mean', 'minimum_value', 'maximum_value', 'local_site_name','cbsa']]\n",
    "df\n"
   ]
  },
  {
   "cell_type": "code",
   "execution_count": null,
   "metadata": {},
   "outputs": [],
   "source": [
    "## use site as index\n",
    "df.set_index(\"local_site_name\", inplace=True)\n",
    "df"
   ]
  },
  {
   "cell_type": "code",
   "execution_count": 27,
   "metadata": {},
   "outputs": [],
   "source": [
    "## take quarter 1 data as an example\n",
    "df_q1 = df[df[\"quarter\"] == \"1\"]\n",
    "df_q1.reset_index(inplace=True)\n"
   ]
  },
  {
   "cell_type": "code",
   "execution_count": 29,
   "metadata": {},
   "outputs": [
    {
     "data": {
      "application/vnd.plotly.v1+json": {
       "config": {
        "plotlyServerURL": "https://plot.ly"
       },
       "data": [
        {
         "customdata": [
          [
           7.2267,
           "PM2.5 - Local Conditions"
          ],
          [
           4.6533,
           "PM2.5 - Local Conditions"
          ],
          [
           10.1655,
           "PM2.5 - Local Conditions"
          ],
          [
           8.4,
           "PM2.5 - Local Conditions"
          ],
          [
           7.8846,
           "PM2.5 - Local Conditions"
          ],
          [
           6.8964,
           "PM2.5 - Local Conditions"
          ],
          [
           3.6356,
           "PM2.5 - Local Conditions"
          ],
          [
           8.4843,
           "PM2.5 - Local Conditions"
          ],
          [
           9.5956,
           "PM2.5 - Local Conditions"
          ],
          [
           8.0739,
           "PM2.5 - Local Conditions"
          ],
          [
           10.4033,
           "PM2.5 - Local Conditions"
          ],
          [
           12.7711,
           "PM2.5 - Local Conditions"
          ],
          [
           6.56,
           "PM2.5 - Local Conditions"
          ],
          [
           5.86,
           "PM2.5 - Local Conditions"
          ],
          [
           9.4867,
           "PM2.5 - Local Conditions"
          ],
          [
           8.34,
           "PM2.5 - Local Conditions"
          ],
          [
           8.2067,
           "PM2.5 - Local Conditions"
          ],
          [
           7.2267,
           "PM2.5 - Local Conditions"
          ],
          [
           4.6533,
           "PM2.5 - Local Conditions"
          ],
          [
           10.1655,
           "PM2.5 - Local Conditions"
          ],
          [
           8.4,
           "PM2.5 - Local Conditions"
          ],
          [
           7.8846,
           "PM2.5 - Local Conditions"
          ],
          [
           6.8964,
           "PM2.5 - Local Conditions"
          ],
          [
           3.6356,
           "PM2.5 - Local Conditions"
          ],
          [
           8.4843,
           "PM2.5 - Local Conditions"
          ],
          [
           9.5956,
           "PM2.5 - Local Conditions"
          ],
          [
           8.0739,
           "PM2.5 - Local Conditions"
          ],
          [
           10.4033,
           "PM2.5 - Local Conditions"
          ],
          [
           12.7711,
           "PM2.5 - Local Conditions"
          ],
          [
           6.56,
           "PM2.5 - Local Conditions"
          ],
          [
           5.86,
           "PM2.5 - Local Conditions"
          ],
          [
           9.4867,
           "PM2.5 - Local Conditions"
          ],
          [
           8.34,
           "PM2.5 - Local Conditions"
          ],
          [
           8.2067,
           "PM2.5 - Local Conditions"
          ],
          [
           3.7534,
           "Acceptable PM2.5 AQI & Speciation Mass"
          ],
          [
           3.6689,
           "Acceptable PM2.5 AQI & Speciation Mass"
          ],
          [
           9.8526,
           "Acceptable PM2.5 AQI & Speciation Mass"
          ],
          [
           9.8056,
           "Acceptable PM2.5 AQI & Speciation Mass"
          ],
          [
           8.1867,
           "Acceptable PM2.5 AQI & Speciation Mass"
          ],
          [
           8.46,
           "Acceptable PM2.5 AQI & Speciation Mass"
          ],
          [
           8.503,
           "Acceptable PM2.5 AQI & Speciation Mass"
          ],
          [
           8.4622,
           "Acceptable PM2.5 AQI & Speciation Mass"
          ],
          [
           8.3343,
           "Acceptable PM2.5 AQI & Speciation Mass"
          ],
          [
           8.2812,
           "Acceptable PM2.5 AQI & Speciation Mass"
          ],
          [
           3.6719,
           "PM2.5 - Local Conditions"
          ],
          [
           9.6464,
           "PM2.5 - Local Conditions"
          ],
          [
           12.8013,
           "PM2.5 - Local Conditions"
          ],
          [
           1.9583,
           "Acceptable PM2.5 AQI & Speciation Mass"
          ],
          [
           7.2267,
           "PM2.5 - Local Conditions"
          ],
          [
           4.6533,
           "PM2.5 - Local Conditions"
          ],
          [
           10.1655,
           "PM2.5 - Local Conditions"
          ],
          [
           8.4,
           "PM2.5 - Local Conditions"
          ],
          [
           7.8846,
           "PM2.5 - Local Conditions"
          ],
          [
           6.8964,
           "PM2.5 - Local Conditions"
          ],
          [
           3.6356,
           "PM2.5 - Local Conditions"
          ],
          [
           8.4843,
           "PM2.5 - Local Conditions"
          ],
          [
           9.5956,
           "PM2.5 - Local Conditions"
          ],
          [
           8.0739,
           "PM2.5 - Local Conditions"
          ],
          [
           10.4033,
           "PM2.5 - Local Conditions"
          ],
          [
           12.7711,
           "PM2.5 - Local Conditions"
          ],
          [
           6.56,
           "PM2.5 - Local Conditions"
          ],
          [
           5.86,
           "PM2.5 - Local Conditions"
          ],
          [
           9.4867,
           "PM2.5 - Local Conditions"
          ],
          [
           8.34,
           "PM2.5 - Local Conditions"
          ],
          [
           8.2067,
           "PM2.5 - Local Conditions"
          ],
          [
           7.2267,
           "PM2.5 - Local Conditions"
          ],
          [
           4.6533,
           "PM2.5 - Local Conditions"
          ],
          [
           10.1655,
           "PM2.5 - Local Conditions"
          ],
          [
           8.4,
           "PM2.5 - Local Conditions"
          ],
          [
           7.8846,
           "PM2.5 - Local Conditions"
          ],
          [
           6.8964,
           "PM2.5 - Local Conditions"
          ],
          [
           3.6356,
           "PM2.5 - Local Conditions"
          ],
          [
           8.4843,
           "PM2.5 - Local Conditions"
          ],
          [
           9.5956,
           "PM2.5 - Local Conditions"
          ],
          [
           8.0739,
           "PM2.5 - Local Conditions"
          ],
          [
           10.4033,
           "PM2.5 - Local Conditions"
          ],
          [
           12.7711,
           "PM2.5 - Local Conditions"
          ],
          [
           6.56,
           "PM2.5 - Local Conditions"
          ],
          [
           5.86,
           "PM2.5 - Local Conditions"
          ],
          [
           9.4867,
           "PM2.5 - Local Conditions"
          ],
          [
           8.34,
           "PM2.5 - Local Conditions"
          ],
          [
           8.2067,
           "PM2.5 - Local Conditions"
          ],
          [
           7.2267,
           "PM2.5 - Local Conditions"
          ],
          [
           4.6533,
           "PM2.5 - Local Conditions"
          ],
          [
           10.1655,
           "PM2.5 - Local Conditions"
          ],
          [
           8.4,
           "PM2.5 - Local Conditions"
          ],
          [
           7.8846,
           "PM2.5 - Local Conditions"
          ],
          [
           6.8964,
           "PM2.5 - Local Conditions"
          ],
          [
           3.6356,
           "PM2.5 - Local Conditions"
          ],
          [
           8.4843,
           "PM2.5 - Local Conditions"
          ],
          [
           9.5956,
           "PM2.5 - Local Conditions"
          ],
          [
           8.0739,
           "PM2.5 - Local Conditions"
          ],
          [
           10.4033,
           "PM2.5 - Local Conditions"
          ],
          [
           12.7711,
           "PM2.5 - Local Conditions"
          ],
          [
           6.56,
           "PM2.5 - Local Conditions"
          ],
          [
           5.86,
           "PM2.5 - Local Conditions"
          ],
          [
           9.4867,
           "PM2.5 - Local Conditions"
          ],
          [
           8.34,
           "PM2.5 - Local Conditions"
          ],
          [
           8.2067,
           "PM2.5 - Local Conditions"
          ],
          [
           7.2267,
           "PM2.5 - Local Conditions"
          ],
          [
           4.6533,
           "PM2.5 - Local Conditions"
          ],
          [
           10.1655,
           "PM2.5 - Local Conditions"
          ],
          [
           8.4,
           "PM2.5 - Local Conditions"
          ],
          [
           7.8846,
           "PM2.5 - Local Conditions"
          ],
          [
           6.8964,
           "PM2.5 - Local Conditions"
          ],
          [
           3.6356,
           "PM2.5 - Local Conditions"
          ],
          [
           8.4843,
           "PM2.5 - Local Conditions"
          ],
          [
           9.5956,
           "PM2.5 - Local Conditions"
          ],
          [
           8.0739,
           "PM2.5 - Local Conditions"
          ],
          [
           10.4033,
           "PM2.5 - Local Conditions"
          ],
          [
           12.7711,
           "PM2.5 - Local Conditions"
          ],
          [
           6.56,
           "PM2.5 - Local Conditions"
          ],
          [
           5.86,
           "PM2.5 - Local Conditions"
          ],
          [
           9.4867,
           "PM2.5 - Local Conditions"
          ],
          [
           8.34,
           "PM2.5 - Local Conditions"
          ],
          [
           8.2067,
           "PM2.5 - Local Conditions"
          ]
         ],
         "hovertemplate": "<b>%{hovertext}</b><br><br>latitude=%{lat}<br>longitude=%{lon}<br>arithmetic_mean=%{customdata[0]}<br>parameter=%{customdata[1]}<extra></extra>",
         "hovertext": [
          "Azusa",
          "Azusa",
          "Compton",
          "Los Angeles-North Main Street",
          "Los Angeles-North Main Street",
          "Reseda",
          "Lancaster-Division Street",
          "Long Beach (North)",
          "Long Beach (South)",
          "Long Beach (South)",
          "Long Beach-Route 710 Near Road",
          "Long Beach-Route 710 Near Road",
          "Pasadena",
          "Pasadena",
          "Pico Rivera #2",
          "Pico Rivera #2",
          "Pico Rivera #2",
          "Azusa",
          "Azusa",
          "Compton",
          "Los Angeles-North Main Street",
          "Los Angeles-North Main Street",
          "Reseda",
          "Lancaster-Division Street",
          "Long Beach (North)",
          "Long Beach (South)",
          "Long Beach (South)",
          "Long Beach-Route 710 Near Road",
          "Long Beach-Route 710 Near Road",
          "Pasadena",
          "Pasadena",
          "Pico Rivera #2",
          "Pico Rivera #2",
          "Pico Rivera #2",
          "Santa Clarita",
          "Santa Clarita",
          "Los Angeles-North Main Street",
          "Los Angeles-North Main Street",
          "Los Angeles-North Main Street",
          "Los Angeles-North Main Street",
          "Reseda",
          "Reseda",
          "Glendora",
          "Glendora",
          "Lancaster-Division Street",
          "Long Beach (South)",
          "Long Beach-Route 710 Near Road",
          "Lebec",
          "Azusa",
          "Azusa",
          "Compton",
          "Los Angeles-North Main Street",
          "Los Angeles-North Main Street",
          "Reseda",
          "Lancaster-Division Street",
          "Long Beach (North)",
          "Long Beach (South)",
          "Long Beach (South)",
          "Long Beach-Route 710 Near Road",
          "Long Beach-Route 710 Near Road",
          "Pasadena",
          "Pasadena",
          "Pico Rivera #2",
          "Pico Rivera #2",
          "Pico Rivera #2",
          "Azusa",
          "Azusa",
          "Compton",
          "Los Angeles-North Main Street",
          "Los Angeles-North Main Street",
          "Reseda",
          "Lancaster-Division Street",
          "Long Beach (North)",
          "Long Beach (South)",
          "Long Beach (South)",
          "Long Beach-Route 710 Near Road",
          "Long Beach-Route 710 Near Road",
          "Pasadena",
          "Pasadena",
          "Pico Rivera #2",
          "Pico Rivera #2",
          "Pico Rivera #2",
          "Azusa",
          "Azusa",
          "Compton",
          "Los Angeles-North Main Street",
          "Los Angeles-North Main Street",
          "Reseda",
          "Lancaster-Division Street",
          "Long Beach (North)",
          "Long Beach (South)",
          "Long Beach (South)",
          "Long Beach-Route 710 Near Road",
          "Long Beach-Route 710 Near Road",
          "Pasadena",
          "Pasadena",
          "Pico Rivera #2",
          "Pico Rivera #2",
          "Pico Rivera #2",
          "Azusa",
          "Azusa",
          "Compton",
          "Los Angeles-North Main Street",
          "Los Angeles-North Main Street",
          "Reseda",
          "Lancaster-Division Street",
          "Long Beach (North)",
          "Long Beach (South)",
          "Long Beach (South)",
          "Long Beach-Route 710 Near Road",
          "Long Beach-Route 710 Near Road",
          "Pasadena",
          "Pasadena",
          "Pico Rivera #2",
          "Pico Rivera #2",
          "Pico Rivera #2"
         ],
         "lat": [
          34.1365,
          34.1365,
          33.901389,
          34.06659,
          34.06659,
          34.19925,
          34.669739,
          33.82376,
          33.79236,
          33.79236,
          33.859662,
          33.859662,
          34.1326,
          34.1326,
          34.01029,
          34.01029,
          34.01029,
          34.1365,
          34.1365,
          33.901389,
          34.06659,
          34.06659,
          34.19925,
          34.669739,
          33.82376,
          33.79236,
          33.79236,
          33.859662,
          33.859662,
          34.1326,
          34.1326,
          34.01029,
          34.01029,
          34.01029,
          34.38344,
          34.38344,
          34.06659,
          34.06659,
          34.06659,
          34.06659,
          34.19925,
          34.19925,
          34.14435,
          34.14435,
          34.669739,
          33.79236,
          33.859662,
          34.813034,
          34.1365,
          34.1365,
          33.901389,
          34.06659,
          34.06659,
          34.19925,
          34.669739,
          33.82376,
          33.79236,
          33.79236,
          33.859662,
          33.859662,
          34.1326,
          34.1326,
          34.01029,
          34.01029,
          34.01029,
          34.1365,
          34.1365,
          33.901389,
          34.06659,
          34.06659,
          34.19925,
          34.669739,
          33.82376,
          33.79236,
          33.79236,
          33.859662,
          33.859662,
          34.1326,
          34.1326,
          34.01029,
          34.01029,
          34.01029,
          34.1365,
          34.1365,
          33.901389,
          34.06659,
          34.06659,
          34.19925,
          34.669739,
          33.82376,
          33.79236,
          33.79236,
          33.859662,
          33.859662,
          34.1326,
          34.1326,
          34.01029,
          34.01029,
          34.01029,
          34.1365,
          34.1365,
          33.901389,
          34.06659,
          34.06659,
          34.19925,
          34.669739,
          33.82376,
          33.79236,
          33.79236,
          33.859662,
          33.859662,
          34.1326,
          34.1326,
          34.01029,
          34.01029,
          34.01029
         ],
         "legendgroup": "",
         "lon": [
          -117.92391,
          -117.92391,
          -118.205,
          -118.22688,
          -118.22688,
          -118.53276,
          -118.130511,
          -118.18921,
          -118.17533,
          -118.17533,
          -118.200707,
          -118.200707,
          -118.1272,
          -118.1272,
          -118.0685,
          -118.0685,
          -118.0685,
          -117.92391,
          -117.92391,
          -118.205,
          -118.22688,
          -118.22688,
          -118.53276,
          -118.130511,
          -118.18921,
          -118.17533,
          -118.17533,
          -118.200707,
          -118.200707,
          -118.1272,
          -118.1272,
          -118.0685,
          -118.0685,
          -118.0685,
          -118.5284,
          -118.5284,
          -118.22688,
          -118.22688,
          -118.22688,
          -118.22688,
          -118.53276,
          -118.53276,
          -117.85036,
          -117.85036,
          -118.130511,
          -118.17533,
          -118.200707,
          -118.884819,
          -117.92391,
          -117.92391,
          -118.205,
          -118.22688,
          -118.22688,
          -118.53276,
          -118.130511,
          -118.18921,
          -118.17533,
          -118.17533,
          -118.200707,
          -118.200707,
          -118.1272,
          -118.1272,
          -118.0685,
          -118.0685,
          -118.0685,
          -117.92391,
          -117.92391,
          -118.205,
          -118.22688,
          -118.22688,
          -118.53276,
          -118.130511,
          -118.18921,
          -118.17533,
          -118.17533,
          -118.200707,
          -118.200707,
          -118.1272,
          -118.1272,
          -118.0685,
          -118.0685,
          -118.0685,
          -117.92391,
          -117.92391,
          -118.205,
          -118.22688,
          -118.22688,
          -118.53276,
          -118.130511,
          -118.18921,
          -118.17533,
          -118.17533,
          -118.200707,
          -118.200707,
          -118.1272,
          -118.1272,
          -118.0685,
          -118.0685,
          -118.0685,
          -117.92391,
          -117.92391,
          -118.205,
          -118.22688,
          -118.22688,
          -118.53276,
          -118.130511,
          -118.18921,
          -118.17533,
          -118.17533,
          -118.200707,
          -118.200707,
          -118.1272,
          -118.1272,
          -118.0685,
          -118.0685,
          -118.0685
         ],
         "marker": {
          "color": "fuchsia"
         },
         "mode": "markers",
         "name": "",
         "showlegend": false,
         "subplot": "mapbox",
         "type": "scattermapbox"
        }
       ],
       "layout": {
        "height": 300,
        "legend": {
         "tracegroupgap": 0
        },
        "mapbox": {
         "center": {
          "lat": 34.055670922413796,
          "lon": -118.16851842241377
         },
         "domain": {
          "x": [
           0,
           1
          ],
          "y": [
           0,
           1
          ]
         },
         "style": "carto-positron",
         "zoom": 10
        },
        "margin": {
         "b": 0,
         "l": 0,
         "r": 0,
         "t": 0
        },
        "template": {
         "data": {
          "bar": [
           {
            "error_x": {
             "color": "#2a3f5f"
            },
            "error_y": {
             "color": "#2a3f5f"
            },
            "marker": {
             "line": {
              "color": "#E5ECF6",
              "width": 0.5
             },
             "pattern": {
              "fillmode": "overlay",
              "size": 10,
              "solidity": 0.2
             }
            },
            "type": "bar"
           }
          ],
          "barpolar": [
           {
            "marker": {
             "line": {
              "color": "#E5ECF6",
              "width": 0.5
             },
             "pattern": {
              "fillmode": "overlay",
              "size": 10,
              "solidity": 0.2
             }
            },
            "type": "barpolar"
           }
          ],
          "carpet": [
           {
            "aaxis": {
             "endlinecolor": "#2a3f5f",
             "gridcolor": "white",
             "linecolor": "white",
             "minorgridcolor": "white",
             "startlinecolor": "#2a3f5f"
            },
            "baxis": {
             "endlinecolor": "#2a3f5f",
             "gridcolor": "white",
             "linecolor": "white",
             "minorgridcolor": "white",
             "startlinecolor": "#2a3f5f"
            },
            "type": "carpet"
           }
          ],
          "choropleth": [
           {
            "colorbar": {
             "outlinewidth": 0,
             "ticks": ""
            },
            "type": "choropleth"
           }
          ],
          "contour": [
           {
            "colorbar": {
             "outlinewidth": 0,
             "ticks": ""
            },
            "colorscale": [
             [
              0,
              "#0d0887"
             ],
             [
              0.1111111111111111,
              "#46039f"
             ],
             [
              0.2222222222222222,
              "#7201a8"
             ],
             [
              0.3333333333333333,
              "#9c179e"
             ],
             [
              0.4444444444444444,
              "#bd3786"
             ],
             [
              0.5555555555555556,
              "#d8576b"
             ],
             [
              0.6666666666666666,
              "#ed7953"
             ],
             [
              0.7777777777777778,
              "#fb9f3a"
             ],
             [
              0.8888888888888888,
              "#fdca26"
             ],
             [
              1,
              "#f0f921"
             ]
            ],
            "type": "contour"
           }
          ],
          "contourcarpet": [
           {
            "colorbar": {
             "outlinewidth": 0,
             "ticks": ""
            },
            "type": "contourcarpet"
           }
          ],
          "heatmap": [
           {
            "colorbar": {
             "outlinewidth": 0,
             "ticks": ""
            },
            "colorscale": [
             [
              0,
              "#0d0887"
             ],
             [
              0.1111111111111111,
              "#46039f"
             ],
             [
              0.2222222222222222,
              "#7201a8"
             ],
             [
              0.3333333333333333,
              "#9c179e"
             ],
             [
              0.4444444444444444,
              "#bd3786"
             ],
             [
              0.5555555555555556,
              "#d8576b"
             ],
             [
              0.6666666666666666,
              "#ed7953"
             ],
             [
              0.7777777777777778,
              "#fb9f3a"
             ],
             [
              0.8888888888888888,
              "#fdca26"
             ],
             [
              1,
              "#f0f921"
             ]
            ],
            "type": "heatmap"
           }
          ],
          "heatmapgl": [
           {
            "colorbar": {
             "outlinewidth": 0,
             "ticks": ""
            },
            "colorscale": [
             [
              0,
              "#0d0887"
             ],
             [
              0.1111111111111111,
              "#46039f"
             ],
             [
              0.2222222222222222,
              "#7201a8"
             ],
             [
              0.3333333333333333,
              "#9c179e"
             ],
             [
              0.4444444444444444,
              "#bd3786"
             ],
             [
              0.5555555555555556,
              "#d8576b"
             ],
             [
              0.6666666666666666,
              "#ed7953"
             ],
             [
              0.7777777777777778,
              "#fb9f3a"
             ],
             [
              0.8888888888888888,
              "#fdca26"
             ],
             [
              1,
              "#f0f921"
             ]
            ],
            "type": "heatmapgl"
           }
          ],
          "histogram": [
           {
            "marker": {
             "pattern": {
              "fillmode": "overlay",
              "size": 10,
              "solidity": 0.2
             }
            },
            "type": "histogram"
           }
          ],
          "histogram2d": [
           {
            "colorbar": {
             "outlinewidth": 0,
             "ticks": ""
            },
            "colorscale": [
             [
              0,
              "#0d0887"
             ],
             [
              0.1111111111111111,
              "#46039f"
             ],
             [
              0.2222222222222222,
              "#7201a8"
             ],
             [
              0.3333333333333333,
              "#9c179e"
             ],
             [
              0.4444444444444444,
              "#bd3786"
             ],
             [
              0.5555555555555556,
              "#d8576b"
             ],
             [
              0.6666666666666666,
              "#ed7953"
             ],
             [
              0.7777777777777778,
              "#fb9f3a"
             ],
             [
              0.8888888888888888,
              "#fdca26"
             ],
             [
              1,
              "#f0f921"
             ]
            ],
            "type": "histogram2d"
           }
          ],
          "histogram2dcontour": [
           {
            "colorbar": {
             "outlinewidth": 0,
             "ticks": ""
            },
            "colorscale": [
             [
              0,
              "#0d0887"
             ],
             [
              0.1111111111111111,
              "#46039f"
             ],
             [
              0.2222222222222222,
              "#7201a8"
             ],
             [
              0.3333333333333333,
              "#9c179e"
             ],
             [
              0.4444444444444444,
              "#bd3786"
             ],
             [
              0.5555555555555556,
              "#d8576b"
             ],
             [
              0.6666666666666666,
              "#ed7953"
             ],
             [
              0.7777777777777778,
              "#fb9f3a"
             ],
             [
              0.8888888888888888,
              "#fdca26"
             ],
             [
              1,
              "#f0f921"
             ]
            ],
            "type": "histogram2dcontour"
           }
          ],
          "mesh3d": [
           {
            "colorbar": {
             "outlinewidth": 0,
             "ticks": ""
            },
            "type": "mesh3d"
           }
          ],
          "parcoords": [
           {
            "line": {
             "colorbar": {
              "outlinewidth": 0,
              "ticks": ""
             }
            },
            "type": "parcoords"
           }
          ],
          "pie": [
           {
            "automargin": true,
            "type": "pie"
           }
          ],
          "scatter": [
           {
            "fillpattern": {
             "fillmode": "overlay",
             "size": 10,
             "solidity": 0.2
            },
            "type": "scatter"
           }
          ],
          "scatter3d": [
           {
            "line": {
             "colorbar": {
              "outlinewidth": 0,
              "ticks": ""
             }
            },
            "marker": {
             "colorbar": {
              "outlinewidth": 0,
              "ticks": ""
             }
            },
            "type": "scatter3d"
           }
          ],
          "scattercarpet": [
           {
            "marker": {
             "colorbar": {
              "outlinewidth": 0,
              "ticks": ""
             }
            },
            "type": "scattercarpet"
           }
          ],
          "scattergeo": [
           {
            "marker": {
             "colorbar": {
              "outlinewidth": 0,
              "ticks": ""
             }
            },
            "type": "scattergeo"
           }
          ],
          "scattergl": [
           {
            "marker": {
             "colorbar": {
              "outlinewidth": 0,
              "ticks": ""
             }
            },
            "type": "scattergl"
           }
          ],
          "scattermapbox": [
           {
            "marker": {
             "colorbar": {
              "outlinewidth": 0,
              "ticks": ""
             }
            },
            "type": "scattermapbox"
           }
          ],
          "scatterpolar": [
           {
            "marker": {
             "colorbar": {
              "outlinewidth": 0,
              "ticks": ""
             }
            },
            "type": "scatterpolar"
           }
          ],
          "scatterpolargl": [
           {
            "marker": {
             "colorbar": {
              "outlinewidth": 0,
              "ticks": ""
             }
            },
            "type": "scatterpolargl"
           }
          ],
          "scatterternary": [
           {
            "marker": {
             "colorbar": {
              "outlinewidth": 0,
              "ticks": ""
             }
            },
            "type": "scatterternary"
           }
          ],
          "surface": [
           {
            "colorbar": {
             "outlinewidth": 0,
             "ticks": ""
            },
            "colorscale": [
             [
              0,
              "#0d0887"
             ],
             [
              0.1111111111111111,
              "#46039f"
             ],
             [
              0.2222222222222222,
              "#7201a8"
             ],
             [
              0.3333333333333333,
              "#9c179e"
             ],
             [
              0.4444444444444444,
              "#bd3786"
             ],
             [
              0.5555555555555556,
              "#d8576b"
             ],
             [
              0.6666666666666666,
              "#ed7953"
             ],
             [
              0.7777777777777778,
              "#fb9f3a"
             ],
             [
              0.8888888888888888,
              "#fdca26"
             ],
             [
              1,
              "#f0f921"
             ]
            ],
            "type": "surface"
           }
          ],
          "table": [
           {
            "cells": {
             "fill": {
              "color": "#EBF0F8"
             },
             "line": {
              "color": "white"
             }
            },
            "header": {
             "fill": {
              "color": "#C8D4E3"
             },
             "line": {
              "color": "white"
             }
            },
            "type": "table"
           }
          ]
         },
         "layout": {
          "annotationdefaults": {
           "arrowcolor": "#2a3f5f",
           "arrowhead": 0,
           "arrowwidth": 1
          },
          "autotypenumbers": "strict",
          "coloraxis": {
           "colorbar": {
            "outlinewidth": 0,
            "ticks": ""
           }
          },
          "colorscale": {
           "diverging": [
            [
             0,
             "#8e0152"
            ],
            [
             0.1,
             "#c51b7d"
            ],
            [
             0.2,
             "#de77ae"
            ],
            [
             0.3,
             "#f1b6da"
            ],
            [
             0.4,
             "#fde0ef"
            ],
            [
             0.5,
             "#f7f7f7"
            ],
            [
             0.6,
             "#e6f5d0"
            ],
            [
             0.7,
             "#b8e186"
            ],
            [
             0.8,
             "#7fbc41"
            ],
            [
             0.9,
             "#4d9221"
            ],
            [
             1,
             "#276419"
            ]
           ],
           "sequential": [
            [
             0,
             "#0d0887"
            ],
            [
             0.1111111111111111,
             "#46039f"
            ],
            [
             0.2222222222222222,
             "#7201a8"
            ],
            [
             0.3333333333333333,
             "#9c179e"
            ],
            [
             0.4444444444444444,
             "#bd3786"
            ],
            [
             0.5555555555555556,
             "#d8576b"
            ],
            [
             0.6666666666666666,
             "#ed7953"
            ],
            [
             0.7777777777777778,
             "#fb9f3a"
            ],
            [
             0.8888888888888888,
             "#fdca26"
            ],
            [
             1,
             "#f0f921"
            ]
           ],
           "sequentialminus": [
            [
             0,
             "#0d0887"
            ],
            [
             0.1111111111111111,
             "#46039f"
            ],
            [
             0.2222222222222222,
             "#7201a8"
            ],
            [
             0.3333333333333333,
             "#9c179e"
            ],
            [
             0.4444444444444444,
             "#bd3786"
            ],
            [
             0.5555555555555556,
             "#d8576b"
            ],
            [
             0.6666666666666666,
             "#ed7953"
            ],
            [
             0.7777777777777778,
             "#fb9f3a"
            ],
            [
             0.8888888888888888,
             "#fdca26"
            ],
            [
             1,
             "#f0f921"
            ]
           ]
          },
          "colorway": [
           "#636efa",
           "#EF553B",
           "#00cc96",
           "#ab63fa",
           "#FFA15A",
           "#19d3f3",
           "#FF6692",
           "#B6E880",
           "#FF97FF",
           "#FECB52"
          ],
          "font": {
           "color": "#2a3f5f"
          },
          "geo": {
           "bgcolor": "white",
           "lakecolor": "white",
           "landcolor": "#E5ECF6",
           "showlakes": true,
           "showland": true,
           "subunitcolor": "white"
          },
          "hoverlabel": {
           "align": "left"
          },
          "hovermode": "closest",
          "mapbox": {
           "style": "light"
          },
          "paper_bgcolor": "white",
          "plot_bgcolor": "#E5ECF6",
          "polar": {
           "angularaxis": {
            "gridcolor": "white",
            "linecolor": "white",
            "ticks": ""
           },
           "bgcolor": "#E5ECF6",
           "radialaxis": {
            "gridcolor": "white",
            "linecolor": "white",
            "ticks": ""
           }
          },
          "scene": {
           "xaxis": {
            "backgroundcolor": "#E5ECF6",
            "gridcolor": "white",
            "gridwidth": 2,
            "linecolor": "white",
            "showbackground": true,
            "ticks": "",
            "zerolinecolor": "white"
           },
           "yaxis": {
            "backgroundcolor": "#E5ECF6",
            "gridcolor": "white",
            "gridwidth": 2,
            "linecolor": "white",
            "showbackground": true,
            "ticks": "",
            "zerolinecolor": "white"
           },
           "zaxis": {
            "backgroundcolor": "#E5ECF6",
            "gridcolor": "white",
            "gridwidth": 2,
            "linecolor": "white",
            "showbackground": true,
            "ticks": "",
            "zerolinecolor": "white"
           }
          },
          "shapedefaults": {
           "line": {
            "color": "#2a3f5f"
           }
          },
          "ternary": {
           "aaxis": {
            "gridcolor": "white",
            "linecolor": "white",
            "ticks": ""
           },
           "baxis": {
            "gridcolor": "white",
            "linecolor": "white",
            "ticks": ""
           },
           "bgcolor": "#E5ECF6",
           "caxis": {
            "gridcolor": "white",
            "linecolor": "white",
            "ticks": ""
           }
          },
          "title": {
           "x": 0.05
          },
          "xaxis": {
           "automargin": true,
           "gridcolor": "white",
           "linecolor": "white",
           "ticks": "",
           "title": {
            "standoff": 15
           },
           "zerolinecolor": "white",
           "zerolinewidth": 2
          },
          "yaxis": {
           "automargin": true,
           "gridcolor": "white",
           "linecolor": "white",
           "ticks": "",
           "title": {
            "standoff": 15
           },
           "zerolinecolor": "white",
           "zerolinewidth": 2
          }
         }
        }
       }
      }
     },
     "metadata": {},
     "output_type": "display_data"
    }
   ],
   "source": [
    "import plotly.express as px\n",
    "\n",
    "fig = px.scatter_mapbox(df_q1, lat=\"latitude\", lon=\"longitude\", hover_name=\"local_site_name\", hover_data=[\"arithmetic_mean\", \"parameter\"],\n",
    "                        color_discrete_sequence=[\"fuchsia\"], zoom=10, height=300)\n",
    "fig.update_layout(mapbox_style=\"carto-positron\")\n",
    "fig.update_layout(margin={\"r\":0,\"t\":0,\"l\":0,\"b\":0})\n",
    "fig.show()\n"
   ]
  },
  {
   "attachments": {},
   "cell_type": "markdown",
   "metadata": {},
   "source": [
    "### encapsulate the code above "
   ]
  },
  {
   "cell_type": "code",
   "execution_count": 1,
   "metadata": {},
   "outputs": [],
   "source": [
    "import air_quality_util as aq\n"
   ]
  },
  {
   "cell_type": "code",
   "execution_count": 2,
   "metadata": {},
   "outputs": [],
   "source": [
    "email, api_key = aq.get_api_key(\"myEmailKey.txt\")\n",
    "base_url = aq.base_url"
   ]
  },
  {
   "cell_type": "code",
   "execution_count": 4,
   "metadata": {},
   "outputs": [
    {
     "name": "stdout",
     "output_type": "stream",
     "text": [
      "list/sitesByCounty\n"
     ]
    }
   ],
   "source": [
    "endpoint=aq.create_endpoint(\"Sites\")\n",
    "print(endpoint)"
   ]
  },
  {
   "cell_type": "code",
   "execution_count": 5,
   "metadata": {},
   "outputs": [],
   "source": [
    "param = aq.param_requirement(email, api_key, \"Sites\") ## califonia: 06, LA: 037\n"
   ]
  },
  {
   "cell_type": "code",
   "execution_count": 6,
   "metadata": {},
   "outputs": [],
   "source": [
    "df = aq.get_data(endpoint,param)"
   ]
  },
  {
   "cell_type": "code",
   "execution_count": 7,
   "metadata": {},
   "outputs": [
    {
     "data": {
      "text/html": [
       "<div>\n",
       "<style scoped>\n",
       "    .dataframe tbody tr th:only-of-type {\n",
       "        vertical-align: middle;\n",
       "    }\n",
       "\n",
       "    .dataframe tbody tr th {\n",
       "        vertical-align: top;\n",
       "    }\n",
       "\n",
       "    .dataframe thead th {\n",
       "        text-align: right;\n",
       "    }\n",
       "</style>\n",
       "<table border=\"1\" class=\"dataframe\">\n",
       "  <thead>\n",
       "    <tr style=\"text-align: right;\">\n",
       "      <th></th>\n",
       "      <th>code</th>\n",
       "      <th>value_represented</th>\n",
       "    </tr>\n",
       "  </thead>\n",
       "  <tbody>\n",
       "    <tr>\n",
       "      <th>0</th>\n",
       "      <td>0001</td>\n",
       "      <td>None</td>\n",
       "    </tr>\n",
       "    <tr>\n",
       "      <th>1</th>\n",
       "      <td>0002</td>\n",
       "      <td>Azusa</td>\n",
       "    </tr>\n",
       "    <tr>\n",
       "      <th>2</th>\n",
       "      <td>0003</td>\n",
       "      <td>None</td>\n",
       "    </tr>\n",
       "    <tr>\n",
       "      <th>3</th>\n",
       "      <td>0004</td>\n",
       "      <td>None</td>\n",
       "    </tr>\n",
       "    <tr>\n",
       "      <th>4</th>\n",
       "      <td>0005</td>\n",
       "      <td>None</td>\n",
       "    </tr>\n",
       "    <tr>\n",
       "      <th>...</th>\n",
       "      <td>...</td>\n",
       "      <td>...</td>\n",
       "    </tr>\n",
       "    <tr>\n",
       "      <th>91</th>\n",
       "      <td>9401</td>\n",
       "      <td>None</td>\n",
       "    </tr>\n",
       "    <tr>\n",
       "      <th>92</th>\n",
       "      <td>9403</td>\n",
       "      <td>None</td>\n",
       "    </tr>\n",
       "    <tr>\n",
       "      <th>93</th>\n",
       "      <td>9405</td>\n",
       "      <td>None</td>\n",
       "    </tr>\n",
       "    <tr>\n",
       "      <th>94</th>\n",
       "      <td>9407</td>\n",
       "      <td>None</td>\n",
       "    </tr>\n",
       "    <tr>\n",
       "      <th>95</th>\n",
       "      <td>9934</td>\n",
       "      <td>San Gabriel Wilderness</td>\n",
       "    </tr>\n",
       "  </tbody>\n",
       "</table>\n",
       "<p>96 rows × 2 columns</p>\n",
       "</div>"
      ],
      "text/plain": [
       "    code       value_represented\n",
       "0   0001                    None\n",
       "1   0002                   Azusa\n",
       "2   0003                    None\n",
       "3   0004                    None\n",
       "4   0005                    None\n",
       "..   ...                     ...\n",
       "91  9401                    None\n",
       "92  9403                    None\n",
       "93  9405                    None\n",
       "94  9407                    None\n",
       "95  9934  San Gabriel Wilderness\n",
       "\n",
       "[96 rows x 2 columns]"
      ]
     },
     "execution_count": 7,
     "metadata": {},
     "output_type": "execute_result"
    }
   ],
   "source": [
    "df"
   ]
  },
  {
   "cell_type": "code",
   "execution_count": 21,
   "metadata": {},
   "outputs": [],
   "source": [
    "param = aq.param_requirement(email, api_key, \"Quarterly by County\") \n",
    "## param(PM2.5): 88101, bdate: 20190101, edate: 20191231, state: 06, county: 037\n",
    "\n",
    "## ozone: 44201\n",
    "## PM2.5: 88101\n",
    "## PM10: 81102\n",
    "\n"
   ]
  },
  {
   "cell_type": "code",
   "execution_count": 22,
   "metadata": {},
   "outputs": [],
   "source": [
    "endpoint = aq.create_endpoint(\"Quarterly by County\")\n",
    "df = aq.get_data(endpoint,param)\n"
   ]
  },
  {
   "cell_type": "code",
   "execution_count": null,
   "metadata": {},
   "outputs": [],
   "source": [
    "df"
   ]
  },
  {
   "attachments": {},
   "cell_type": "markdown",
   "metadata": {},
   "source": [
    "#### sample plot -- need encapsulation and more details later"
   ]
  },
  {
   "cell_type": "code",
   "execution_count": 24,
   "metadata": {},
   "outputs": [
    {
     "data": {
      "application/vnd.plotly.v1+json": {
       "config": {
        "plotlyServerURL": "https://plot.ly"
       },
       "data": [
        {
         "customdata": [
          [
           9.4667,
           "PM10 Total 0-10um STP"
          ],
          [
           21.3571,
           "PM10 Total 0-10um STP"
          ],
          [
           23.3125,
           "PM10 Total 0-10um STP"
          ],
          [
           19.3333,
           "PM10 Total 0-10um STP"
          ],
          [
           14.5333,
           "PM10 Total 0-10um STP"
          ],
          [
           28.4,
           "PM10 Total 0-10um STP"
          ],
          [
           40.6875,
           "PM10 Total 0-10um STP"
          ],
          [
           28.7333,
           "PM10 Total 0-10um STP"
          ],
          [
           18.1429,
           "PM10 Total 0-10um STP"
          ],
          [
           24.2,
           "PM10 Total 0-10um STP"
          ],
          [
           28,
           "PM10 Total 0-10um STP"
          ],
          [
           31.8,
           "PM10 Total 0-10um STP"
          ],
          [
           27.7857,
           "PM10 Total 0-10um STP"
          ],
          [
           14.3333,
           "PM10 Total 0-10um STP"
          ],
          [
           16,
           "PM10 Total 0-10um STP"
          ],
          [
           18.5,
           "PM10 Total 0-10um STP"
          ],
          [
           20.12,
           "PM10 Total 0-10um STP"
          ],
          [
           9.7011,
           "PM10 Total 0-10um STP"
          ],
          [
           9.1429,
           "PM10 Total 0-10um STP"
          ],
          [
           20.5969,
           "PM10 Total 0-10um STP"
          ],
          [
           33.0356,
           "PM10 Total 0-10um STP"
          ],
          [
           32.5978,
           "PM10 Total 0-10um STP"
          ],
          [
           21.7204,
           "PM10 Total 0-10um STP"
          ],
          [
           10.4628,
           "PM10 Total 0-10um STP"
          ],
          [
           10,
           "PM10 Total 0-10um STP"
          ],
          [
           20.8377,
           "PM10 Total 0-10um STP"
          ],
          [
           20.3951,
           "PM10 Total 0-10um STP"
          ],
          [
           28.4648,
           "PM10 Total 0-10um STP"
          ],
          [
           27.9891,
           "PM10 Total 0-10um STP"
          ],
          [
           30.6232,
           "PM10 Total 0-10um STP"
          ],
          [
           30.2921,
           "PM10 Total 0-10um STP"
          ],
          [
           27.2143,
           "PM10 Total 0-10um STP"
          ],
          [
           20.2857,
           "PM10 Total 0-10um STP"
          ],
          [
           29.2667,
           "PM10 Total 0-10um STP"
          ],
          [
           29.2667,
           "PM10 Total 0-10um STP"
          ],
          [
           26.4667,
           "PM10 Total 0-10um STP"
          ],
          [
           33.7333,
           "PM10 Total 0-10um STP"
          ],
          [
           21.2921,
           "PM10 Total 0-10um STP"
          ],
          [
           27.7333,
           "PM10 Total 0-10um STP"
          ],
          [
           17.8,
           "PM10 Total 0-10um STP"
          ],
          [
           16.8667,
           "PM10 Total 0-10um STP"
          ],
          [
           21.4,
           "PM10 Total 0-10um STP"
          ]
         ],
         "hovertemplate": "<b>%{hovertext}</b><br><br>latitude=%{lat}<br>longitude=%{lon}<br>arithmetic_mean=%{customdata[0]}<br>parameter=%{customdata[1]}<extra></extra>",
         "hovertext": [
          "Santa Clarita",
          "Santa Clarita",
          "Santa Clarita",
          "Santa Clarita",
          "Azusa",
          "Azusa",
          "Azusa",
          "Azusa",
          "Los Angeles-North Main Street",
          "Los Angeles-North Main Street",
          "Los Angeles-North Main Street",
          "Los Angeles-North Main Street",
          "LAX Hastings",
          "LAX Hastings",
          "LAX Hastings",
          "LAX Hastings",
          "Glendora",
          "Glendora",
          "Glendora",
          "Glendora",
          "Glendora",
          "Glendora",
          "Glendora",
          "Lancaster-Division Street",
          "Lancaster-Division Street",
          "Lancaster-Division Street",
          "Lancaster-Division Street",
          "Lancaster-Division Street",
          "Lancaster-Division Street",
          "Lancaster-Division Street",
          "Lancaster-Division Street",
          "Long Beach (Hudson)",
          "Long Beach (Hudson)",
          "Long Beach (Hudson)",
          "Long Beach (Hudson)",
          "Long Beach (Hudson)",
          "Long Beach (Hudson)",
          "Glendora",
          "Long Beach (South)",
          "Long Beach (South)",
          "Long Beach (South)",
          "Long Beach (South)"
         ],
         "lat": [
          34.38344,
          34.38344,
          34.38344,
          34.38344,
          34.1365,
          34.1365,
          34.1365,
          34.1365,
          34.06659,
          34.06659,
          34.06659,
          34.06659,
          33.95507,
          33.95507,
          33.95507,
          33.95507,
          34.14435,
          34.14435,
          34.14435,
          34.14435,
          34.14435,
          34.14435,
          34.14435,
          34.669739,
          34.669739,
          34.669739,
          34.669739,
          34.669739,
          34.669739,
          34.669739,
          34.669739,
          33.8025,
          33.8025,
          33.8025,
          33.8025,
          33.8025,
          33.8025,
          34.14435,
          33.79236,
          33.79236,
          33.79236,
          33.79236
         ],
         "legendgroup": "",
         "lon": [
          -118.5284,
          -118.5284,
          -118.5284,
          -118.5284,
          -117.92391,
          -117.92391,
          -117.92391,
          -117.92391,
          -118.22688,
          -118.22688,
          -118.22688,
          -118.22688,
          -118.43049,
          -118.43049,
          -118.43049,
          -118.43049,
          -117.85036,
          -117.85036,
          -117.85036,
          -117.85036,
          -117.85036,
          -117.85036,
          -117.85036,
          -118.130511,
          -118.130511,
          -118.130511,
          -118.130511,
          -118.130511,
          -118.130511,
          -118.130511,
          -118.130511,
          -118.22,
          -118.22,
          -118.22,
          -118.22,
          -118.22,
          -118.22,
          -117.85036,
          -118.17533,
          -118.17533,
          -118.17533,
          -118.17533
         ],
         "marker": {
          "color": "fuchsia"
         },
         "mode": "markers",
         "name": "",
         "showlegend": false,
         "subplot": "mapbox",
         "type": "scattermapbox"
        }
       ],
       "layout": {
        "height": 300,
        "legend": {
         "tracegroupgap": 0
        },
        "mapbox": {
         "center": {
          "lat": 34.15865599999999,
          "lon": -118.15016685714285
         },
         "domain": {
          "x": [
           0,
           1
          ],
          "y": [
           0,
           1
          ]
         },
         "style": "carto-positron",
         "zoom": 10
        },
        "margin": {
         "b": 0,
         "l": 0,
         "r": 0,
         "t": 0
        },
        "template": {
         "data": {
          "bar": [
           {
            "error_x": {
             "color": "#2a3f5f"
            },
            "error_y": {
             "color": "#2a3f5f"
            },
            "marker": {
             "line": {
              "color": "#E5ECF6",
              "width": 0.5
             },
             "pattern": {
              "fillmode": "overlay",
              "size": 10,
              "solidity": 0.2
             }
            },
            "type": "bar"
           }
          ],
          "barpolar": [
           {
            "marker": {
             "line": {
              "color": "#E5ECF6",
              "width": 0.5
             },
             "pattern": {
              "fillmode": "overlay",
              "size": 10,
              "solidity": 0.2
             }
            },
            "type": "barpolar"
           }
          ],
          "carpet": [
           {
            "aaxis": {
             "endlinecolor": "#2a3f5f",
             "gridcolor": "white",
             "linecolor": "white",
             "minorgridcolor": "white",
             "startlinecolor": "#2a3f5f"
            },
            "baxis": {
             "endlinecolor": "#2a3f5f",
             "gridcolor": "white",
             "linecolor": "white",
             "minorgridcolor": "white",
             "startlinecolor": "#2a3f5f"
            },
            "type": "carpet"
           }
          ],
          "choropleth": [
           {
            "colorbar": {
             "outlinewidth": 0,
             "ticks": ""
            },
            "type": "choropleth"
           }
          ],
          "contour": [
           {
            "colorbar": {
             "outlinewidth": 0,
             "ticks": ""
            },
            "colorscale": [
             [
              0,
              "#0d0887"
             ],
             [
              0.1111111111111111,
              "#46039f"
             ],
             [
              0.2222222222222222,
              "#7201a8"
             ],
             [
              0.3333333333333333,
              "#9c179e"
             ],
             [
              0.4444444444444444,
              "#bd3786"
             ],
             [
              0.5555555555555556,
              "#d8576b"
             ],
             [
              0.6666666666666666,
              "#ed7953"
             ],
             [
              0.7777777777777778,
              "#fb9f3a"
             ],
             [
              0.8888888888888888,
              "#fdca26"
             ],
             [
              1,
              "#f0f921"
             ]
            ],
            "type": "contour"
           }
          ],
          "contourcarpet": [
           {
            "colorbar": {
             "outlinewidth": 0,
             "ticks": ""
            },
            "type": "contourcarpet"
           }
          ],
          "heatmap": [
           {
            "colorbar": {
             "outlinewidth": 0,
             "ticks": ""
            },
            "colorscale": [
             [
              0,
              "#0d0887"
             ],
             [
              0.1111111111111111,
              "#46039f"
             ],
             [
              0.2222222222222222,
              "#7201a8"
             ],
             [
              0.3333333333333333,
              "#9c179e"
             ],
             [
              0.4444444444444444,
              "#bd3786"
             ],
             [
              0.5555555555555556,
              "#d8576b"
             ],
             [
              0.6666666666666666,
              "#ed7953"
             ],
             [
              0.7777777777777778,
              "#fb9f3a"
             ],
             [
              0.8888888888888888,
              "#fdca26"
             ],
             [
              1,
              "#f0f921"
             ]
            ],
            "type": "heatmap"
           }
          ],
          "heatmapgl": [
           {
            "colorbar": {
             "outlinewidth": 0,
             "ticks": ""
            },
            "colorscale": [
             [
              0,
              "#0d0887"
             ],
             [
              0.1111111111111111,
              "#46039f"
             ],
             [
              0.2222222222222222,
              "#7201a8"
             ],
             [
              0.3333333333333333,
              "#9c179e"
             ],
             [
              0.4444444444444444,
              "#bd3786"
             ],
             [
              0.5555555555555556,
              "#d8576b"
             ],
             [
              0.6666666666666666,
              "#ed7953"
             ],
             [
              0.7777777777777778,
              "#fb9f3a"
             ],
             [
              0.8888888888888888,
              "#fdca26"
             ],
             [
              1,
              "#f0f921"
             ]
            ],
            "type": "heatmapgl"
           }
          ],
          "histogram": [
           {
            "marker": {
             "pattern": {
              "fillmode": "overlay",
              "size": 10,
              "solidity": 0.2
             }
            },
            "type": "histogram"
           }
          ],
          "histogram2d": [
           {
            "colorbar": {
             "outlinewidth": 0,
             "ticks": ""
            },
            "colorscale": [
             [
              0,
              "#0d0887"
             ],
             [
              0.1111111111111111,
              "#46039f"
             ],
             [
              0.2222222222222222,
              "#7201a8"
             ],
             [
              0.3333333333333333,
              "#9c179e"
             ],
             [
              0.4444444444444444,
              "#bd3786"
             ],
             [
              0.5555555555555556,
              "#d8576b"
             ],
             [
              0.6666666666666666,
              "#ed7953"
             ],
             [
              0.7777777777777778,
              "#fb9f3a"
             ],
             [
              0.8888888888888888,
              "#fdca26"
             ],
             [
              1,
              "#f0f921"
             ]
            ],
            "type": "histogram2d"
           }
          ],
          "histogram2dcontour": [
           {
            "colorbar": {
             "outlinewidth": 0,
             "ticks": ""
            },
            "colorscale": [
             [
              0,
              "#0d0887"
             ],
             [
              0.1111111111111111,
              "#46039f"
             ],
             [
              0.2222222222222222,
              "#7201a8"
             ],
             [
              0.3333333333333333,
              "#9c179e"
             ],
             [
              0.4444444444444444,
              "#bd3786"
             ],
             [
              0.5555555555555556,
              "#d8576b"
             ],
             [
              0.6666666666666666,
              "#ed7953"
             ],
             [
              0.7777777777777778,
              "#fb9f3a"
             ],
             [
              0.8888888888888888,
              "#fdca26"
             ],
             [
              1,
              "#f0f921"
             ]
            ],
            "type": "histogram2dcontour"
           }
          ],
          "mesh3d": [
           {
            "colorbar": {
             "outlinewidth": 0,
             "ticks": ""
            },
            "type": "mesh3d"
           }
          ],
          "parcoords": [
           {
            "line": {
             "colorbar": {
              "outlinewidth": 0,
              "ticks": ""
             }
            },
            "type": "parcoords"
           }
          ],
          "pie": [
           {
            "automargin": true,
            "type": "pie"
           }
          ],
          "scatter": [
           {
            "fillpattern": {
             "fillmode": "overlay",
             "size": 10,
             "solidity": 0.2
            },
            "type": "scatter"
           }
          ],
          "scatter3d": [
           {
            "line": {
             "colorbar": {
              "outlinewidth": 0,
              "ticks": ""
             }
            },
            "marker": {
             "colorbar": {
              "outlinewidth": 0,
              "ticks": ""
             }
            },
            "type": "scatter3d"
           }
          ],
          "scattercarpet": [
           {
            "marker": {
             "colorbar": {
              "outlinewidth": 0,
              "ticks": ""
             }
            },
            "type": "scattercarpet"
           }
          ],
          "scattergeo": [
           {
            "marker": {
             "colorbar": {
              "outlinewidth": 0,
              "ticks": ""
             }
            },
            "type": "scattergeo"
           }
          ],
          "scattergl": [
           {
            "marker": {
             "colorbar": {
              "outlinewidth": 0,
              "ticks": ""
             }
            },
            "type": "scattergl"
           }
          ],
          "scattermapbox": [
           {
            "marker": {
             "colorbar": {
              "outlinewidth": 0,
              "ticks": ""
             }
            },
            "type": "scattermapbox"
           }
          ],
          "scatterpolar": [
           {
            "marker": {
             "colorbar": {
              "outlinewidth": 0,
              "ticks": ""
             }
            },
            "type": "scatterpolar"
           }
          ],
          "scatterpolargl": [
           {
            "marker": {
             "colorbar": {
              "outlinewidth": 0,
              "ticks": ""
             }
            },
            "type": "scatterpolargl"
           }
          ],
          "scatterternary": [
           {
            "marker": {
             "colorbar": {
              "outlinewidth": 0,
              "ticks": ""
             }
            },
            "type": "scatterternary"
           }
          ],
          "surface": [
           {
            "colorbar": {
             "outlinewidth": 0,
             "ticks": ""
            },
            "colorscale": [
             [
              0,
              "#0d0887"
             ],
             [
              0.1111111111111111,
              "#46039f"
             ],
             [
              0.2222222222222222,
              "#7201a8"
             ],
             [
              0.3333333333333333,
              "#9c179e"
             ],
             [
              0.4444444444444444,
              "#bd3786"
             ],
             [
              0.5555555555555556,
              "#d8576b"
             ],
             [
              0.6666666666666666,
              "#ed7953"
             ],
             [
              0.7777777777777778,
              "#fb9f3a"
             ],
             [
              0.8888888888888888,
              "#fdca26"
             ],
             [
              1,
              "#f0f921"
             ]
            ],
            "type": "surface"
           }
          ],
          "table": [
           {
            "cells": {
             "fill": {
              "color": "#EBF0F8"
             },
             "line": {
              "color": "white"
             }
            },
            "header": {
             "fill": {
              "color": "#C8D4E3"
             },
             "line": {
              "color": "white"
             }
            },
            "type": "table"
           }
          ]
         },
         "layout": {
          "annotationdefaults": {
           "arrowcolor": "#2a3f5f",
           "arrowhead": 0,
           "arrowwidth": 1
          },
          "autotypenumbers": "strict",
          "coloraxis": {
           "colorbar": {
            "outlinewidth": 0,
            "ticks": ""
           }
          },
          "colorscale": {
           "diverging": [
            [
             0,
             "#8e0152"
            ],
            [
             0.1,
             "#c51b7d"
            ],
            [
             0.2,
             "#de77ae"
            ],
            [
             0.3,
             "#f1b6da"
            ],
            [
             0.4,
             "#fde0ef"
            ],
            [
             0.5,
             "#f7f7f7"
            ],
            [
             0.6,
             "#e6f5d0"
            ],
            [
             0.7,
             "#b8e186"
            ],
            [
             0.8,
             "#7fbc41"
            ],
            [
             0.9,
             "#4d9221"
            ],
            [
             1,
             "#276419"
            ]
           ],
           "sequential": [
            [
             0,
             "#0d0887"
            ],
            [
             0.1111111111111111,
             "#46039f"
            ],
            [
             0.2222222222222222,
             "#7201a8"
            ],
            [
             0.3333333333333333,
             "#9c179e"
            ],
            [
             0.4444444444444444,
             "#bd3786"
            ],
            [
             0.5555555555555556,
             "#d8576b"
            ],
            [
             0.6666666666666666,
             "#ed7953"
            ],
            [
             0.7777777777777778,
             "#fb9f3a"
            ],
            [
             0.8888888888888888,
             "#fdca26"
            ],
            [
             1,
             "#f0f921"
            ]
           ],
           "sequentialminus": [
            [
             0,
             "#0d0887"
            ],
            [
             0.1111111111111111,
             "#46039f"
            ],
            [
             0.2222222222222222,
             "#7201a8"
            ],
            [
             0.3333333333333333,
             "#9c179e"
            ],
            [
             0.4444444444444444,
             "#bd3786"
            ],
            [
             0.5555555555555556,
             "#d8576b"
            ],
            [
             0.6666666666666666,
             "#ed7953"
            ],
            [
             0.7777777777777778,
             "#fb9f3a"
            ],
            [
             0.8888888888888888,
             "#fdca26"
            ],
            [
             1,
             "#f0f921"
            ]
           ]
          },
          "colorway": [
           "#636efa",
           "#EF553B",
           "#00cc96",
           "#ab63fa",
           "#FFA15A",
           "#19d3f3",
           "#FF6692",
           "#B6E880",
           "#FF97FF",
           "#FECB52"
          ],
          "font": {
           "color": "#2a3f5f"
          },
          "geo": {
           "bgcolor": "white",
           "lakecolor": "white",
           "landcolor": "#E5ECF6",
           "showlakes": true,
           "showland": true,
           "subunitcolor": "white"
          },
          "hoverlabel": {
           "align": "left"
          },
          "hovermode": "closest",
          "mapbox": {
           "style": "light"
          },
          "paper_bgcolor": "white",
          "plot_bgcolor": "#E5ECF6",
          "polar": {
           "angularaxis": {
            "gridcolor": "white",
            "linecolor": "white",
            "ticks": ""
           },
           "bgcolor": "#E5ECF6",
           "radialaxis": {
            "gridcolor": "white",
            "linecolor": "white",
            "ticks": ""
           }
          },
          "scene": {
           "xaxis": {
            "backgroundcolor": "#E5ECF6",
            "gridcolor": "white",
            "gridwidth": 2,
            "linecolor": "white",
            "showbackground": true,
            "ticks": "",
            "zerolinecolor": "white"
           },
           "yaxis": {
            "backgroundcolor": "#E5ECF6",
            "gridcolor": "white",
            "gridwidth": 2,
            "linecolor": "white",
            "showbackground": true,
            "ticks": "",
            "zerolinecolor": "white"
           },
           "zaxis": {
            "backgroundcolor": "#E5ECF6",
            "gridcolor": "white",
            "gridwidth": 2,
            "linecolor": "white",
            "showbackground": true,
            "ticks": "",
            "zerolinecolor": "white"
           }
          },
          "shapedefaults": {
           "line": {
            "color": "#2a3f5f"
           }
          },
          "ternary": {
           "aaxis": {
            "gridcolor": "white",
            "linecolor": "white",
            "ticks": ""
           },
           "baxis": {
            "gridcolor": "white",
            "linecolor": "white",
            "ticks": ""
           },
           "bgcolor": "#E5ECF6",
           "caxis": {
            "gridcolor": "white",
            "linecolor": "white",
            "ticks": ""
           }
          },
          "title": {
           "x": 0.05
          },
          "xaxis": {
           "automargin": true,
           "gridcolor": "white",
           "linecolor": "white",
           "ticks": "",
           "title": {
            "standoff": 15
           },
           "zerolinecolor": "white",
           "zerolinewidth": 2
          },
          "yaxis": {
           "automargin": true,
           "gridcolor": "white",
           "linecolor": "white",
           "ticks": "",
           "title": {
            "standoff": 15
           },
           "zerolinecolor": "white",
           "zerolinewidth": 2
          }
         }
        }
       }
      }
     },
     "metadata": {},
     "output_type": "display_data"
    }
   ],
   "source": [
    "import plotly.express as px\n",
    "\n",
    "fig = px.scatter_mapbox(df, lat=\"latitude\", lon=\"longitude\", hover_name=\"local_site_name\", hover_data=[\"arithmetic_mean\", \"parameter\"],\n",
    "                        color_discrete_sequence=[\"fuchsia\"], zoom=10, height=300)\n",
    "fig.update_layout(mapbox_style=\"carto-positron\")\n",
    "fig.update_layout(margin={\"r\":0,\"t\":0,\"l\":0,\"b\":0})\n",
    "fig.show()"
   ]
  },
  {
   "attachments": {},
   "cell_type": "markdown",
   "metadata": {},
   "source": [
    "### Current issues regarding AQI:\n",
    "1. Popular air quality measures include PM2.5, PM10, Ozone, CO, etc. Yet, NOT every site has all those measures throughout the time periods.\n",
    "2. The location/geographic distribution of the sites are uneven -- need to think about ways to integrate with Census data based on geographic locations\n",
    "3. We might want to query all the data into one *database* before analyzing; so we have to decide a time range and an area (i.e latitude and longitude range) and write query functions to collect them into separate catagories based on air quality parameters."
   ]
  },
  {
   "attachments": {},
   "cell_type": "markdown",
   "metadata": {},
   "source": [
    "#### ALternative dataset for air quality -- Airnow\n",
    "\n",
    "`https://docs.airnowapi.org/HistoricalObservationsByZip/docs`"
   ]
  },
  {
   "cell_type": "code",
   "execution_count": 26,
   "metadata": {},
   "outputs": [],
   "source": [
    "import pandas as pd"
   ]
  },
  {
   "cell_type": "code",
   "execution_count": null,
   "metadata": {},
   "outputs": [],
   "source": [
    "## read csv: output.csv\n",
    "df = pd.read_csv(\"Output_2.csv\")\n",
    "df"
   ]
  },
  {
   "cell_type": "code",
   "execution_count": 32,
   "metadata": {},
   "outputs": [
    {
     "data": {
      "text/html": [
       "<div>\n",
       "<style scoped>\n",
       "    .dataframe tbody tr th:only-of-type {\n",
       "        vertical-align: middle;\n",
       "    }\n",
       "\n",
       "    .dataframe tbody tr th {\n",
       "        vertical-align: top;\n",
       "    }\n",
       "\n",
       "    .dataframe thead th {\n",
       "        text-align: right;\n",
       "    }\n",
       "</style>\n",
       "<table border=\"1\" class=\"dataframe\">\n",
       "  <thead>\n",
       "    <tr style=\"text-align: right;\">\n",
       "      <th></th>\n",
       "      <th>lat</th>\n",
       "      <th>lon</th>\n",
       "      <th>time</th>\n",
       "      <th>parameter</th>\n",
       "      <th>value</th>\n",
       "      <th>unit</th>\n",
       "      <th>aqi</th>\n",
       "      <th>type</th>\n",
       "    </tr>\n",
       "  </thead>\n",
       "  <tbody>\n",
       "    <tr>\n",
       "      <th>0</th>\n",
       "      <td>34.210170</td>\n",
       "      <td>-118.870510</td>\n",
       "      <td>2023-04-09T19:00</td>\n",
       "      <td>PM2.5</td>\n",
       "      <td>4.8</td>\n",
       "      <td>UG/M3</td>\n",
       "      <td>20</td>\n",
       "      <td>1</td>\n",
       "    </tr>\n",
       "    <tr>\n",
       "      <th>1</th>\n",
       "      <td>34.404280</td>\n",
       "      <td>-118.809980</td>\n",
       "      <td>2023-04-09T19:00</td>\n",
       "      <td>OZONE</td>\n",
       "      <td>34.0</td>\n",
       "      <td>PPB</td>\n",
       "      <td>31</td>\n",
       "      <td>1</td>\n",
       "    </tr>\n",
       "    <tr>\n",
       "      <th>2</th>\n",
       "      <td>34.404280</td>\n",
       "      <td>-118.809980</td>\n",
       "      <td>2023-04-09T19:00</td>\n",
       "      <td>PM2.5</td>\n",
       "      <td>5.5</td>\n",
       "      <td>UG/M3</td>\n",
       "      <td>23</td>\n",
       "      <td>1</td>\n",
       "    </tr>\n",
       "    <tr>\n",
       "      <th>3</th>\n",
       "      <td>34.276320</td>\n",
       "      <td>-118.683690</td>\n",
       "      <td>2023-04-09T19:00</td>\n",
       "      <td>OZONE</td>\n",
       "      <td>42.0</td>\n",
       "      <td>PPB</td>\n",
       "      <td>39</td>\n",
       "      <td>1</td>\n",
       "    </tr>\n",
       "    <tr>\n",
       "      <th>4</th>\n",
       "      <td>34.276320</td>\n",
       "      <td>-118.683690</td>\n",
       "      <td>2023-04-09T19:00</td>\n",
       "      <td>PM2.5</td>\n",
       "      <td>2.5</td>\n",
       "      <td>UG/M3</td>\n",
       "      <td>10</td>\n",
       "      <td>1</td>\n",
       "    </tr>\n",
       "    <tr>\n",
       "      <th>...</th>\n",
       "      <td>...</td>\n",
       "      <td>...</td>\n",
       "      <td>...</td>\n",
       "      <td>...</td>\n",
       "      <td>...</td>\n",
       "      <td>...</td>\n",
       "      <td>...</td>\n",
       "      <td>...</td>\n",
       "    </tr>\n",
       "    <tr>\n",
       "      <th>21855</th>\n",
       "      <td>33.901400</td>\n",
       "      <td>-118.205000</td>\n",
       "      <td>2023-05-09T19:00</td>\n",
       "      <td>PM2.5</td>\n",
       "      <td>8.7</td>\n",
       "      <td>UG/M3</td>\n",
       "      <td>36</td>\n",
       "      <td>1</td>\n",
       "    </tr>\n",
       "    <tr>\n",
       "      <th>21856</th>\n",
       "      <td>33.793713</td>\n",
       "      <td>-118.171019</td>\n",
       "      <td>2023-05-09T19:00</td>\n",
       "      <td>PM2.5</td>\n",
       "      <td>8.7</td>\n",
       "      <td>UG/M3</td>\n",
       "      <td>36</td>\n",
       "      <td>1</td>\n",
       "    </tr>\n",
       "    <tr>\n",
       "      <th>21857</th>\n",
       "      <td>33.830586</td>\n",
       "      <td>-117.938509</td>\n",
       "      <td>2023-05-09T19:00</td>\n",
       "      <td>PM2.5</td>\n",
       "      <td>6.0</td>\n",
       "      <td>UG/M3</td>\n",
       "      <td>25</td>\n",
       "      <td>1</td>\n",
       "    </tr>\n",
       "    <tr>\n",
       "      <th>21858</th>\n",
       "      <td>34.143900</td>\n",
       "      <td>-117.850800</td>\n",
       "      <td>2023-05-09T19:00</td>\n",
       "      <td>PM2.5</td>\n",
       "      <td>5.1</td>\n",
       "      <td>UG/M3</td>\n",
       "      <td>21</td>\n",
       "      <td>1</td>\n",
       "    </tr>\n",
       "    <tr>\n",
       "      <th>21859</th>\n",
       "      <td>33.996387</td>\n",
       "      <td>-117.492500</td>\n",
       "      <td>2023-05-09T19:00</td>\n",
       "      <td>PM2.5</td>\n",
       "      <td>8.7</td>\n",
       "      <td>UG/M3</td>\n",
       "      <td>36</td>\n",
       "      <td>1</td>\n",
       "    </tr>\n",
       "  </tbody>\n",
       "</table>\n",
       "<p>21860 rows × 8 columns</p>\n",
       "</div>"
      ],
      "text/plain": [
       "             lat         lon              time parameter  value   unit  aqi  \\\n",
       "0      34.210170 -118.870510  2023-04-09T19:00     PM2.5    4.8  UG/M3   20   \n",
       "1      34.404280 -118.809980  2023-04-09T19:00     OZONE   34.0    PPB   31   \n",
       "2      34.404280 -118.809980  2023-04-09T19:00     PM2.5    5.5  UG/M3   23   \n",
       "3      34.276320 -118.683690  2023-04-09T19:00     OZONE   42.0    PPB   39   \n",
       "4      34.276320 -118.683690  2023-04-09T19:00     PM2.5    2.5  UG/M3   10   \n",
       "...          ...         ...               ...       ...    ...    ...  ...   \n",
       "21855  33.901400 -118.205000  2023-05-09T19:00     PM2.5    8.7  UG/M3   36   \n",
       "21856  33.793713 -118.171019  2023-05-09T19:00     PM2.5    8.7  UG/M3   36   \n",
       "21857  33.830586 -117.938509  2023-05-09T19:00     PM2.5    6.0  UG/M3   25   \n",
       "21858  34.143900 -117.850800  2023-05-09T19:00     PM2.5    5.1  UG/M3   21   \n",
       "21859  33.996387 -117.492500  2023-05-09T19:00     PM2.5    8.7  UG/M3   36   \n",
       "\n",
       "       type  \n",
       "0         1  \n",
       "1         1  \n",
       "2         1  \n",
       "3         1  \n",
       "4         1  \n",
       "...     ...  \n",
       "21855     1  \n",
       "21856     1  \n",
       "21857     1  \n",
       "21858     1  \n",
       "21859     1  \n",
       "\n",
       "[21860 rows x 8 columns]"
      ]
     },
     "execution_count": 32,
     "metadata": {},
     "output_type": "execute_result"
    }
   ],
   "source": [
    "## change column name: coloumn 1 is lat, column 2 is lon\n",
    "\n",
    "df.columns = [\"lat\", \"lon\", \"time\", \"parameter\", \"value\", \"unit\", \"aqi\", \"type\"]\n",
    "df"
   ]
  },
  {
   "cell_type": "code",
   "execution_count": 33,
   "metadata": {},
   "outputs": [],
   "source": [
    "## kept only PM2.5 data and  time = 2023-04-09T19:00\t\n",
    "\n",
    "df = df[(df[\"parameter\"] == \"PM2.5\") & (df[\"time\"] == \"2023-04-09T19:00\")]"
   ]
  },
  {
   "cell_type": "code",
   "execution_count": 34,
   "metadata": {},
   "outputs": [
    {
     "data": {
      "text/html": [
       "<div>\n",
       "<style scoped>\n",
       "    .dataframe tbody tr th:only-of-type {\n",
       "        vertical-align: middle;\n",
       "    }\n",
       "\n",
       "    .dataframe tbody tr th {\n",
       "        vertical-align: top;\n",
       "    }\n",
       "\n",
       "    .dataframe thead th {\n",
       "        text-align: right;\n",
       "    }\n",
       "</style>\n",
       "<table border=\"1\" class=\"dataframe\">\n",
       "  <thead>\n",
       "    <tr style=\"text-align: right;\">\n",
       "      <th></th>\n",
       "      <th>lat</th>\n",
       "      <th>lon</th>\n",
       "      <th>time</th>\n",
       "      <th>parameter</th>\n",
       "      <th>value</th>\n",
       "      <th>unit</th>\n",
       "      <th>aqi</th>\n",
       "      <th>type</th>\n",
       "    </tr>\n",
       "  </thead>\n",
       "  <tbody>\n",
       "    <tr>\n",
       "      <th>0</th>\n",
       "      <td>34.210170</td>\n",
       "      <td>-118.870510</td>\n",
       "      <td>2023-04-09T19:00</td>\n",
       "      <td>PM2.5</td>\n",
       "      <td>4.8</td>\n",
       "      <td>UG/M3</td>\n",
       "      <td>20</td>\n",
       "      <td>1</td>\n",
       "    </tr>\n",
       "    <tr>\n",
       "      <th>2</th>\n",
       "      <td>34.404280</td>\n",
       "      <td>-118.809980</td>\n",
       "      <td>2023-04-09T19:00</td>\n",
       "      <td>PM2.5</td>\n",
       "      <td>5.5</td>\n",
       "      <td>UG/M3</td>\n",
       "      <td>23</td>\n",
       "      <td>1</td>\n",
       "    </tr>\n",
       "    <tr>\n",
       "      <th>4</th>\n",
       "      <td>34.276320</td>\n",
       "      <td>-118.683690</td>\n",
       "      <td>2023-04-09T19:00</td>\n",
       "      <td>PM2.5</td>\n",
       "      <td>2.5</td>\n",
       "      <td>UG/M3</td>\n",
       "      <td>10</td>\n",
       "      <td>1</td>\n",
       "    </tr>\n",
       "    <tr>\n",
       "      <th>5</th>\n",
       "      <td>34.199200</td>\n",
       "      <td>-118.533100</td>\n",
       "      <td>2023-04-09T19:00</td>\n",
       "      <td>PM2.5</td>\n",
       "      <td>17.8</td>\n",
       "      <td>UG/M3</td>\n",
       "      <td>63</td>\n",
       "      <td>2</td>\n",
       "    </tr>\n",
       "    <tr>\n",
       "      <th>8</th>\n",
       "      <td>34.383300</td>\n",
       "      <td>-118.528300</td>\n",
       "      <td>2023-04-09T19:00</td>\n",
       "      <td>PM2.5</td>\n",
       "      <td>6.7</td>\n",
       "      <td>UG/M3</td>\n",
       "      <td>28</td>\n",
       "      <td>1</td>\n",
       "    </tr>\n",
       "    <tr>\n",
       "      <th>10</th>\n",
       "      <td>34.181977</td>\n",
       "      <td>-118.363036</td>\n",
       "      <td>2023-04-09T19:00</td>\n",
       "      <td>PM2.5</td>\n",
       "      <td>17.5</td>\n",
       "      <td>UG/M3</td>\n",
       "      <td>62</td>\n",
       "      <td>2</td>\n",
       "    </tr>\n",
       "    <tr>\n",
       "      <th>12</th>\n",
       "      <td>34.066429</td>\n",
       "      <td>-118.226755</td>\n",
       "      <td>2023-04-09T19:00</td>\n",
       "      <td>PM2.5</td>\n",
       "      <td>25.1</td>\n",
       "      <td>UG/M3</td>\n",
       "      <td>78</td>\n",
       "      <td>2</td>\n",
       "    </tr>\n",
       "    <tr>\n",
       "      <th>14</th>\n",
       "      <td>33.901400</td>\n",
       "      <td>-118.205000</td>\n",
       "      <td>2023-04-09T19:00</td>\n",
       "      <td>PM2.5</td>\n",
       "      <td>17.9</td>\n",
       "      <td>UG/M3</td>\n",
       "      <td>63</td>\n",
       "      <td>2</td>\n",
       "    </tr>\n",
       "    <tr>\n",
       "      <th>16</th>\n",
       "      <td>33.793713</td>\n",
       "      <td>-118.171019</td>\n",
       "      <td>2023-04-09T19:00</td>\n",
       "      <td>PM2.5</td>\n",
       "      <td>14.9</td>\n",
       "      <td>UG/M3</td>\n",
       "      <td>57</td>\n",
       "      <td>2</td>\n",
       "    </tr>\n",
       "    <tr>\n",
       "      <th>22</th>\n",
       "      <td>34.143900</td>\n",
       "      <td>-117.850800</td>\n",
       "      <td>2023-04-09T19:00</td>\n",
       "      <td>PM2.5</td>\n",
       "      <td>14.7</td>\n",
       "      <td>UG/M3</td>\n",
       "      <td>56</td>\n",
       "      <td>2</td>\n",
       "    </tr>\n",
       "    <tr>\n",
       "      <th>26</th>\n",
       "      <td>33.996387</td>\n",
       "      <td>-117.492500</td>\n",
       "      <td>2023-04-09T19:00</td>\n",
       "      <td>PM2.5</td>\n",
       "      <td>17.9</td>\n",
       "      <td>UG/M3</td>\n",
       "      <td>63</td>\n",
       "      <td>2</td>\n",
       "    </tr>\n",
       "  </tbody>\n",
       "</table>\n",
       "</div>"
      ],
      "text/plain": [
       "          lat         lon              time parameter  value   unit  aqi  type\n",
       "0   34.210170 -118.870510  2023-04-09T19:00     PM2.5    4.8  UG/M3   20     1\n",
       "2   34.404280 -118.809980  2023-04-09T19:00     PM2.5    5.5  UG/M3   23     1\n",
       "4   34.276320 -118.683690  2023-04-09T19:00     PM2.5    2.5  UG/M3   10     1\n",
       "5   34.199200 -118.533100  2023-04-09T19:00     PM2.5   17.8  UG/M3   63     2\n",
       "8   34.383300 -118.528300  2023-04-09T19:00     PM2.5    6.7  UG/M3   28     1\n",
       "10  34.181977 -118.363036  2023-04-09T19:00     PM2.5   17.5  UG/M3   62     2\n",
       "12  34.066429 -118.226755  2023-04-09T19:00     PM2.5   25.1  UG/M3   78     2\n",
       "14  33.901400 -118.205000  2023-04-09T19:00     PM2.5   17.9  UG/M3   63     2\n",
       "16  33.793713 -118.171019  2023-04-09T19:00     PM2.5   14.9  UG/M3   57     2\n",
       "22  34.143900 -117.850800  2023-04-09T19:00     PM2.5   14.7  UG/M3   56     2\n",
       "26  33.996387 -117.492500  2023-04-09T19:00     PM2.5   17.9  UG/M3   63     2"
      ]
     },
     "execution_count": 34,
     "metadata": {},
     "output_type": "execute_result"
    }
   ],
   "source": [
    "df"
   ]
  },
  {
   "cell_type": "code",
   "execution_count": 35,
   "metadata": {},
   "outputs": [
    {
     "data": {
      "application/vnd.plotly.v1+json": {
       "config": {
        "plotlyServerURL": "https://plot.ly"
       },
       "data": [
        {
         "customdata": [
          [
           "PM2.5",
           20
          ],
          [
           "PM2.5",
           23
          ],
          [
           "PM2.5",
           10
          ],
          [
           "PM2.5",
           63
          ],
          [
           "PM2.5",
           28
          ],
          [
           "PM2.5",
           62
          ],
          [
           "PM2.5",
           78
          ],
          [
           "PM2.5",
           63
          ],
          [
           "PM2.5",
           57
          ],
          [
           "PM2.5",
           56
          ],
          [
           "PM2.5",
           63
          ]
         ],
         "hovertemplate": "lat=%{lat}<br>lon=%{lon}<br>parameter=%{customdata[0]}<br>aqi=%{customdata[1]}<extra></extra>",
         "lat": [
          34.21017,
          34.40428,
          34.27632,
          34.1992,
          34.3833,
          34.181977,
          34.066429,
          33.9014,
          33.793713,
          34.1439,
          33.996387
         ],
         "legendgroup": "",
         "lon": [
          -118.87051,
          -118.80998,
          -118.68369,
          -118.5331,
          -118.5283,
          -118.363036,
          -118.226755,
          -118.205,
          -118.171019,
          -117.8508,
          -117.4925
         ],
         "marker": {
          "color": "fuchsia"
         },
         "mode": "markers",
         "name": "",
         "showlegend": false,
         "subplot": "mapbox",
         "type": "scattermapbox"
        }
       ],
       "layout": {
        "height": 300,
        "legend": {
         "tracegroupgap": 0
        },
        "mapbox": {
         "center": {
          "lat": 34.14155236363637,
          "lon": -118.33951727272728
         },
         "domain": {
          "x": [
           0,
           1
          ],
          "y": [
           0,
           1
          ]
         },
         "style": "carto-positron",
         "zoom": 10
        },
        "margin": {
         "b": 0,
         "l": 0,
         "r": 0,
         "t": 0
        },
        "template": {
         "data": {
          "bar": [
           {
            "error_x": {
             "color": "#2a3f5f"
            },
            "error_y": {
             "color": "#2a3f5f"
            },
            "marker": {
             "line": {
              "color": "#E5ECF6",
              "width": 0.5
             },
             "pattern": {
              "fillmode": "overlay",
              "size": 10,
              "solidity": 0.2
             }
            },
            "type": "bar"
           }
          ],
          "barpolar": [
           {
            "marker": {
             "line": {
              "color": "#E5ECF6",
              "width": 0.5
             },
             "pattern": {
              "fillmode": "overlay",
              "size": 10,
              "solidity": 0.2
             }
            },
            "type": "barpolar"
           }
          ],
          "carpet": [
           {
            "aaxis": {
             "endlinecolor": "#2a3f5f",
             "gridcolor": "white",
             "linecolor": "white",
             "minorgridcolor": "white",
             "startlinecolor": "#2a3f5f"
            },
            "baxis": {
             "endlinecolor": "#2a3f5f",
             "gridcolor": "white",
             "linecolor": "white",
             "minorgridcolor": "white",
             "startlinecolor": "#2a3f5f"
            },
            "type": "carpet"
           }
          ],
          "choropleth": [
           {
            "colorbar": {
             "outlinewidth": 0,
             "ticks": ""
            },
            "type": "choropleth"
           }
          ],
          "contour": [
           {
            "colorbar": {
             "outlinewidth": 0,
             "ticks": ""
            },
            "colorscale": [
             [
              0,
              "#0d0887"
             ],
             [
              0.1111111111111111,
              "#46039f"
             ],
             [
              0.2222222222222222,
              "#7201a8"
             ],
             [
              0.3333333333333333,
              "#9c179e"
             ],
             [
              0.4444444444444444,
              "#bd3786"
             ],
             [
              0.5555555555555556,
              "#d8576b"
             ],
             [
              0.6666666666666666,
              "#ed7953"
             ],
             [
              0.7777777777777778,
              "#fb9f3a"
             ],
             [
              0.8888888888888888,
              "#fdca26"
             ],
             [
              1,
              "#f0f921"
             ]
            ],
            "type": "contour"
           }
          ],
          "contourcarpet": [
           {
            "colorbar": {
             "outlinewidth": 0,
             "ticks": ""
            },
            "type": "contourcarpet"
           }
          ],
          "heatmap": [
           {
            "colorbar": {
             "outlinewidth": 0,
             "ticks": ""
            },
            "colorscale": [
             [
              0,
              "#0d0887"
             ],
             [
              0.1111111111111111,
              "#46039f"
             ],
             [
              0.2222222222222222,
              "#7201a8"
             ],
             [
              0.3333333333333333,
              "#9c179e"
             ],
             [
              0.4444444444444444,
              "#bd3786"
             ],
             [
              0.5555555555555556,
              "#d8576b"
             ],
             [
              0.6666666666666666,
              "#ed7953"
             ],
             [
              0.7777777777777778,
              "#fb9f3a"
             ],
             [
              0.8888888888888888,
              "#fdca26"
             ],
             [
              1,
              "#f0f921"
             ]
            ],
            "type": "heatmap"
           }
          ],
          "heatmapgl": [
           {
            "colorbar": {
             "outlinewidth": 0,
             "ticks": ""
            },
            "colorscale": [
             [
              0,
              "#0d0887"
             ],
             [
              0.1111111111111111,
              "#46039f"
             ],
             [
              0.2222222222222222,
              "#7201a8"
             ],
             [
              0.3333333333333333,
              "#9c179e"
             ],
             [
              0.4444444444444444,
              "#bd3786"
             ],
             [
              0.5555555555555556,
              "#d8576b"
             ],
             [
              0.6666666666666666,
              "#ed7953"
             ],
             [
              0.7777777777777778,
              "#fb9f3a"
             ],
             [
              0.8888888888888888,
              "#fdca26"
             ],
             [
              1,
              "#f0f921"
             ]
            ],
            "type": "heatmapgl"
           }
          ],
          "histogram": [
           {
            "marker": {
             "pattern": {
              "fillmode": "overlay",
              "size": 10,
              "solidity": 0.2
             }
            },
            "type": "histogram"
           }
          ],
          "histogram2d": [
           {
            "colorbar": {
             "outlinewidth": 0,
             "ticks": ""
            },
            "colorscale": [
             [
              0,
              "#0d0887"
             ],
             [
              0.1111111111111111,
              "#46039f"
             ],
             [
              0.2222222222222222,
              "#7201a8"
             ],
             [
              0.3333333333333333,
              "#9c179e"
             ],
             [
              0.4444444444444444,
              "#bd3786"
             ],
             [
              0.5555555555555556,
              "#d8576b"
             ],
             [
              0.6666666666666666,
              "#ed7953"
             ],
             [
              0.7777777777777778,
              "#fb9f3a"
             ],
             [
              0.8888888888888888,
              "#fdca26"
             ],
             [
              1,
              "#f0f921"
             ]
            ],
            "type": "histogram2d"
           }
          ],
          "histogram2dcontour": [
           {
            "colorbar": {
             "outlinewidth": 0,
             "ticks": ""
            },
            "colorscale": [
             [
              0,
              "#0d0887"
             ],
             [
              0.1111111111111111,
              "#46039f"
             ],
             [
              0.2222222222222222,
              "#7201a8"
             ],
             [
              0.3333333333333333,
              "#9c179e"
             ],
             [
              0.4444444444444444,
              "#bd3786"
             ],
             [
              0.5555555555555556,
              "#d8576b"
             ],
             [
              0.6666666666666666,
              "#ed7953"
             ],
             [
              0.7777777777777778,
              "#fb9f3a"
             ],
             [
              0.8888888888888888,
              "#fdca26"
             ],
             [
              1,
              "#f0f921"
             ]
            ],
            "type": "histogram2dcontour"
           }
          ],
          "mesh3d": [
           {
            "colorbar": {
             "outlinewidth": 0,
             "ticks": ""
            },
            "type": "mesh3d"
           }
          ],
          "parcoords": [
           {
            "line": {
             "colorbar": {
              "outlinewidth": 0,
              "ticks": ""
             }
            },
            "type": "parcoords"
           }
          ],
          "pie": [
           {
            "automargin": true,
            "type": "pie"
           }
          ],
          "scatter": [
           {
            "fillpattern": {
             "fillmode": "overlay",
             "size": 10,
             "solidity": 0.2
            },
            "type": "scatter"
           }
          ],
          "scatter3d": [
           {
            "line": {
             "colorbar": {
              "outlinewidth": 0,
              "ticks": ""
             }
            },
            "marker": {
             "colorbar": {
              "outlinewidth": 0,
              "ticks": ""
             }
            },
            "type": "scatter3d"
           }
          ],
          "scattercarpet": [
           {
            "marker": {
             "colorbar": {
              "outlinewidth": 0,
              "ticks": ""
             }
            },
            "type": "scattercarpet"
           }
          ],
          "scattergeo": [
           {
            "marker": {
             "colorbar": {
              "outlinewidth": 0,
              "ticks": ""
             }
            },
            "type": "scattergeo"
           }
          ],
          "scattergl": [
           {
            "marker": {
             "colorbar": {
              "outlinewidth": 0,
              "ticks": ""
             }
            },
            "type": "scattergl"
           }
          ],
          "scattermapbox": [
           {
            "marker": {
             "colorbar": {
              "outlinewidth": 0,
              "ticks": ""
             }
            },
            "type": "scattermapbox"
           }
          ],
          "scatterpolar": [
           {
            "marker": {
             "colorbar": {
              "outlinewidth": 0,
              "ticks": ""
             }
            },
            "type": "scatterpolar"
           }
          ],
          "scatterpolargl": [
           {
            "marker": {
             "colorbar": {
              "outlinewidth": 0,
              "ticks": ""
             }
            },
            "type": "scatterpolargl"
           }
          ],
          "scatterternary": [
           {
            "marker": {
             "colorbar": {
              "outlinewidth": 0,
              "ticks": ""
             }
            },
            "type": "scatterternary"
           }
          ],
          "surface": [
           {
            "colorbar": {
             "outlinewidth": 0,
             "ticks": ""
            },
            "colorscale": [
             [
              0,
              "#0d0887"
             ],
             [
              0.1111111111111111,
              "#46039f"
             ],
             [
              0.2222222222222222,
              "#7201a8"
             ],
             [
              0.3333333333333333,
              "#9c179e"
             ],
             [
              0.4444444444444444,
              "#bd3786"
             ],
             [
              0.5555555555555556,
              "#d8576b"
             ],
             [
              0.6666666666666666,
              "#ed7953"
             ],
             [
              0.7777777777777778,
              "#fb9f3a"
             ],
             [
              0.8888888888888888,
              "#fdca26"
             ],
             [
              1,
              "#f0f921"
             ]
            ],
            "type": "surface"
           }
          ],
          "table": [
           {
            "cells": {
             "fill": {
              "color": "#EBF0F8"
             },
             "line": {
              "color": "white"
             }
            },
            "header": {
             "fill": {
              "color": "#C8D4E3"
             },
             "line": {
              "color": "white"
             }
            },
            "type": "table"
           }
          ]
         },
         "layout": {
          "annotationdefaults": {
           "arrowcolor": "#2a3f5f",
           "arrowhead": 0,
           "arrowwidth": 1
          },
          "autotypenumbers": "strict",
          "coloraxis": {
           "colorbar": {
            "outlinewidth": 0,
            "ticks": ""
           }
          },
          "colorscale": {
           "diverging": [
            [
             0,
             "#8e0152"
            ],
            [
             0.1,
             "#c51b7d"
            ],
            [
             0.2,
             "#de77ae"
            ],
            [
             0.3,
             "#f1b6da"
            ],
            [
             0.4,
             "#fde0ef"
            ],
            [
             0.5,
             "#f7f7f7"
            ],
            [
             0.6,
             "#e6f5d0"
            ],
            [
             0.7,
             "#b8e186"
            ],
            [
             0.8,
             "#7fbc41"
            ],
            [
             0.9,
             "#4d9221"
            ],
            [
             1,
             "#276419"
            ]
           ],
           "sequential": [
            [
             0,
             "#0d0887"
            ],
            [
             0.1111111111111111,
             "#46039f"
            ],
            [
             0.2222222222222222,
             "#7201a8"
            ],
            [
             0.3333333333333333,
             "#9c179e"
            ],
            [
             0.4444444444444444,
             "#bd3786"
            ],
            [
             0.5555555555555556,
             "#d8576b"
            ],
            [
             0.6666666666666666,
             "#ed7953"
            ],
            [
             0.7777777777777778,
             "#fb9f3a"
            ],
            [
             0.8888888888888888,
             "#fdca26"
            ],
            [
             1,
             "#f0f921"
            ]
           ],
           "sequentialminus": [
            [
             0,
             "#0d0887"
            ],
            [
             0.1111111111111111,
             "#46039f"
            ],
            [
             0.2222222222222222,
             "#7201a8"
            ],
            [
             0.3333333333333333,
             "#9c179e"
            ],
            [
             0.4444444444444444,
             "#bd3786"
            ],
            [
             0.5555555555555556,
             "#d8576b"
            ],
            [
             0.6666666666666666,
             "#ed7953"
            ],
            [
             0.7777777777777778,
             "#fb9f3a"
            ],
            [
             0.8888888888888888,
             "#fdca26"
            ],
            [
             1,
             "#f0f921"
            ]
           ]
          },
          "colorway": [
           "#636efa",
           "#EF553B",
           "#00cc96",
           "#ab63fa",
           "#FFA15A",
           "#19d3f3",
           "#FF6692",
           "#B6E880",
           "#FF97FF",
           "#FECB52"
          ],
          "font": {
           "color": "#2a3f5f"
          },
          "geo": {
           "bgcolor": "white",
           "lakecolor": "white",
           "landcolor": "#E5ECF6",
           "showlakes": true,
           "showland": true,
           "subunitcolor": "white"
          },
          "hoverlabel": {
           "align": "left"
          },
          "hovermode": "closest",
          "mapbox": {
           "style": "light"
          },
          "paper_bgcolor": "white",
          "plot_bgcolor": "#E5ECF6",
          "polar": {
           "angularaxis": {
            "gridcolor": "white",
            "linecolor": "white",
            "ticks": ""
           },
           "bgcolor": "#E5ECF6",
           "radialaxis": {
            "gridcolor": "white",
            "linecolor": "white",
            "ticks": ""
           }
          },
          "scene": {
           "xaxis": {
            "backgroundcolor": "#E5ECF6",
            "gridcolor": "white",
            "gridwidth": 2,
            "linecolor": "white",
            "showbackground": true,
            "ticks": "",
            "zerolinecolor": "white"
           },
           "yaxis": {
            "backgroundcolor": "#E5ECF6",
            "gridcolor": "white",
            "gridwidth": 2,
            "linecolor": "white",
            "showbackground": true,
            "ticks": "",
            "zerolinecolor": "white"
           },
           "zaxis": {
            "backgroundcolor": "#E5ECF6",
            "gridcolor": "white",
            "gridwidth": 2,
            "linecolor": "white",
            "showbackground": true,
            "ticks": "",
            "zerolinecolor": "white"
           }
          },
          "shapedefaults": {
           "line": {
            "color": "#2a3f5f"
           }
          },
          "ternary": {
           "aaxis": {
            "gridcolor": "white",
            "linecolor": "white",
            "ticks": ""
           },
           "baxis": {
            "gridcolor": "white",
            "linecolor": "white",
            "ticks": ""
           },
           "bgcolor": "#E5ECF6",
           "caxis": {
            "gridcolor": "white",
            "linecolor": "white",
            "ticks": ""
           }
          },
          "title": {
           "x": 0.05
          },
          "xaxis": {
           "automargin": true,
           "gridcolor": "white",
           "linecolor": "white",
           "ticks": "",
           "title": {
            "standoff": 15
           },
           "zerolinecolor": "white",
           "zerolinewidth": 2
          },
          "yaxis": {
           "automargin": true,
           "gridcolor": "white",
           "linecolor": "white",
           "ticks": "",
           "title": {
            "standoff": 15
           },
           "zerolinecolor": "white",
           "zerolinewidth": 2
          }
         }
        }
       }
      }
     },
     "metadata": {},
     "output_type": "display_data"
    }
   ],
   "source": [
    "fig = px.scatter_mapbox(df, lat=\"lat\", lon=\"lon\", hover_data=[\"parameter\", \"aqi\"],\n",
    "                        color_discrete_sequence=[\"fuchsia\"], zoom=10, height=300)\n",
    "fig.update_layout(mapbox_style=\"carto-positron\")\n",
    "fig.update_layout(margin={\"r\":0,\"t\":0,\"l\":0,\"b\":0})\n",
    "fig.show()"
   ]
  },
  {
   "cell_type": "code",
   "execution_count": null,
   "metadata": {},
   "outputs": [],
   "source": [
    "## https://www.airnowapi.org/aq/data/?startDate=2013-05-09T19&endDate=2023-05-09T20&parameters=OZONE,PM25&BBOX=-119.857788,33.162553,-116.957397,35.699402&dataType=B&format=text/csv&verbose=0&monitorType=0&includerawconcentrations=0&API_KEY=C19E652A-FC64-4A48-A3B9-A1B0939C9E3A"
   ]
  }
 ],
 "metadata": {
  "kernelspec": {
   "display_name": "Projec16B",
   "language": "python",
   "name": "python3"
  },
  "language_info": {
   "codemirror_mode": {
    "name": "ipython",
    "version": 3
   },
   "file_extension": ".py",
   "mimetype": "text/x-python",
   "name": "python",
   "nbconvert_exporter": "python",
   "pygments_lexer": "ipython3",
   "version": "3.9.15"
  },
  "orig_nbformat": 4
 },
 "nbformat": 4,
 "nbformat_minor": 2
}
