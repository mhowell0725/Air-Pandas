{
 "cells": [
  {
   "cell_type": "code",
   "execution_count": 6,
   "metadata": {},
   "outputs": [],
   "source": [
    "import requests\n",
    "import json\n",
    "import pandas as pd\n"
   ]
  },
  {
   "attachments": {},
   "cell_type": "markdown",
   "metadata": {},
   "source": [
    "You need to get your API for AQS and make a txt file `myEmailKey.txt` to store your email and key in the first two lines.\n",
    "\n",
    "Also, note that some internet condition may not allow you to access the API key! Try different connection and devices!~"
   ]
  },
  {
   "cell_type": "code",
   "execution_count": 2,
   "metadata": {},
   "outputs": [
    {
     "name": "stdout",
     "output_type": "stream",
     "text": [
      "{'Header': [{'status': 'Success', 'request_time': '2023-05-08T21:20:13-04:00', 'url': 'https://aqs.epa.gov/data/api/list/countiesByState?email=zhu.tim99%40gmail.com&key=copperswift75&state=37', 'rows': 100}], 'Data': [{'code': '001', 'value_represented': 'Alamance'}, {'code': '003', 'value_represented': 'Alexander'}, {'code': '005', 'value_represented': 'Alleghany'}, {'code': '007', 'value_represented': 'Anson'}, {'code': '009', 'value_represented': 'Ashe'}, {'code': '011', 'value_represented': 'Avery'}, {'code': '013', 'value_represented': 'Beaufort'}, {'code': '015', 'value_represented': 'Bertie'}, {'code': '017', 'value_represented': 'Bladen'}, {'code': '019', 'value_represented': 'Brunswick'}, {'code': '021', 'value_represented': 'Buncombe'}, {'code': '023', 'value_represented': 'Burke'}, {'code': '025', 'value_represented': 'Cabarrus'}, {'code': '027', 'value_represented': 'Caldwell'}, {'code': '029', 'value_represented': 'Camden'}, {'code': '031', 'value_represented': 'Carteret'}, {'code': '033', 'value_represented': 'Caswell'}, {'code': '035', 'value_represented': 'Catawba'}, {'code': '037', 'value_represented': 'Chatham'}, {'code': '039', 'value_represented': 'Cherokee'}, {'code': '041', 'value_represented': 'Chowan'}, {'code': '043', 'value_represented': 'Clay'}, {'code': '045', 'value_represented': 'Cleveland'}, {'code': '047', 'value_represented': 'Columbus'}, {'code': '049', 'value_represented': 'Craven'}, {'code': '051', 'value_represented': 'Cumberland'}, {'code': '053', 'value_represented': 'Currituck'}, {'code': '055', 'value_represented': 'Dare'}, {'code': '057', 'value_represented': 'Davidson'}, {'code': '059', 'value_represented': 'Davie'}, {'code': '061', 'value_represented': 'Duplin'}, {'code': '063', 'value_represented': 'Durham'}, {'code': '065', 'value_represented': 'Edgecombe'}, {'code': '067', 'value_represented': 'Forsyth'}, {'code': '069', 'value_represented': 'Franklin'}, {'code': '071', 'value_represented': 'Gaston'}, {'code': '073', 'value_represented': 'Gates'}, {'code': '075', 'value_represented': 'Graham'}, {'code': '077', 'value_represented': 'Granville'}, {'code': '079', 'value_represented': 'Greene'}, {'code': '081', 'value_represented': 'Guilford'}, {'code': '083', 'value_represented': 'Halifax'}, {'code': '085', 'value_represented': 'Harnett'}, {'code': '087', 'value_represented': 'Haywood'}, {'code': '089', 'value_represented': 'Henderson'}, {'code': '091', 'value_represented': 'Hertford'}, {'code': '093', 'value_represented': 'Hoke'}, {'code': '095', 'value_represented': 'Hyde'}, {'code': '097', 'value_represented': 'Iredell'}, {'code': '099', 'value_represented': 'Jackson'}, {'code': '101', 'value_represented': 'Johnston'}, {'code': '103', 'value_represented': 'Jones'}, {'code': '105', 'value_represented': 'Lee'}, {'code': '107', 'value_represented': 'Lenoir'}, {'code': '109', 'value_represented': 'Lincoln'}, {'code': '111', 'value_represented': 'McDowell'}, {'code': '113', 'value_represented': 'Macon'}, {'code': '115', 'value_represented': 'Madison'}, {'code': '117', 'value_represented': 'Martin'}, {'code': '119', 'value_represented': 'Mecklenburg'}, {'code': '121', 'value_represented': 'Mitchell'}, {'code': '123', 'value_represented': 'Montgomery'}, {'code': '125', 'value_represented': 'Moore'}, {'code': '127', 'value_represented': 'Nash'}, {'code': '129', 'value_represented': 'New Hanover'}, {'code': '131', 'value_represented': 'Northampton'}, {'code': '133', 'value_represented': 'Onslow'}, {'code': '135', 'value_represented': 'Orange'}, {'code': '137', 'value_represented': 'Pamlico'}, {'code': '139', 'value_represented': 'Pasquotank'}, {'code': '141', 'value_represented': 'Pender'}, {'code': '143', 'value_represented': 'Perquimans'}, {'code': '145', 'value_represented': 'Person'}, {'code': '147', 'value_represented': 'Pitt'}, {'code': '149', 'value_represented': 'Polk'}, {'code': '151', 'value_represented': 'Randolph'}, {'code': '153', 'value_represented': 'Richmond'}, {'code': '155', 'value_represented': 'Robeson'}, {'code': '157', 'value_represented': 'Rockingham'}, {'code': '159', 'value_represented': 'Rowan'}, {'code': '161', 'value_represented': 'Rutherford'}, {'code': '163', 'value_represented': 'Sampson'}, {'code': '165', 'value_represented': 'Scotland'}, {'code': '167', 'value_represented': 'Stanly'}, {'code': '169', 'value_represented': 'Stokes'}, {'code': '171', 'value_represented': 'Surry'}, {'code': '173', 'value_represented': 'Swain'}, {'code': '175', 'value_represented': 'Transylvania'}, {'code': '177', 'value_represented': 'Tyrrell'}, {'code': '179', 'value_represented': 'Union'}, {'code': '181', 'value_represented': 'Vance'}, {'code': '183', 'value_represented': 'Wake'}, {'code': '185', 'value_represented': 'Warren'}, {'code': '187', 'value_represented': 'Washington'}, {'code': '189', 'value_represented': 'Watauga'}, {'code': '191', 'value_represented': 'Wayne'}, {'code': '193', 'value_represented': 'Wilkes'}, {'code': '195', 'value_represented': 'Wilson'}, {'code': '197', 'value_represented': 'Yadkin'}, {'code': '199', 'value_represented': 'Yancey'}]}\n"
     ]
    }
   ],
   "source": [
    "# Read email and API key from the file\n",
    "with open(\"myEmailKey.txt\", \"r\") as file:\n",
    "    email = file.readline().strip()\n",
    "    api_key = file.readline().strip()\n",
    "\n",
    "# Define the base API URL\n",
    "base_url = \"https://aqs.epa.gov/data/api\"\n",
    "\n",
    "# Define the endpoint and parameters\n",
    "endpoint = \"/list/countiesByState\"\n",
    "params = {\n",
    "    \"email\": email,\n",
    "    \"key\": api_key,\n",
    "    \"state\": \"37\"\n",
    "}\n",
    "\n",
    "# Make the GET request with SSL/TLS verification disabled (NOT recommended for production)\n",
    "response = requests.get(base_url + endpoint, params=params)\n",
    "\n",
    "# Check if the request was successful (status code 200)\n",
    "if response.status_code == 200:\n",
    "    data = response.json()\n",
    "    print(data)\n",
    "else:\n",
    "    print(f\"Error: {response.status_code}\")\n"
   ]
  },
  {
   "cell_type": "code",
   "execution_count": 3,
   "metadata": {},
   "outputs": [
    {
     "data": {
      "text/html": [
       "<div>\n",
       "<style scoped>\n",
       "    .dataframe tbody tr th:only-of-type {\n",
       "        vertical-align: middle;\n",
       "    }\n",
       "\n",
       "    .dataframe tbody tr th {\n",
       "        vertical-align: top;\n",
       "    }\n",
       "\n",
       "    .dataframe thead th {\n",
       "        text-align: right;\n",
       "    }\n",
       "</style>\n",
       "<table border=\"1\" class=\"dataframe\">\n",
       "  <thead>\n",
       "    <tr style=\"text-align: right;\">\n",
       "      <th></th>\n",
       "      <th>code</th>\n",
       "      <th>value_represented</th>\n",
       "    </tr>\n",
       "  </thead>\n",
       "  <tbody>\n",
       "    <tr>\n",
       "      <th>0</th>\n",
       "      <td>001</td>\n",
       "      <td>Alamance</td>\n",
       "    </tr>\n",
       "    <tr>\n",
       "      <th>1</th>\n",
       "      <td>003</td>\n",
       "      <td>Alexander</td>\n",
       "    </tr>\n",
       "    <tr>\n",
       "      <th>2</th>\n",
       "      <td>005</td>\n",
       "      <td>Alleghany</td>\n",
       "    </tr>\n",
       "    <tr>\n",
       "      <th>3</th>\n",
       "      <td>007</td>\n",
       "      <td>Anson</td>\n",
       "    </tr>\n",
       "    <tr>\n",
       "      <th>4</th>\n",
       "      <td>009</td>\n",
       "      <td>Ashe</td>\n",
       "    </tr>\n",
       "    <tr>\n",
       "      <th>...</th>\n",
       "      <td>...</td>\n",
       "      <td>...</td>\n",
       "    </tr>\n",
       "    <tr>\n",
       "      <th>95</th>\n",
       "      <td>191</td>\n",
       "      <td>Wayne</td>\n",
       "    </tr>\n",
       "    <tr>\n",
       "      <th>96</th>\n",
       "      <td>193</td>\n",
       "      <td>Wilkes</td>\n",
       "    </tr>\n",
       "    <tr>\n",
       "      <th>97</th>\n",
       "      <td>195</td>\n",
       "      <td>Wilson</td>\n",
       "    </tr>\n",
       "    <tr>\n",
       "      <th>98</th>\n",
       "      <td>197</td>\n",
       "      <td>Yadkin</td>\n",
       "    </tr>\n",
       "    <tr>\n",
       "      <th>99</th>\n",
       "      <td>199</td>\n",
       "      <td>Yancey</td>\n",
       "    </tr>\n",
       "  </tbody>\n",
       "</table>\n",
       "<p>100 rows × 2 columns</p>\n",
       "</div>"
      ],
      "text/plain": [
       "   code value_represented\n",
       "0   001          Alamance\n",
       "1   003         Alexander\n",
       "2   005         Alleghany\n",
       "3   007             Anson\n",
       "4   009              Ashe\n",
       "..  ...               ...\n",
       "95  191             Wayne\n",
       "96  193            Wilkes\n",
       "97  195            Wilson\n",
       "98  197            Yadkin\n",
       "99  199            Yancey\n",
       "\n",
       "[100 rows x 2 columns]"
      ]
     },
     "execution_count": 3,
     "metadata": {},
     "output_type": "execute_result"
    }
   ],
   "source": [
    "## display data in a table\n",
    "\n",
    "# Create a DataFrame from the JSON response\n",
    "df = pd.DataFrame.from_dict(data[\"Data\"])\n",
    "\n",
    "df"
   ]
  },
  {
   "cell_type": "code",
   "execution_count": 3,
   "metadata": {},
   "outputs": [],
   "source": [
    "## similarly we can get different data using the same sturcture\n",
    "# Read email and API key from the file\n",
    "with open(\"myEmailKey.txt\", \"r\") as file:\n",
    "    email = file.readline().strip()\n",
    "    api_key = file.readline().strip()\n",
    "\n",
    "# Define the base API URL\n",
    "base_url = \"https://aqs.epa.gov/data/api\"\n"
   ]
  },
  {
   "cell_type": "code",
   "execution_count": 4,
   "metadata": {},
   "outputs": [],
   "source": [
    "# a function to get data from the API -- passing the endpoint and parameters\n",
    "\n",
    "def get_data(base_url, endpoint, params):\n",
    "    # Make the GET request with SSL/TLS verification disabled (NOT recommended for production)\n",
    "    response = requests.get(base_url + endpoint, params=params)\n",
    "\n",
    "    # Check if the request was successful (status code 200)\n",
    "    if response.status_code == 200:\n",
    "        data = response.json()\n",
    "        return data\n",
    "    else:\n",
    "        print(f\"Error: {response.status_code}\")\n",
    "\n",
    "\n",
    "\n"
   ]
  },
  {
   "cell_type": "code",
   "execution_count": 7,
   "metadata": {},
   "outputs": [
    {
     "data": {
      "text/html": [
       "<div>\n",
       "<style scoped>\n",
       "    .dataframe tbody tr th:only-of-type {\n",
       "        vertical-align: middle;\n",
       "    }\n",
       "\n",
       "    .dataframe tbody tr th {\n",
       "        vertical-align: top;\n",
       "    }\n",
       "\n",
       "    .dataframe thead th {\n",
       "        text-align: right;\n",
       "    }\n",
       "</style>\n",
       "<table border=\"1\" class=\"dataframe\">\n",
       "  <thead>\n",
       "    <tr style=\"text-align: right;\">\n",
       "      <th></th>\n",
       "      <th>code</th>\n",
       "      <th>value_represented</th>\n",
       "    </tr>\n",
       "  </thead>\n",
       "  <tbody>\n",
       "    <tr>\n",
       "      <th>0</th>\n",
       "      <td>AIRNOW MAPS</td>\n",
       "      <td>The parameters represented on AirNow maps (881...</td>\n",
       "    </tr>\n",
       "    <tr>\n",
       "      <th>1</th>\n",
       "      <td>ALL</td>\n",
       "      <td>Select all Parameters Available</td>\n",
       "    </tr>\n",
       "    <tr>\n",
       "      <th>2</th>\n",
       "      <td>AQI POLLUTANTS</td>\n",
       "      <td>Pollutants that have an AQI Defined</td>\n",
       "    </tr>\n",
       "    <tr>\n",
       "      <th>3</th>\n",
       "      <td>CORE_HAPS</td>\n",
       "      <td>Urban Air Toxic Pollutants</td>\n",
       "    </tr>\n",
       "    <tr>\n",
       "      <th>4</th>\n",
       "      <td>CRITERIA</td>\n",
       "      <td>Criteria Pollutants</td>\n",
       "    </tr>\n",
       "    <tr>\n",
       "      <th>5</th>\n",
       "      <td>CSN DART</td>\n",
       "      <td>List of CSN speciation parameters to populate ...</td>\n",
       "    </tr>\n",
       "    <tr>\n",
       "      <th>6</th>\n",
       "      <td>FORECAST</td>\n",
       "      <td>Parameters routinely extracted by AirNow (STI)</td>\n",
       "    </tr>\n",
       "    <tr>\n",
       "      <th>7</th>\n",
       "      <td>HAPS</td>\n",
       "      <td>Hazardous Air Pollutants</td>\n",
       "    </tr>\n",
       "    <tr>\n",
       "      <th>8</th>\n",
       "      <td>IMPROVE CARBON</td>\n",
       "      <td>IMPROVE Carbon Parameters</td>\n",
       "    </tr>\n",
       "    <tr>\n",
       "      <th>9</th>\n",
       "      <td>IMPROVE_SPECIATION</td>\n",
       "      <td>PM2.5 Speciated Parameters Measured at IMPROVE...</td>\n",
       "    </tr>\n",
       "    <tr>\n",
       "      <th>10</th>\n",
       "      <td>MET</td>\n",
       "      <td>Meteorological Parameters</td>\n",
       "    </tr>\n",
       "    <tr>\n",
       "      <th>11</th>\n",
       "      <td>NATTS CORE HAPS</td>\n",
       "      <td>The core list of toxics of interest to the NAT...</td>\n",
       "    </tr>\n",
       "    <tr>\n",
       "      <th>12</th>\n",
       "      <td>NATTS REQUIRED</td>\n",
       "      <td>Required compounds to be collected in the Nati...</td>\n",
       "    </tr>\n",
       "    <tr>\n",
       "      <th>13</th>\n",
       "      <td>PAMS</td>\n",
       "      <td>Photochemical Assessment Monitoring System</td>\n",
       "    </tr>\n",
       "    <tr>\n",
       "      <th>14</th>\n",
       "      <td>PAMS_VOC</td>\n",
       "      <td>Volatile Organic Compound subset of the PAMS P...</td>\n",
       "    </tr>\n",
       "    <tr>\n",
       "      <th>15</th>\n",
       "      <td>PM COARSE</td>\n",
       "      <td>PM between 2.5 and 10 micrometers</td>\n",
       "    </tr>\n",
       "    <tr>\n",
       "      <th>16</th>\n",
       "      <td>PM10 SPECIATION</td>\n",
       "      <td>PM10 Speciated Parameters</td>\n",
       "    </tr>\n",
       "    <tr>\n",
       "      <th>17</th>\n",
       "      <td>PM2.5 CONT NONREF</td>\n",
       "      <td>PM2.5 Continuous, Nonreference Methods</td>\n",
       "    </tr>\n",
       "    <tr>\n",
       "      <th>18</th>\n",
       "      <td>PM2.5 MASS/QA</td>\n",
       "      <td>PM2.5 Mass and QA Parameters</td>\n",
       "    </tr>\n",
       "    <tr>\n",
       "      <th>19</th>\n",
       "      <td>SCHOOL AIR TOXICS</td>\n",
       "      <td>School Air Toxics Program Parameters</td>\n",
       "    </tr>\n",
       "    <tr>\n",
       "      <th>20</th>\n",
       "      <td>SPECIATION</td>\n",
       "      <td>PM2.5 Speciated Parameters</td>\n",
       "    </tr>\n",
       "    <tr>\n",
       "      <th>21</th>\n",
       "      <td>SPECIATION CARBON</td>\n",
       "      <td>PM2.5 Speciation Carbon Parameters</td>\n",
       "    </tr>\n",
       "    <tr>\n",
       "      <th>22</th>\n",
       "      <td>SPECIATION CATION/ANION</td>\n",
       "      <td>PM2.5 Speciation Cation/Anion Parameters</td>\n",
       "    </tr>\n",
       "    <tr>\n",
       "      <th>23</th>\n",
       "      <td>SPECIATION METALS</td>\n",
       "      <td>PM2.5 Speciation Metal Parameters</td>\n",
       "    </tr>\n",
       "    <tr>\n",
       "      <th>24</th>\n",
       "      <td>UATMP CARBONYL</td>\n",
       "      <td>Urban Air Toxics Monitoring Program Carbonyls</td>\n",
       "    </tr>\n",
       "    <tr>\n",
       "      <th>25</th>\n",
       "      <td>UATMP VOC</td>\n",
       "      <td>Urban Air Toxics Monitoring Program VOCs</td>\n",
       "    </tr>\n",
       "    <tr>\n",
       "      <th>26</th>\n",
       "      <td>VOC</td>\n",
       "      <td>Volatile organic compounds</td>\n",
       "    </tr>\n",
       "  </tbody>\n",
       "</table>\n",
       "</div>"
      ],
      "text/plain": [
       "                       code                                  value_represented\n",
       "0               AIRNOW MAPS  The parameters represented on AirNow maps (881...\n",
       "1                       ALL                    Select all Parameters Available\n",
       "2            AQI POLLUTANTS                Pollutants that have an AQI Defined\n",
       "3                 CORE_HAPS                         Urban Air Toxic Pollutants\n",
       "4                  CRITERIA                                Criteria Pollutants\n",
       "5                  CSN DART  List of CSN speciation parameters to populate ...\n",
       "6                  FORECAST     Parameters routinely extracted by AirNow (STI)\n",
       "7                      HAPS                           Hazardous Air Pollutants\n",
       "8            IMPROVE CARBON                          IMPROVE Carbon Parameters\n",
       "9        IMPROVE_SPECIATION  PM2.5 Speciated Parameters Measured at IMPROVE...\n",
       "10                      MET                          Meteorological Parameters\n",
       "11          NATTS CORE HAPS  The core list of toxics of interest to the NAT...\n",
       "12           NATTS REQUIRED  Required compounds to be collected in the Nati...\n",
       "13                     PAMS         Photochemical Assessment Monitoring System\n",
       "14                 PAMS_VOC  Volatile Organic Compound subset of the PAMS P...\n",
       "15                PM COARSE                  PM between 2.5 and 10 micrometers\n",
       "16          PM10 SPECIATION                          PM10 Speciated Parameters\n",
       "17        PM2.5 CONT NONREF             PM2.5 Continuous, Nonreference Methods\n",
       "18            PM2.5 MASS/QA                       PM2.5 Mass and QA Parameters\n",
       "19        SCHOOL AIR TOXICS               School Air Toxics Program Parameters\n",
       "20               SPECIATION                         PM2.5 Speciated Parameters\n",
       "21        SPECIATION CARBON                 PM2.5 Speciation Carbon Parameters\n",
       "22  SPECIATION CATION/ANION           PM2.5 Speciation Cation/Anion Parameters\n",
       "23        SPECIATION METALS                  PM2.5 Speciation Metal Parameters\n",
       "24           UATMP CARBONYL      Urban Air Toxics Monitoring Program Carbonyls\n",
       "25                UATMP VOC           Urban Air Toxics Monitoring Program VOCs\n",
       "26                      VOC                         Volatile organic compounds"
      ]
     },
     "execution_count": 7,
     "metadata": {},
     "output_type": "execute_result"
    }
   ],
   "source": [
    "#Parameter Classes (groups of parameters, like criteria or all)\n",
    "#\tlist/classes\temail, key\thttps://aqs.epa.gov/data/api/list/classes?email=test@aqs.api&key=test\n",
    "\n",
    "# Define the endpoint and parameters\n",
    "endpoint = \"/list/classes\"\n",
    "params = {\n",
    "    \"email\": email,\n",
    "    \"key\": api_key\n",
    "}\n",
    "\n",
    "# Get the data\n",
    "data = get_data(base_url, endpoint, params)\n",
    "\n",
    "# Create a DataFrame from the JSON response\n",
    "df = pd.DataFrame.from_dict(data[\"Data\"])\n",
    "\n",
    "df\n",
    "\n"
   ]
  },
  {
   "cell_type": "code",
   "execution_count": 8,
   "metadata": {},
   "outputs": [],
   "source": [
    "filters = {\n",
    "    \"States\" : \"list/states\",\n",
    "    \"Counties\" : \"list/countiesByState\",\n",
    "    \"Sites\" : \"list/sitesByCounty\",\n",
    "    \"Parameter Classes\" : \"list/classes\",\n",
    "    \"Parameters\" : \"list/parametersByClass\",\n",
    "}"
   ]
  },
  {
   "cell_type": "code",
   "execution_count": 9,
   "metadata": {},
   "outputs": [
    {
     "data": {
      "text/html": [
       "<div>\n",
       "<style scoped>\n",
       "    .dataframe tbody tr th:only-of-type {\n",
       "        vertical-align: middle;\n",
       "    }\n",
       "\n",
       "    .dataframe tbody tr th {\n",
       "        vertical-align: top;\n",
       "    }\n",
       "\n",
       "    .dataframe thead th {\n",
       "        text-align: right;\n",
       "    }\n",
       "</style>\n",
       "<table border=\"1\" class=\"dataframe\">\n",
       "  <thead>\n",
       "    <tr style=\"text-align: right;\">\n",
       "      <th></th>\n",
       "      <th>code</th>\n",
       "      <th>value_represented</th>\n",
       "    </tr>\n",
       "  </thead>\n",
       "  <tbody>\n",
       "    <tr>\n",
       "      <th>0</th>\n",
       "      <td>86101</td>\n",
       "      <td>PM10-2.5 - Local Conditions</td>\n",
       "    </tr>\n",
       "    <tr>\n",
       "      <th>1</th>\n",
       "      <td>86502</td>\n",
       "      <td>Acceptable PM10-2.5 - Local Conditions</td>\n",
       "    </tr>\n",
       "  </tbody>\n",
       "</table>\n",
       "</div>"
      ],
      "text/plain": [
       "    code                       value_represented\n",
       "0  86101             PM10-2.5 - Local Conditions\n",
       "1  86502  Acceptable PM10-2.5 - Local Conditions"
      ]
     },
     "execution_count": 9,
     "metadata": {},
     "output_type": "execute_result"
    }
   ],
   "source": [
    "filters = {\n",
    "    \"States\" : \"list/states\",\n",
    "    \"Counties\" : \"list/countiesByState\",\n",
    "    \"Sites\" : \"list/sitesByCounty\",\n",
    "    \"Parameter Classes\" : \"list/classes\",\n",
    "    \"Parameters\" : \"list/parametersByClass\",\n",
    "}\n",
    "\n",
    "## we want to see what parameters are available for a given class PM COARSE\n",
    "\n",
    "# Define the endpoint and parameters\n",
    "endpoint = \"/list/parametersByClass\"\n",
    "params = {\n",
    "    \"email\": email,\n",
    "    \"key\": api_key,\n",
    "    \"pc\": \"PM COARSE\"\n",
    "}\n",
    "\n",
    "# Get the data\n",
    "data = get_data(base_url, endpoint, params)\n",
    "\n",
    "# Create a DataFrame from the JSON response\n",
    "df = pd.DataFrame.from_dict(data[\"Data\"])\n",
    "\n",
    "df\n",
    "\n",
    "\n",
    "\n",
    "\n"
   ]
  },
  {
   "cell_type": "code",
   "execution_count": 13,
   "metadata": {},
   "outputs": [
    {
     "data": {
      "text/html": [
       "<div>\n",
       "<style scoped>\n",
       "    .dataframe tbody tr th:only-of-type {\n",
       "        vertical-align: middle;\n",
       "    }\n",
       "\n",
       "    .dataframe tbody tr th {\n",
       "        vertical-align: top;\n",
       "    }\n",
       "\n",
       "    .dataframe thead th {\n",
       "        text-align: right;\n",
       "    }\n",
       "</style>\n",
       "<table border=\"1\" class=\"dataframe\">\n",
       "  <thead>\n",
       "    <tr style=\"text-align: right;\">\n",
       "      <th></th>\n",
       "      <th>code</th>\n",
       "      <th>value_represented</th>\n",
       "    </tr>\n",
       "  </thead>\n",
       "  <tbody>\n",
       "    <tr>\n",
       "      <th>4</th>\n",
       "      <td>06</td>\n",
       "      <td>California</td>\n",
       "    </tr>\n",
       "  </tbody>\n",
       "</table>\n",
       "</div>"
      ],
      "text/plain": [
       "  code value_represented\n",
       "4   06        California"
      ]
     },
     "execution_count": 13,
     "metadata": {},
     "output_type": "execute_result"
    }
   ],
   "source": [
    "## we want to see how many sites are available in LA\n",
    "\n",
    "\n",
    "\n",
    "## find the stata code for LA\n",
    "# Define the endpoint and parameters\n",
    "endpoint = \"/list/states\"\n",
    "params = {\n",
    "    \"email\": email,\n",
    "    \"key\": api_key,\n",
    "}\n",
    "\n",
    "# Get the data\n",
    "data = get_data(base_url, endpoint, params)\n",
    "\n",
    "# Create a DataFrame from the JSON response\n",
    "df = pd.DataFrame.from_dict(data[\"Data\"])\n",
    "\n",
    "df[df[\"value_represented\"]== \"California\"]"
   ]
  },
  {
   "cell_type": "code",
   "execution_count": 15,
   "metadata": {},
   "outputs": [
    {
     "data": {
      "text/html": [
       "<div>\n",
       "<style scoped>\n",
       "    .dataframe tbody tr th:only-of-type {\n",
       "        vertical-align: middle;\n",
       "    }\n",
       "\n",
       "    .dataframe tbody tr th {\n",
       "        vertical-align: top;\n",
       "    }\n",
       "\n",
       "    .dataframe thead th {\n",
       "        text-align: right;\n",
       "    }\n",
       "</style>\n",
       "<table border=\"1\" class=\"dataframe\">\n",
       "  <thead>\n",
       "    <tr style=\"text-align: right;\">\n",
       "      <th></th>\n",
       "      <th>code</th>\n",
       "      <th>value_represented</th>\n",
       "    </tr>\n",
       "  </thead>\n",
       "  <tbody>\n",
       "    <tr>\n",
       "      <th>18</th>\n",
       "      <td>037</td>\n",
       "      <td>Los Angeles</td>\n",
       "    </tr>\n",
       "  </tbody>\n",
       "</table>\n",
       "</div>"
      ],
      "text/plain": [
       "   code value_represented\n",
       "18  037       Los Angeles"
      ]
     },
     "execution_count": 15,
     "metadata": {},
     "output_type": "execute_result"
    }
   ],
   "source": [
    "endpoint = \"/list/countiesByState\"\n",
    "params = {\n",
    "    \"email\": email,\n",
    "    \"key\": api_key,\n",
    "    \"state\": \"06\"\n",
    "}\n",
    "\n",
    "# Get the data\n",
    "data = get_data(base_url, endpoint, params)\n",
    "\n",
    "# Create a DataFrame from the JSON response\n",
    "df = pd.DataFrame.from_dict(data[\"Data\"])\n",
    "\n",
    "df[df[\"value_represented\"]== \"Los Angeles\"]"
   ]
  },
  {
   "cell_type": "code",
   "execution_count": 16,
   "metadata": {},
   "outputs": [
    {
     "data": {
      "text/html": [
       "<div>\n",
       "<style scoped>\n",
       "    .dataframe tbody tr th:only-of-type {\n",
       "        vertical-align: middle;\n",
       "    }\n",
       "\n",
       "    .dataframe tbody tr th {\n",
       "        vertical-align: top;\n",
       "    }\n",
       "\n",
       "    .dataframe thead th {\n",
       "        text-align: right;\n",
       "    }\n",
       "</style>\n",
       "<table border=\"1\" class=\"dataframe\">\n",
       "  <thead>\n",
       "    <tr style=\"text-align: right;\">\n",
       "      <th></th>\n",
       "      <th>code</th>\n",
       "      <th>value_represented</th>\n",
       "    </tr>\n",
       "  </thead>\n",
       "  <tbody>\n",
       "    <tr>\n",
       "      <th>0</th>\n",
       "      <td>0001</td>\n",
       "      <td>None</td>\n",
       "    </tr>\n",
       "    <tr>\n",
       "      <th>1</th>\n",
       "      <td>0002</td>\n",
       "      <td>Azusa</td>\n",
       "    </tr>\n",
       "    <tr>\n",
       "      <th>2</th>\n",
       "      <td>0003</td>\n",
       "      <td>None</td>\n",
       "    </tr>\n",
       "    <tr>\n",
       "      <th>3</th>\n",
       "      <td>0004</td>\n",
       "      <td>None</td>\n",
       "    </tr>\n",
       "    <tr>\n",
       "      <th>4</th>\n",
       "      <td>0005</td>\n",
       "      <td>None</td>\n",
       "    </tr>\n",
       "    <tr>\n",
       "      <th>...</th>\n",
       "      <td>...</td>\n",
       "      <td>...</td>\n",
       "    </tr>\n",
       "    <tr>\n",
       "      <th>91</th>\n",
       "      <td>9401</td>\n",
       "      <td>None</td>\n",
       "    </tr>\n",
       "    <tr>\n",
       "      <th>92</th>\n",
       "      <td>9403</td>\n",
       "      <td>None</td>\n",
       "    </tr>\n",
       "    <tr>\n",
       "      <th>93</th>\n",
       "      <td>9405</td>\n",
       "      <td>None</td>\n",
       "    </tr>\n",
       "    <tr>\n",
       "      <th>94</th>\n",
       "      <td>9407</td>\n",
       "      <td>None</td>\n",
       "    </tr>\n",
       "    <tr>\n",
       "      <th>95</th>\n",
       "      <td>9934</td>\n",
       "      <td>San Gabriel Wilderness</td>\n",
       "    </tr>\n",
       "  </tbody>\n",
       "</table>\n",
       "<p>96 rows × 2 columns</p>\n",
       "</div>"
      ],
      "text/plain": [
       "    code       value_represented\n",
       "0   0001                    None\n",
       "1   0002                   Azusa\n",
       "2   0003                    None\n",
       "3   0004                    None\n",
       "4   0005                    None\n",
       "..   ...                     ...\n",
       "91  9401                    None\n",
       "92  9403                    None\n",
       "93  9405                    None\n",
       "94  9407                    None\n",
       "95  9934  San Gabriel Wilderness\n",
       "\n",
       "[96 rows x 2 columns]"
      ]
     },
     "execution_count": 16,
     "metadata": {},
     "output_type": "execute_result"
    }
   ],
   "source": [
    "## get info about the sites in LA\n",
    "\n",
    "endpoint = \"/list/sitesByCounty\"\n",
    "params = {\n",
    "    \"email\": email,\n",
    "    \"key\": api_key,\n",
    "    \"state\": \"06\",\n",
    "    \"county\": \"037\"\n",
    "}\n",
    "\n",
    "# Get the data\n",
    "data = get_data(base_url, endpoint, params)\n",
    "\n",
    "# Create a DataFrame from the JSON response\n",
    "df = pd.DataFrame.from_dict(data[\"Data\"])\n",
    "\n",
    "df"
   ]
  },
  {
   "cell_type": "code",
   "execution_count": 17,
   "metadata": {},
   "outputs": [
    {
     "data": {
      "text/html": [
       "<div>\n",
       "<style scoped>\n",
       "    .dataframe tbody tr th:only-of-type {\n",
       "        vertical-align: middle;\n",
       "    }\n",
       "\n",
       "    .dataframe tbody tr th {\n",
       "        vertical-align: top;\n",
       "    }\n",
       "\n",
       "    .dataframe thead th {\n",
       "        text-align: right;\n",
       "    }\n",
       "</style>\n",
       "<table border=\"1\" class=\"dataframe\">\n",
       "  <thead>\n",
       "    <tr style=\"text-align: right;\">\n",
       "      <th></th>\n",
       "      <th>state_code</th>\n",
       "      <th>county_code</th>\n",
       "      <th>site_number</th>\n",
       "      <th>parameter_code</th>\n",
       "      <th>poc</th>\n",
       "      <th>latitude</th>\n",
       "      <th>longitude</th>\n",
       "      <th>datum</th>\n",
       "      <th>parameter</th>\n",
       "      <th>sample_duration</th>\n",
       "      <th>...</th>\n",
       "      <th>local_site_name</th>\n",
       "      <th>address</th>\n",
       "      <th>state</th>\n",
       "      <th>county</th>\n",
       "      <th>city</th>\n",
       "      <th>tribal_code</th>\n",
       "      <th>tribal_land</th>\n",
       "      <th>cbsa_code</th>\n",
       "      <th>cbsa</th>\n",
       "      <th>date_of_last_change</th>\n",
       "    </tr>\n",
       "  </thead>\n",
       "  <tbody>\n",
       "    <tr>\n",
       "      <th>0</th>\n",
       "      <td>06</td>\n",
       "      <td>037</td>\n",
       "      <td>0002</td>\n",
       "      <td>88101</td>\n",
       "      <td>21</td>\n",
       "      <td>34.13650</td>\n",
       "      <td>-117.92391</td>\n",
       "      <td>WGS84</td>\n",
       "      <td>PM2.5 - Local Conditions</td>\n",
       "      <td>24 HOUR</td>\n",
       "      <td>...</td>\n",
       "      <td>Azusa</td>\n",
       "      <td>803 N. LOREN AVE., AZUSA</td>\n",
       "      <td>California</td>\n",
       "      <td>Los Angeles</td>\n",
       "      <td>Azusa</td>\n",
       "      <td>None</td>\n",
       "      <td>None</td>\n",
       "      <td>31080</td>\n",
       "      <td>Los Angeles-Long Beach-Anaheim, CA</td>\n",
       "      <td>2022-10-19</td>\n",
       "    </tr>\n",
       "    <tr>\n",
       "      <th>1</th>\n",
       "      <td>06</td>\n",
       "      <td>037</td>\n",
       "      <td>0002</td>\n",
       "      <td>88101</td>\n",
       "      <td>21</td>\n",
       "      <td>34.13650</td>\n",
       "      <td>-117.92391</td>\n",
       "      <td>WGS84</td>\n",
       "      <td>PM2.5 - Local Conditions</td>\n",
       "      <td>24 HOUR</td>\n",
       "      <td>...</td>\n",
       "      <td>Azusa</td>\n",
       "      <td>803 N. LOREN AVE., AZUSA</td>\n",
       "      <td>California</td>\n",
       "      <td>Los Angeles</td>\n",
       "      <td>Azusa</td>\n",
       "      <td>None</td>\n",
       "      <td>None</td>\n",
       "      <td>31080</td>\n",
       "      <td>Los Angeles-Long Beach-Anaheim, CA</td>\n",
       "      <td>2022-10-19</td>\n",
       "    </tr>\n",
       "    <tr>\n",
       "      <th>2</th>\n",
       "      <td>06</td>\n",
       "      <td>037</td>\n",
       "      <td>0002</td>\n",
       "      <td>88101</td>\n",
       "      <td>21</td>\n",
       "      <td>34.13650</td>\n",
       "      <td>-117.92391</td>\n",
       "      <td>WGS84</td>\n",
       "      <td>PM2.5 - Local Conditions</td>\n",
       "      <td>24 HOUR</td>\n",
       "      <td>...</td>\n",
       "      <td>Azusa</td>\n",
       "      <td>803 N. LOREN AVE., AZUSA</td>\n",
       "      <td>California</td>\n",
       "      <td>Los Angeles</td>\n",
       "      <td>Azusa</td>\n",
       "      <td>None</td>\n",
       "      <td>None</td>\n",
       "      <td>31080</td>\n",
       "      <td>Los Angeles-Long Beach-Anaheim, CA</td>\n",
       "      <td>2022-11-01</td>\n",
       "    </tr>\n",
       "    <tr>\n",
       "      <th>3</th>\n",
       "      <td>06</td>\n",
       "      <td>037</td>\n",
       "      <td>0002</td>\n",
       "      <td>88101</td>\n",
       "      <td>21</td>\n",
       "      <td>34.13650</td>\n",
       "      <td>-117.92391</td>\n",
       "      <td>WGS84</td>\n",
       "      <td>PM2.5 - Local Conditions</td>\n",
       "      <td>24 HOUR</td>\n",
       "      <td>...</td>\n",
       "      <td>Azusa</td>\n",
       "      <td>803 N. LOREN AVE., AZUSA</td>\n",
       "      <td>California</td>\n",
       "      <td>Los Angeles</td>\n",
       "      <td>Azusa</td>\n",
       "      <td>None</td>\n",
       "      <td>None</td>\n",
       "      <td>31080</td>\n",
       "      <td>Los Angeles-Long Beach-Anaheim, CA</td>\n",
       "      <td>2022-11-01</td>\n",
       "    </tr>\n",
       "    <tr>\n",
       "      <th>4</th>\n",
       "      <td>06</td>\n",
       "      <td>037</td>\n",
       "      <td>0002</td>\n",
       "      <td>88101</td>\n",
       "      <td>21</td>\n",
       "      <td>34.13650</td>\n",
       "      <td>-117.92391</td>\n",
       "      <td>WGS84</td>\n",
       "      <td>PM2.5 - Local Conditions</td>\n",
       "      <td>24 HOUR</td>\n",
       "      <td>...</td>\n",
       "      <td>Azusa</td>\n",
       "      <td>803 N. LOREN AVE., AZUSA</td>\n",
       "      <td>California</td>\n",
       "      <td>Los Angeles</td>\n",
       "      <td>Azusa</td>\n",
       "      <td>None</td>\n",
       "      <td>None</td>\n",
       "      <td>31080</td>\n",
       "      <td>Los Angeles-Long Beach-Anaheim, CA</td>\n",
       "      <td>2022-11-01</td>\n",
       "    </tr>\n",
       "    <tr>\n",
       "      <th>...</th>\n",
       "      <td>...</td>\n",
       "      <td>...</td>\n",
       "      <td>...</td>\n",
       "      <td>...</td>\n",
       "      <td>...</td>\n",
       "      <td>...</td>\n",
       "      <td>...</td>\n",
       "      <td>...</td>\n",
       "      <td>...</td>\n",
       "      <td>...</td>\n",
       "      <td>...</td>\n",
       "      <td>...</td>\n",
       "      <td>...</td>\n",
       "      <td>...</td>\n",
       "      <td>...</td>\n",
       "      <td>...</td>\n",
       "      <td>...</td>\n",
       "      <td>...</td>\n",
       "      <td>...</td>\n",
       "      <td>...</td>\n",
       "      <td>...</td>\n",
       "    </tr>\n",
       "    <tr>\n",
       "      <th>474</th>\n",
       "      <td>06</td>\n",
       "      <td>037</td>\n",
       "      <td>1602</td>\n",
       "      <td>88101</td>\n",
       "      <td>2</td>\n",
       "      <td>34.01029</td>\n",
       "      <td>-118.06850</td>\n",
       "      <td>NAD83</td>\n",
       "      <td>PM2.5 - Local Conditions</td>\n",
       "      <td>24 HOUR</td>\n",
       "      <td>...</td>\n",
       "      <td>Pico Rivera #2</td>\n",
       "      <td>4144 SAN GABRIEL RIVER PKWY, PICO RIVERA</td>\n",
       "      <td>California</td>\n",
       "      <td>Los Angeles</td>\n",
       "      <td>Pico Rivera</td>\n",
       "      <td>None</td>\n",
       "      <td>None</td>\n",
       "      <td>31080</td>\n",
       "      <td>Los Angeles-Long Beach-Anaheim, CA</td>\n",
       "      <td>2022-07-07</td>\n",
       "    </tr>\n",
       "    <tr>\n",
       "      <th>475</th>\n",
       "      <td>06</td>\n",
       "      <td>037</td>\n",
       "      <td>1602</td>\n",
       "      <td>88101</td>\n",
       "      <td>1</td>\n",
       "      <td>34.01029</td>\n",
       "      <td>-118.06850</td>\n",
       "      <td>NAD83</td>\n",
       "      <td>PM2.5 - Local Conditions</td>\n",
       "      <td>24 HOUR</td>\n",
       "      <td>...</td>\n",
       "      <td>Pico Rivera #2</td>\n",
       "      <td>4144 SAN GABRIEL RIVER PKWY, PICO RIVERA</td>\n",
       "      <td>California</td>\n",
       "      <td>Los Angeles</td>\n",
       "      <td>Pico Rivera</td>\n",
       "      <td>None</td>\n",
       "      <td>None</td>\n",
       "      <td>31080</td>\n",
       "      <td>Los Angeles-Long Beach-Anaheim, CA</td>\n",
       "      <td>2023-04-28</td>\n",
       "    </tr>\n",
       "    <tr>\n",
       "      <th>476</th>\n",
       "      <td>06</td>\n",
       "      <td>037</td>\n",
       "      <td>1602</td>\n",
       "      <td>88101</td>\n",
       "      <td>1</td>\n",
       "      <td>34.01029</td>\n",
       "      <td>-118.06850</td>\n",
       "      <td>NAD83</td>\n",
       "      <td>PM2.5 - Local Conditions</td>\n",
       "      <td>24 HOUR</td>\n",
       "      <td>...</td>\n",
       "      <td>Pico Rivera #2</td>\n",
       "      <td>4144 SAN GABRIEL RIVER PKWY, PICO RIVERA</td>\n",
       "      <td>California</td>\n",
       "      <td>Los Angeles</td>\n",
       "      <td>Pico Rivera</td>\n",
       "      <td>None</td>\n",
       "      <td>None</td>\n",
       "      <td>31080</td>\n",
       "      <td>Los Angeles-Long Beach-Anaheim, CA</td>\n",
       "      <td>2023-04-28</td>\n",
       "    </tr>\n",
       "    <tr>\n",
       "      <th>477</th>\n",
       "      <td>06</td>\n",
       "      <td>037</td>\n",
       "      <td>1602</td>\n",
       "      <td>88101</td>\n",
       "      <td>1</td>\n",
       "      <td>34.01029</td>\n",
       "      <td>-118.06850</td>\n",
       "      <td>NAD83</td>\n",
       "      <td>PM2.5 - Local Conditions</td>\n",
       "      <td>24 HOUR</td>\n",
       "      <td>...</td>\n",
       "      <td>Pico Rivera #2</td>\n",
       "      <td>4144 SAN GABRIEL RIVER PKWY, PICO RIVERA</td>\n",
       "      <td>California</td>\n",
       "      <td>Los Angeles</td>\n",
       "      <td>Pico Rivera</td>\n",
       "      <td>None</td>\n",
       "      <td>None</td>\n",
       "      <td>31080</td>\n",
       "      <td>Los Angeles-Long Beach-Anaheim, CA</td>\n",
       "      <td>2023-04-28</td>\n",
       "    </tr>\n",
       "    <tr>\n",
       "      <th>478</th>\n",
       "      <td>06</td>\n",
       "      <td>037</td>\n",
       "      <td>1602</td>\n",
       "      <td>88101</td>\n",
       "      <td>1</td>\n",
       "      <td>34.01029</td>\n",
       "      <td>-118.06850</td>\n",
       "      <td>NAD83</td>\n",
       "      <td>PM2.5 - Local Conditions</td>\n",
       "      <td>24 HOUR</td>\n",
       "      <td>...</td>\n",
       "      <td>Pico Rivera #2</td>\n",
       "      <td>4144 SAN GABRIEL RIVER PKWY, PICO RIVERA</td>\n",
       "      <td>California</td>\n",
       "      <td>Los Angeles</td>\n",
       "      <td>Pico Rivera</td>\n",
       "      <td>None</td>\n",
       "      <td>None</td>\n",
       "      <td>31080</td>\n",
       "      <td>Los Angeles-Long Beach-Anaheim, CA</td>\n",
       "      <td>2023-04-28</td>\n",
       "    </tr>\n",
       "  </tbody>\n",
       "</table>\n",
       "<p>479 rows × 42 columns</p>\n",
       "</div>"
      ],
      "text/plain": [
       "    state_code county_code site_number parameter_code  poc  latitude  \\\n",
       "0           06         037        0002          88101   21  34.13650   \n",
       "1           06         037        0002          88101   21  34.13650   \n",
       "2           06         037        0002          88101   21  34.13650   \n",
       "3           06         037        0002          88101   21  34.13650   \n",
       "4           06         037        0002          88101   21  34.13650   \n",
       "..         ...         ...         ...            ...  ...       ...   \n",
       "474         06         037        1602          88101    2  34.01029   \n",
       "475         06         037        1602          88101    1  34.01029   \n",
       "476         06         037        1602          88101    1  34.01029   \n",
       "477         06         037        1602          88101    1  34.01029   \n",
       "478         06         037        1602          88101    1  34.01029   \n",
       "\n",
       "     longitude  datum                 parameter sample_duration  ...  \\\n",
       "0   -117.92391  WGS84  PM2.5 - Local Conditions         24 HOUR  ...   \n",
       "1   -117.92391  WGS84  PM2.5 - Local Conditions         24 HOUR  ...   \n",
       "2   -117.92391  WGS84  PM2.5 - Local Conditions         24 HOUR  ...   \n",
       "3   -117.92391  WGS84  PM2.5 - Local Conditions         24 HOUR  ...   \n",
       "4   -117.92391  WGS84  PM2.5 - Local Conditions         24 HOUR  ...   \n",
       "..         ...    ...                       ...             ...  ...   \n",
       "474 -118.06850  NAD83  PM2.5 - Local Conditions         24 HOUR  ...   \n",
       "475 -118.06850  NAD83  PM2.5 - Local Conditions         24 HOUR  ...   \n",
       "476 -118.06850  NAD83  PM2.5 - Local Conditions         24 HOUR  ...   \n",
       "477 -118.06850  NAD83  PM2.5 - Local Conditions         24 HOUR  ...   \n",
       "478 -118.06850  NAD83  PM2.5 - Local Conditions         24 HOUR  ...   \n",
       "\n",
       "    local_site_name                                   address       state  \\\n",
       "0             Azusa                  803 N. LOREN AVE., AZUSA  California   \n",
       "1             Azusa                  803 N. LOREN AVE., AZUSA  California   \n",
       "2             Azusa                  803 N. LOREN AVE., AZUSA  California   \n",
       "3             Azusa                  803 N. LOREN AVE., AZUSA  California   \n",
       "4             Azusa                  803 N. LOREN AVE., AZUSA  California   \n",
       "..              ...                                       ...         ...   \n",
       "474  Pico Rivera #2  4144 SAN GABRIEL RIVER PKWY, PICO RIVERA  California   \n",
       "475  Pico Rivera #2  4144 SAN GABRIEL RIVER PKWY, PICO RIVERA  California   \n",
       "476  Pico Rivera #2  4144 SAN GABRIEL RIVER PKWY, PICO RIVERA  California   \n",
       "477  Pico Rivera #2  4144 SAN GABRIEL RIVER PKWY, PICO RIVERA  California   \n",
       "478  Pico Rivera #2  4144 SAN GABRIEL RIVER PKWY, PICO RIVERA  California   \n",
       "\n",
       "          county         city tribal_code tribal_land  cbsa_code  \\\n",
       "0    Los Angeles        Azusa        None        None      31080   \n",
       "1    Los Angeles        Azusa        None        None      31080   \n",
       "2    Los Angeles        Azusa        None        None      31080   \n",
       "3    Los Angeles        Azusa        None        None      31080   \n",
       "4    Los Angeles        Azusa        None        None      31080   \n",
       "..           ...          ...         ...         ...        ...   \n",
       "474  Los Angeles  Pico Rivera        None        None      31080   \n",
       "475  Los Angeles  Pico Rivera        None        None      31080   \n",
       "476  Los Angeles  Pico Rivera        None        None      31080   \n",
       "477  Los Angeles  Pico Rivera        None        None      31080   \n",
       "478  Los Angeles  Pico Rivera        None        None      31080   \n",
       "\n",
       "                                   cbsa  date_of_last_change  \n",
       "0    Los Angeles-Long Beach-Anaheim, CA           2022-10-19  \n",
       "1    Los Angeles-Long Beach-Anaheim, CA           2022-10-19  \n",
       "2    Los Angeles-Long Beach-Anaheim, CA           2022-11-01  \n",
       "3    Los Angeles-Long Beach-Anaheim, CA           2022-11-01  \n",
       "4    Los Angeles-Long Beach-Anaheim, CA           2022-11-01  \n",
       "..                                  ...                  ...  \n",
       "474  Los Angeles-Long Beach-Anaheim, CA           2022-07-07  \n",
       "475  Los Angeles-Long Beach-Anaheim, CA           2023-04-28  \n",
       "476  Los Angeles-Long Beach-Anaheim, CA           2023-04-28  \n",
       "477  Los Angeles-Long Beach-Anaheim, CA           2023-04-28  \n",
       "478  Los Angeles-Long Beach-Anaheim, CA           2023-04-28  \n",
       "\n",
       "[479 rows x 42 columns]"
      ]
     },
     "execution_count": 17,
     "metadata": {},
     "output_type": "execute_result"
    }
   ],
   "source": [
    "## quarterly summary data by county e.g Example; returns quarterly summary FRM/FEM and non-FRM PM2.5 data for Wake County for 2016: https://aqs.epa.gov/data/api/quarterlyData/byCounty?email=test@aqs.api&key=test&param=88101,88502&bdate=20160101&edate=20160228&state=37&county=183\n",
    "\n",
    "## we want LA county data for 2019 qualters 1 \n",
    "\n",
    "endpoint = \"/quarterlyData/byCounty\"\n",
    "params = {\n",
    "    \"email\": email,\n",
    "    \"key\": api_key,\n",
    "    \"param\": \"88101,88502\",\n",
    "    \"bdate\": \"20190101\",\n",
    "    \"edate\": \"20191231\",\n",
    "    \"state\": \"06\",\n",
    "    \"county\": \"037\"\n",
    "}\n",
    "\n",
    "# Get the data\n",
    "data = get_data(base_url, endpoint, params)\n",
    "\n",
    "# Create a DataFrame from the JSON response\n",
    "\n",
    "df = pd.DataFrame.from_dict(data[\"Data\"])\n",
    "\n",
    "df"
   ]
  },
  {
   "cell_type": "code",
   "execution_count": 18,
   "metadata": {},
   "outputs": [
    {
     "data": {
      "text/plain": [
       "Index(['state_code', 'county_code', 'site_number', 'parameter_code', 'poc',\n",
       "       'latitude', 'longitude', 'datum', 'parameter', 'sample_duration',\n",
       "       'sample_duration_code', 'sample_duration_type', 'pollutant_standard',\n",
       "       'year', 'quarter', 'units_of_measure', 'event_type',\n",
       "       'observation_count', 'observation_percent', 'arithmetic_mean',\n",
       "       'minimum_value', 'maximum_value', 'quarterly_criteria_met',\n",
       "       'actual_days_gt_std', 'estimated_days_gt_std', 'valid_samples',\n",
       "       'valid_day_count', 'scheduled_samples', 'percent_days',\n",
       "       'percent_one_value', 'monitoring_agency_code', 'monitoring_agency',\n",
       "       'local_site_name', 'address', 'state', 'county', 'city', 'tribal_code',\n",
       "       'tribal_land', 'cbsa_code', 'cbsa', 'date_of_last_change'],\n",
       "      dtype='object')"
      ]
     },
     "execution_count": 18,
     "metadata": {},
     "output_type": "execute_result"
    }
   ],
   "source": [
    "## see what data is in the df\n",
    "df.columns\n",
    "\n",
    "\n"
   ]
  },
  {
   "cell_type": "code",
   "execution_count": 19,
   "metadata": {},
   "outputs": [
    {
     "data": {
      "text/html": [
       "<div>\n",
       "<style scoped>\n",
       "    .dataframe tbody tr th:only-of-type {\n",
       "        vertical-align: middle;\n",
       "    }\n",
       "\n",
       "    .dataframe tbody tr th {\n",
       "        vertical-align: top;\n",
       "    }\n",
       "\n",
       "    .dataframe thead th {\n",
       "        text-align: right;\n",
       "    }\n",
       "</style>\n",
       "<table border=\"1\" class=\"dataframe\">\n",
       "  <thead>\n",
       "    <tr style=\"text-align: right;\">\n",
       "      <th></th>\n",
       "      <th>latitude</th>\n",
       "      <th>longitude</th>\n",
       "      <th>parameter</th>\n",
       "      <th>year</th>\n",
       "      <th>quarter</th>\n",
       "      <th>units_of_measure</th>\n",
       "      <th>arithmetic_mean</th>\n",
       "      <th>minimum_value</th>\n",
       "      <th>maximum_value</th>\n",
       "      <th>local_site_name</th>\n",
       "      <th>cbsa</th>\n",
       "    </tr>\n",
       "  </thead>\n",
       "  <tbody>\n",
       "    <tr>\n",
       "      <th>0</th>\n",
       "      <td>34.13650</td>\n",
       "      <td>-117.92391</td>\n",
       "      <td>PM2.5 - Local Conditions</td>\n",
       "      <td>2019</td>\n",
       "      <td>1</td>\n",
       "      <td>Micrograms/cubic meter (LC)</td>\n",
       "      <td>7.2267</td>\n",
       "      <td>2.4</td>\n",
       "      <td>21.5</td>\n",
       "      <td>Azusa</td>\n",
       "      <td>Los Angeles-Long Beach-Anaheim, CA</td>\n",
       "    </tr>\n",
       "    <tr>\n",
       "      <th>1</th>\n",
       "      <td>34.13650</td>\n",
       "      <td>-117.92391</td>\n",
       "      <td>PM2.5 - Local Conditions</td>\n",
       "      <td>2019</td>\n",
       "      <td>2</td>\n",
       "      <td>Micrograms/cubic meter (LC)</td>\n",
       "      <td>9.8067</td>\n",
       "      <td>4.7</td>\n",
       "      <td>17.4</td>\n",
       "      <td>Azusa</td>\n",
       "      <td>Los Angeles-Long Beach-Anaheim, CA</td>\n",
       "    </tr>\n",
       "    <tr>\n",
       "      <th>2</th>\n",
       "      <td>34.13650</td>\n",
       "      <td>-117.92391</td>\n",
       "      <td>PM2.5 - Local Conditions</td>\n",
       "      <td>2019</td>\n",
       "      <td>3</td>\n",
       "      <td>Micrograms/cubic meter (LC)</td>\n",
       "      <td>12.4429</td>\n",
       "      <td>8.0</td>\n",
       "      <td>16.7</td>\n",
       "      <td>Azusa</td>\n",
       "      <td>Los Angeles-Long Beach-Anaheim, CA</td>\n",
       "    </tr>\n",
       "    <tr>\n",
       "      <th>3</th>\n",
       "      <td>34.13650</td>\n",
       "      <td>-117.92391</td>\n",
       "      <td>PM2.5 - Local Conditions</td>\n",
       "      <td>2019</td>\n",
       "      <td>3</td>\n",
       "      <td>Micrograms/cubic meter (LC)</td>\n",
       "      <td>16.2800</td>\n",
       "      <td>8.0</td>\n",
       "      <td>70.0</td>\n",
       "      <td>Azusa</td>\n",
       "      <td>Los Angeles-Long Beach-Anaheim, CA</td>\n",
       "    </tr>\n",
       "    <tr>\n",
       "      <th>4</th>\n",
       "      <td>34.13650</td>\n",
       "      <td>-117.92391</td>\n",
       "      <td>PM2.5 - Local Conditions</td>\n",
       "      <td>2019</td>\n",
       "      <td>3</td>\n",
       "      <td>Micrograms/cubic meter (LC)</td>\n",
       "      <td>16.2800</td>\n",
       "      <td>8.0</td>\n",
       "      <td>70.0</td>\n",
       "      <td>Azusa</td>\n",
       "      <td>Los Angeles-Long Beach-Anaheim, CA</td>\n",
       "    </tr>\n",
       "    <tr>\n",
       "      <th>...</th>\n",
       "      <td>...</td>\n",
       "      <td>...</td>\n",
       "      <td>...</td>\n",
       "      <td>...</td>\n",
       "      <td>...</td>\n",
       "      <td>...</td>\n",
       "      <td>...</td>\n",
       "      <td>...</td>\n",
       "      <td>...</td>\n",
       "      <td>...</td>\n",
       "      <td>...</td>\n",
       "    </tr>\n",
       "    <tr>\n",
       "      <th>474</th>\n",
       "      <td>34.01029</td>\n",
       "      <td>-118.06850</td>\n",
       "      <td>PM2.5 - Local Conditions</td>\n",
       "      <td>2019</td>\n",
       "      <td>4</td>\n",
       "      <td>Micrograms/cubic meter (LC)</td>\n",
       "      <td>12.1857</td>\n",
       "      <td>4.5</td>\n",
       "      <td>27.4</td>\n",
       "      <td>Pico Rivera #2</td>\n",
       "      <td>Los Angeles-Long Beach-Anaheim, CA</td>\n",
       "    </tr>\n",
       "    <tr>\n",
       "      <th>475</th>\n",
       "      <td>34.01029</td>\n",
       "      <td>-118.06850</td>\n",
       "      <td>PM2.5 - Local Conditions</td>\n",
       "      <td>2019</td>\n",
       "      <td>1</td>\n",
       "      <td>Micrograms/cubic meter (LC)</td>\n",
       "      <td>8.2067</td>\n",
       "      <td>2.5</td>\n",
       "      <td>19.2</td>\n",
       "      <td>Pico Rivera #2</td>\n",
       "      <td>Los Angeles-Long Beach-Anaheim, CA</td>\n",
       "    </tr>\n",
       "    <tr>\n",
       "      <th>476</th>\n",
       "      <td>34.01029</td>\n",
       "      <td>-118.06850</td>\n",
       "      <td>PM2.5 - Local Conditions</td>\n",
       "      <td>2019</td>\n",
       "      <td>2</td>\n",
       "      <td>Micrograms/cubic meter (LC)</td>\n",
       "      <td>8.1600</td>\n",
       "      <td>3.6</td>\n",
       "      <td>14.3</td>\n",
       "      <td>Pico Rivera #2</td>\n",
       "      <td>Los Angeles-Long Beach-Anaheim, CA</td>\n",
       "    </tr>\n",
       "    <tr>\n",
       "      <th>477</th>\n",
       "      <td>34.01029</td>\n",
       "      <td>-118.06850</td>\n",
       "      <td>PM2.5 - Local Conditions</td>\n",
       "      <td>2019</td>\n",
       "      <td>3</td>\n",
       "      <td>Micrograms/cubic meter (LC)</td>\n",
       "      <td>11.2750</td>\n",
       "      <td>7.6</td>\n",
       "      <td>15.6</td>\n",
       "      <td>Pico Rivera #2</td>\n",
       "      <td>Los Angeles-Long Beach-Anaheim, CA</td>\n",
       "    </tr>\n",
       "    <tr>\n",
       "      <th>478</th>\n",
       "      <td>34.01029</td>\n",
       "      <td>-118.06850</td>\n",
       "      <td>PM2.5 - Local Conditions</td>\n",
       "      <td>2019</td>\n",
       "      <td>4</td>\n",
       "      <td>Micrograms/cubic meter (LC)</td>\n",
       "      <td>12.0733</td>\n",
       "      <td>4.4</td>\n",
       "      <td>27.5</td>\n",
       "      <td>Pico Rivera #2</td>\n",
       "      <td>Los Angeles-Long Beach-Anaheim, CA</td>\n",
       "    </tr>\n",
       "  </tbody>\n",
       "</table>\n",
       "<p>479 rows × 11 columns</p>\n",
       "</div>"
      ],
      "text/plain": [
       "     latitude  longitude                 parameter  year quarter  \\\n",
       "0    34.13650 -117.92391  PM2.5 - Local Conditions  2019       1   \n",
       "1    34.13650 -117.92391  PM2.5 - Local Conditions  2019       2   \n",
       "2    34.13650 -117.92391  PM2.5 - Local Conditions  2019       3   \n",
       "3    34.13650 -117.92391  PM2.5 - Local Conditions  2019       3   \n",
       "4    34.13650 -117.92391  PM2.5 - Local Conditions  2019       3   \n",
       "..        ...        ...                       ...   ...     ...   \n",
       "474  34.01029 -118.06850  PM2.5 - Local Conditions  2019       4   \n",
       "475  34.01029 -118.06850  PM2.5 - Local Conditions  2019       1   \n",
       "476  34.01029 -118.06850  PM2.5 - Local Conditions  2019       2   \n",
       "477  34.01029 -118.06850  PM2.5 - Local Conditions  2019       3   \n",
       "478  34.01029 -118.06850  PM2.5 - Local Conditions  2019       4   \n",
       "\n",
       "                units_of_measure  arithmetic_mean minimum_value maximum_value  \\\n",
       "0    Micrograms/cubic meter (LC)           7.2267           2.4          21.5   \n",
       "1    Micrograms/cubic meter (LC)           9.8067           4.7          17.4   \n",
       "2    Micrograms/cubic meter (LC)          12.4429           8.0          16.7   \n",
       "3    Micrograms/cubic meter (LC)          16.2800           8.0          70.0   \n",
       "4    Micrograms/cubic meter (LC)          16.2800           8.0          70.0   \n",
       "..                           ...              ...           ...           ...   \n",
       "474  Micrograms/cubic meter (LC)          12.1857           4.5          27.4   \n",
       "475  Micrograms/cubic meter (LC)           8.2067           2.5          19.2   \n",
       "476  Micrograms/cubic meter (LC)           8.1600           3.6          14.3   \n",
       "477  Micrograms/cubic meter (LC)          11.2750           7.6          15.6   \n",
       "478  Micrograms/cubic meter (LC)          12.0733           4.4          27.5   \n",
       "\n",
       "    local_site_name                                cbsa  \n",
       "0             Azusa  Los Angeles-Long Beach-Anaheim, CA  \n",
       "1             Azusa  Los Angeles-Long Beach-Anaheim, CA  \n",
       "2             Azusa  Los Angeles-Long Beach-Anaheim, CA  \n",
       "3             Azusa  Los Angeles-Long Beach-Anaheim, CA  \n",
       "4             Azusa  Los Angeles-Long Beach-Anaheim, CA  \n",
       "..              ...                                 ...  \n",
       "474  Pico Rivera #2  Los Angeles-Long Beach-Anaheim, CA  \n",
       "475  Pico Rivera #2  Los Angeles-Long Beach-Anaheim, CA  \n",
       "476  Pico Rivera #2  Los Angeles-Long Beach-Anaheim, CA  \n",
       "477  Pico Rivera #2  Los Angeles-Long Beach-Anaheim, CA  \n",
       "478  Pico Rivera #2  Los Angeles-Long Beach-Anaheim, CA  \n",
       "\n",
       "[479 rows x 11 columns]"
      ]
     },
     "execution_count": 19,
     "metadata": {},
     "output_type": "execute_result"
    }
   ],
   "source": [
    "## Here are some useful data if we want to plot it on the map\n",
    "# 'latitude', 'longitude', 'parameter', 'year', 'quarter', 'units_of_measure', 'arithmetic_mean', 'minimum_value', 'maximum_value', 'local_site_name','cbsa'\n",
    "\n",
    "## make a subset of the data \n",
    "\n",
    "df = df[['latitude', 'longitude', 'parameter', 'year', 'quarter', 'units_of_measure', 'arithmetic_mean', 'minimum_value', 'maximum_value', 'local_site_name','cbsa']]\n",
    "df\n"
   ]
  },
  {
   "cell_type": "code",
   "execution_count": 23,
   "metadata": {},
   "outputs": [
    {
     "data": {
      "text/html": [
       "<div>\n",
       "<style scoped>\n",
       "    .dataframe tbody tr th:only-of-type {\n",
       "        vertical-align: middle;\n",
       "    }\n",
       "\n",
       "    .dataframe tbody tr th {\n",
       "        vertical-align: top;\n",
       "    }\n",
       "\n",
       "    .dataframe thead th {\n",
       "        text-align: right;\n",
       "    }\n",
       "</style>\n",
       "<table border=\"1\" class=\"dataframe\">\n",
       "  <thead>\n",
       "    <tr style=\"text-align: right;\">\n",
       "      <th></th>\n",
       "      <th>latitude</th>\n",
       "      <th>longitude</th>\n",
       "      <th>parameter</th>\n",
       "      <th>year</th>\n",
       "      <th>quarter</th>\n",
       "      <th>units_of_measure</th>\n",
       "      <th>arithmetic_mean</th>\n",
       "      <th>minimum_value</th>\n",
       "      <th>maximum_value</th>\n",
       "      <th>cbsa</th>\n",
       "    </tr>\n",
       "    <tr>\n",
       "      <th>local_site_name</th>\n",
       "      <th></th>\n",
       "      <th></th>\n",
       "      <th></th>\n",
       "      <th></th>\n",
       "      <th></th>\n",
       "      <th></th>\n",
       "      <th></th>\n",
       "      <th></th>\n",
       "      <th></th>\n",
       "      <th></th>\n",
       "    </tr>\n",
       "  </thead>\n",
       "  <tbody>\n",
       "    <tr>\n",
       "      <th>Azusa</th>\n",
       "      <td>34.13650</td>\n",
       "      <td>-117.92391</td>\n",
       "      <td>PM2.5 - Local Conditions</td>\n",
       "      <td>2019</td>\n",
       "      <td>1</td>\n",
       "      <td>Micrograms/cubic meter (LC)</td>\n",
       "      <td>7.2267</td>\n",
       "      <td>2.4</td>\n",
       "      <td>21.5</td>\n",
       "      <td>Los Angeles-Long Beach-Anaheim, CA</td>\n",
       "    </tr>\n",
       "    <tr>\n",
       "      <th>Azusa</th>\n",
       "      <td>34.13650</td>\n",
       "      <td>-117.92391</td>\n",
       "      <td>PM2.5 - Local Conditions</td>\n",
       "      <td>2019</td>\n",
       "      <td>2</td>\n",
       "      <td>Micrograms/cubic meter (LC)</td>\n",
       "      <td>9.8067</td>\n",
       "      <td>4.7</td>\n",
       "      <td>17.4</td>\n",
       "      <td>Los Angeles-Long Beach-Anaheim, CA</td>\n",
       "    </tr>\n",
       "    <tr>\n",
       "      <th>Azusa</th>\n",
       "      <td>34.13650</td>\n",
       "      <td>-117.92391</td>\n",
       "      <td>PM2.5 - Local Conditions</td>\n",
       "      <td>2019</td>\n",
       "      <td>3</td>\n",
       "      <td>Micrograms/cubic meter (LC)</td>\n",
       "      <td>12.4429</td>\n",
       "      <td>8.0</td>\n",
       "      <td>16.7</td>\n",
       "      <td>Los Angeles-Long Beach-Anaheim, CA</td>\n",
       "    </tr>\n",
       "    <tr>\n",
       "      <th>Azusa</th>\n",
       "      <td>34.13650</td>\n",
       "      <td>-117.92391</td>\n",
       "      <td>PM2.5 - Local Conditions</td>\n",
       "      <td>2019</td>\n",
       "      <td>3</td>\n",
       "      <td>Micrograms/cubic meter (LC)</td>\n",
       "      <td>16.2800</td>\n",
       "      <td>8.0</td>\n",
       "      <td>70.0</td>\n",
       "      <td>Los Angeles-Long Beach-Anaheim, CA</td>\n",
       "    </tr>\n",
       "    <tr>\n",
       "      <th>Azusa</th>\n",
       "      <td>34.13650</td>\n",
       "      <td>-117.92391</td>\n",
       "      <td>PM2.5 - Local Conditions</td>\n",
       "      <td>2019</td>\n",
       "      <td>3</td>\n",
       "      <td>Micrograms/cubic meter (LC)</td>\n",
       "      <td>16.2800</td>\n",
       "      <td>8.0</td>\n",
       "      <td>70.0</td>\n",
       "      <td>Los Angeles-Long Beach-Anaheim, CA</td>\n",
       "    </tr>\n",
       "    <tr>\n",
       "      <th>...</th>\n",
       "      <td>...</td>\n",
       "      <td>...</td>\n",
       "      <td>...</td>\n",
       "      <td>...</td>\n",
       "      <td>...</td>\n",
       "      <td>...</td>\n",
       "      <td>...</td>\n",
       "      <td>...</td>\n",
       "      <td>...</td>\n",
       "      <td>...</td>\n",
       "    </tr>\n",
       "    <tr>\n",
       "      <th>Pico Rivera #2</th>\n",
       "      <td>34.01029</td>\n",
       "      <td>-118.06850</td>\n",
       "      <td>PM2.5 - Local Conditions</td>\n",
       "      <td>2019</td>\n",
       "      <td>4</td>\n",
       "      <td>Micrograms/cubic meter (LC)</td>\n",
       "      <td>12.1857</td>\n",
       "      <td>4.5</td>\n",
       "      <td>27.4</td>\n",
       "      <td>Los Angeles-Long Beach-Anaheim, CA</td>\n",
       "    </tr>\n",
       "    <tr>\n",
       "      <th>Pico Rivera #2</th>\n",
       "      <td>34.01029</td>\n",
       "      <td>-118.06850</td>\n",
       "      <td>PM2.5 - Local Conditions</td>\n",
       "      <td>2019</td>\n",
       "      <td>1</td>\n",
       "      <td>Micrograms/cubic meter (LC)</td>\n",
       "      <td>8.2067</td>\n",
       "      <td>2.5</td>\n",
       "      <td>19.2</td>\n",
       "      <td>Los Angeles-Long Beach-Anaheim, CA</td>\n",
       "    </tr>\n",
       "    <tr>\n",
       "      <th>Pico Rivera #2</th>\n",
       "      <td>34.01029</td>\n",
       "      <td>-118.06850</td>\n",
       "      <td>PM2.5 - Local Conditions</td>\n",
       "      <td>2019</td>\n",
       "      <td>2</td>\n",
       "      <td>Micrograms/cubic meter (LC)</td>\n",
       "      <td>8.1600</td>\n",
       "      <td>3.6</td>\n",
       "      <td>14.3</td>\n",
       "      <td>Los Angeles-Long Beach-Anaheim, CA</td>\n",
       "    </tr>\n",
       "    <tr>\n",
       "      <th>Pico Rivera #2</th>\n",
       "      <td>34.01029</td>\n",
       "      <td>-118.06850</td>\n",
       "      <td>PM2.5 - Local Conditions</td>\n",
       "      <td>2019</td>\n",
       "      <td>3</td>\n",
       "      <td>Micrograms/cubic meter (LC)</td>\n",
       "      <td>11.2750</td>\n",
       "      <td>7.6</td>\n",
       "      <td>15.6</td>\n",
       "      <td>Los Angeles-Long Beach-Anaheim, CA</td>\n",
       "    </tr>\n",
       "    <tr>\n",
       "      <th>Pico Rivera #2</th>\n",
       "      <td>34.01029</td>\n",
       "      <td>-118.06850</td>\n",
       "      <td>PM2.5 - Local Conditions</td>\n",
       "      <td>2019</td>\n",
       "      <td>4</td>\n",
       "      <td>Micrograms/cubic meter (LC)</td>\n",
       "      <td>12.0733</td>\n",
       "      <td>4.4</td>\n",
       "      <td>27.5</td>\n",
       "      <td>Los Angeles-Long Beach-Anaheim, CA</td>\n",
       "    </tr>\n",
       "  </tbody>\n",
       "</table>\n",
       "<p>479 rows × 10 columns</p>\n",
       "</div>"
      ],
      "text/plain": [
       "                 latitude  longitude                 parameter  year quarter  \\\n",
       "local_site_name                                                                \n",
       "Azusa            34.13650 -117.92391  PM2.5 - Local Conditions  2019       1   \n",
       "Azusa            34.13650 -117.92391  PM2.5 - Local Conditions  2019       2   \n",
       "Azusa            34.13650 -117.92391  PM2.5 - Local Conditions  2019       3   \n",
       "Azusa            34.13650 -117.92391  PM2.5 - Local Conditions  2019       3   \n",
       "Azusa            34.13650 -117.92391  PM2.5 - Local Conditions  2019       3   \n",
       "...                   ...        ...                       ...   ...     ...   \n",
       "Pico Rivera #2   34.01029 -118.06850  PM2.5 - Local Conditions  2019       4   \n",
       "Pico Rivera #2   34.01029 -118.06850  PM2.5 - Local Conditions  2019       1   \n",
       "Pico Rivera #2   34.01029 -118.06850  PM2.5 - Local Conditions  2019       2   \n",
       "Pico Rivera #2   34.01029 -118.06850  PM2.5 - Local Conditions  2019       3   \n",
       "Pico Rivera #2   34.01029 -118.06850  PM2.5 - Local Conditions  2019       4   \n",
       "\n",
       "                            units_of_measure  arithmetic_mean minimum_value  \\\n",
       "local_site_name                                                               \n",
       "Azusa            Micrograms/cubic meter (LC)           7.2267           2.4   \n",
       "Azusa            Micrograms/cubic meter (LC)           9.8067           4.7   \n",
       "Azusa            Micrograms/cubic meter (LC)          12.4429           8.0   \n",
       "Azusa            Micrograms/cubic meter (LC)          16.2800           8.0   \n",
       "Azusa            Micrograms/cubic meter (LC)          16.2800           8.0   \n",
       "...                                      ...              ...           ...   \n",
       "Pico Rivera #2   Micrograms/cubic meter (LC)          12.1857           4.5   \n",
       "Pico Rivera #2   Micrograms/cubic meter (LC)           8.2067           2.5   \n",
       "Pico Rivera #2   Micrograms/cubic meter (LC)           8.1600           3.6   \n",
       "Pico Rivera #2   Micrograms/cubic meter (LC)          11.2750           7.6   \n",
       "Pico Rivera #2   Micrograms/cubic meter (LC)          12.0733           4.4   \n",
       "\n",
       "                maximum_value                                cbsa  \n",
       "local_site_name                                                    \n",
       "Azusa                    21.5  Los Angeles-Long Beach-Anaheim, CA  \n",
       "Azusa                    17.4  Los Angeles-Long Beach-Anaheim, CA  \n",
       "Azusa                    16.7  Los Angeles-Long Beach-Anaheim, CA  \n",
       "Azusa                    70.0  Los Angeles-Long Beach-Anaheim, CA  \n",
       "Azusa                    70.0  Los Angeles-Long Beach-Anaheim, CA  \n",
       "...                       ...                                 ...  \n",
       "Pico Rivera #2           27.4  Los Angeles-Long Beach-Anaheim, CA  \n",
       "Pico Rivera #2           19.2  Los Angeles-Long Beach-Anaheim, CA  \n",
       "Pico Rivera #2           14.3  Los Angeles-Long Beach-Anaheim, CA  \n",
       "Pico Rivera #2           15.6  Los Angeles-Long Beach-Anaheim, CA  \n",
       "Pico Rivera #2           27.5  Los Angeles-Long Beach-Anaheim, CA  \n",
       "\n",
       "[479 rows x 10 columns]"
      ]
     },
     "execution_count": 23,
     "metadata": {},
     "output_type": "execute_result"
    }
   ],
   "source": [
    "## use site as index\n",
    "df.set_index(\"local_site_name\", inplace=True)\n",
    "df"
   ]
  },
  {
   "cell_type": "code",
   "execution_count": 27,
   "metadata": {},
   "outputs": [],
   "source": [
    "## take quarter 1 data as an example\n",
    "df_q1 = df[df[\"quarter\"] == \"1\"]\n",
    "df_q1.reset_index(inplace=True)\n"
   ]
  },
  {
   "cell_type": "code",
   "execution_count": 29,
   "metadata": {},
   "outputs": [
    {
     "data": {
      "application/vnd.plotly.v1+json": {
       "config": {
        "plotlyServerURL": "https://plot.ly"
       },
       "data": [
        {
         "customdata": [
          [
           7.2267,
           "PM2.5 - Local Conditions"
          ],
          [
           4.6533,
           "PM2.5 - Local Conditions"
          ],
          [
           10.1655,
           "PM2.5 - Local Conditions"
          ],
          [
           8.4,
           "PM2.5 - Local Conditions"
          ],
          [
           7.8846,
           "PM2.5 - Local Conditions"
          ],
          [
           6.8964,
           "PM2.5 - Local Conditions"
          ],
          [
           3.6356,
           "PM2.5 - Local Conditions"
          ],
          [
           8.4843,
           "PM2.5 - Local Conditions"
          ],
          [
           9.5956,
           "PM2.5 - Local Conditions"
          ],
          [
           8.0739,
           "PM2.5 - Local Conditions"
          ],
          [
           10.4033,
           "PM2.5 - Local Conditions"
          ],
          [
           12.7711,
           "PM2.5 - Local Conditions"
          ],
          [
           6.56,
           "PM2.5 - Local Conditions"
          ],
          [
           5.86,
           "PM2.5 - Local Conditions"
          ],
          [
           9.4867,
           "PM2.5 - Local Conditions"
          ],
          [
           8.34,
           "PM2.5 - Local Conditions"
          ],
          [
           8.2067,
           "PM2.5 - Local Conditions"
          ],
          [
           7.2267,
           "PM2.5 - Local Conditions"
          ],
          [
           4.6533,
           "PM2.5 - Local Conditions"
          ],
          [
           10.1655,
           "PM2.5 - Local Conditions"
          ],
          [
           8.4,
           "PM2.5 - Local Conditions"
          ],
          [
           7.8846,
           "PM2.5 - Local Conditions"
          ],
          [
           6.8964,
           "PM2.5 - Local Conditions"
          ],
          [
           3.6356,
           "PM2.5 - Local Conditions"
          ],
          [
           8.4843,
           "PM2.5 - Local Conditions"
          ],
          [
           9.5956,
           "PM2.5 - Local Conditions"
          ],
          [
           8.0739,
           "PM2.5 - Local Conditions"
          ],
          [
           10.4033,
           "PM2.5 - Local Conditions"
          ],
          [
           12.7711,
           "PM2.5 - Local Conditions"
          ],
          [
           6.56,
           "PM2.5 - Local Conditions"
          ],
          [
           5.86,
           "PM2.5 - Local Conditions"
          ],
          [
           9.4867,
           "PM2.5 - Local Conditions"
          ],
          [
           8.34,
           "PM2.5 - Local Conditions"
          ],
          [
           8.2067,
           "PM2.5 - Local Conditions"
          ],
          [
           3.7534,
           "Acceptable PM2.5 AQI & Speciation Mass"
          ],
          [
           3.6689,
           "Acceptable PM2.5 AQI & Speciation Mass"
          ],
          [
           9.8526,
           "Acceptable PM2.5 AQI & Speciation Mass"
          ],
          [
           9.8056,
           "Acceptable PM2.5 AQI & Speciation Mass"
          ],
          [
           8.1867,
           "Acceptable PM2.5 AQI & Speciation Mass"
          ],
          [
           8.46,
           "Acceptable PM2.5 AQI & Speciation Mass"
          ],
          [
           8.503,
           "Acceptable PM2.5 AQI & Speciation Mass"
          ],
          [
           8.4622,
           "Acceptable PM2.5 AQI & Speciation Mass"
          ],
          [
           8.3343,
           "Acceptable PM2.5 AQI & Speciation Mass"
          ],
          [
           8.2812,
           "Acceptable PM2.5 AQI & Speciation Mass"
          ],
          [
           3.6719,
           "PM2.5 - Local Conditions"
          ],
          [
           9.6464,
           "PM2.5 - Local Conditions"
          ],
          [
           12.8013,
           "PM2.5 - Local Conditions"
          ],
          [
           1.9583,
           "Acceptable PM2.5 AQI & Speciation Mass"
          ],
          [
           7.2267,
           "PM2.5 - Local Conditions"
          ],
          [
           4.6533,
           "PM2.5 - Local Conditions"
          ],
          [
           10.1655,
           "PM2.5 - Local Conditions"
          ],
          [
           8.4,
           "PM2.5 - Local Conditions"
          ],
          [
           7.8846,
           "PM2.5 - Local Conditions"
          ],
          [
           6.8964,
           "PM2.5 - Local Conditions"
          ],
          [
           3.6356,
           "PM2.5 - Local Conditions"
          ],
          [
           8.4843,
           "PM2.5 - Local Conditions"
          ],
          [
           9.5956,
           "PM2.5 - Local Conditions"
          ],
          [
           8.0739,
           "PM2.5 - Local Conditions"
          ],
          [
           10.4033,
           "PM2.5 - Local Conditions"
          ],
          [
           12.7711,
           "PM2.5 - Local Conditions"
          ],
          [
           6.56,
           "PM2.5 - Local Conditions"
          ],
          [
           5.86,
           "PM2.5 - Local Conditions"
          ],
          [
           9.4867,
           "PM2.5 - Local Conditions"
          ],
          [
           8.34,
           "PM2.5 - Local Conditions"
          ],
          [
           8.2067,
           "PM2.5 - Local Conditions"
          ],
          [
           7.2267,
           "PM2.5 - Local Conditions"
          ],
          [
           4.6533,
           "PM2.5 - Local Conditions"
          ],
          [
           10.1655,
           "PM2.5 - Local Conditions"
          ],
          [
           8.4,
           "PM2.5 - Local Conditions"
          ],
          [
           7.8846,
           "PM2.5 - Local Conditions"
          ],
          [
           6.8964,
           "PM2.5 - Local Conditions"
          ],
          [
           3.6356,
           "PM2.5 - Local Conditions"
          ],
          [
           8.4843,
           "PM2.5 - Local Conditions"
          ],
          [
           9.5956,
           "PM2.5 - Local Conditions"
          ],
          [
           8.0739,
           "PM2.5 - Local Conditions"
          ],
          [
           10.4033,
           "PM2.5 - Local Conditions"
          ],
          [
           12.7711,
           "PM2.5 - Local Conditions"
          ],
          [
           6.56,
           "PM2.5 - Local Conditions"
          ],
          [
           5.86,
           "PM2.5 - Local Conditions"
          ],
          [
           9.4867,
           "PM2.5 - Local Conditions"
          ],
          [
           8.34,
           "PM2.5 - Local Conditions"
          ],
          [
           8.2067,
           "PM2.5 - Local Conditions"
          ],
          [
           7.2267,
           "PM2.5 - Local Conditions"
          ],
          [
           4.6533,
           "PM2.5 - Local Conditions"
          ],
          [
           10.1655,
           "PM2.5 - Local Conditions"
          ],
          [
           8.4,
           "PM2.5 - Local Conditions"
          ],
          [
           7.8846,
           "PM2.5 - Local Conditions"
          ],
          [
           6.8964,
           "PM2.5 - Local Conditions"
          ],
          [
           3.6356,
           "PM2.5 - Local Conditions"
          ],
          [
           8.4843,
           "PM2.5 - Local Conditions"
          ],
          [
           9.5956,
           "PM2.5 - Local Conditions"
          ],
          [
           8.0739,
           "PM2.5 - Local Conditions"
          ],
          [
           10.4033,
           "PM2.5 - Local Conditions"
          ],
          [
           12.7711,
           "PM2.5 - Local Conditions"
          ],
          [
           6.56,
           "PM2.5 - Local Conditions"
          ],
          [
           5.86,
           "PM2.5 - Local Conditions"
          ],
          [
           9.4867,
           "PM2.5 - Local Conditions"
          ],
          [
           8.34,
           "PM2.5 - Local Conditions"
          ],
          [
           8.2067,
           "PM2.5 - Local Conditions"
          ],
          [
           7.2267,
           "PM2.5 - Local Conditions"
          ],
          [
           4.6533,
           "PM2.5 - Local Conditions"
          ],
          [
           10.1655,
           "PM2.5 - Local Conditions"
          ],
          [
           8.4,
           "PM2.5 - Local Conditions"
          ],
          [
           7.8846,
           "PM2.5 - Local Conditions"
          ],
          [
           6.8964,
           "PM2.5 - Local Conditions"
          ],
          [
           3.6356,
           "PM2.5 - Local Conditions"
          ],
          [
           8.4843,
           "PM2.5 - Local Conditions"
          ],
          [
           9.5956,
           "PM2.5 - Local Conditions"
          ],
          [
           8.0739,
           "PM2.5 - Local Conditions"
          ],
          [
           10.4033,
           "PM2.5 - Local Conditions"
          ],
          [
           12.7711,
           "PM2.5 - Local Conditions"
          ],
          [
           6.56,
           "PM2.5 - Local Conditions"
          ],
          [
           5.86,
           "PM2.5 - Local Conditions"
          ],
          [
           9.4867,
           "PM2.5 - Local Conditions"
          ],
          [
           8.34,
           "PM2.5 - Local Conditions"
          ],
          [
           8.2067,
           "PM2.5 - Local Conditions"
          ]
         ],
         "hovertemplate": "<b>%{hovertext}</b><br><br>latitude=%{lat}<br>longitude=%{lon}<br>arithmetic_mean=%{customdata[0]}<br>parameter=%{customdata[1]}<extra></extra>",
         "hovertext": [
          "Azusa",
          "Azusa",
          "Compton",
          "Los Angeles-North Main Street",
          "Los Angeles-North Main Street",
          "Reseda",
          "Lancaster-Division Street",
          "Long Beach (North)",
          "Long Beach (South)",
          "Long Beach (South)",
          "Long Beach-Route 710 Near Road",
          "Long Beach-Route 710 Near Road",
          "Pasadena",
          "Pasadena",
          "Pico Rivera #2",
          "Pico Rivera #2",
          "Pico Rivera #2",
          "Azusa",
          "Azusa",
          "Compton",
          "Los Angeles-North Main Street",
          "Los Angeles-North Main Street",
          "Reseda",
          "Lancaster-Division Street",
          "Long Beach (North)",
          "Long Beach (South)",
          "Long Beach (South)",
          "Long Beach-Route 710 Near Road",
          "Long Beach-Route 710 Near Road",
          "Pasadena",
          "Pasadena",
          "Pico Rivera #2",
          "Pico Rivera #2",
          "Pico Rivera #2",
          "Santa Clarita",
          "Santa Clarita",
          "Los Angeles-North Main Street",
          "Los Angeles-North Main Street",
          "Los Angeles-North Main Street",
          "Los Angeles-North Main Street",
          "Reseda",
          "Reseda",
          "Glendora",
          "Glendora",
          "Lancaster-Division Street",
          "Long Beach (South)",
          "Long Beach-Route 710 Near Road",
          "Lebec",
          "Azusa",
          "Azusa",
          "Compton",
          "Los Angeles-North Main Street",
          "Los Angeles-North Main Street",
          "Reseda",
          "Lancaster-Division Street",
          "Long Beach (North)",
          "Long Beach (South)",
          "Long Beach (South)",
          "Long Beach-Route 710 Near Road",
          "Long Beach-Route 710 Near Road",
          "Pasadena",
          "Pasadena",
          "Pico Rivera #2",
          "Pico Rivera #2",
          "Pico Rivera #2",
          "Azusa",
          "Azusa",
          "Compton",
          "Los Angeles-North Main Street",
          "Los Angeles-North Main Street",
          "Reseda",
          "Lancaster-Division Street",
          "Long Beach (North)",
          "Long Beach (South)",
          "Long Beach (South)",
          "Long Beach-Route 710 Near Road",
          "Long Beach-Route 710 Near Road",
          "Pasadena",
          "Pasadena",
          "Pico Rivera #2",
          "Pico Rivera #2",
          "Pico Rivera #2",
          "Azusa",
          "Azusa",
          "Compton",
          "Los Angeles-North Main Street",
          "Los Angeles-North Main Street",
          "Reseda",
          "Lancaster-Division Street",
          "Long Beach (North)",
          "Long Beach (South)",
          "Long Beach (South)",
          "Long Beach-Route 710 Near Road",
          "Long Beach-Route 710 Near Road",
          "Pasadena",
          "Pasadena",
          "Pico Rivera #2",
          "Pico Rivera #2",
          "Pico Rivera #2",
          "Azusa",
          "Azusa",
          "Compton",
          "Los Angeles-North Main Street",
          "Los Angeles-North Main Street",
          "Reseda",
          "Lancaster-Division Street",
          "Long Beach (North)",
          "Long Beach (South)",
          "Long Beach (South)",
          "Long Beach-Route 710 Near Road",
          "Long Beach-Route 710 Near Road",
          "Pasadena",
          "Pasadena",
          "Pico Rivera #2",
          "Pico Rivera #2",
          "Pico Rivera #2"
         ],
         "lat": [
          34.1365,
          34.1365,
          33.901389,
          34.06659,
          34.06659,
          34.19925,
          34.669739,
          33.82376,
          33.79236,
          33.79236,
          33.859662,
          33.859662,
          34.1326,
          34.1326,
          34.01029,
          34.01029,
          34.01029,
          34.1365,
          34.1365,
          33.901389,
          34.06659,
          34.06659,
          34.19925,
          34.669739,
          33.82376,
          33.79236,
          33.79236,
          33.859662,
          33.859662,
          34.1326,
          34.1326,
          34.01029,
          34.01029,
          34.01029,
          34.38344,
          34.38344,
          34.06659,
          34.06659,
          34.06659,
          34.06659,
          34.19925,
          34.19925,
          34.14435,
          34.14435,
          34.669739,
          33.79236,
          33.859662,
          34.813034,
          34.1365,
          34.1365,
          33.901389,
          34.06659,
          34.06659,
          34.19925,
          34.669739,
          33.82376,
          33.79236,
          33.79236,
          33.859662,
          33.859662,
          34.1326,
          34.1326,
          34.01029,
          34.01029,
          34.01029,
          34.1365,
          34.1365,
          33.901389,
          34.06659,
          34.06659,
          34.19925,
          34.669739,
          33.82376,
          33.79236,
          33.79236,
          33.859662,
          33.859662,
          34.1326,
          34.1326,
          34.01029,
          34.01029,
          34.01029,
          34.1365,
          34.1365,
          33.901389,
          34.06659,
          34.06659,
          34.19925,
          34.669739,
          33.82376,
          33.79236,
          33.79236,
          33.859662,
          33.859662,
          34.1326,
          34.1326,
          34.01029,
          34.01029,
          34.01029,
          34.1365,
          34.1365,
          33.901389,
          34.06659,
          34.06659,
          34.19925,
          34.669739,
          33.82376,
          33.79236,
          33.79236,
          33.859662,
          33.859662,
          34.1326,
          34.1326,
          34.01029,
          34.01029,
          34.01029
         ],
         "legendgroup": "",
         "lon": [
          -117.92391,
          -117.92391,
          -118.205,
          -118.22688,
          -118.22688,
          -118.53276,
          -118.130511,
          -118.18921,
          -118.17533,
          -118.17533,
          -118.200707,
          -118.200707,
          -118.1272,
          -118.1272,
          -118.0685,
          -118.0685,
          -118.0685,
          -117.92391,
          -117.92391,
          -118.205,
          -118.22688,
          -118.22688,
          -118.53276,
          -118.130511,
          -118.18921,
          -118.17533,
          -118.17533,
          -118.200707,
          -118.200707,
          -118.1272,
          -118.1272,
          -118.0685,
          -118.0685,
          -118.0685,
          -118.5284,
          -118.5284,
          -118.22688,
          -118.22688,
          -118.22688,
          -118.22688,
          -118.53276,
          -118.53276,
          -117.85036,
          -117.85036,
          -118.130511,
          -118.17533,
          -118.200707,
          -118.884819,
          -117.92391,
          -117.92391,
          -118.205,
          -118.22688,
          -118.22688,
          -118.53276,
          -118.130511,
          -118.18921,
          -118.17533,
          -118.17533,
          -118.200707,
          -118.200707,
          -118.1272,
          -118.1272,
          -118.0685,
          -118.0685,
          -118.0685,
          -117.92391,
          -117.92391,
          -118.205,
          -118.22688,
          -118.22688,
          -118.53276,
          -118.130511,
          -118.18921,
          -118.17533,
          -118.17533,
          -118.200707,
          -118.200707,
          -118.1272,
          -118.1272,
          -118.0685,
          -118.0685,
          -118.0685,
          -117.92391,
          -117.92391,
          -118.205,
          -118.22688,
          -118.22688,
          -118.53276,
          -118.130511,
          -118.18921,
          -118.17533,
          -118.17533,
          -118.200707,
          -118.200707,
          -118.1272,
          -118.1272,
          -118.0685,
          -118.0685,
          -118.0685,
          -117.92391,
          -117.92391,
          -118.205,
          -118.22688,
          -118.22688,
          -118.53276,
          -118.130511,
          -118.18921,
          -118.17533,
          -118.17533,
          -118.200707,
          -118.200707,
          -118.1272,
          -118.1272,
          -118.0685,
          -118.0685,
          -118.0685
         ],
         "marker": {
          "color": "fuchsia"
         },
         "mode": "markers",
         "name": "",
         "showlegend": false,
         "subplot": "mapbox",
         "type": "scattermapbox"
        }
       ],
       "layout": {
        "height": 300,
        "legend": {
         "tracegroupgap": 0
        },
        "mapbox": {
         "center": {
          "lat": 34.055670922413796,
          "lon": -118.16851842241377
         },
         "domain": {
          "x": [
           0,
           1
          ],
          "y": [
           0,
           1
          ]
         },
         "style": "carto-positron",
         "zoom": 10
        },
        "margin": {
         "b": 0,
         "l": 0,
         "r": 0,
         "t": 0
        },
        "template": {
         "data": {
          "bar": [
           {
            "error_x": {
             "color": "#2a3f5f"
            },
            "error_y": {
             "color": "#2a3f5f"
            },
            "marker": {
             "line": {
              "color": "#E5ECF6",
              "width": 0.5
             },
             "pattern": {
              "fillmode": "overlay",
              "size": 10,
              "solidity": 0.2
             }
            },
            "type": "bar"
           }
          ],
          "barpolar": [
           {
            "marker": {
             "line": {
              "color": "#E5ECF6",
              "width": 0.5
             },
             "pattern": {
              "fillmode": "overlay",
              "size": 10,
              "solidity": 0.2
             }
            },
            "type": "barpolar"
           }
          ],
          "carpet": [
           {
            "aaxis": {
             "endlinecolor": "#2a3f5f",
             "gridcolor": "white",
             "linecolor": "white",
             "minorgridcolor": "white",
             "startlinecolor": "#2a3f5f"
            },
            "baxis": {
             "endlinecolor": "#2a3f5f",
             "gridcolor": "white",
             "linecolor": "white",
             "minorgridcolor": "white",
             "startlinecolor": "#2a3f5f"
            },
            "type": "carpet"
           }
          ],
          "choropleth": [
           {
            "colorbar": {
             "outlinewidth": 0,
             "ticks": ""
            },
            "type": "choropleth"
           }
          ],
          "contour": [
           {
            "colorbar": {
             "outlinewidth": 0,
             "ticks": ""
            },
            "colorscale": [
             [
              0,
              "#0d0887"
             ],
             [
              0.1111111111111111,
              "#46039f"
             ],
             [
              0.2222222222222222,
              "#7201a8"
             ],
             [
              0.3333333333333333,
              "#9c179e"
             ],
             [
              0.4444444444444444,
              "#bd3786"
             ],
             [
              0.5555555555555556,
              "#d8576b"
             ],
             [
              0.6666666666666666,
              "#ed7953"
             ],
             [
              0.7777777777777778,
              "#fb9f3a"
             ],
             [
              0.8888888888888888,
              "#fdca26"
             ],
             [
              1,
              "#f0f921"
             ]
            ],
            "type": "contour"
           }
          ],
          "contourcarpet": [
           {
            "colorbar": {
             "outlinewidth": 0,
             "ticks": ""
            },
            "type": "contourcarpet"
           }
          ],
          "heatmap": [
           {
            "colorbar": {
             "outlinewidth": 0,
             "ticks": ""
            },
            "colorscale": [
             [
              0,
              "#0d0887"
             ],
             [
              0.1111111111111111,
              "#46039f"
             ],
             [
              0.2222222222222222,
              "#7201a8"
             ],
             [
              0.3333333333333333,
              "#9c179e"
             ],
             [
              0.4444444444444444,
              "#bd3786"
             ],
             [
              0.5555555555555556,
              "#d8576b"
             ],
             [
              0.6666666666666666,
              "#ed7953"
             ],
             [
              0.7777777777777778,
              "#fb9f3a"
             ],
             [
              0.8888888888888888,
              "#fdca26"
             ],
             [
              1,
              "#f0f921"
             ]
            ],
            "type": "heatmap"
           }
          ],
          "heatmapgl": [
           {
            "colorbar": {
             "outlinewidth": 0,
             "ticks": ""
            },
            "colorscale": [
             [
              0,
              "#0d0887"
             ],
             [
              0.1111111111111111,
              "#46039f"
             ],
             [
              0.2222222222222222,
              "#7201a8"
             ],
             [
              0.3333333333333333,
              "#9c179e"
             ],
             [
              0.4444444444444444,
              "#bd3786"
             ],
             [
              0.5555555555555556,
              "#d8576b"
             ],
             [
              0.6666666666666666,
              "#ed7953"
             ],
             [
              0.7777777777777778,
              "#fb9f3a"
             ],
             [
              0.8888888888888888,
              "#fdca26"
             ],
             [
              1,
              "#f0f921"
             ]
            ],
            "type": "heatmapgl"
           }
          ],
          "histogram": [
           {
            "marker": {
             "pattern": {
              "fillmode": "overlay",
              "size": 10,
              "solidity": 0.2
             }
            },
            "type": "histogram"
           }
          ],
          "histogram2d": [
           {
            "colorbar": {
             "outlinewidth": 0,
             "ticks": ""
            },
            "colorscale": [
             [
              0,
              "#0d0887"
             ],
             [
              0.1111111111111111,
              "#46039f"
             ],
             [
              0.2222222222222222,
              "#7201a8"
             ],
             [
              0.3333333333333333,
              "#9c179e"
             ],
             [
              0.4444444444444444,
              "#bd3786"
             ],
             [
              0.5555555555555556,
              "#d8576b"
             ],
             [
              0.6666666666666666,
              "#ed7953"
             ],
             [
              0.7777777777777778,
              "#fb9f3a"
             ],
             [
              0.8888888888888888,
              "#fdca26"
             ],
             [
              1,
              "#f0f921"
             ]
            ],
            "type": "histogram2d"
           }
          ],
          "histogram2dcontour": [
           {
            "colorbar": {
             "outlinewidth": 0,
             "ticks": ""
            },
            "colorscale": [
             [
              0,
              "#0d0887"
             ],
             [
              0.1111111111111111,
              "#46039f"
             ],
             [
              0.2222222222222222,
              "#7201a8"
             ],
             [
              0.3333333333333333,
              "#9c179e"
             ],
             [
              0.4444444444444444,
              "#bd3786"
             ],
             [
              0.5555555555555556,
              "#d8576b"
             ],
             [
              0.6666666666666666,
              "#ed7953"
             ],
             [
              0.7777777777777778,
              "#fb9f3a"
             ],
             [
              0.8888888888888888,
              "#fdca26"
             ],
             [
              1,
              "#f0f921"
             ]
            ],
            "type": "histogram2dcontour"
           }
          ],
          "mesh3d": [
           {
            "colorbar": {
             "outlinewidth": 0,
             "ticks": ""
            },
            "type": "mesh3d"
           }
          ],
          "parcoords": [
           {
            "line": {
             "colorbar": {
              "outlinewidth": 0,
              "ticks": ""
             }
            },
            "type": "parcoords"
           }
          ],
          "pie": [
           {
            "automargin": true,
            "type": "pie"
           }
          ],
          "scatter": [
           {
            "fillpattern": {
             "fillmode": "overlay",
             "size": 10,
             "solidity": 0.2
            },
            "type": "scatter"
           }
          ],
          "scatter3d": [
           {
            "line": {
             "colorbar": {
              "outlinewidth": 0,
              "ticks": ""
             }
            },
            "marker": {
             "colorbar": {
              "outlinewidth": 0,
              "ticks": ""
             }
            },
            "type": "scatter3d"
           }
          ],
          "scattercarpet": [
           {
            "marker": {
             "colorbar": {
              "outlinewidth": 0,
              "ticks": ""
             }
            },
            "type": "scattercarpet"
           }
          ],
          "scattergeo": [
           {
            "marker": {
             "colorbar": {
              "outlinewidth": 0,
              "ticks": ""
             }
            },
            "type": "scattergeo"
           }
          ],
          "scattergl": [
           {
            "marker": {
             "colorbar": {
              "outlinewidth": 0,
              "ticks": ""
             }
            },
            "type": "scattergl"
           }
          ],
          "scattermapbox": [
           {
            "marker": {
             "colorbar": {
              "outlinewidth": 0,
              "ticks": ""
             }
            },
            "type": "scattermapbox"
           }
          ],
          "scatterpolar": [
           {
            "marker": {
             "colorbar": {
              "outlinewidth": 0,
              "ticks": ""
             }
            },
            "type": "scatterpolar"
           }
          ],
          "scatterpolargl": [
           {
            "marker": {
             "colorbar": {
              "outlinewidth": 0,
              "ticks": ""
             }
            },
            "type": "scatterpolargl"
           }
          ],
          "scatterternary": [
           {
            "marker": {
             "colorbar": {
              "outlinewidth": 0,
              "ticks": ""
             }
            },
            "type": "scatterternary"
           }
          ],
          "surface": [
           {
            "colorbar": {
             "outlinewidth": 0,
             "ticks": ""
            },
            "colorscale": [
             [
              0,
              "#0d0887"
             ],
             [
              0.1111111111111111,
              "#46039f"
             ],
             [
              0.2222222222222222,
              "#7201a8"
             ],
             [
              0.3333333333333333,
              "#9c179e"
             ],
             [
              0.4444444444444444,
              "#bd3786"
             ],
             [
              0.5555555555555556,
              "#d8576b"
             ],
             [
              0.6666666666666666,
              "#ed7953"
             ],
             [
              0.7777777777777778,
              "#fb9f3a"
             ],
             [
              0.8888888888888888,
              "#fdca26"
             ],
             [
              1,
              "#f0f921"
             ]
            ],
            "type": "surface"
           }
          ],
          "table": [
           {
            "cells": {
             "fill": {
              "color": "#EBF0F8"
             },
             "line": {
              "color": "white"
             }
            },
            "header": {
             "fill": {
              "color": "#C8D4E3"
             },
             "line": {
              "color": "white"
             }
            },
            "type": "table"
           }
          ]
         },
         "layout": {
          "annotationdefaults": {
           "arrowcolor": "#2a3f5f",
           "arrowhead": 0,
           "arrowwidth": 1
          },
          "autotypenumbers": "strict",
          "coloraxis": {
           "colorbar": {
            "outlinewidth": 0,
            "ticks": ""
           }
          },
          "colorscale": {
           "diverging": [
            [
             0,
             "#8e0152"
            ],
            [
             0.1,
             "#c51b7d"
            ],
            [
             0.2,
             "#de77ae"
            ],
            [
             0.3,
             "#f1b6da"
            ],
            [
             0.4,
             "#fde0ef"
            ],
            [
             0.5,
             "#f7f7f7"
            ],
            [
             0.6,
             "#e6f5d0"
            ],
            [
             0.7,
             "#b8e186"
            ],
            [
             0.8,
             "#7fbc41"
            ],
            [
             0.9,
             "#4d9221"
            ],
            [
             1,
             "#276419"
            ]
           ],
           "sequential": [
            [
             0,
             "#0d0887"
            ],
            [
             0.1111111111111111,
             "#46039f"
            ],
            [
             0.2222222222222222,
             "#7201a8"
            ],
            [
             0.3333333333333333,
             "#9c179e"
            ],
            [
             0.4444444444444444,
             "#bd3786"
            ],
            [
             0.5555555555555556,
             "#d8576b"
            ],
            [
             0.6666666666666666,
             "#ed7953"
            ],
            [
             0.7777777777777778,
             "#fb9f3a"
            ],
            [
             0.8888888888888888,
             "#fdca26"
            ],
            [
             1,
             "#f0f921"
            ]
           ],
           "sequentialminus": [
            [
             0,
             "#0d0887"
            ],
            [
             0.1111111111111111,
             "#46039f"
            ],
            [
             0.2222222222222222,
             "#7201a8"
            ],
            [
             0.3333333333333333,
             "#9c179e"
            ],
            [
             0.4444444444444444,
             "#bd3786"
            ],
            [
             0.5555555555555556,
             "#d8576b"
            ],
            [
             0.6666666666666666,
             "#ed7953"
            ],
            [
             0.7777777777777778,
             "#fb9f3a"
            ],
            [
             0.8888888888888888,
             "#fdca26"
            ],
            [
             1,
             "#f0f921"
            ]
           ]
          },
          "colorway": [
           "#636efa",
           "#EF553B",
           "#00cc96",
           "#ab63fa",
           "#FFA15A",
           "#19d3f3",
           "#FF6692",
           "#B6E880",
           "#FF97FF",
           "#FECB52"
          ],
          "font": {
           "color": "#2a3f5f"
          },
          "geo": {
           "bgcolor": "white",
           "lakecolor": "white",
           "landcolor": "#E5ECF6",
           "showlakes": true,
           "showland": true,
           "subunitcolor": "white"
          },
          "hoverlabel": {
           "align": "left"
          },
          "hovermode": "closest",
          "mapbox": {
           "style": "light"
          },
          "paper_bgcolor": "white",
          "plot_bgcolor": "#E5ECF6",
          "polar": {
           "angularaxis": {
            "gridcolor": "white",
            "linecolor": "white",
            "ticks": ""
           },
           "bgcolor": "#E5ECF6",
           "radialaxis": {
            "gridcolor": "white",
            "linecolor": "white",
            "ticks": ""
           }
          },
          "scene": {
           "xaxis": {
            "backgroundcolor": "#E5ECF6",
            "gridcolor": "white",
            "gridwidth": 2,
            "linecolor": "white",
            "showbackground": true,
            "ticks": "",
            "zerolinecolor": "white"
           },
           "yaxis": {
            "backgroundcolor": "#E5ECF6",
            "gridcolor": "white",
            "gridwidth": 2,
            "linecolor": "white",
            "showbackground": true,
            "ticks": "",
            "zerolinecolor": "white"
           },
           "zaxis": {
            "backgroundcolor": "#E5ECF6",
            "gridcolor": "white",
            "gridwidth": 2,
            "linecolor": "white",
            "showbackground": true,
            "ticks": "",
            "zerolinecolor": "white"
           }
          },
          "shapedefaults": {
           "line": {
            "color": "#2a3f5f"
           }
          },
          "ternary": {
           "aaxis": {
            "gridcolor": "white",
            "linecolor": "white",
            "ticks": ""
           },
           "baxis": {
            "gridcolor": "white",
            "linecolor": "white",
            "ticks": ""
           },
           "bgcolor": "#E5ECF6",
           "caxis": {
            "gridcolor": "white",
            "linecolor": "white",
            "ticks": ""
           }
          },
          "title": {
           "x": 0.05
          },
          "xaxis": {
           "automargin": true,
           "gridcolor": "white",
           "linecolor": "white",
           "ticks": "",
           "title": {
            "standoff": 15
           },
           "zerolinecolor": "white",
           "zerolinewidth": 2
          },
          "yaxis": {
           "automargin": true,
           "gridcolor": "white",
           "linecolor": "white",
           "ticks": "",
           "title": {
            "standoff": 15
           },
           "zerolinecolor": "white",
           "zerolinewidth": 2
          }
         }
        }
       }
      }
     },
     "metadata": {},
     "output_type": "display_data"
    }
   ],
   "source": [
    "import plotly.express as px\n",
    "\n",
    "fig = px.scatter_mapbox(df_q1, lat=\"latitude\", lon=\"longitude\", hover_name=\"local_site_name\", hover_data=[\"arithmetic_mean\", \"parameter\"],\n",
    "                        color_discrete_sequence=[\"fuchsia\"], zoom=10, height=300)\n",
    "fig.update_layout(mapbox_style=\"carto-positron\")\n",
    "fig.update_layout(margin={\"r\":0,\"t\":0,\"l\":0,\"b\":0})\n",
    "fig.show()\n"
   ]
  },
  {
   "cell_type": "code",
   "execution_count": 31,
   "metadata": {},
   "outputs": [],
   "source": [
    "import air_quality_util as aq\n"
   ]
  },
  {
   "cell_type": "code",
   "execution_count": 32,
   "metadata": {},
   "outputs": [],
   "source": [
    "email, api_key = aq.get_api_key(\"myEmailKey.txt\")"
   ]
  },
  {
   "cell_type": "code",
   "execution_count": 33,
   "metadata": {},
   "outputs": [
    {
     "name": "stdout",
     "output_type": "stream",
     "text": [
      "zhu.tim99@gmail.com copperswift75 https://aqs.epa.gov/data/api\n"
     ]
    }
   ],
   "source": [
    "print(email, api_key, base_url)"
   ]
  },
  {
   "cell_type": "code",
   "execution_count": 35,
   "metadata": {},
   "outputs": [
    {
     "name": "stdout",
     "output_type": "stream",
     "text": [
      "list/sitesByCounty\n"
     ]
    }
   ],
   "source": [
    "endpoint=aq.create_endpoint(\"Sites\")\n",
    "print(endpoint)"
   ]
  },
  {
   "cell_type": "code",
   "execution_count": 41,
   "metadata": {},
   "outputs": [
    {
     "name": "stdout",
     "output_type": "stream",
     "text": [
      "{'email': 'zhu.tim99@gmail.com', 'key': 'copperswift75', 'state': '06', 'county': '037'}\n"
     ]
    }
   ],
   "source": [
    "param = aq.param_requirement(email, api_key, \"Sites\")\n"
   ]
  },
  {
   "cell_type": "code",
   "execution_count": null,
   "metadata": {},
   "outputs": [],
   "source": []
  }
 ],
 "metadata": {
  "kernelspec": {
   "display_name": "Projec16B",
   "language": "python",
   "name": "python3"
  },
  "language_info": {
   "codemirror_mode": {
    "name": "ipython",
    "version": 3
   },
   "file_extension": ".py",
   "mimetype": "text/x-python",
   "name": "python",
   "nbconvert_exporter": "python",
   "pygments_lexer": "ipython3",
   "version": "3.9.15"
  },
  "orig_nbformat": 4
 },
 "nbformat": 4,
 "nbformat_minor": 2
}
