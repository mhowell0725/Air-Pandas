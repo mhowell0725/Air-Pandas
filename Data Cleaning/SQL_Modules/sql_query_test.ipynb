{
 "cells": [
  {
   "cell_type": "markdown",
   "metadata": {},
   "source": [
    "# Create sqlite database"
   ]
  },
  {
   "cell_type": "code",
   "execution_count": 1,
   "metadata": {},
   "outputs": [],
   "source": [
    "import sql_utils\n",
    "import pandas as pd\n",
    "from sqlalchemy import create_engine\n",
    "\n"
   ]
  },
  {
   "cell_type": "code",
   "execution_count": 2,
   "metadata": {},
   "outputs": [],
   "source": [
    "## REPLACE THIS WITH YOUR OWN FILE PATH\n",
    "filename = r'C:\\Users\\tim09\\Documents\\GitHub\\Air-Pandas\\Air_quality_query\\EQS_API_TOOL\\dataset\\2014.6_2021_CA_PM2.5.csv'"
   ]
  },
  {
   "cell_type": "code",
   "execution_count": 3,
   "metadata": {},
   "outputs": [],
   "source": [
    "engine = create_engine('sqlite:///my_database.sqlite')  \n",
    "# Replace with your actual database URL --- it is like conn, use your own database name\n",
    "\n"
   ]
  },
  {
   "cell_type": "code",
   "execution_count": 4,
   "metadata": {},
   "outputs": [],
   "source": [
    "sql_utils.process_csv_in_chunks(filename, 20000, engine, 'my_table')  # Replace 'my_table' with your actual table name"
   ]
  },
  {
   "cell_type": "markdown",
   "metadata": {},
   "source": [
    "# test the output\n"
   ]
  },
  {
   "cell_type": "code",
   "execution_count": 1,
   "metadata": {},
   "outputs": [
    {
     "name": "stdout",
     "output_type": "stream",
     "text": [
      "   latitude  longitude  arithmetic_mean   aqi   FIPS\n",
      "0  32.67618 -115.48307        14.954545   NaN  06025\n",
      "1  32.67618 -115.48307        14.954545   NaN  06025\n",
      "2  32.67618 -115.48307        14.900000  57.0  06025\n",
      "3  32.67618 -115.48307        14.900000  57.0  06025\n",
      "4  32.67618 -115.48307        14.900000  57.0  06025\n",
      "5  32.67618 -115.48307        14.900000  57.0  06025\n",
      "6  32.67618 -115.48307        14.900000  57.0  06025\n",
      "7  32.67618 -115.48307        14.900000  57.0  06025\n",
      "8  32.67618 -115.48307        14.772727   NaN  06025\n",
      "9  32.67618 -115.48307        14.772727   NaN  06025\n"
     ]
    }
   ],
   "source": [
    "import sqlite3\n",
    "import pandas as pd\n",
    "\n",
    "# Connect to the SQLite database\n",
    "conn = sqlite3.connect('my_database.sqlite')\n",
    "\n",
    "# Create a pandas DataFrame from an SQL query\n",
    "df = pd.read_sql_query(\"SELECT latitude, longitude, arithmetic_mean, aqi, FIPS FROM my_table LIMIT 10\", conn)\n",
    "\n",
    "# Close the connection\n",
    "conn.close()\n",
    "\n",
    "# Print the DataFrame\n",
    "print(df)\n"
   ]
  },
  {
   "cell_type": "code",
   "execution_count": 2,
   "metadata": {},
   "outputs": [
    {
     "data": {
      "text/plain": [
       "Index(['state_code', 'county_code', 'site_number', 'parameter_code', 'poc',\n",
       "       'latitude', 'longitude', 'datum', 'parameter', 'sample_duration_code',\n",
       "       'sample_duration', 'pollutant_standard', 'date_local',\n",
       "       'units_of_measure', 'event_type', 'observation_count',\n",
       "       'observation_percent', 'validity_indicator', 'arithmetic_mean',\n",
       "       'first_max_value', 'first_max_hour', 'aqi', 'method_code', 'method',\n",
       "       'local_site_name', 'site_address', 'state', 'county', 'city',\n",
       "       'cbsa_code', 'cbsa', 'date_of_last_change', 'FIPS', 'measures'],\n",
       "      dtype='object')"
      ]
     },
     "execution_count": 2,
     "metadata": {},
     "output_type": "execute_result"
    }
   ],
   "source": [
    "## show all columns avaliable in the table\n",
    "\n",
    "# Connect to the SQLite database\n",
    "conn = sqlite3.connect('my_database.sqlite')\n",
    "\n",
    "# Create a pandas DataFrame from an SQL query\n",
    "df = pd.read_sql_query(\"SELECT * FROM my_table LIMIT 10\", conn)\n",
    "\n",
    "# Close the connection\n",
    "conn.close()\n",
    "\n",
    "# show column names\n",
    "\n",
    "df.columns"
   ]
  },
  {
   "cell_type": "code",
   "execution_count": 5,
   "metadata": {},
   "outputs": [
    {
     "data": {
      "text/plain": [
       "0    2014-06-30\n",
       "1    2014-06-30\n",
       "2    2014-06-30\n",
       "3    2014-06-30\n",
       "4    2014-06-30\n",
       "5    2014-06-30\n",
       "6    2014-06-30\n",
       "7    2014-06-30\n",
       "8    2014-06-30\n",
       "9    2014-06-30\n",
       "Name: date_local, dtype: object"
      ]
     },
     "execution_count": 5,
     "metadata": {},
     "output_type": "execute_result"
    }
   ],
   "source": [
    "df.date_local"
   ]
  },
  {
   "cell_type": "code",
   "execution_count": 6,
   "metadata": {},
   "outputs": [
    {
     "name": "stdout",
     "output_type": "stream",
     "text": [
      "    latitude   longitude  arithmetic_mean   aqi   FIPS\n",
      "0  39.761680 -121.840470        14.200000  55.0  06007\n",
      "1  35.050551 -118.147294         3.956522   NaN  06029\n",
      "2  34.106678 -117.274063         7.500000  31.0  06071\n",
      "3  37.308320 -120.480456         2.100000   9.0  06047\n",
      "4  36.634225 -120.382331         2.900000  12.0  06019\n",
      "5  34.210169 -118.870509        11.800000  49.0  06111\n",
      "6  37.482934 -122.203370         6.500000  27.0  06081\n",
      "7  34.445510 -119.828400         8.800000  37.0  06083\n",
      "8  39.150470 -123.206550        13.200000  53.0  06045\n",
      "9  32.725226 -116.365203         2.200000   9.0  06073\n"
     ]
    }
   ],
   "source": [
    "from sqlalchemy import create_engine\n",
    "import pandas as pd\n",
    "\n",
    "# Connect to the SQLite database\n",
    "engine = create_engine('sqlite:///my_database.sqlite')\n",
    "\n",
    "# Create a pandas DataFrame from an SQL query\n",
    "df = pd.read_sql_query(\"SELECT latitude, longitude, arithmetic_mean, aqi, FIPS FROM my_table ORDER BY RANDOM() LIMIT 10\", engine)\n",
    "\n",
    "# Print the DataFrame\n",
    "print(df)"
   ]
  },
  {
   "cell_type": "code",
   "execution_count": 6,
   "metadata": {},
   "outputs": [
    {
     "name": "stderr",
     "output_type": "stream",
     "text": [
      "C:\\Users\\Public\\Documents\\Wondershare\\CreatorTemp\\ipykernel_21828\\4092924817.py:20: RemovedIn20Warning: Deprecated API features detected! These feature(s) are not compatible with SQLAlchemy 2.0. To prevent incompatible upgrades prior to updating applications, ensure requirements files are pinned to \"sqlalchemy<2.0\". Set environment variable SQLALCHEMY_WARN_20=1 to show all deprecation warnings.  Set environment variable SQLALCHEMY_SILENCE_UBER_WARNING=1 to silence this message. (Background on SQLAlchemy 2.0 at: https://sqlalche.me/e/b8d9)\n",
      "  select([my_table.c.latitude, my_table.c.longitude, func.count(my_table.c.latitude).label('measures')]).\n"
     ]
    },
    {
     "name": "stdout",
     "output_type": "stream",
     "text": [
      "(32.631242, -117.059088, 5592)\n",
      "(32.6509, -116.365, 676)\n",
      "(32.67618, -115.48307, 24971)\n",
      "(32.701492, -117.149653, 4416)\n",
      "(32.710177, -117.142665, 1404)\n",
      "(32.725226, -116.365203, 9974)\n",
      "(32.789565, -116.944308, 11472)\n",
      "(32.79222, -115.56306, 5727)\n",
      "(32.817978, -116.968133, 1176)\n",
      "(32.845709, -117.123964, 7980)\n",
      "(32.97833, -115.53917, 6176)\n",
      "(32.985442, -117.08218, 1872)\n",
      "(33.127769, -117.075086, 822)\n",
      "(33.362593, -117.09023, 21134)\n",
      "(33.379078, -116.015997, 2028)\n",
      "(33.447867, -117.088649, 17773)\n",
      "(33.63003, -117.67593, 9541)\n",
      "(33.70853, -116.21537, 9696)\n",
      "(33.71969, -116.1897, 8604)\n",
      "(33.747236, -115.820124, 6591)\n",
      "(33.79236, -118.17533, 29640)\n",
      "(33.82376, -118.18921, 10902)\n",
      "(33.83062, -117.93845, 29811)\n",
      "(33.85275, -116.54101, 4974)\n",
      "(33.859662, -118.200707, 28800)\n",
      "(33.901389, -118.205, 8928)\n",
      "(33.944713, -116.830074, 23124)\n",
      "(33.94603, -117.40063, 66)\n",
      "(33.99636, -117.4924, 27482)\n",
      "(33.99958, -117.41601, 32176)\n",
      "(34.01029, -118.0685, 6732)\n",
      "(34.030833, -117.61722, 30096)\n",
      "(34.06659, -118.22688, 17616)\n",
      "(34.10002, -117.49201, 4938)\n",
      "(34.106678, -117.274063, 4788)\n",
      "(34.1326, -118.1272, 6018)\n",
      "(34.1365, -117.92391, 5118)\n",
      "(34.19925, -118.53276, 4818)\n",
      "(34.210169, -118.870509, 18838)\n",
      "(34.25239, -119.143182, 18435)\n",
      "(34.26464, -116.86147, 2304)\n",
      "(34.276316, -118.683685, 37415)\n",
      "(34.404281, -118.80998, 18602)\n",
      "(34.427775, -119.691218, 13807)\n",
      "(34.44551, -119.8284, 18591)\n",
      "(34.44806, -119.2313, 18743)\n",
      "(34.510961, -117.32554, 29102)\n",
      "(34.63782, -120.4575, 17081)\n",
      "(34.669739, -118.130511, 15068)\n",
      "(34.942872, -120.435611, 16638)\n",
      "(35.02083, -120.56388, 18833)\n",
      "(35.046528, -118.162833, 3179)\n",
      "(35.04673, -120.58777, 18507)\n",
      "(35.050551, -118.147294, 15227)\n",
      "(35.25651, -120.6693, 14220)\n",
      "(35.259502, -120.64472, 2521)\n",
      "(35.324636, -118.997627, 4991)\n",
      "(35.356615, -119.062613, 16674)\n",
      "(35.385574, -119.015009, 6963)\n",
      "(35.49158, -120.66804, 1629)\n",
      "(35.49453, -120.66617, 18234)\n",
      "(35.62109, -117.67296, 1062)\n",
      "(35.642943, -117.715066, 10452)\n",
      "(36.102244, -119.56565, 16009)\n",
      "(36.209286, -121.126371, 19011)\n",
      "(36.31567, -119.643447, 18646)\n",
      "(36.332179, -119.291228, 7421)\n",
      "(36.48187, -121.73333, 19028)\n",
      "(36.487823, -117.871036, 24270)\n",
      "(36.48947, -118.82915, 2830)\n",
      "(36.595556, -118.049167, 2173)\n",
      "(36.634225, -120.382331, 18119)\n",
      "(36.694261, -121.623271, 21539)\n",
      "(36.710833, -119.7775, 5453)\n",
      "(36.72639, -119.733, 7018)\n",
      "(36.78538, -119.77321, 49030)\n",
      "(36.819449, -119.716433, 21682)\n",
      "(36.843425, -121.3621, 18806)\n",
      "(36.953256, -120.034203, 20602)\n",
      "(36.98332, -121.98822, 18870)\n",
      "(36.985119, -119.658339, 16790)\n",
      "(36.999571, -121.574684, 18569)\n",
      "(37.06315, -122.083092, 17925)\n",
      "(37.155494, -118.293547, 2298)\n",
      "(37.2136, -119.699065, 8)\n",
      "(37.281853, -120.433671, 18645)\n",
      "(37.30832, -120.480456, 7066)\n",
      "(37.338135, -121.849783, 18444)\n",
      "(37.348497, -121.894898, 23909)\n",
      "(37.360684, -118.330783, 18742)\n",
      "(37.362137, -118.417478, 4202)\n",
      "(37.482934, -122.20337, 18615)\n",
      "(37.488317, -120.836008, 18698)\n",
      "(37.642165, -120.994212, 19514)\n",
      "(37.64571, -118.96652, 8708)\n",
      "(37.687526, -121.784217, 18871)\n",
      "(37.701222, -121.903019, 9390)\n",
      "(37.743065, -122.169935, 18933)\n",
      "(37.765946, -122.399044, 18741)\n",
      "(37.793392, -121.247874, 18206)\n",
      "(37.793624, -122.263376, 19038)\n",
      "(37.814781, -122.282347, 18382)\n",
      "(37.864767, -122.302741, 12938)\n",
      "(37.936013, -122.026154, 20374)\n",
      "(37.950741, -121.268523, 33813)\n",
      "(37.9604, -122.356811, 18509)\n",
      "(37.961578, -121.281414, 358)\n",
      "(37.962069, -119.120278, 7838)\n",
      "(37.97231, -122.520004, 18473)\n",
      "(38.102507, -122.237976, 36914)\n",
      "(38.20185, -120.680277, 17698)\n",
      "(38.278849, -122.275024, 7730)\n",
      "(38.310942, -122.296189, 9363)\n",
      "(38.403765, -122.818294, 18497)\n",
      "(38.494475, -121.211131, 11283)\n",
      "(38.556326, -121.458499, 1650)\n",
      "(38.56844, -121.49311, 9123)\n",
      "(38.593322, -121.503795, 5198)\n",
      "(38.613779, -121.368014, 18749)\n",
      "(38.66121, -121.73269, 3685)\n",
      "(38.683304, -121.164457, 27956)\n",
      "(38.74643, -121.26498, 5806)\n",
      "(38.93568, -121.09959, 21737)\n",
      "(39.01893, -122.91333, 1656)\n",
      "(39.021221, -122.281803, 18437)\n",
      "(39.0327, -122.92229, 1104)\n",
      "(39.138773, -121.618549, 18204)\n",
      "(39.15047, -123.20655, 19400)\n",
      "(39.18919, -121.99887, 4541)\n",
      "(39.233477, -121.055608, 12121)\n",
      "(39.32783, -120.184592, 3660)\n",
      "(39.39861, -123.35872, 2238)\n",
      "(39.41174, -123.35264, 17039)\n",
      "(39.76168, -121.84047, 16141)\n",
      "(39.81336, -120.47069, 6066)\n",
      "(39.939567, -120.944376, 11214)\n",
      "(40.17093, -122.25556, 14574)\n",
      "(40.55013, -122.38092, 4875)\n",
      "(40.6304, -122.4031, 156)\n",
      "(40.69184, -122.40179, 168)\n",
      "(40.71528, -124.20139, 2568)\n",
      "(40.77678, -124.17949, 5100)\n",
      "(41.047117, -123.675233, 2348)\n",
      "(41.726892, -122.633579, 10097)\n",
      "(41.75613, -124.20347, 3317)\n"
     ]
    }
   ],
   "source": [
    "from sqlalchemy import create_engine, func, MetaData, Table\n",
    "from sqlalchemy.orm import sessionmaker\n",
    "from sqlalchemy.sql import select\n",
    "\n",
    "# Connect to the SQLite database\n",
    "engine = create_engine('sqlite:///my_database.sqlite')\n",
    "\n",
    "# create a configured \"Session\" class\n",
    "Session = sessionmaker(bind=engine)\n",
    "\n",
    "# create a Session\n",
    "session = Session()\n",
    "\n",
    "# Get the table\n",
    "metadata = MetaData()\n",
    "my_table = Table('my_table', metadata, autoload_with=engine)\n",
    "\n",
    "# Execute a SQL query and fetch all rows from the result\n",
    "stmt = (\n",
    "    select([my_table.c.latitude, my_table.c.longitude, func.count(my_table.c.latitude).label('measures')]).\n",
    "    group_by(my_table.c.latitude, my_table.c.longitude)\n",
    ")\n",
    "rows = session.execute(stmt).fetchall()\n",
    "\n",
    "# Print all rows\n",
    "for row in rows:\n",
    "    print(row)\n",
    "\n",
    "session.close()"
   ]
  },
  {
   "cell_type": "code",
   "execution_count": 7,
   "metadata": {},
   "outputs": [
    {
     "name": "stdout",
     "output_type": "stream",
     "text": [
      "      latitude   longitude  num_measures\n",
      "0    32.631242 -117.059088          5592\n",
      "1    32.650900 -116.365000           676\n",
      "2    32.676180 -115.483070         24971\n",
      "3    32.701492 -117.149653          4416\n",
      "4    32.710177 -117.142665          1404\n",
      "..         ...         ...           ...\n",
      "140  40.715280 -124.201390          2568\n",
      "141  40.776780 -124.179490          5100\n",
      "142  41.047117 -123.675233          2348\n",
      "143  41.726892 -122.633579         10097\n",
      "144  41.756130 -124.203470          3317\n",
      "\n",
      "[145 rows x 3 columns]\n"
     ]
    }
   ],
   "source": [
    "from sqlalchemy import create_engine\n",
    "import pandas as pd\n",
    "\n",
    "# Connect to the SQLite database\n",
    "engine = create_engine('sqlite:///my_database.sqlite')\n",
    "\n",
    "# Create a pandas DataFrame from an SQL query\n",
    "df = pd.read_sql_query(\n",
    "    \"\"\"\n",
    "    SELECT \n",
    "        latitude, \n",
    "        longitude, \n",
    "        COUNT(*) as num_measures\n",
    "    FROM \n",
    "        my_table\n",
    "    GROUP BY \n",
    "        latitude, \n",
    "        longitude\n",
    "    \"\"\", \n",
    "    engine\n",
    ")\n",
    "\n",
    "# Print the DataFrame\n",
    "print(df)\n"
   ]
  }
 ],
 "metadata": {
  "kernelspec": {
   "display_name": "Python 3 (ipykernel)",
   "language": "python",
   "name": "python3"
  },
  "language_info": {
   "codemirror_mode": {
    "name": "ipython",
    "version": 3
   },
   "file_extension": ".py",
   "mimetype": "text/x-python",
   "name": "python",
   "nbconvert_exporter": "python",
   "pygments_lexer": "ipython3",
   "version": "3.10.9"
  }
 },
 "nbformat": 4,
 "nbformat_minor": 2
}
