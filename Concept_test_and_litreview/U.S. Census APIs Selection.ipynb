{
 "cells": [
  {
   "cell_type": "markdown",
   "id": "818cc48b",
   "metadata": {},
   "source": [
    "Link for all available US Census APIs: https://www.census.gov/data/developers/data-sets.html"
   ]
  },
  {
   "cell_type": "markdown",
   "id": "1154f018",
   "metadata": {},
   "source": [
    "Convert JSON to CSV data:https://www.convertcsv.com/json-to-csv.htm"
   ]
  },
  {
   "cell_type": "markdown",
   "id": "a70c3629",
   "metadata": {},
   "source": [
    "# Relevent Database\n",
    "# PART A - American Community Survey (ACS)"
   ]
  },
  {
   "cell_type": "markdown",
   "id": "61d237af",
   "metadata": {},
   "source": [
    "## American Community Survey 1-Year Data (2005-2021)\n",
    "The American Community Survey (ACS) is an ongoing survey that provides data every year -- giving communities the current information they need to plan investments and services. The ACS covers a broad range of topics about social, economic, demographic, and housing characteristics of the U.S. population. Much of the ACS data provided on the Census Bureau's Web site are available separately by age group, race, Hispanic origin, and sex.\n",
    "\n",
    "Detailed Tables, Subject Tables, Data Profiles, Comparison Profiles and Selected Population Profiles are available for the nation, all 50 states, the District of Columbia, Puerto Rico, every congressional district, every metropolitan area, and all counties and places with populations of **65,000 or more**."
   ]
  },
  {
   "cell_type": "markdown",
   "id": "0435aa15",
   "metadata": {},
   "source": [
    "## American Community Survey 1-Year Supplemental Data (2014 - 2021)\n",
    "The supplemental estimates consist of high-level detailed tables tabulated on the 1-year microdata for **geographies with populations of 20,000 or more.  The intention of this product is to allow people with smaller populations key estimates that are more current than the 5-Year file**.\n",
    "\n",
    "These high-level estimates are available for the nation, all 50 states, the District of Columbia, Puerto Rico, every congressional district, every metropolitan area, and all counties and places with populations of 20,000 or more.\n",
    "\n",
    "Variable coding: https://api.census.gov/data/2021/acs/acsse/variables.html"
   ]
  },
  {
   "cell_type": "markdown",
   "id": "40092972",
   "metadata": {},
   "source": [
    "## American Community Survey 5-Year Data (2009-2021)\n",
    "The 5-year estimates from the ACS are \"period\" estimates that represent data collected over a period of time. The primary advantage of using multiyear estimates is the increased statistical reliability of the data for less populated areas and small population subgroups.\n",
    "\n",
    "The 5-year estimates are available for all geographies down to the block group level. See Supported Geography for details on each product’s published summary levels. **In total, there are 87 different summary levels available with over 578,000 geographic areas. Unlike the 1-year estimates, geographies do not have to meet a particular population threshold in order to be published**. Detail Tables, Subject Tables, Data Profiles, and Comparison Profiles include the following geographies: nation, all states (including DC and Puerto Rico), all metropolitan areas, all congressional districts (116th congress), all counties, all places, all tracts and block groups.\n",
    "\n",
    "ACS has non-overlapping datasets that allow comparisons of current ACS data to past ACS data.  **The 2017-2021 ACS 5-Year estimates can be compared with 2012-2016 ACS 5-Year estimates**.  For information on comparability of the 2017-2021 ACS 5-Year estimates to the 2012-2016 estimates by topic, please visit the Comparing 2021 American Community Survey Data page.\n",
    "\n",
    "- Detailed Tables contain the most detailed cross-tabulations, many of which are published down to block groups. The data are population counts. There are over 20,000 variables in this dataset.\n",
    "- Subject Tables provide an overview of the estimates available in a particular topic.  The data are presented as population counts and percentages.  There are over 18,000 variables in this dataset. \n",
    "- Data Profiles contain broad social, economic, housing, and demographic information. The data are presented as population counts and percentages. There are over 1,000 variables in this dataset.\n",
    "- Comparison Profiles are similar to Data Profiles but also include comparisons with past-year data.  The current year data are compared with prior 5-Year data and include statistical significance testing.  There are over 1,000 variables in this dataset.\n",
    "\n",
    "**I recommend using comparison profiles if we intend to use this datasets**.\n",
    "**Variable coding for 2021 comparison profiles: https://api.census.gov/data/2021/acs/acs5/cprofile/variables.html**"
   ]
  },
  {
   "cell_type": "markdown",
   "id": "ac420aac",
   "metadata": {},
   "source": [
    "## American Community Survey Migration Flows\n",
    "These migration flows are derived from the household and group quarter locations sampled in the American Community Survey (ACS) and the responses to the migration questions on the questionnaire.\n",
    "\n",
    "They are period estimates that measure where people lived when surveyed (current residence) and where they lived 1 year prior (residence 1 year ago). **The data are collected continuously over a 5-year period in order to provide a large enough sample for estimates in smaller geographies. The flow estimates resemble the annual number of movers between counties for the 5-year period data was collected.**\n",
    "\n",
    "The flow files produced are:\n",
    "\n",
    "**County-to-county** — available starting with the 2006-2010 5-year ACS\n",
    "**County/minor civil division (MCD)-to-county/MCD** — provides flows between MCDs for the 12 strong-MCD states and counties in the other states. The strong-MCD states are states where the MCDs, a type of county subdivision, serve as general purpose governments and provide the same government functions as incorporated places. The strong-MCD states are Connecticut, Maine, Massachusetts, Michigan, Minnesota, New Hampshire, New Jersey, New York, Pennsylvania, Rhode Island, Wisconsin, and Vermont. These files have been available starting with the 2006-2010 5-year ACS.\n",
    "**Metropolitan statistical area (MSA)-to-MSA** — available starting with the 2009-2013 5-year ACS\n",
    "\n",
    "For each dataset starting with the 2006-2010 5-year ACS, the flow files have been crossed by selected characteristics. A characteristic will not be reused in overlapping 5-year ACS datasets. For instance, age was one of the characteristics for 2006-2010. Age flows will not be produced again until the 2011-2015 flows. These flows with characteristics are subject to suppression for disclosure avoidance purposes. County and county/MCD flows are suppressed if they consist of only one or two people in different households or group quarters. Complimentary suppression is used for the MSA flows.\n",
    "\n",
    "More info on this dataset: https://www.census.gov/data/developers/data-sets/acs-migration-flows.html\n",
    "Variable coding for 2020 dataset: http://localhost:8889/tree/Desktop/23Spring/PIC16B/GitHub/Air-Pandas/US-Census-Data\n",
    "\n",
    "**We may or may not interested in or need this dataset. Most of the variables are population move in/out between some geographic division. I think it is hard to cooporate this dataset to our research, tho there might be some ways to do so.However, there interactive mapping tools might be helpful.** "
   ]
  },
  {
   "cell_type": "markdown",
   "id": "68252cee",
   "metadata": {},
   "source": [
    "### Example: ACS 2021 1-year data"
   ]
  },
  {
   "cell_type": "markdown",
   "id": "5087d962",
   "metadata": {},
   "source": [
    "### Detailed Tables \n",
    "Detailed Tables contain the most detailed cross-tabulations published for areas 65k and more. The data are population counts. There are over 31,000 variables in this dataset."
   ]
  },
  {
   "cell_type": "markdown",
   "id": "f70e2bba",
   "metadata": {},
   "source": [
    "Variable Coding: https://api.census.gov/data/2021/acs/acs1.html , \n",
    "https://api.census.gov/data/2021/acs/acs1/variables.html"
   ]
  },
  {
   "cell_type": "code",
   "execution_count": 5,
   "id": "47d0c740",
   "metadata": {},
   "outputs": [
    {
     "ename": "TypeError",
     "evalue": "__init__() got an unexpected keyword argument 'strict'",
     "output_type": "error",
     "traceback": [
      "\u001b[0;31m---------------------------------------------------------------------------\u001b[0m",
      "\u001b[0;31mTypeError\u001b[0m                                 Traceback (most recent call last)",
      "\u001b[0;32m<ipython-input-5-7b5cfd4dfae7>\u001b[0m in \u001b[0;36m<module>\u001b[0;34m\u001b[0m\n\u001b[1;32m      5\u001b[0m \u001b[0;31m# Fetch the HTML content from the URL\u001b[0m\u001b[0;34m\u001b[0m\u001b[0;34m\u001b[0m\u001b[0;34m\u001b[0m\u001b[0m\n\u001b[1;32m      6\u001b[0m \u001b[0murl\u001b[0m \u001b[0;34m=\u001b[0m \u001b[0;34m'https://api.census.gov/data/2021/acs/acs1.html'\u001b[0m\u001b[0;34m\u001b[0m\u001b[0;34m\u001b[0m\u001b[0m\n\u001b[0;32m----> 7\u001b[0;31m \u001b[0mresponse\u001b[0m \u001b[0;34m=\u001b[0m \u001b[0mrequests\u001b[0m\u001b[0;34m.\u001b[0m\u001b[0mget\u001b[0m\u001b[0;34m(\u001b[0m\u001b[0murl\u001b[0m\u001b[0;34m)\u001b[0m\u001b[0;34m\u001b[0m\u001b[0;34m\u001b[0m\u001b[0m\n\u001b[0m\u001b[1;32m      8\u001b[0m \u001b[0mhtml\u001b[0m \u001b[0;34m=\u001b[0m \u001b[0mresponse\u001b[0m\u001b[0;34m.\u001b[0m\u001b[0mcontent\u001b[0m\u001b[0;34m\u001b[0m\u001b[0;34m\u001b[0m\u001b[0m\n\u001b[1;32m      9\u001b[0m \u001b[0;34m\u001b[0m\u001b[0m\n",
      "\u001b[0;32m~/opt/anaconda3/lib/python3.8/site-packages/requests/api.py\u001b[0m in \u001b[0;36mget\u001b[0;34m(url, **kwargs)\u001b[0m\n\u001b[1;32m     53\u001b[0m \u001b[0;34m\u001b[0m\u001b[0m\n\u001b[1;32m     54\u001b[0m     \u001b[0mkwargs\u001b[0m\u001b[0;34m.\u001b[0m\u001b[0msetdefault\u001b[0m\u001b[0;34m(\u001b[0m\u001b[0;34m'allow_redirects'\u001b[0m\u001b[0;34m,\u001b[0m \u001b[0;32mTrue\u001b[0m\u001b[0;34m)\u001b[0m\u001b[0;34m\u001b[0m\u001b[0;34m\u001b[0m\u001b[0m\n\u001b[0;32m---> 55\u001b[0;31m     \u001b[0;32mreturn\u001b[0m \u001b[0mrequest\u001b[0m\u001b[0;34m(\u001b[0m\u001b[0;34m'get'\u001b[0m\u001b[0;34m,\u001b[0m \u001b[0murl\u001b[0m\u001b[0;34m,\u001b[0m \u001b[0;34m**\u001b[0m\u001b[0mkwargs\u001b[0m\u001b[0;34m)\u001b[0m\u001b[0;34m\u001b[0m\u001b[0;34m\u001b[0m\u001b[0m\n\u001b[0m\u001b[1;32m     56\u001b[0m \u001b[0;34m\u001b[0m\u001b[0m\n\u001b[1;32m     57\u001b[0m \u001b[0;34m\u001b[0m\u001b[0m\n",
      "\u001b[0;32m~/opt/anaconda3/lib/python3.8/site-packages/requests/api.py\u001b[0m in \u001b[0;36mrequest\u001b[0;34m(method, url, **kwargs)\u001b[0m\n\u001b[1;32m     42\u001b[0m \u001b[0;34m\u001b[0m\u001b[0m\n\u001b[1;32m     43\u001b[0m     \u001b[0msession\u001b[0m \u001b[0;34m=\u001b[0m \u001b[0msessions\u001b[0m\u001b[0;34m.\u001b[0m\u001b[0mSession\u001b[0m\u001b[0;34m(\u001b[0m\u001b[0;34m)\u001b[0m\u001b[0;34m\u001b[0m\u001b[0;34m\u001b[0m\u001b[0m\n\u001b[0;32m---> 44\u001b[0;31m     \u001b[0;32mreturn\u001b[0m \u001b[0msession\u001b[0m\u001b[0;34m.\u001b[0m\u001b[0mrequest\u001b[0m\u001b[0;34m(\u001b[0m\u001b[0mmethod\u001b[0m\u001b[0;34m=\u001b[0m\u001b[0mmethod\u001b[0m\u001b[0;34m,\u001b[0m \u001b[0murl\u001b[0m\u001b[0;34m=\u001b[0m\u001b[0murl\u001b[0m\u001b[0;34m,\u001b[0m \u001b[0;34m**\u001b[0m\u001b[0mkwargs\u001b[0m\u001b[0;34m)\u001b[0m\u001b[0;34m\u001b[0m\u001b[0;34m\u001b[0m\u001b[0m\n\u001b[0m\u001b[1;32m     45\u001b[0m \u001b[0;34m\u001b[0m\u001b[0m\n\u001b[1;32m     46\u001b[0m \u001b[0;34m\u001b[0m\u001b[0m\n",
      "\u001b[0;32m~/opt/anaconda3/lib/python3.8/site-packages/requests/sessions.py\u001b[0m in \u001b[0;36mrequest\u001b[0;34m(self, method, url, params, data, headers, cookies, files, auth, timeout, allow_redirects, proxies, hooks, stream, verify, cert)\u001b[0m\n\u001b[1;32m    277\u001b[0m \u001b[0;34m\u001b[0m\u001b[0m\n\u001b[1;32m    278\u001b[0m         \u001b[0;31m# Send the request.\u001b[0m\u001b[0;34m\u001b[0m\u001b[0;34m\u001b[0m\u001b[0;34m\u001b[0m\u001b[0m\n\u001b[0;32m--> 279\u001b[0;31m         \u001b[0mresp\u001b[0m \u001b[0;34m=\u001b[0m \u001b[0mself\u001b[0m\u001b[0;34m.\u001b[0m\u001b[0msend\u001b[0m\u001b[0;34m(\u001b[0m\u001b[0mprep\u001b[0m\u001b[0;34m,\u001b[0m \u001b[0mstream\u001b[0m\u001b[0;34m=\u001b[0m\u001b[0mstream\u001b[0m\u001b[0;34m,\u001b[0m \u001b[0mtimeout\u001b[0m\u001b[0;34m=\u001b[0m\u001b[0mtimeout\u001b[0m\u001b[0;34m,\u001b[0m \u001b[0mverify\u001b[0m\u001b[0;34m=\u001b[0m\u001b[0mverify\u001b[0m\u001b[0;34m,\u001b[0m \u001b[0mcert\u001b[0m\u001b[0;34m=\u001b[0m\u001b[0mcert\u001b[0m\u001b[0;34m,\u001b[0m \u001b[0mproxies\u001b[0m\u001b[0;34m=\u001b[0m\u001b[0mproxies\u001b[0m\u001b[0;34m)\u001b[0m\u001b[0;34m\u001b[0m\u001b[0;34m\u001b[0m\u001b[0m\n\u001b[0m\u001b[1;32m    280\u001b[0m \u001b[0;34m\u001b[0m\u001b[0m\n\u001b[1;32m    281\u001b[0m         \u001b[0;31m# Persist cookies.\u001b[0m\u001b[0;34m\u001b[0m\u001b[0;34m\u001b[0m\u001b[0;34m\u001b[0m\u001b[0m\n",
      "\u001b[0;32m~/opt/anaconda3/lib/python3.8/site-packages/requests/sessions.py\u001b[0m in \u001b[0;36msend\u001b[0;34m(self, request, **kwargs)\u001b[0m\n\u001b[1;32m    372\u001b[0m         \u001b[0;34m\"\"\"Send a given PreparedRequest.\"\"\"\u001b[0m\u001b[0;34m\u001b[0m\u001b[0;34m\u001b[0m\u001b[0m\n\u001b[1;32m    373\u001b[0m         \u001b[0madapter\u001b[0m \u001b[0;34m=\u001b[0m \u001b[0mself\u001b[0m\u001b[0;34m.\u001b[0m\u001b[0mget_adapter\u001b[0m\u001b[0;34m(\u001b[0m\u001b[0murl\u001b[0m\u001b[0;34m=\u001b[0m\u001b[0mrequest\u001b[0m\u001b[0;34m.\u001b[0m\u001b[0murl\u001b[0m\u001b[0;34m)\u001b[0m\u001b[0;34m\u001b[0m\u001b[0;34m\u001b[0m\u001b[0m\n\u001b[0;32m--> 374\u001b[0;31m         \u001b[0mr\u001b[0m \u001b[0;34m=\u001b[0m \u001b[0madapter\u001b[0m\u001b[0;34m.\u001b[0m\u001b[0msend\u001b[0m\u001b[0;34m(\u001b[0m\u001b[0mrequest\u001b[0m\u001b[0;34m,\u001b[0m \u001b[0;34m**\u001b[0m\u001b[0mkwargs\u001b[0m\u001b[0;34m)\u001b[0m\u001b[0;34m\u001b[0m\u001b[0;34m\u001b[0m\u001b[0m\n\u001b[0m\u001b[1;32m    375\u001b[0m         \u001b[0;32mreturn\u001b[0m \u001b[0mr\u001b[0m\u001b[0;34m\u001b[0m\u001b[0;34m\u001b[0m\u001b[0m\n\u001b[1;32m    376\u001b[0m \u001b[0;34m\u001b[0m\u001b[0m\n",
      "\u001b[0;32m~/opt/anaconda3/lib/python3.8/site-packages/requests/adapters.py\u001b[0m in \u001b[0;36msend\u001b[0;34m(self, request, stream, timeout, verify, cert, proxies)\u001b[0m\n\u001b[1;32m    162\u001b[0m         \u001b[0;32mtry\u001b[0m\u001b[0;34m:\u001b[0m\u001b[0;34m\u001b[0m\u001b[0;34m\u001b[0m\u001b[0m\n\u001b[1;32m    163\u001b[0m             \u001b[0;32mif\u001b[0m \u001b[0;32mnot\u001b[0m \u001b[0mchunked\u001b[0m\u001b[0;34m:\u001b[0m\u001b[0;34m\u001b[0m\u001b[0;34m\u001b[0m\u001b[0m\n\u001b[0;32m--> 164\u001b[0;31m                 resp = conn.urlopen(\n\u001b[0m\u001b[1;32m    165\u001b[0m                     \u001b[0mmethod\u001b[0m\u001b[0;34m=\u001b[0m\u001b[0mrequest\u001b[0m\u001b[0;34m.\u001b[0m\u001b[0mmethod\u001b[0m\u001b[0;34m,\u001b[0m\u001b[0;34m\u001b[0m\u001b[0;34m\u001b[0m\u001b[0m\n\u001b[1;32m    166\u001b[0m                     \u001b[0murl\u001b[0m\u001b[0;34m=\u001b[0m\u001b[0murl\u001b[0m\u001b[0;34m,\u001b[0m\u001b[0;34m\u001b[0m\u001b[0;34m\u001b[0m\u001b[0m\n",
      "\u001b[0;32m~/opt/anaconda3/lib/python3.8/site-packages/requests/packages/urllib3/connectionpool.py\u001b[0m in \u001b[0;36murlopen\u001b[0;34m(self, method, url, body, headers, retries, redirect, assert_same_host, timeout, pool_timeout, release_conn, **response_kw)\u001b[0m\n\u001b[1;32m    415\u001b[0m         \u001b[0;32mtry\u001b[0m\u001b[0;34m:\u001b[0m\u001b[0;34m\u001b[0m\u001b[0;34m\u001b[0m\u001b[0m\n\u001b[1;32m    416\u001b[0m             \u001b[0;31m# Request a connection from the queue\u001b[0m\u001b[0;34m\u001b[0m\u001b[0;34m\u001b[0m\u001b[0;34m\u001b[0m\u001b[0m\n\u001b[0;32m--> 417\u001b[0;31m             \u001b[0mconn\u001b[0m \u001b[0;34m=\u001b[0m \u001b[0mself\u001b[0m\u001b[0;34m.\u001b[0m\u001b[0m_get_conn\u001b[0m\u001b[0;34m(\u001b[0m\u001b[0mtimeout\u001b[0m\u001b[0;34m=\u001b[0m\u001b[0mpool_timeout\u001b[0m\u001b[0;34m)\u001b[0m\u001b[0;34m\u001b[0m\u001b[0;34m\u001b[0m\u001b[0m\n\u001b[0m\u001b[1;32m    418\u001b[0m \u001b[0;34m\u001b[0m\u001b[0m\n\u001b[1;32m    419\u001b[0m             \u001b[0;31m# Make the request on the httplib connection object\u001b[0m\u001b[0;34m\u001b[0m\u001b[0;34m\u001b[0m\u001b[0;34m\u001b[0m\u001b[0m\n",
      "\u001b[0;32m~/opt/anaconda3/lib/python3.8/site-packages/requests/packages/urllib3/connectionpool.py\u001b[0m in \u001b[0;36m_get_conn\u001b[0;34m(self, timeout)\u001b[0m\n\u001b[1;32m    230\u001b[0m             \u001b[0mconn\u001b[0m\u001b[0;34m.\u001b[0m\u001b[0mclose\u001b[0m\u001b[0;34m(\u001b[0m\u001b[0;34m)\u001b[0m\u001b[0;34m\u001b[0m\u001b[0;34m\u001b[0m\u001b[0m\n\u001b[1;32m    231\u001b[0m \u001b[0;34m\u001b[0m\u001b[0m\n\u001b[0;32m--> 232\u001b[0;31m         \u001b[0;32mreturn\u001b[0m \u001b[0mconn\u001b[0m \u001b[0;32mor\u001b[0m \u001b[0mself\u001b[0m\u001b[0;34m.\u001b[0m\u001b[0m_new_conn\u001b[0m\u001b[0;34m(\u001b[0m\u001b[0;34m)\u001b[0m\u001b[0;34m\u001b[0m\u001b[0;34m\u001b[0m\u001b[0m\n\u001b[0m\u001b[1;32m    233\u001b[0m \u001b[0;34m\u001b[0m\u001b[0m\n\u001b[1;32m    234\u001b[0m     \u001b[0;32mdef\u001b[0m \u001b[0m_put_conn\u001b[0m\u001b[0;34m(\u001b[0m\u001b[0mself\u001b[0m\u001b[0;34m,\u001b[0m \u001b[0mconn\u001b[0m\u001b[0;34m)\u001b[0m\u001b[0;34m:\u001b[0m\u001b[0;34m\u001b[0m\u001b[0;34m\u001b[0m\u001b[0m\n",
      "\u001b[0;32m~/opt/anaconda3/lib/python3.8/site-packages/requests/packages/urllib3/connectionpool.py\u001b[0m in \u001b[0;36m_new_conn\u001b[0;34m(self)\u001b[0m\n\u001b[1;32m    543\u001b[0m                                    strict=self.strict)\n\u001b[1;32m    544\u001b[0m \u001b[0;34m\u001b[0m\u001b[0m\n\u001b[0;32m--> 545\u001b[0;31m         connection = VerifiedHTTPSConnection(host=self.host,\n\u001b[0m\u001b[1;32m    546\u001b[0m                                              \u001b[0mport\u001b[0m\u001b[0;34m=\u001b[0m\u001b[0mself\u001b[0m\u001b[0;34m.\u001b[0m\u001b[0mport\u001b[0m\u001b[0;34m,\u001b[0m\u001b[0;34m\u001b[0m\u001b[0;34m\u001b[0m\u001b[0m\n\u001b[1;32m    547\u001b[0m                                              strict=self.strict)\n",
      "\u001b[0;31mTypeError\u001b[0m: __init__() got an unexpected keyword argument 'strict'"
     ]
    }
   ],
   "source": [
    "from bs4 import BeautifulSoup\n",
    "import requests\n",
    "import csv\n",
    "\n",
    "# Fetch the HTML content from the URL\n",
    "url = 'https://api.census.gov/data/2021/acs/acs1.html'\n",
    "response = requests.get(url)\n",
    "html = response.content\n",
    "\n",
    "# Parse the HTML content using BeautifulSoup\n",
    "soup = BeautifulSoup(html, 'html.parser')\n",
    "\n",
    "# Find the table element that contains the data\n",
    "table = soup.find('table')\n",
    "\n",
    "# Extract the header row from the table\n",
    "header_row = table.find('thead').find('tr')\n",
    "header = [th.text for th in header_row.find_all('th')]\n",
    "\n",
    "# Extract the data rows from the table\n",
    "data_rows = table.find('tbody').find_all('tr')\n",
    "data = []\n",
    "for row in data_rows:\n",
    "    row_data = [td.text for td in row.find_all('td')]\n",
    "    data.append(row_data)\n",
    "\n",
    "# Write the data to a CSV file\n",
    "with open('output.csv', 'w', newline='') as csvfile:\n",
    "    writer = csv.writer(csvfile)\n",
    "    writer.writerow(header)\n",
    "    writer.writerows(data)\n"
   ]
  },
  {
   "cell_type": "markdown",
   "id": "61701d6b",
   "metadata": {},
   "source": [
    "Geography level examples: https://api.census.gov/data/2021/acs/acs1/examples.html"
   ]
  },
  {
   "cell_type": "code",
   "execution_count": 9,
   "id": "6d811c99",
   "metadata": {},
   "outputs": [],
   "source": [
    "# e.g,: https://api.census.gov/data/2021/acs/acs1?get=NAME,B05010_001E&for=county:*&in=state:06&key=0165a43518f2f172d9f6fcd55a6da52443c35f27\n",
    "# get=NAME,B05010_001E&for=county:*&in=state:06\n",
    "# Get the county name and B05010_001E - RATIO OF INCOME TO POVERTY LEVEL IN THE PAST 12 MONTHS BY NATIVITY OF CHILDREN UNDER 18 YEARS IN FAMILIES AND SUBFAMILIES BY LIVING ARRANGEMENTS AND NATIVITY OF PARENTS\n",
    "# for all county in california.\n",
    "# We could convert this url to csv file through the link given above"
   ]
  },
  {
   "cell_type": "markdown",
   "id": "776eb574",
   "metadata": {},
   "source": [
    "Answers from CHATGPT:\n",
    "\n",
    "In the 2021 American Community Survey 1-Year Data detailed table, there are several variables that are related to income, race, and ethnicity. Here are some examples:\n",
    "\n",
    "1. Income-related variables:\n",
    "- Median household income (in dollars)\n",
    "- Per capita income (in dollars)\n",
    "- Percentage of households with income below poverty level\n",
    "- Percentage of individuals with income below poverty level\n",
    "- Percentage of households with income between $50,000 and $99,999\n",
    "- Percentage of households with income over $100,000\n",
    "\n",
    "2. Race-related variables:\n",
    "- Total population by race\n",
    "- Percentage of population by race (e.g., White alone, Black or African American alone, American Indian and Alaska Native alone, Asian alone, Native Hawaiian and Other Pacific Islander alone, Some other race alone, Two or more races)\n",
    "- Median age by race\n",
    "- Percentage of population that identifies as Hispanic or Latino\n",
    "\n",
    "3. Ethnicity-related variables:\n",
    "- Total population by ethnicity (Hispanic or Latino and Not Hispanic or Latino)\n",
    "- Percentage of population by ethnicity (Hispanic or Latino and Not Hispanic or Latino)\n",
    "- Median age by ethnicity\n",
    "- Percentage of households with limited English proficiency\n",
    "\n",
    "Note that there are many more variables in the 2021 American Community Survey 1-Year Data detailed table that are related to income, race, and ethnicity. The variables listed above are just a few examples."
   ]
  },
  {
   "cell_type": "markdown",
   "id": "9b2ca982",
   "metadata": {},
   "source": [
    "### Subject tables\n",
    "Subject tables provide an overview of the estimates available in a particular topic. The data are presented as population counts and percentages. There are over 16,000 variables in this dataset."
   ]
  },
  {
   "cell_type": "markdown",
   "id": "3d2be8c7",
   "metadata": {},
   "source": [
    "Variable Coding:https://api.census.gov/data/2021/acs/acs1/subject/variables.html"
   ]
  },
  {
   "cell_type": "markdown",
   "id": "3b2bcb20",
   "metadata": {},
   "source": [
    "Answers from CHATGPT:\n",
    "\n",
    "\n",
    "\n",
    "\n",
    "\n",
    "1. Income: \n",
    "- Median Household Income \n",
    "- Per Capita Income \n",
    "- Income Below Poverty Level \n",
    "- Median Earnings for Full-Time, Year-Round Workers \n",
    "\n",
    "2. Employment: \n",
    "- Employment Status \n",
    "- Industry \n",
    "- Occupation \n",
    "- Worked Full-Time, Year-Round \n",
    "- Worked Part-Time, Less Than Year-Round \n",
    "- Unemployment Rate \n",
    "\n",
    "3. Commute: \n",
    "- Commuting to Work \n",
    "- Mean Travel Time to Work \n",
    "- Vehicles Available \n",
    "- Means of Transportation to Work \n",
    "\n",
    "4. Race: \n",
    "- Race Alone or in Combination \n",
    "- White \n",
    "- Black or African American \n",
    "- American Indian and Alaska Native \n",
    "- Asian \n",
    "- Native Hawaiian and Other Pacific Islander \n",
    "\n",
    "5. Ethnicity: \n",
    "- Hispanic or Latino Origin \n",
    "- Not Hispanic or Latino Origin \n",
    "- Hispanic or Latino Origin by Race \n",
    "- Not Hispanic or Latino Origin by Race"
   ]
  },
  {
   "cell_type": "markdown",
   "id": "b6eb141b",
   "metadata": {},
   "source": [
    "### Data profiles\n",
    "Data profiles contain broad social, economic, housing, and demographic information. The data are presented as population counts and percentages. There are over 1,000 variables in this dataset."
   ]
  },
  {
   "cell_type": "markdown",
   "id": "ab0e92ca",
   "metadata": {},
   "source": [
    "Variable Coding:https://api.census.gov/data/2021/acs/acs1/profile/variables.html"
   ]
  },
  {
   "cell_type": "markdown",
   "id": "5ff70ad2",
   "metadata": {},
   "source": [
    "Answers from CHATGPT:\n",
    "\n",
    "\n",
    "Income: \n",
    "- Median household income \n",
    "- Median family income \n",
    "- Per capita income \n",
    "- Percentage of households with income below poverty level \n",
    "- Percentage of individuals with income below poverty level \n",
    "\n",
    "Employment: \n",
    "- Percentage of population 16 years and over in labor force \n",
    "- Percentage of population 16 years and over employed \n",
    "- Percentage of population 16 years and over unemployed \n",
    "- Percentage of employed population working in management, business, science, and arts occupations \n",
    "\n",
    "Commute: \n",
    "- Percentage of workers 16 years and over commuting by car, truck, or van \n",
    "- Percentage of workers 16 years and over commuting by public transportation \n",
    "- Average commute time in minutes \n",
    "\n",
    "Race: \n",
    "- Percentage of population by race: White, Black or African American, American Indian and Alaska Native, Asian, Native Hawaiian and Other Pacific Islander, and Some Other Race \n",
    "\n",
    "Ethnicity: \n",
    "- Percentage of population by Hispanic or Latino origin and by race \n",
    "- Percentage of households with a householder who is Hispanic or Latino origin"
   ]
  },
  {
   "cell_type": "markdown",
   "id": "ad72e669",
   "metadata": {},
   "source": [
    "### Comparison profiles\n",
    "Comparison profiles are similar to data profiles but also include comparisons with past-year data. The current year data are compared with each of the last four years of data and include statistical significance testing. There are over 1,000 variables in this dataset."
   ]
  },
  {
   "cell_type": "markdown",
   "id": "d4aa12d3",
   "metadata": {},
   "source": [
    "Variable Coding:https://api.census.gov/data/2021/acs/acs1/cprofile/variables.html"
   ]
  },
  {
   "cell_type": "markdown",
   "id": "0b9e63ca",
   "metadata": {},
   "source": [
    "**I would recommend pulling data from Comparison profiles if we chose ACS to work on, we have 1,000 comparison variables basically cover the topics we want to work on.**"
   ]
  },
  {
   "cell_type": "markdown",
   "id": "ebf38da7",
   "metadata": {},
   "source": [
    "### Selected Population Profiles\n",
    "Selected Population Profiles provide broad social, economic, and housing profiles for a large number of race, ethnic, ancestry, and country/region of birth groups.  The data are presented as population counts for the total population and various subgroups and percentages."
   ]
  },
  {
   "cell_type": "markdown",
   "id": "60a4fbd7",
   "metadata": {},
   "source": [
    "Variable Coding: https://api.census.gov/data/2021/acs/acs1/spp/variables.html"
   ]
  },
  {
   "cell_type": "markdown",
   "id": "29735221",
   "metadata": {},
   "source": [
    "**I would also recommend pulling data from selected population profiles if we chose ACS to get some summary numbers** "
   ]
  },
  {
   "cell_type": "markdown",
   "id": "d0e85af1",
   "metadata": {},
   "source": [
    "**I also attached the 2021-1yr-api-changes (variable changes) in the file.**\n",
    "\n",
    "**All datesets from other year is pretty much the same.**"
   ]
  },
  {
   "cell_type": "code",
   "execution_count": null,
   "id": "e2a5e9b8",
   "metadata": {},
   "outputs": [],
   "source": []
  },
  {
   "cell_type": "code",
   "execution_count": null,
   "id": "5c0b2022",
   "metadata": {},
   "outputs": [],
   "source": []
  },
  {
   "cell_type": "markdown",
   "id": "9035413b",
   "metadata": {},
   "source": [
    "# PART B - Population Estimates and Projections"
   ]
  },
  {
   "cell_type": "markdown",
   "id": "e5afe01d",
   "metadata": {},
   "source": [
    "Population Estimates Program\n",
    "Each year, the Census Bureau's Population Estimates Program uses current data on births, deaths, and migration to calculate population change since the most recent decennial census and produces a time series of estimates of population, demographic components of change, and housing units. The annual time series of estimates begins with the most recent decennial census data and extends to the vintage year."
   ]
  },
  {
   "cell_type": "markdown",
   "id": "871a3d26",
   "metadata": {},
   "source": [
    "**I don't think we need this dataset now. However, if we want to show some relationship between population and air quality envolvement in the future, we might go back to this dataset.**\n",
    "\n",
    "**Link for more info: https://www.census.gov/data/developers/data-sets/popest-popproj.html** "
   ]
  },
  {
   "cell_type": "code",
   "execution_count": null,
   "id": "c9a21624",
   "metadata": {},
   "outputs": [],
   "source": []
  },
  {
   "cell_type": "code",
   "execution_count": null,
   "id": "a53b819b",
   "metadata": {},
   "outputs": [],
   "source": []
  },
  {
   "cell_type": "markdown",
   "id": "2f30582a",
   "metadata": {},
   "source": [
    "# PART C - Poverty Statistics: CPS & SAIPE (Time Series: various years)"
   ]
  },
  {
   "cell_type": "markdown",
   "id": "c3d38bd5",
   "metadata": {},
   "source": [
    "Link for this dataset: https://www.census.gov/data/developers/data-sets/Poverty-Statistics.html"
   ]
  },
  {
   "cell_type": "markdown",
   "id": "72d294de",
   "metadata": {},
   "source": [
    "**Sources of Poverty Data**\n",
    "- The CPS ASEC provides the most timely and accurate national data on income and is the official source of national poverty estimates, hence it is the preferred source for national analysis.  The CPS ASEC provides a consistent historical time series beginning in **1959 at the national level and can also be used to look at state-level trends and differences going back to 1980. However, the relatively large sampling errors of state-level estimates for smaller states somewhat limit their usefulness.**\n",
    "- **The American Community Survey (ACS) releases annual subnational estimates of income and poverty for all places, counties, and metropolitan areas with a population of at least 65,000 as well as the nation and the states. The sample size of this survey is over 3 million addresses per year, making the ACS exceptionally useful for subnational analyses.** Three-year period estimates are available for areas and subpopulations as small as 20,000 and five-year period estimates are available for all geographies, including census tracts, block groups and small subgroups of the population. ACS estimates are updated every year. Because of its large sample size, estimates from the fully implemented ACS provide the best survey-based state level income and poverty estimates. The ACS was fully-implemented in 2006.\n",
    "- The Small Area Income and Poverty Estimates (SAIPE) program produces single-year estimates of median household income and poverty for states and all counties, as well as population and poverty estimates for school districts. Since SAIPE estimates combine ACS data with administrative and other data, **SAIPE estimates generally have lower variance than ACS estimates but are released later because they incorporate ACS data in the models. For counties and school districts, particularly those with populations below 65,000, the SAIPE program provides the most accurate subnational estimates of poverty. For counties, SAIPE generally provides the best single-year estimates of median household income.**"
   ]
  },
  {
   "cell_type": "markdown",
   "id": "1cb5ae7d",
   "metadata": {},
   "source": [
    "**These datasets might be a great alternative if we want to study race and poverty level in a longer period of time, tho the variables are limited and we only have few of them.**  "
   ]
  },
  {
   "cell_type": "code",
   "execution_count": null,
   "id": "289a90c4",
   "metadata": {},
   "outputs": [],
   "source": []
  },
  {
   "cell_type": "code",
   "execution_count": null,
   "id": "969e1bd2",
   "metadata": {},
   "outputs": [],
   "source": []
  },
  {
   "cell_type": "markdown",
   "id": "597c0689",
   "metadata": {},
   "source": [
    "# PART D - Business Dynamics Statistics (BDS) Time Series (1978 – 2020)"
   ]
  },
  {
   "cell_type": "markdown",
   "id": "061c8abe",
   "metadata": {},
   "source": [
    "Link: https://www.census.gov/data/developers/data-sets/business-dynamics.html"
   ]
  },
  {
   "cell_type": "markdown",
   "id": "799f24bd",
   "metadata": {},
   "source": [
    "The Business Dynamics Statistics (BDS) dataset is available as a Census Bureau API. BDS provides annual measures of business dynamics (such as job creation and destruction, establishment births and deaths, and firm startups and shutdowns) for the economy and aggregated by establishment and firm characteristics.\n",
    "\n",
    "For more information on the BDS, see the BDS homepage. For information about some of the key differences between the data available in the BDS API and the 2020 BDS CSV Datasets, users should refer to the following document: Data Tables & CSV Datasets."
   ]
  },
  {
   "cell_type": "markdown",
   "id": "8713ea45",
   "metadata": {},
   "source": [
    "**I left this datasets here for reference if we want to do some really interesting analysis between variables like the industry evolvement, job creation/destruction, etc with air quality.**"
   ]
  },
  {
   "cell_type": "code",
   "execution_count": null,
   "id": "cd7efb26",
   "metadata": {},
   "outputs": [],
   "source": []
  },
  {
   "cell_type": "code",
   "execution_count": null,
   "id": "381a5b95",
   "metadata": {},
   "outputs": [],
   "source": []
  },
  {
   "cell_type": "markdown",
   "id": "622c9a6f",
   "metadata": {},
   "source": [
    "# PART E - County Business Patterns (1986-2021) and Nonemployer Statistics (1997-2019)"
   ]
  },
  {
   "cell_type": "markdown",
   "id": "295c2281",
   "metadata": {},
   "source": [
    "Link: https://www.census.gov/data/developers/data-sets/cbp-nonemp-zbp.html"
   ]
  },
  {
   "cell_type": "markdown",
   "id": "90c18d20",
   "metadata": {},
   "source": [
    "County Business Patterns provides annual statistics for businesses with paid employees within the U.S., Puerto Rico, and Island Areas at a detailed geography and industry level.\n",
    "\n",
    "Statistics are available on business establishments at the U.S. level and by State, County, Metropolitan area, ZIP code levels, and congressional districts (beginning in the 2013 reference year). Data for Puerto Rico and the Island Areas are available at the State and county equivalent levels. CBP covers most NAICS industries."
   ]
  },
  {
   "cell_type": "markdown",
   "id": "d7308e8d",
   "metadata": {},
   "source": [
    "**Same reason as above, I left these APIs here for reference.**"
   ]
  },
  {
   "cell_type": "code",
   "execution_count": null,
   "id": "f83ed770",
   "metadata": {},
   "outputs": [],
   "source": []
  },
  {
   "cell_type": "code",
   "execution_count": null,
   "id": "cf2aef9a",
   "metadata": {},
   "outputs": [],
   "source": []
  },
  {
   "cell_type": "markdown",
   "id": "ad50389f",
   "metadata": {},
   "source": [
    "# PART F - Longitudinal Employer-Household Dynamics (LEHD)"
   ]
  },
  {
   "cell_type": "markdown",
   "id": "f8a5dfe0",
   "metadata": {},
   "source": [
    "## Quarterly Workforce Indicators (QWI) (Time Series: 1990 - present)"
   ]
  },
  {
   "cell_type": "markdown",
   "id": "ec8ca798",
   "metadata": {},
   "source": [
    "Link: https://www.census.gov/data/developers/data-sets/qwi.html"
   ]
  },
  {
   "cell_type": "markdown",
   "id": "b37f7f82",
   "metadata": {},
   "source": [
    "The QWI are a set of 32 economic indicators including employment, job creation/destruction, wages, hires, and other measures of employment flows. The QWI are reported based on detailed firm characteristics (geography, industry, age, size) and worker demographics (sex, age, education, race, ethnicity) and are available tabulated to national*, state, metropolitan/micropolitan areas, county, and workforce investment areas (WIA). The QWI are unique in their ability to track both firm and worker characteristics over time – enabling analyses such as a longitudinal look at wages by worker sex and age across counties, ranking job creation rates of young firms across NAICS industry groups, and comparing hiring levels by worker race and education levels across a selection of metropolitan areas."
   ]
  },
  {
   "cell_type": "markdown",
   "id": "d010f536",
   "metadata": {},
   "source": [
    "**These datasets might be an alternative if we want to query empoyment and variables related to that in a longer period of time.**"
   ]
  },
  {
   "cell_type": "code",
   "execution_count": null,
   "id": "c115f015",
   "metadata": {},
   "outputs": [],
   "source": []
  },
  {
   "cell_type": "code",
   "execution_count": null,
   "id": "34e95fe1",
   "metadata": {},
   "outputs": [],
   "source": []
  },
  {
   "cell_type": "markdown",
   "id": "a3a06a22",
   "metadata": {},
   "source": [
    "# PART G - Annual Public Sector Statistics (1942 to present)"
   ]
  },
  {
   "cell_type": "markdown",
   "id": "2daf553e",
   "metadata": {},
   "source": [
    "Link: https://www.census.gov/data/developers/data-sets/annual-public-sector-stats.html"
   ]
  },
  {
   "cell_type": "markdown",
   "id": "209b2286",
   "metadata": {},
   "source": [
    "The U.S. Census Bureau Public Sector Statistics provides annual and Census of Governments (for years ending in 2 and 7) statistics about state and local governments that are essential to understanding the American economy. These statistics provide the most comprehensive and precise measure of U.S. state and local governments’ economic activity, which comprise nearly 90 thousand governments. It also serves as a statistical benchmark for current economic activity, such as, the National Income and Product Accounts and the Gross Domestic Product. This API is presented as a time-series for data from 2012 forward for all public sector surveys, except Government Organization, which is available for 1942 forward.\n",
    "\n",
    "Data are available for all state and local governments in the United States. Local governments include:\n",
    "\n",
    "counties\n",
    "cities\n",
    "townships\n",
    "special districts (such as water districts, fire districts, library districts, mosquito abatement districts, and so on)\n",
    "school districts\n",
    "These data provide policy analysts, researchers, and the general public with a more complete and clear picture of the public sector and  provide information to assist in addressing the issues that concern state and local governments and serve as the foundation for developing national economic and public policy."
   ]
  },
  {
   "cell_type": "markdown",
   "id": "5f825445",
   "metadata": {},
   "source": [
    "**I don't know what we could do with this datasets right now, tho I feel like there might be some interesting connection if we want to do some analysis on policy & air quality. So I left this datasets here for reference.**"
   ]
  },
  {
   "cell_type": "code",
   "execution_count": null,
   "id": "4d3a2838",
   "metadata": {},
   "outputs": [],
   "source": []
  },
  {
   "cell_type": "code",
   "execution_count": null,
   "id": "9ef0a2ae",
   "metadata": {},
   "outputs": [],
   "source": []
  },
  {
   "cell_type": "markdown",
   "id": "08a7cd96",
   "metadata": {},
   "source": [
    "# PART H - Economic Indicators (Time Series: various years - present)"
   ]
  },
  {
   "cell_type": "markdown",
   "id": "d226d22d",
   "metadata": {},
   "source": [
    "Link: https://www.census.gov/data/developers/data-sets/economic-indicators.html"
   ]
  },
  {
   "cell_type": "markdown",
   "id": "1bb836d1",
   "metadata": {},
   "source": [
    "The U.S. Census Bureau's economic indicator surveys provide monthly and quarterly data that are timely, reliable, and offer comprehensive measures of the U.S. economy. These surveys produce a variety of statistics covering construction, housing, international trade, retail trade, wholesale trade, services and manufacturing. The survey data provide measures of economic activity that allow analysis of economic performance and inform business investment and policy decisions. Other data included, which are not considered principal economic indicators, are the Quarterly Summary of State & Local Taxes, Quarterly Survey of Public Pensions, and the Manufactured Homes Survey.\n",
    "For information on the reliability and use of the data, including important notes on estimation and sampling variance, seasonal adjustment, measures of sampling variability, and other information pertinent to the economic indicators, visit the individual programs' webpages linked from the Economic Briefing Room."
   ]
  },
  {
   "cell_type": "markdown",
   "id": "4a0b5942",
   "metadata": {},
   "source": [
    "**This one is a another big APIs about US economic indicators. I left it here for reference.**"
   ]
  },
  {
   "cell_type": "code",
   "execution_count": null,
   "id": "51b83fb8",
   "metadata": {},
   "outputs": [],
   "source": []
  },
  {
   "cell_type": "code",
   "execution_count": null,
   "id": "697f9ce9",
   "metadata": {},
   "outputs": [],
   "source": []
  },
  {
   "cell_type": "markdown",
   "id": "a73459a9",
   "metadata": {},
   "source": [
    "# PART I - Geography Program"
   ]
  },
  {
   "cell_type": "markdown",
   "id": "34f378a5",
   "metadata": {},
   "source": [
    "## Census Geocoding Services"
   ]
  },
  {
   "cell_type": "markdown",
   "id": "5a517f77",
   "metadata": {},
   "source": [
    "Link: https://www.census.gov/data/developers/data-sets/Geocoding-services.html"
   ]
  },
  {
   "cell_type": "markdown",
   "id": "ee3a027d",
   "metadata": {},
   "source": [
    "Geocoding Basics\n",
    "\n",
    "Geocoding is the process of inputting an address and receiving back latitude/longitude coordinates calculated along an address range. The parts of the address provided to the geocoding application determine the level of detail of the geocode returned. The building number and street name are required. City name, state, and ZIP code are optional.\n",
    "\n",
    "Geocoding Services Details\n",
    "There are two entry points for the geocoding service: single-record submission and batch submission.\n",
    "\n",
    "The single-record service allows for all of the address parts to be submitted in a single line or as separate fields. The batch service requires each field to exist (either with text or blank) in a delimited form, preceded by a unique ID.\n",
    "\n",
    "The optional inclusion of the Geographic Lookup (GeoLookup) adds information to the result relating to various levels of geography that encompass the latitude/longitude coordinates. GeoLookup results can also be obtained directly by searching on the latitude/longitude coordinates.\n",
    "\n",
    "The latitude/longitude coordinates returned are based on data loaded into the geocoding engine from a MAF/TIGER benchmark database.\n",
    "\n",
    "Audience\n",
    "This document is intended for application, website, and mobile developers"
   ]
  },
  {
   "cell_type": "markdown",
   "id": "01399369",
   "metadata": {},
   "source": [
    "## Census TIGERweb GeoServices REST API"
   ]
  },
  {
   "cell_type": "markdown",
   "id": "3820d896",
   "metadata": {},
   "source": [
    "Link: https://www.census.gov/data/developers/data-sets/TIGERweb-map-service.html"
   ]
  },
  {
   "cell_type": "markdown",
   "id": "3a468f22",
   "metadata": {},
   "source": [
    "GeoServices REST Specification\n",
    "The GeoServices REST Specification provides a way for Web clients to communicate with geographic information system (GIS) servers through Representational State Transfer (REST) technology.\n",
    "\n",
    "The specification is\n",
    "\n",
    "A proven and easy to understand method for a broad range of clients and applications to request map, feature, attribute, and image information from a GIS server.\n",
    "A JSON-based, REST-ful specification that will make the GIS server instantly usable by thousands of developers working in popular client-side development environments with the ArcGIS Web mapping APIs for JavaScript™, Flex™, Silverlight®, iOS®, and Android™.\n",
    "Use of the GeoServices REST Specification is subject to the current Open Web Foundation Agreement. The Open Web Foundation (OWF) is an independent non-profit dedicated to the development and protection of open, non-proprietary specifications for web technologies. Terms and conditions of the OWF Agreement are subject to change without notice.\n",
    "\n",
    "Deocumentation / specifications for this service are owned and maintained by ESRI and can be downloaded by esri.com/opengeoservices Off Site. Here is a current link.\n",
    "\n"
   ]
  },
  {
   "cell_type": "markdown",
   "id": "10c96041",
   "metadata": {},
   "source": [
    "**These features might be HELPFUL when we build interactive visualizations! And might also help us with the analysis process.**"
   ]
  }
 ],
 "metadata": {
  "kernelspec": {
   "display_name": "Python 3",
   "language": "python",
   "name": "python3"
  },
  "language_info": {
   "codemirror_mode": {
    "name": "ipython",
    "version": 3
   },
   "file_extension": ".py",
   "mimetype": "text/x-python",
   "name": "python",
   "nbconvert_exporter": "python",
   "pygments_lexer": "ipython3",
   "version": "3.8.8"
  }
 },
 "nbformat": 4,
 "nbformat_minor": 5
}
