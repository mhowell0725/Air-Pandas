{
 "cells": [
  {
   "attachments": {},
   "cell_type": "markdown",
   "id": "15fc945a",
   "metadata": {},
   "source": [
    "## Article 1\n",
    "\n",
    "The first interesting article I found was:\n",
    "\n",
    "[Jerrett, Michael, Richard T. Burnett, Renjun Ma, C. Arden Pope III, Daniel Krewski, K. Bruce Newbold, George Thurston et al. \"Spatial analysis of air pollution and mortality in Los Angeles.\" Epidemiology (2005): 727-736.](https://www.jstor.org/stable/20486136?casa_token=zwJo2wLvcnMAAAAA%3Aruo-xejz_HU9HgnZF2ADcoi8tjCE74o_GHnfksM_bqk-RvLCWtVq8LEPt7xFJZS7ruWKELoFQiZ-kPv4z7eIxV_sJjIb5A-2BIGnFt_M_cS3yDVElUOj)\n",
    "\n",
    "This article introduced me to the idea that **PM$_{2.5}$** and **O$_3$** levels might be a good way to measure air quality. Of course, we might also simply want to use the Air Quality Index (AQI) if that is available to us in through the EPA AQS API. Can we see if we can extract data on PM$_{2.5}$ and O$_3$ levels in Los Angeles through the EPA AQS API?"
   ]
  },
  {
   "attachments": {},
   "cell_type": "markdown",
   "id": "9d3ca004",
   "metadata": {},
   "source": [
    "### Issue with Air Quality Data\n",
    "\n",
    "In our meeting on 08 May 2023, we noticed that there might not be enough weather stations provided in the AQS API. Apple Maps seems to provide much more air quality information than what we have see so far on the AQS API. Apple Maps says on their website that they get their air quality data from **BreezoMeter** and **QWeather**. It looks like [AirNow API](https://docs.airnowapi.org/webservices) gives us data on fine particulate matter, ozone, and AQI by ZIP code!\n",
    "\n",
    "Update on 11 May 2023: It is looking increasingly likely that there are no air quality resources out there that will let us query in large volumes of historical time series data. We might have to change our initial question to account for the data availability."
   ]
  },
  {
   "attachments": {},
   "cell_type": "markdown",
   "id": "d646b1a6",
   "metadata": {},
   "source": [
    "## Article 2\n",
    "\n",
    "Another interesting piece I found was:\n",
    "\n",
    "Lisa Schweitzer & Jiangping Zhou (2010) Neighborhood Air Quality, Respiratory Health, and Vulnerable Populations in Compact and Sprawled Regions, Journal of the American Planning Association, 76:3, 363-371, DOI: [10.1080/01944363.2010.486623](https://doi.org/10.1080/01944363.2010.486623)\n",
    "\n",
    "I quote the main interesting finding from the abstract: \"Exposures to both ozone and fine particulates are also higher in neighborhoods with high proportions of African Americans, Asian ethnic minorities, and poor households.\"\n",
    "\n",
    "In essence, it may be a good idea to explore how air quality varies with **racial/ethnic composition** and **income** throughout Los Angeles. I should note here that the article aggregates findings from 80 different U.S. cities (i.e. this study does not focus on Los Angeles). However, it still gives us a lead as to which demographic characteristics of LA residents might vary with air quality.\n",
    "\n",
    "Can we see what racial/ethnic and income information we can get from the U.S. Census? I will note that Louise provided a great PDF guide on how to access data from the Census API, so we should definitely look into that while we try to query data from there."
   ]
  },
  {
   "cell_type": "code",
   "execution_count": 3,
   "id": "c852a09b",
   "metadata": {},
   "outputs": [],
   "source": [
    "import pandas as pd\n",
    "import numpy as np\n",
    "from matplotlib import pyplot as plt"
   ]
  },
  {
   "attachments": {},
   "cell_type": "markdown",
   "id": "50371dd9",
   "metadata": {},
   "source": [
    "Let's take a closer look at the Census query url. The Census website gives the example url\n",
    "\n",
    "`pd.read_json(\"https://api.census.gov/data/2019/pep/charagegroups?get=NAME,POP&HISP=2&for=state:*\")`\n",
    "\n",
    "Focus on the bold sections of the url.\n",
    "\n",
    "### Year\n",
    "\n",
    "api.census.gov/data/**2019**/pep/charagegroups?get=NAME,POP&HISP=2&for=state:*\n",
    "\n",
    "According to an example in the manual, we can replace this with `timeseries` to get data across multiple years. This only works with time series datasets, so we will have to replace the data set name as shown below.\n",
    "\n",
    "### Data set\n",
    "\n",
    "api.census.gov/data/2019/**pep**/charagegroups?get=NAME,POP&HISP=2&for=state:*\n",
    "\n",
    "To get data from the American Community Survey (ACS), we can replace this section. In some examples in the manual, they replaced this with /acs/acs1.\n",
    "\n",
    "[Here](https://api.census.gov/data.html) is a list of different Census data sets.\n",
    "\n",
    "### Querying Data\n",
    "\n",
    "Let's see if we can import data on racial/ethnic composition and income in LA from the U.S. Census API."
   ]
  },
  {
   "cell_type": "code",
   "execution_count": 93,
   "id": "dc13067f",
   "metadata": {},
   "outputs": [],
   "source": [
    "# Specify your API key.\n",
    "# This is not actually necessary to query the necessary data.\n",
    "api_key = \"YOUR_API_KEY_HERE\"\n",
    "\n",
    "# Specify the variables of interest\n",
    "variables = \"B01003_001E,B02001_002E,B02001_003E,B02001_004E,B02001_005E,B02001_006E,B02001_007E,B02001_008E,B03001_003E,B19013_001E\"\n",
    "\n",
    "# Specify the geography of interest (Los Angeles County, California)\n",
    "state = \"06\"\n",
    "county = \"037\"\n",
    "place = \"*\" # Wildcard to include all places within the county\n",
    "tract = \"*\" # Wildcard to include all tracts within the place\n",
    "\n",
    "# Build the API URL with API key\n",
    "#url = f\"https://api.census.gov/data/2019/acs/acs5/?get={variables}&for=tract:{tract}&in=place:{place}&in=county:{county}&in=state:{state}&key={api_key}\"\n",
    "\n",
    "#Without API key:\n",
    "#url = f\"https://api.census.gov/data/2019/acs/acs5?get={variables}&for=tract:{tract}&in=place:{place}&in=county:{county}&in=state:{state}\"\n",
    "\n",
    "#data = pd.read_json(url)"
   ]
  },
  {
   "attachments": {},
   "cell_type": "markdown",
   "id": "b7520616",
   "metadata": {},
   "source": [
    "The above code does not seem to work yet. If you copy and paste the url to a browser, it says `error: unknown/unsupported geography heirarchy`. We can probably change tract, place, county, etc. to avert this issue. The following url seems to work, though. It feels like we are really close to querying the data we want.\n",
    "\n",
    "Note about the variable codes: we have the total population (`B01003_001E`), the population that identifies as White alone (`B02001_002E`), the population that identifies as Black or African American alone (`B02001_003E`), the population that identifies as American Indian and Alaskan Native alone (`B02001_004E`), the population that identifies as Asian alone (`B02001_005E`), the population that identifies as Native Hawaiian and other Pacific islander alone (`B02001_006E`), the population that identifies as some other race alone (`B02001_007E`), the population that identifies as two or more races (`B02001_008E`), the population that identifies as Hispanic or Latino (`B03001_003E`), and the median household income (`B19013_001E`).\n",
    "\n",
    "Find more information on variables in ACS5 [here](https://api.census.gov/data/2019/acs/acs5/variables.html).\n",
    "\n",
    "Note also that we use the acs5 data set here. Information on when to use the ACS 1-year, 3-year, and 5-year estimates can be found [here](https://www.census.gov/programs-surveys/acs/guidance/estimates.html). The website says that 5-year estimates are the most accurate, yet the least current. In addition, the sample size is reduced when you move from 5-year to 3-year and 3-year to 1-year data. Because we are not necessarily interested in how current the data is, we choose the most accurate data (5-year)."
   ]
  },
  {
   "attachments": {},
   "cell_type": "markdown",
   "id": "a03032f5",
   "metadata": {},
   "source": [
    "### Retrieval of ZIP Codes\n",
    "\n",
    "I obtained a list of LA ZIP codes from [this website](https://geohub.lacity.org/datasets/71b2fed2c1f24fc8850f5b7f8d2a320a/explore?location=34.060494%2C-118.413353%2C12.98). This list corresponds to the CSV titled `la_county_zip_codes.csv`. \n",
    "\n",
    "I compare the ZIP codes from this website with the ZIP codes scraped from the Internet."
   ]
  },
  {
   "cell_type": "code",
   "execution_count": 4,
   "id": "0ed23ed2",
   "metadata": {},
   "outputs": [
    {
     "data": {
      "text/html": [
       "<div>\n",
       "<style scoped>\n",
       "    .dataframe tbody tr th:only-of-type {\n",
       "        vertical-align: middle;\n",
       "    }\n",
       "\n",
       "    .dataframe tbody tr th {\n",
       "        vertical-align: top;\n",
       "    }\n",
       "\n",
       "    .dataframe thead th {\n",
       "        text-align: right;\n",
       "    }\n",
       "</style>\n",
       "<table border=\"1\" class=\"dataframe\">\n",
       "  <thead>\n",
       "    <tr style=\"text-align: right;\">\n",
       "      <th></th>\n",
       "      <th>OBJECTID</th>\n",
       "      <th>ZIPCODE</th>\n",
       "      <th>ZIP</th>\n",
       "      <th>TOOLTIP</th>\n",
       "      <th>NLA_URL</th>\n",
       "    </tr>\n",
       "  </thead>\n",
       "  <tbody>\n",
       "    <tr>\n",
       "      <th>0</th>\n",
       "      <td>1</td>\n",
       "      <td>90001</td>\n",
       "      <td>90001</td>\n",
       "      <td>Zip Code: 90001</td>\n",
       "      <td>navigatela/reports/zipcode_county_report.cfm?p...</td>\n",
       "    </tr>\n",
       "    <tr>\n",
       "      <th>1</th>\n",
       "      <td>2</td>\n",
       "      <td>90002</td>\n",
       "      <td>90002</td>\n",
       "      <td>Zip Code: 90002</td>\n",
       "      <td>navigatela/reports/zipcode_county_report.cfm?p...</td>\n",
       "    </tr>\n",
       "    <tr>\n",
       "      <th>2</th>\n",
       "      <td>3</td>\n",
       "      <td>90003</td>\n",
       "      <td>90003</td>\n",
       "      <td>Zip Code: 90003</td>\n",
       "      <td>navigatela/reports/zipcode_county_report.cfm?p...</td>\n",
       "    </tr>\n",
       "    <tr>\n",
       "      <th>3</th>\n",
       "      <td>4</td>\n",
       "      <td>90004</td>\n",
       "      <td>90004</td>\n",
       "      <td>Zip Code: 90004</td>\n",
       "      <td>navigatela/reports/zipcode_county_report.cfm?p...</td>\n",
       "    </tr>\n",
       "    <tr>\n",
       "      <th>4</th>\n",
       "      <td>5</td>\n",
       "      <td>90005</td>\n",
       "      <td>90005</td>\n",
       "      <td>Zip Code: 90005</td>\n",
       "      <td>navigatela/reports/zipcode_county_report.cfm?p...</td>\n",
       "    </tr>\n",
       "    <tr>\n",
       "      <th>...</th>\n",
       "      <td>...</td>\n",
       "      <td>...</td>\n",
       "      <td>...</td>\n",
       "      <td>...</td>\n",
       "      <td>...</td>\n",
       "    </tr>\n",
       "    <tr>\n",
       "      <th>306</th>\n",
       "      <td>307</td>\n",
       "      <td>93552</td>\n",
       "      <td>93552</td>\n",
       "      <td>Zip Code: 93552</td>\n",
       "      <td>navigatela/reports/zipcode_county_report.cfm?p...</td>\n",
       "    </tr>\n",
       "    <tr>\n",
       "      <th>307</th>\n",
       "      <td>308</td>\n",
       "      <td>93553</td>\n",
       "      <td>93553</td>\n",
       "      <td>Zip Code: 93553</td>\n",
       "      <td>navigatela/reports/zipcode_county_report.cfm?p...</td>\n",
       "    </tr>\n",
       "    <tr>\n",
       "      <th>308</th>\n",
       "      <td>309</td>\n",
       "      <td>93563</td>\n",
       "      <td>93563</td>\n",
       "      <td>Zip Code: 93563</td>\n",
       "      <td>navigatela/reports/zipcode_county_report.cfm?p...</td>\n",
       "    </tr>\n",
       "    <tr>\n",
       "      <th>309</th>\n",
       "      <td>310</td>\n",
       "      <td>93591</td>\n",
       "      <td>93591</td>\n",
       "      <td>Zip Code: 93591</td>\n",
       "      <td>navigatela/reports/zipcode_county_report.cfm?p...</td>\n",
       "    </tr>\n",
       "    <tr>\n",
       "      <th>310</th>\n",
       "      <td>311</td>\n",
       "      <td>90704</td>\n",
       "      <td>90704</td>\n",
       "      <td>Zip Code: 90704</td>\n",
       "      <td>navigatela/reports/zipcode_county_report.cfm?p...</td>\n",
       "    </tr>\n",
       "  </tbody>\n",
       "</table>\n",
       "<p>311 rows × 5 columns</p>\n",
       "</div>"
      ],
      "text/plain": [
       "     OBJECTID  ZIPCODE    ZIP          TOOLTIP   \n",
       "0           1    90001  90001  Zip Code: 90001  \\\n",
       "1           2    90002  90002  Zip Code: 90002   \n",
       "2           3    90003  90003  Zip Code: 90003   \n",
       "3           4    90004  90004  Zip Code: 90004   \n",
       "4           5    90005  90005  Zip Code: 90005   \n",
       "..        ...      ...    ...              ...   \n",
       "306       307    93552  93552  Zip Code: 93552   \n",
       "307       308    93553  93553  Zip Code: 93553   \n",
       "308       309    93563  93563  Zip Code: 93563   \n",
       "309       310    93591  93591  Zip Code: 93591   \n",
       "310       311    90704  90704  Zip Code: 90704   \n",
       "\n",
       "                                               NLA_URL  \n",
       "0    navigatela/reports/zipcode_county_report.cfm?p...  \n",
       "1    navigatela/reports/zipcode_county_report.cfm?p...  \n",
       "2    navigatela/reports/zipcode_county_report.cfm?p...  \n",
       "3    navigatela/reports/zipcode_county_report.cfm?p...  \n",
       "4    navigatela/reports/zipcode_county_report.cfm?p...  \n",
       "..                                                 ...  \n",
       "306  navigatela/reports/zipcode_county_report.cfm?p...  \n",
       "307  navigatela/reports/zipcode_county_report.cfm?p...  \n",
       "308  navigatela/reports/zipcode_county_report.cfm?p...  \n",
       "309  navigatela/reports/zipcode_county_report.cfm?p...  \n",
       "310  navigatela/reports/zipcode_county_report.cfm?p...  \n",
       "\n",
       "[311 rows x 5 columns]"
      ]
     },
     "execution_count": 4,
     "metadata": {},
     "output_type": "execute_result"
    }
   ],
   "source": [
    "zip_codes_df = pd.read_csv('la_county_zip_codes.csv')\n",
    "zip_codes_df"
   ]
  },
  {
   "cell_type": "code",
   "execution_count": 5,
   "id": "930671b3",
   "metadata": {
    "scrolled": true
   },
   "outputs": [],
   "source": [
    "#it looks like the `ZIPCODE` and `ZIP` columns are the same. We check if that is true.\n",
    "\n",
    "for i in range(311):\n",
    "    if zip_codes_df[\"ZIPCODE\"][i] != zip_codes_df[\"ZIP\"][i]:\n",
    "        print(\"error\")\n",
    "        \n",
    "#it appears that the assumption is true."
   ]
  },
  {
   "cell_type": "code",
   "execution_count": 6,
   "id": "c8280c5d",
   "metadata": {},
   "outputs": [
    {
     "data": {
      "text/plain": [
       "numpy.int64"
      ]
     },
     "execution_count": 6,
     "metadata": {},
     "output_type": "execute_result"
    }
   ],
   "source": [
    "#we check the data type of the entries in `zip`\n",
    "zip_codes = zip_codes_df[\"ZIP\"]\n",
    "type(zip_codes[1])"
   ]
  },
  {
   "cell_type": "code",
   "execution_count": 7,
   "id": "0a9d4a6b",
   "metadata": {},
   "outputs": [
    {
     "data": {
      "text/html": [
       "<div>\n",
       "<style scoped>\n",
       "    .dataframe tbody tr th:only-of-type {\n",
       "        vertical-align: middle;\n",
       "    }\n",
       "\n",
       "    .dataframe tbody tr th {\n",
       "        vertical-align: top;\n",
       "    }\n",
       "\n",
       "    .dataframe thead th {\n",
       "        text-align: right;\n",
       "    }\n",
       "</style>\n",
       "<table border=\"1\" class=\"dataframe\">\n",
       "  <thead>\n",
       "    <tr style=\"text-align: right;\">\n",
       "      <th></th>\n",
       "      <th>B01003_001E</th>\n",
       "      <th>B02001_002E</th>\n",
       "      <th>B02001_003E</th>\n",
       "      <th>B02001_004E</th>\n",
       "      <th>B02001_005E</th>\n",
       "      <th>B02001_006E</th>\n",
       "      <th>B02001_007E</th>\n",
       "      <th>B02001_008E</th>\n",
       "      <th>B03001_003E</th>\n",
       "      <th>B19013_001E</th>\n",
       "      <th>state</th>\n",
       "      <th>zip code tabulation area</th>\n",
       "    </tr>\n",
       "  </thead>\n",
       "  <tbody>\n",
       "    <tr>\n",
       "      <th>7</th>\n",
       "      <td>14285</td>\n",
       "      <td>2866</td>\n",
       "      <td>577</td>\n",
       "      <td>73</td>\n",
       "      <td>1445</td>\n",
       "      <td>0</td>\n",
       "      <td>8877</td>\n",
       "      <td>447</td>\n",
       "      <td>11428</td>\n",
       "      <td>50149</td>\n",
       "      <td>06</td>\n",
       "      <td>90716</td>\n",
       "    </tr>\n",
       "    <tr>\n",
       "      <th>8</th>\n",
       "      <td>21508</td>\n",
       "      <td>12081</td>\n",
       "      <td>1325</td>\n",
       "      <td>170</td>\n",
       "      <td>3531</td>\n",
       "      <td>82</td>\n",
       "      <td>2794</td>\n",
       "      <td>1525</td>\n",
       "      <td>7276</td>\n",
       "      <td>71388</td>\n",
       "      <td>06</td>\n",
       "      <td>90717</td>\n",
       "    </tr>\n",
       "    <tr>\n",
       "      <th>9</th>\n",
       "      <td>60659</td>\n",
       "      <td>34014</td>\n",
       "      <td>4289</td>\n",
       "      <td>383</td>\n",
       "      <td>3299</td>\n",
       "      <td>117</td>\n",
       "      <td>14179</td>\n",
       "      <td>4378</td>\n",
       "      <td>34549</td>\n",
       "      <td>53456</td>\n",
       "      <td>06</td>\n",
       "      <td>90731</td>\n",
       "    </tr>\n",
       "    <tr>\n",
       "      <th>10</th>\n",
       "      <td>56880</td>\n",
       "      <td>30323</td>\n",
       "      <td>1672</td>\n",
       "      <td>1630</td>\n",
       "      <td>1828</td>\n",
       "      <td>262</td>\n",
       "      <td>18949</td>\n",
       "      <td>2216</td>\n",
       "      <td>50588</td>\n",
       "      <td>50875</td>\n",
       "      <td>06</td>\n",
       "      <td>90744</td>\n",
       "    </tr>\n",
       "    <tr>\n",
       "      <th>11</th>\n",
       "      <td>27075</td>\n",
       "      <td>4032</td>\n",
       "      <td>17270</td>\n",
       "      <td>188</td>\n",
       "      <td>2212</td>\n",
       "      <td>341</td>\n",
       "      <td>1799</td>\n",
       "      <td>1233</td>\n",
       "      <td>4848</td>\n",
       "      <td>89364</td>\n",
       "      <td>06</td>\n",
       "      <td>90746</td>\n",
       "    </tr>\n",
       "    <tr>\n",
       "      <th>...</th>\n",
       "      <td>...</td>\n",
       "      <td>...</td>\n",
       "      <td>...</td>\n",
       "      <td>...</td>\n",
       "      <td>...</td>\n",
       "      <td>...</td>\n",
       "      <td>...</td>\n",
       "      <td>...</td>\n",
       "      <td>...</td>\n",
       "      <td>...</td>\n",
       "      <td>...</td>\n",
       "      <td>...</td>\n",
       "    </tr>\n",
       "    <tr>\n",
       "      <th>1365</th>\n",
       "      <td>0</td>\n",
       "      <td>0</td>\n",
       "      <td>0</td>\n",
       "      <td>0</td>\n",
       "      <td>0</td>\n",
       "      <td>0</td>\n",
       "      <td>0</td>\n",
       "      <td>0</td>\n",
       "      <td>0</td>\n",
       "      <td>-666666666</td>\n",
       "      <td>06</td>\n",
       "      <td>90095</td>\n",
       "    </tr>\n",
       "    <tr>\n",
       "      <th>1366</th>\n",
       "      <td>0</td>\n",
       "      <td>0</td>\n",
       "      <td>0</td>\n",
       "      <td>0</td>\n",
       "      <td>0</td>\n",
       "      <td>0</td>\n",
       "      <td>0</td>\n",
       "      <td>0</td>\n",
       "      <td>0</td>\n",
       "      <td>-666666666</td>\n",
       "      <td>06</td>\n",
       "      <td>90506</td>\n",
       "    </tr>\n",
       "    <tr>\n",
       "      <th>1367</th>\n",
       "      <td>0</td>\n",
       "      <td>0</td>\n",
       "      <td>0</td>\n",
       "      <td>0</td>\n",
       "      <td>0</td>\n",
       "      <td>0</td>\n",
       "      <td>0</td>\n",
       "      <td>0</td>\n",
       "      <td>0</td>\n",
       "      <td>-666666666</td>\n",
       "      <td>06</td>\n",
       "      <td>90747</td>\n",
       "    </tr>\n",
       "    <tr>\n",
       "      <th>1368</th>\n",
       "      <td>11545</td>\n",
       "      <td>5696</td>\n",
       "      <td>1305</td>\n",
       "      <td>8</td>\n",
       "      <td>2910</td>\n",
       "      <td>21</td>\n",
       "      <td>1060</td>\n",
       "      <td>545</td>\n",
       "      <td>3671</td>\n",
       "      <td>75426</td>\n",
       "      <td>06</td>\n",
       "      <td>90755</td>\n",
       "    </tr>\n",
       "    <tr>\n",
       "      <th>1369</th>\n",
       "      <td>0</td>\n",
       "      <td>0</td>\n",
       "      <td>0</td>\n",
       "      <td>0</td>\n",
       "      <td>0</td>\n",
       "      <td>0</td>\n",
       "      <td>0</td>\n",
       "      <td>0</td>\n",
       "      <td>0</td>\n",
       "      <td>-666666666</td>\n",
       "      <td>06</td>\n",
       "      <td>90831</td>\n",
       "    </tr>\n",
       "  </tbody>\n",
       "</table>\n",
       "<p>300 rows × 12 columns</p>\n",
       "</div>"
      ],
      "text/plain": [
       "0    B01003_001E B02001_002E B02001_003E B02001_004E B02001_005E B02001_006E   \n",
       "7          14285        2866         577          73        1445           0  \\\n",
       "8          21508       12081        1325         170        3531          82   \n",
       "9          60659       34014        4289         383        3299         117   \n",
       "10         56880       30323        1672        1630        1828         262   \n",
       "11         27075        4032       17270         188        2212         341   \n",
       "...          ...         ...         ...         ...         ...         ...   \n",
       "1365           0           0           0           0           0           0   \n",
       "1366           0           0           0           0           0           0   \n",
       "1367           0           0           0           0           0           0   \n",
       "1368       11545        5696        1305           8        2910          21   \n",
       "1369           0           0           0           0           0           0   \n",
       "\n",
       "0    B02001_007E B02001_008E B03001_003E B19013_001E state   \n",
       "7           8877         447       11428       50149    06  \\\n",
       "8           2794        1525        7276       71388    06   \n",
       "9          14179        4378       34549       53456    06   \n",
       "10         18949        2216       50588       50875    06   \n",
       "11          1799        1233        4848       89364    06   \n",
       "...          ...         ...         ...         ...   ...   \n",
       "1365           0           0           0  -666666666    06   \n",
       "1366           0           0           0  -666666666    06   \n",
       "1367           0           0           0  -666666666    06   \n",
       "1368        1060         545        3671       75426    06   \n",
       "1369           0           0           0  -666666666    06   \n",
       "\n",
       "0     zip code tabulation area  \n",
       "7                        90716  \n",
       "8                        90717  \n",
       "9                        90731  \n",
       "10                       90744  \n",
       "11                       90746  \n",
       "...                        ...  \n",
       "1365                     90095  \n",
       "1366                     90506  \n",
       "1367                     90747  \n",
       "1368                     90755  \n",
       "1369                     90831  \n",
       "\n",
       "[300 rows x 12 columns]"
      ]
     },
     "execution_count": 7,
     "metadata": {},
     "output_type": "execute_result"
    }
   ],
   "source": [
    "zip_codes = zip_codes.tolist()\n",
    "\n",
    "#querying in the data from the U.S. Census again\n",
    "data = pd.read_json(\"https://api.census.gov/data/2019/acs/acs5?get=B01003_001E,B02001_002E,B02001_003E,B02001_004E,B02001_005E,B02001_006E,B02001_007E,B02001_008E,B03001_003E,B19013_001E&for=zip%20code%20tabulation%20area:*&in=state:06\")\n",
    "\n",
    "#replacing the column titles with the first row\n",
    "data.columns = data.iloc[0]\n",
    "\n",
    "#cleaning up the data\n",
    "data = data.drop([0])\n",
    "data[\"zip code tabulation area\"] = data[\"zip code tabulation area\"].astype(int)\n",
    "\n",
    "data = data[data[\"zip code tabulation area\"].isin(zip_codes)]\n",
    "data"
   ]
  },
  {
   "cell_type": "code",
   "execution_count": 8,
   "id": "f6e54c28",
   "metadata": {
    "scrolled": false
   },
   "outputs": [
    {
     "data": {
      "text/html": [
       "<div>\n",
       "<style scoped>\n",
       "    .dataframe tbody tr th:only-of-type {\n",
       "        vertical-align: middle;\n",
       "    }\n",
       "\n",
       "    .dataframe tbody tr th {\n",
       "        vertical-align: top;\n",
       "    }\n",
       "\n",
       "    .dataframe thead th {\n",
       "        text-align: right;\n",
       "    }\n",
       "</style>\n",
       "<table border=\"1\" class=\"dataframe\">\n",
       "  <thead>\n",
       "    <tr style=\"text-align: right;\">\n",
       "      <th></th>\n",
       "      <th>pop_total</th>\n",
       "      <th>pop_white</th>\n",
       "      <th>pop_black</th>\n",
       "      <th>pop_aian</th>\n",
       "      <th>pop_asian</th>\n",
       "      <th>pop_nhpi</th>\n",
       "      <th>pop_other_race</th>\n",
       "      <th>pop_two_plus_races</th>\n",
       "      <th>pop_hispanic_latino</th>\n",
       "      <th>income_median_household</th>\n",
       "      <th>state_code</th>\n",
       "      <th>zip_code</th>\n",
       "    </tr>\n",
       "  </thead>\n",
       "  <tbody>\n",
       "    <tr>\n",
       "      <th>7</th>\n",
       "      <td>14285</td>\n",
       "      <td>2866</td>\n",
       "      <td>577</td>\n",
       "      <td>73</td>\n",
       "      <td>1445</td>\n",
       "      <td>0</td>\n",
       "      <td>8877</td>\n",
       "      <td>447</td>\n",
       "      <td>11428</td>\n",
       "      <td>50149</td>\n",
       "      <td>06</td>\n",
       "      <td>90716</td>\n",
       "    </tr>\n",
       "    <tr>\n",
       "      <th>8</th>\n",
       "      <td>21508</td>\n",
       "      <td>12081</td>\n",
       "      <td>1325</td>\n",
       "      <td>170</td>\n",
       "      <td>3531</td>\n",
       "      <td>82</td>\n",
       "      <td>2794</td>\n",
       "      <td>1525</td>\n",
       "      <td>7276</td>\n",
       "      <td>71388</td>\n",
       "      <td>06</td>\n",
       "      <td>90717</td>\n",
       "    </tr>\n",
       "    <tr>\n",
       "      <th>9</th>\n",
       "      <td>60659</td>\n",
       "      <td>34014</td>\n",
       "      <td>4289</td>\n",
       "      <td>383</td>\n",
       "      <td>3299</td>\n",
       "      <td>117</td>\n",
       "      <td>14179</td>\n",
       "      <td>4378</td>\n",
       "      <td>34549</td>\n",
       "      <td>53456</td>\n",
       "      <td>06</td>\n",
       "      <td>90731</td>\n",
       "    </tr>\n",
       "    <tr>\n",
       "      <th>10</th>\n",
       "      <td>56880</td>\n",
       "      <td>30323</td>\n",
       "      <td>1672</td>\n",
       "      <td>1630</td>\n",
       "      <td>1828</td>\n",
       "      <td>262</td>\n",
       "      <td>18949</td>\n",
       "      <td>2216</td>\n",
       "      <td>50588</td>\n",
       "      <td>50875</td>\n",
       "      <td>06</td>\n",
       "      <td>90744</td>\n",
       "    </tr>\n",
       "    <tr>\n",
       "      <th>11</th>\n",
       "      <td>27075</td>\n",
       "      <td>4032</td>\n",
       "      <td>17270</td>\n",
       "      <td>188</td>\n",
       "      <td>2212</td>\n",
       "      <td>341</td>\n",
       "      <td>1799</td>\n",
       "      <td>1233</td>\n",
       "      <td>4848</td>\n",
       "      <td>89364</td>\n",
       "      <td>06</td>\n",
       "      <td>90746</td>\n",
       "    </tr>\n",
       "    <tr>\n",
       "      <th>...</th>\n",
       "      <td>...</td>\n",
       "      <td>...</td>\n",
       "      <td>...</td>\n",
       "      <td>...</td>\n",
       "      <td>...</td>\n",
       "      <td>...</td>\n",
       "      <td>...</td>\n",
       "      <td>...</td>\n",
       "      <td>...</td>\n",
       "      <td>...</td>\n",
       "      <td>...</td>\n",
       "      <td>...</td>\n",
       "    </tr>\n",
       "    <tr>\n",
       "      <th>1365</th>\n",
       "      <td>0</td>\n",
       "      <td>0</td>\n",
       "      <td>0</td>\n",
       "      <td>0</td>\n",
       "      <td>0</td>\n",
       "      <td>0</td>\n",
       "      <td>0</td>\n",
       "      <td>0</td>\n",
       "      <td>0</td>\n",
       "      <td>-666666666</td>\n",
       "      <td>06</td>\n",
       "      <td>90095</td>\n",
       "    </tr>\n",
       "    <tr>\n",
       "      <th>1366</th>\n",
       "      <td>0</td>\n",
       "      <td>0</td>\n",
       "      <td>0</td>\n",
       "      <td>0</td>\n",
       "      <td>0</td>\n",
       "      <td>0</td>\n",
       "      <td>0</td>\n",
       "      <td>0</td>\n",
       "      <td>0</td>\n",
       "      <td>-666666666</td>\n",
       "      <td>06</td>\n",
       "      <td>90506</td>\n",
       "    </tr>\n",
       "    <tr>\n",
       "      <th>1367</th>\n",
       "      <td>0</td>\n",
       "      <td>0</td>\n",
       "      <td>0</td>\n",
       "      <td>0</td>\n",
       "      <td>0</td>\n",
       "      <td>0</td>\n",
       "      <td>0</td>\n",
       "      <td>0</td>\n",
       "      <td>0</td>\n",
       "      <td>-666666666</td>\n",
       "      <td>06</td>\n",
       "      <td>90747</td>\n",
       "    </tr>\n",
       "    <tr>\n",
       "      <th>1368</th>\n",
       "      <td>11545</td>\n",
       "      <td>5696</td>\n",
       "      <td>1305</td>\n",
       "      <td>8</td>\n",
       "      <td>2910</td>\n",
       "      <td>21</td>\n",
       "      <td>1060</td>\n",
       "      <td>545</td>\n",
       "      <td>3671</td>\n",
       "      <td>75426</td>\n",
       "      <td>06</td>\n",
       "      <td>90755</td>\n",
       "    </tr>\n",
       "    <tr>\n",
       "      <th>1369</th>\n",
       "      <td>0</td>\n",
       "      <td>0</td>\n",
       "      <td>0</td>\n",
       "      <td>0</td>\n",
       "      <td>0</td>\n",
       "      <td>0</td>\n",
       "      <td>0</td>\n",
       "      <td>0</td>\n",
       "      <td>0</td>\n",
       "      <td>-666666666</td>\n",
       "      <td>06</td>\n",
       "      <td>90831</td>\n",
       "    </tr>\n",
       "  </tbody>\n",
       "</table>\n",
       "<p>300 rows × 12 columns</p>\n",
       "</div>"
      ],
      "text/plain": [
       "     pop_total pop_white pop_black pop_aian pop_asian pop_nhpi pop_other_race   \n",
       "7        14285      2866       577       73      1445        0           8877  \\\n",
       "8        21508     12081      1325      170      3531       82           2794   \n",
       "9        60659     34014      4289      383      3299      117          14179   \n",
       "10       56880     30323      1672     1630      1828      262          18949   \n",
       "11       27075      4032     17270      188      2212      341           1799   \n",
       "...        ...       ...       ...      ...       ...      ...            ...   \n",
       "1365         0         0         0        0         0        0              0   \n",
       "1366         0         0         0        0         0        0              0   \n",
       "1367         0         0         0        0         0        0              0   \n",
       "1368     11545      5696      1305        8      2910       21           1060   \n",
       "1369         0         0         0        0         0        0              0   \n",
       "\n",
       "     pop_two_plus_races pop_hispanic_latino income_median_household   \n",
       "7                   447               11428                   50149  \\\n",
       "8                  1525                7276                   71388   \n",
       "9                  4378               34549                   53456   \n",
       "10                 2216               50588                   50875   \n",
       "11                 1233                4848                   89364   \n",
       "...                 ...                 ...                     ...   \n",
       "1365                  0                   0              -666666666   \n",
       "1366                  0                   0              -666666666   \n",
       "1367                  0                   0              -666666666   \n",
       "1368                545                3671                   75426   \n",
       "1369                  0                   0              -666666666   \n",
       "\n",
       "     state_code  zip_code  \n",
       "7            06     90716  \n",
       "8            06     90717  \n",
       "9            06     90731  \n",
       "10           06     90744  \n",
       "11           06     90746  \n",
       "...         ...       ...  \n",
       "1365         06     90095  \n",
       "1366         06     90506  \n",
       "1367         06     90747  \n",
       "1368         06     90755  \n",
       "1369         06     90831  \n",
       "\n",
       "[300 rows x 12 columns]"
      ]
     },
     "execution_count": 8,
     "metadata": {},
     "output_type": "execute_result"
    }
   ],
   "source": [
    "#cleaning up the column names\n",
    "data.columns = [\"pop_total\", \"pop_white\", \"pop_black\",\"pop_aian\", \"pop_asian\", \"pop_nhpi\", \"pop_other_race\", \"pop_two_plus_races\",\"pop_hispanic_latino\", \"income_median_household\", \"state_code\", \"zip_code\"]\n",
    "\n",
    "data"
   ]
  },
  {
   "attachments": {},
   "cell_type": "markdown",
   "id": "21ffc12e",
   "metadata": {},
   "source": [
    "Now that we have the data for 2019, let's see if we can construct a box plot of one of the variables to see how it varies."
   ]
  },
  {
   "cell_type": "code",
   "execution_count": 13,
   "id": "c180cd5a",
   "metadata": {},
   "outputs": [
    {
     "data": {
      "text/plain": [
       "<Axes: >"
      ]
     },
     "execution_count": 13,
     "metadata": {},
     "output_type": "execute_result"
    },
    {
     "data": {
      "image/png": "[encoded data removed]",
      "text/plain": [
       "<Figure size 640x480 with 1 Axes>"
      ]
     },
     "metadata": {},
     "output_type": "display_data"
    }
   ],
   "source": [
    "data = data.astype({'income_median_household':'int'})\n",
    "\n",
    "data['income_median_household'].plot(kind = \"box\")"
   ]
  },
  {
   "attachments": {},
   "cell_type": "markdown",
   "id": "7f07b1b5",
   "metadata": {},
   "source": [
    "It looks like there is some problem with the plotting. Let's see what could be wrong."
   ]
  },
  {
   "cell_type": "code",
   "execution_count": 14,
   "id": "335fba40",
   "metadata": {},
   "outputs": [
    {
     "data": {
      "text/plain": [
       "-26591921.946666665"
      ]
     },
     "execution_count": 14,
     "metadata": {},
     "output_type": "execute_result"
    }
   ],
   "source": [
    "#performing exploratory analysis to determine what could be wrong.\n",
    "data['income_median_household'].mean()\n",
    "\n",
    "#it is clear that there are negative numbers in a column that should not contain any negative values.\n",
    "    #Let's identify which columns have this feature."
   ]
  },
  {
   "cell_type": "code",
   "execution_count": 15,
   "id": "c0e513e5",
   "metadata": {
    "scrolled": true
   },
   "outputs": [
    {
     "name": "stderr",
     "output_type": "stream",
     "text": [
      "/var/folders/v9/2tqxl6c10dx5ddj96lxyrw6w0000gn/T/ipykernel_31550/1956071327.py:6: SettingWithCopyWarning: \n",
      "A value is trying to be set on a copy of a slice from a DataFrame\n",
      "\n",
      "See the caveats in the documentation: https://pandas.pydata.org/pandas-docs/stable/user_guide/indexing.html#returning-a-view-versus-a-copy\n",
      "  data['income_median_household'].loc[data['income_median_household'] < 0] = pd.NA\n"
     ]
    }
   ],
   "source": [
    "data[data['income_median_household'] < 0]\n",
    "\n",
    "#it appears that there are quite a few columns where the median household income is negative.\n",
    "    #for now, let's convert these negative values to NA.\n",
    "    \n",
    "data['income_median_household'].loc[data['income_median_household'] < 0] = pd.NA\n",
    "#this appears to return a small error, but based on the next cell, it seems to work fine in practice.\n",
    "    #what can change in the future to avoid this issue?"
   ]
  },
  {
   "cell_type": "code",
   "execution_count": 105,
   "id": "f8475ae4",
   "metadata": {},
   "outputs": [
    {
     "data": {
      "text/plain": [
       "<Axes: >"
      ]
     },
     "execution_count": 105,
     "metadata": {},
     "output_type": "execute_result"
    },
    {
     "data": {
      "image/png": "[encoded data removed]",
      "text/plain": [
       "<Figure size 640x480 with 1 Axes>"
      ]
     },
     "metadata": {},
     "output_type": "display_data"
    }
   ],
   "source": [
    "#we rerun the box plot code.\n",
    "data['income_median_household'].plot(kind='box')"
   ]
  },
  {
   "cell_type": "code",
   "execution_count": 106,
   "id": "915844c6",
   "metadata": {},
   "outputs": [
    {
     "data": {
      "text/html": [
       "<div>\n",
       "<style scoped>\n",
       "    .dataframe tbody tr th:only-of-type {\n",
       "        vertical-align: middle;\n",
       "    }\n",
       "\n",
       "    .dataframe tbody tr th {\n",
       "        vertical-align: top;\n",
       "    }\n",
       "\n",
       "    .dataframe thead th {\n",
       "        text-align: right;\n",
       "    }\n",
       "</style>\n",
       "<table border=\"1\" class=\"dataframe\">\n",
       "  <thead>\n",
       "    <tr style=\"text-align: right;\">\n",
       "      <th></th>\n",
       "      <th>pop_total</th>\n",
       "      <th>pop_white</th>\n",
       "      <th>pop_black</th>\n",
       "      <th>pop_aian</th>\n",
       "      <th>pop_asian</th>\n",
       "      <th>pop_nhpi</th>\n",
       "      <th>pop_other_race</th>\n",
       "      <th>pop_two_plus_races</th>\n",
       "      <th>pop_hispanic_latino</th>\n",
       "      <th>income_median_household</th>\n",
       "      <th>state_code</th>\n",
       "      <th>zip_code</th>\n",
       "    </tr>\n",
       "  </thead>\n",
       "  <tbody>\n",
       "    <tr>\n",
       "      <th>91</th>\n",
       "      <td>11882</td>\n",
       "      <td>10113</td>\n",
       "      <td>101</td>\n",
       "      <td>0</td>\n",
       "      <td>1067</td>\n",
       "      <td>0</td>\n",
       "      <td>88</td>\n",
       "      <td>513</td>\n",
       "      <td>1186</td>\n",
       "      <td>154583.0</td>\n",
       "      <td>06</td>\n",
       "      <td>90402</td>\n",
       "    </tr>\n",
       "    <tr>\n",
       "      <th>128</th>\n",
       "      <td>25061</td>\n",
       "      <td>17259</td>\n",
       "      <td>259</td>\n",
       "      <td>8</td>\n",
       "      <td>6088</td>\n",
       "      <td>0</td>\n",
       "      <td>323</td>\n",
       "      <td>1124</td>\n",
       "      <td>2155</td>\n",
       "      <td>169919.0</td>\n",
       "      <td>06</td>\n",
       "      <td>90274</td>\n",
       "    </tr>\n",
       "    <tr>\n",
       "      <th>168</th>\n",
       "      <td>15292</td>\n",
       "      <td>13405</td>\n",
       "      <td>237</td>\n",
       "      <td>29</td>\n",
       "      <td>836</td>\n",
       "      <td>20</td>\n",
       "      <td>300</td>\n",
       "      <td>465</td>\n",
       "      <td>1306</td>\n",
       "      <td>174085.0</td>\n",
       "      <td>06</td>\n",
       "      <td>91436</td>\n",
       "    </tr>\n",
       "    <tr>\n",
       "      <th>509</th>\n",
       "      <td>4872</td>\n",
       "      <td>2236</td>\n",
       "      <td>61</td>\n",
       "      <td>0</td>\n",
       "      <td>2133</td>\n",
       "      <td>0</td>\n",
       "      <td>114</td>\n",
       "      <td>328</td>\n",
       "      <td>1010</td>\n",
       "      <td>151071.0</td>\n",
       "      <td>06</td>\n",
       "      <td>92823</td>\n",
       "    </tr>\n",
       "    <tr>\n",
       "      <th>625</th>\n",
       "      <td>21629</td>\n",
       "      <td>18972</td>\n",
       "      <td>86</td>\n",
       "      <td>20</td>\n",
       "      <td>1251</td>\n",
       "      <td>6</td>\n",
       "      <td>79</td>\n",
       "      <td>1215</td>\n",
       "      <td>1009</td>\n",
       "      <td>192500.0</td>\n",
       "      <td>06</td>\n",
       "      <td>90272</td>\n",
       "    </tr>\n",
       "    <tr>\n",
       "      <th>641</th>\n",
       "      <td>8382</td>\n",
       "      <td>6905</td>\n",
       "      <td>229</td>\n",
       "      <td>0</td>\n",
       "      <td>713</td>\n",
       "      <td>0</td>\n",
       "      <td>69</td>\n",
       "      <td>466</td>\n",
       "      <td>314</td>\n",
       "      <td>209531.0</td>\n",
       "      <td>06</td>\n",
       "      <td>90077</td>\n",
       "    </tr>\n",
       "    <tr>\n",
       "      <th>653</th>\n",
       "      <td>17954</td>\n",
       "      <td>15887</td>\n",
       "      <td>271</td>\n",
       "      <td>65</td>\n",
       "      <td>691</td>\n",
       "      <td>27</td>\n",
       "      <td>172</td>\n",
       "      <td>841</td>\n",
       "      <td>1743</td>\n",
       "      <td>152378.0</td>\n",
       "      <td>06</td>\n",
       "      <td>90265</td>\n",
       "    </tr>\n",
       "    <tr>\n",
       "      <th>654</th>\n",
       "      <td>35500</td>\n",
       "      <td>27766</td>\n",
       "      <td>191</td>\n",
       "      <td>79</td>\n",
       "      <td>4787</td>\n",
       "      <td>34</td>\n",
       "      <td>667</td>\n",
       "      <td>1976</td>\n",
       "      <td>2838</td>\n",
       "      <td>153023.0</td>\n",
       "      <td>06</td>\n",
       "      <td>90266</td>\n",
       "    </tr>\n",
       "    <tr>\n",
       "      <th>1072</th>\n",
       "      <td>20301</td>\n",
       "      <td>12249</td>\n",
       "      <td>154</td>\n",
       "      <td>0</td>\n",
       "      <td>6317</td>\n",
       "      <td>0</td>\n",
       "      <td>374</td>\n",
       "      <td>1207</td>\n",
       "      <td>2029</td>\n",
       "      <td>175652.0</td>\n",
       "      <td>06</td>\n",
       "      <td>91011</td>\n",
       "    </tr>\n",
       "    <tr>\n",
       "      <th>1207</th>\n",
       "      <td>13375</td>\n",
       "      <td>4338</td>\n",
       "      <td>246</td>\n",
       "      <td>0</td>\n",
       "      <td>7979</td>\n",
       "      <td>27</td>\n",
       "      <td>379</td>\n",
       "      <td>406</td>\n",
       "      <td>839</td>\n",
       "      <td>165765.0</td>\n",
       "      <td>06</td>\n",
       "      <td>91108</td>\n",
       "    </tr>\n",
       "    <tr>\n",
       "      <th>1364</th>\n",
       "      <td>9827</td>\n",
       "      <td>5497</td>\n",
       "      <td>949</td>\n",
       "      <td>0</td>\n",
       "      <td>2553</td>\n",
       "      <td>0</td>\n",
       "      <td>318</td>\n",
       "      <td>510</td>\n",
       "      <td>1215</td>\n",
       "      <td>155417.0</td>\n",
       "      <td>06</td>\n",
       "      <td>90094</td>\n",
       "    </tr>\n",
       "  </tbody>\n",
       "</table>\n",
       "</div>"
      ],
      "text/plain": [
       "     pop_total pop_white pop_black pop_aian pop_asian pop_nhpi pop_other_race   \n",
       "91       11882     10113       101        0      1067        0             88  \\\n",
       "128      25061     17259       259        8      6088        0            323   \n",
       "168      15292     13405       237       29       836       20            300   \n",
       "509       4872      2236        61        0      2133        0            114   \n",
       "625      21629     18972        86       20      1251        6             79   \n",
       "641       8382      6905       229        0       713        0             69   \n",
       "653      17954     15887       271       65       691       27            172   \n",
       "654      35500     27766       191       79      4787       34            667   \n",
       "1072     20301     12249       154        0      6317        0            374   \n",
       "1207     13375      4338       246        0      7979       27            379   \n",
       "1364      9827      5497       949        0      2553        0            318   \n",
       "\n",
       "     pop_two_plus_races pop_hispanic_latino  income_median_household   \n",
       "91                  513                1186                 154583.0  \\\n",
       "128                1124                2155                 169919.0   \n",
       "168                 465                1306                 174085.0   \n",
       "509                 328                1010                 151071.0   \n",
       "625                1215                1009                 192500.0   \n",
       "641                 466                 314                 209531.0   \n",
       "653                 841                1743                 152378.0   \n",
       "654                1976                2838                 153023.0   \n",
       "1072               1207                2029                 175652.0   \n",
       "1207                406                 839                 165765.0   \n",
       "1364                510                1215                 155417.0   \n",
       "\n",
       "     state_code  zip_code  \n",
       "91           06     90402  \n",
       "128          06     90274  \n",
       "168          06     91436  \n",
       "509          06     92823  \n",
       "625          06     90272  \n",
       "641          06     90077  \n",
       "653          06     90265  \n",
       "654          06     90266  \n",
       "1072         06     91011  \n",
       "1207         06     91108  \n",
       "1364         06     90094  "
      ]
     },
     "execution_count": 106,
     "metadata": {},
     "output_type": "execute_result"
    }
   ],
   "source": [
    "#Looks great! There appears to be significant variation in income throughout the county.\n",
    "#Let's look at the outliers some more.\n",
    "\n",
    "data[data['income_median_household'] > 150000]"
   ]
  },
  {
   "cell_type": "code",
   "execution_count": 108,
   "id": "767104b5",
   "metadata": {},
   "outputs": [
    {
     "data": {
      "text/html": [
       "<div>\n",
       "<style scoped>\n",
       "    .dataframe tbody tr th:only-of-type {\n",
       "        vertical-align: middle;\n",
       "    }\n",
       "\n",
       "    .dataframe tbody tr th {\n",
       "        vertical-align: top;\n",
       "    }\n",
       "\n",
       "    .dataframe thead th {\n",
       "        text-align: right;\n",
       "    }\n",
       "</style>\n",
       "<table border=\"1\" class=\"dataframe\">\n",
       "  <thead>\n",
       "    <tr style=\"text-align: right;\">\n",
       "      <th></th>\n",
       "      <th>pop_total</th>\n",
       "      <th>pop_white</th>\n",
       "      <th>pop_black</th>\n",
       "      <th>pop_aian</th>\n",
       "      <th>pop_asian</th>\n",
       "      <th>pop_nhpi</th>\n",
       "      <th>pop_other_race</th>\n",
       "      <th>pop_two_plus_races</th>\n",
       "      <th>pop_hispanic_latino</th>\n",
       "      <th>income_median_household</th>\n",
       "      <th>state_code</th>\n",
       "      <th>zip_code</th>\n",
       "    </tr>\n",
       "  </thead>\n",
       "  <tbody>\n",
       "    <tr>\n",
       "      <th>632</th>\n",
       "      <td>42433</td>\n",
       "      <td>15623</td>\n",
       "      <td>4548</td>\n",
       "      <td>289</td>\n",
       "      <td>8277</td>\n",
       "      <td>66</td>\n",
       "      <td>12071</td>\n",
       "      <td>1559</td>\n",
       "      <td>21672</td>\n",
       "      <td>27406.0</td>\n",
       "      <td>06</td>\n",
       "      <td>90007</td>\n",
       "    </tr>\n",
       "  </tbody>\n",
       "</table>\n",
       "</div>"
      ],
      "text/plain": [
       "    pop_total pop_white pop_black pop_aian pop_asian pop_nhpi pop_other_race   \n",
       "632     42433     15623      4548      289      8277       66          12071  \\\n",
       "\n",
       "    pop_two_plus_races pop_hispanic_latino  income_median_household   \n",
       "632               1559               21672                  27406.0  \\\n",
       "\n",
       "    state_code  zip_code  \n",
       "632         06     90007  "
      ]
     },
     "execution_count": 108,
     "metadata": {},
     "output_type": "execute_result"
    }
   ],
   "source": [
    "#we can also look at the ZIP code encompassing most of Westwood.\n",
    "data[data['zip_code'] == 90007]"
   ]
  },
  {
   "attachments": {},
   "cell_type": "markdown",
   "id": "a9ec217b",
   "metadata": {},
   "source": [
    "## Remaining Questions\n",
    "\n",
    "- How are we going to merge locality data across the U.S. Census and AQS API? By ZIP code, for instance? This will be a very important consideration and may cause us to change our research question depending on data availability.\n",
    "- How are we going to obtain time series data for Census data? One easy, though possibly inefficient, way is to run a `for` loop where we change the year in the Census query url.\n",
    "- Is ACS5 the best dataset to use? My understanding is that ACS5 gives 5-year estimates of the variables included. We will need to decide if this is what we really want.\n",
    "- If we use the ACS, no matter the year range of the estimates, the historical data ends in the early 2000s. Will we want to dig back for more data from other sources?\n",
    "- There appears to be significant issues with obtaining air quality data from small localities. Will we have to change our initial question? For example, should we explore the idea of looking a county-level air quality data across the United States?"
   ]
  },
  {
   "attachments": {},
   "cell_type": "markdown",
   "id": "1b2e94c9",
   "metadata": {},
   "source": [
    "## Wrapping Current Work in Function"
   ]
  },
  {
   "cell_type": "code",
   "execution_count": 31,
   "id": "abf02aea",
   "metadata": {},
   "outputs": [],
   "source": [
    "def query_acs5(year):\n",
    "    \n",
    "    '''\n",
    "    Query 5-year ACS racial/ethnic and median income data for all zip codes in LA county between 2011 and 2019.\n",
    "    \n",
    "    Args:\n",
    "        year: year for which we want to gether data.\n",
    "        \n",
    "    Returns:\n",
    "        a pandas dataframe with the desired data\n",
    "    '''\n",
    "    \n",
    "    zip_codes_df = pd.read_csv('la_county_zip_codes.csv')\n",
    "    zip_codes_df\n",
    "    \n",
    "    zip_codes = zip_codes_df[\"ZIP\"]\n",
    "    \n",
    "    zip_codes = zip_codes.tolist()\n",
    "\n",
    "    #querying in the data from the U.S. Census again\n",
    "    data = pd.read_json(f\"https://api.census.gov/data/{year}/acs/acs5?get=B01003_001E,B02001_002E,B02001_003E,B02001_004E,B02001_005E,B02001_006E,B02001_007E,B02001_008E,B03001_003E,B19013_001E&for=zip%20code%20tabulation%20area:*&in=state:06\")\n",
    "\n",
    "    #replacing the column titles with the first row\n",
    "    data.columns = data.iloc[0]\n",
    "\n",
    "    #cleaning up the data\n",
    "    data = data.drop([0])\n",
    "    data[\"zip code tabulation area\"] = data[\"zip code tabulation area\"].astype(int)\n",
    "\n",
    "    data = data[data[\"zip code tabulation area\"].isin(zip_codes)]\n",
    "    data.columns = [\"pop_total\", \"pop_white\", \"pop_black\",\"pop_aian\", \"pop_asian\", \"pop_nhpi\", \"pop_other_race\", \"pop_two_plus_races\",\"pop_hispanic_latino\", \"income_median_household\", \"state_code\", \"zip_code\"]\n",
    "    \n",
    "    return data"
   ]
  },
  {
   "cell_type": "code",
   "execution_count": 32,
   "id": "354379ed",
   "metadata": {},
   "outputs": [
    {
     "data": {
      "text/html": [
       "<div>\n",
       "<style scoped>\n",
       "    .dataframe tbody tr th:only-of-type {\n",
       "        vertical-align: middle;\n",
       "    }\n",
       "\n",
       "    .dataframe tbody tr th {\n",
       "        vertical-align: top;\n",
       "    }\n",
       "\n",
       "    .dataframe thead th {\n",
       "        text-align: right;\n",
       "    }\n",
       "</style>\n",
       "<table border=\"1\" class=\"dataframe\">\n",
       "  <thead>\n",
       "    <tr style=\"text-align: right;\">\n",
       "      <th></th>\n",
       "      <th>pop_total</th>\n",
       "      <th>pop_white</th>\n",
       "      <th>pop_black</th>\n",
       "      <th>pop_aian</th>\n",
       "      <th>pop_asian</th>\n",
       "      <th>pop_nhpi</th>\n",
       "      <th>pop_other_race</th>\n",
       "      <th>pop_two_plus_races</th>\n",
       "      <th>pop_hispanic_latino</th>\n",
       "      <th>income_median_household</th>\n",
       "      <th>state_code</th>\n",
       "      <th>zip_code</th>\n",
       "    </tr>\n",
       "  </thead>\n",
       "  <tbody>\n",
       "    <tr>\n",
       "      <th>1</th>\n",
       "      <td>77877</td>\n",
       "      <td>28944</td>\n",
       "      <td>1308</td>\n",
       "      <td>744</td>\n",
       "      <td>13454</td>\n",
       "      <td>227</td>\n",
       "      <td>31517</td>\n",
       "      <td>1683</td>\n",
       "      <td>59336</td>\n",
       "      <td>51706</td>\n",
       "      <td>06</td>\n",
       "      <td>91706</td>\n",
       "    </tr>\n",
       "    <tr>\n",
       "      <th>2</th>\n",
       "      <td>84812</td>\n",
       "      <td>46375</td>\n",
       "      <td>4180</td>\n",
       "      <td>698</td>\n",
       "      <td>9404</td>\n",
       "      <td>177</td>\n",
       "      <td>17552</td>\n",
       "      <td>6426</td>\n",
       "      <td>46248</td>\n",
       "      <td>72620</td>\n",
       "      <td>06</td>\n",
       "      <td>91710</td>\n",
       "    </tr>\n",
       "    <tr>\n",
       "      <th>3</th>\n",
       "      <td>36651</td>\n",
       "      <td>25083</td>\n",
       "      <td>1569</td>\n",
       "      <td>234</td>\n",
       "      <td>5716</td>\n",
       "      <td>66</td>\n",
       "      <td>2389</td>\n",
       "      <td>1594</td>\n",
       "      <td>8206</td>\n",
       "      <td>89161</td>\n",
       "      <td>06</td>\n",
       "      <td>91711</td>\n",
       "    </tr>\n",
       "    <tr>\n",
       "      <th>10</th>\n",
       "      <td>37163</td>\n",
       "      <td>20485</td>\n",
       "      <td>9649</td>\n",
       "      <td>134</td>\n",
       "      <td>1950</td>\n",
       "      <td>13</td>\n",
       "      <td>2987</td>\n",
       "      <td>1945</td>\n",
       "      <td>10913</td>\n",
       "      <td>86310</td>\n",
       "      <td>06</td>\n",
       "      <td>91001</td>\n",
       "    </tr>\n",
       "    <tr>\n",
       "      <th>171</th>\n",
       "      <td>1145</td>\n",
       "      <td>868</td>\n",
       "      <td>18</td>\n",
       "      <td>0</td>\n",
       "      <td>0</td>\n",
       "      <td>0</td>\n",
       "      <td>147</td>\n",
       "      <td>112</td>\n",
       "      <td>145</td>\n",
       "      <td>56205</td>\n",
       "      <td>06</td>\n",
       "      <td>93544</td>\n",
       "    </tr>\n",
       "    <tr>\n",
       "      <th>...</th>\n",
       "      <td>...</td>\n",
       "      <td>...</td>\n",
       "      <td>...</td>\n",
       "      <td>...</td>\n",
       "      <td>...</td>\n",
       "      <td>...</td>\n",
       "      <td>...</td>\n",
       "      <td>...</td>\n",
       "      <td>...</td>\n",
       "      <td>...</td>\n",
       "      <td>...</td>\n",
       "      <td>...</td>\n",
       "    </tr>\n",
       "    <tr>\n",
       "      <th>1739</th>\n",
       "      <td>43805</td>\n",
       "      <td>11451</td>\n",
       "      <td>1111</td>\n",
       "      <td>131</td>\n",
       "      <td>26716</td>\n",
       "      <td>96</td>\n",
       "      <td>2823</td>\n",
       "      <td>1477</td>\n",
       "      <td>8973</td>\n",
       "      <td>93301</td>\n",
       "      <td>06</td>\n",
       "      <td>91789</td>\n",
       "    </tr>\n",
       "    <tr>\n",
       "      <th>1740</th>\n",
       "      <td>33247</td>\n",
       "      <td>14772</td>\n",
       "      <td>1530</td>\n",
       "      <td>178</td>\n",
       "      <td>8147</td>\n",
       "      <td>64</td>\n",
       "      <td>7117</td>\n",
       "      <td>1439</td>\n",
       "      <td>17222</td>\n",
       "      <td>71528</td>\n",
       "      <td>06</td>\n",
       "      <td>91791</td>\n",
       "    </tr>\n",
       "    <tr>\n",
       "      <th>1742</th>\n",
       "      <td>19969</td>\n",
       "      <td>16388</td>\n",
       "      <td>379</td>\n",
       "      <td>41</td>\n",
       "      <td>1814</td>\n",
       "      <td>0</td>\n",
       "      <td>710</td>\n",
       "      <td>637</td>\n",
       "      <td>5126</td>\n",
       "      <td>71411</td>\n",
       "      <td>06</td>\n",
       "      <td>91040</td>\n",
       "    </tr>\n",
       "    <tr>\n",
       "      <th>1743</th>\n",
       "      <td>47543</td>\n",
       "      <td>36770</td>\n",
       "      <td>814</td>\n",
       "      <td>307</td>\n",
       "      <td>3494</td>\n",
       "      <td>28</td>\n",
       "      <td>5072</td>\n",
       "      <td>1058</td>\n",
       "      <td>33541</td>\n",
       "      <td>51154</td>\n",
       "      <td>06</td>\n",
       "      <td>91352</td>\n",
       "    </tr>\n",
       "    <tr>\n",
       "      <th>1744</th>\n",
       "      <td>20936</td>\n",
       "      <td>12113</td>\n",
       "      <td>1612</td>\n",
       "      <td>65</td>\n",
       "      <td>4892</td>\n",
       "      <td>15</td>\n",
       "      <td>1323</td>\n",
       "      <td>916</td>\n",
       "      <td>5655</td>\n",
       "      <td>61180</td>\n",
       "      <td>06</td>\n",
       "      <td>91101</td>\n",
       "    </tr>\n",
       "  </tbody>\n",
       "</table>\n",
       "<p>300 rows × 12 columns</p>\n",
       "</div>"
      ],
      "text/plain": [
       "     pop_total pop_white pop_black pop_aian pop_asian pop_nhpi pop_other_race   \n",
       "1        77877     28944      1308      744     13454      227          31517  \\\n",
       "2        84812     46375      4180      698      9404      177          17552   \n",
       "3        36651     25083      1569      234      5716       66           2389   \n",
       "10       37163     20485      9649      134      1950       13           2987   \n",
       "171       1145       868        18        0         0        0            147   \n",
       "...        ...       ...       ...      ...       ...      ...            ...   \n",
       "1739     43805     11451      1111      131     26716       96           2823   \n",
       "1740     33247     14772      1530      178      8147       64           7117   \n",
       "1742     19969     16388       379       41      1814        0            710   \n",
       "1743     47543     36770       814      307      3494       28           5072   \n",
       "1744     20936     12113      1612       65      4892       15           1323   \n",
       "\n",
       "     pop_two_plus_races pop_hispanic_latino income_median_household   \n",
       "1                  1683               59336                   51706  \\\n",
       "2                  6426               46248                   72620   \n",
       "3                  1594                8206                   89161   \n",
       "10                 1945               10913                   86310   \n",
       "171                 112                 145                   56205   \n",
       "...                 ...                 ...                     ...   \n",
       "1739               1477                8973                   93301   \n",
       "1740               1439               17222                   71528   \n",
       "1742                637                5126                   71411   \n",
       "1743               1058               33541                   51154   \n",
       "1744                916                5655                   61180   \n",
       "\n",
       "     state_code  zip_code  \n",
       "1            06     91706  \n",
       "2            06     91710  \n",
       "3            06     91711  \n",
       "10           06     91001  \n",
       "171          06     93544  \n",
       "...         ...       ...  \n",
       "1739         06     91789  \n",
       "1740         06     91791  \n",
       "1742         06     91040  \n",
       "1743         06     91352  \n",
       "1744         06     91101  \n",
       "\n",
       "[300 rows x 12 columns]"
      ]
     },
     "execution_count": 32,
     "metadata": {},
     "output_type": "execute_result"
    }
   ],
   "source": [
    "#testing query\n",
    "query_acs5(2015)"
   ]
  },
  {
   "attachments": {},
   "cell_type": "markdown",
   "id": "9df5fdc0",
   "metadata": {},
   "source": [
    "## For the Air Quality measures\n",
    "- We've tested multiple APIs, and we think **US official EPA AQS** and **Airnow** database fit better with our research questions.\n",
    "- Still, Air quality data is NOT evenly distributed in either time or geographic locations; We'll need to figure out a way to integrate census and air quality measures."
   ]
  },
  {
   "attachments": {},
   "cell_type": "markdown",
   "id": "d4389f7c",
   "metadata": {},
   "source": [
    "- Data query is achieved through pull request. For clearity, I'm not showing the entire process of the obtaining the data. I'll use one *time slice* to demonstrate the complexity of air quality measures."
   ]
  },
  {
   "cell_type": "code",
   "execution_count": 1,
   "id": "4ef0d6ed",
   "metadata": {},
   "outputs": [
    {
     "name": "stderr",
     "output_type": "stream",
     "text": [
      "C:\\Users\\Public\\Documents\\Wondershare\\CreatorTemp\\ipykernel_1272\\438880310.py:3: DtypeWarning: Columns (21) have mixed types. Specify dtype option on import or set low_memory=False.\n",
      "  df = pd.read_csv(\"Air_quality_query/CA_2010_PM2.5.csv\")\n"
     ]
    },
    {
     "data": {
      "text/plain": [
       "(240999, 29)"
      ]
     },
     "execution_count": 1,
     "metadata": {},
     "output_type": "execute_result"
    }
   ],
   "source": [
    "import pandas as pd\n",
    "\n",
    "df = pd.read_csv(\"Air_quality_query/CA_2010_PM2.5.csv\") \n",
    "\n",
    "## this is one year of data on only one pollutant (PM2.5) for state of California\n",
    "\n",
    "df.shape ## (240999, 29) \n",
    "\n"
   ]
  },
  {
   "cell_type": "code",
   "execution_count": 2,
   "id": "3863b88d",
   "metadata": {},
   "outputs": [
    {
     "data": {
      "text/plain": [
       "Index(['state_code', 'county_code', 'site_number', 'parameter_code', 'poc',\n",
       "       'latitude', 'longitude', 'datum', 'parameter', 'date_local',\n",
       "       'time_local', 'date_gmt', 'time_gmt', 'sample_measurement',\n",
       "       'units_of_measure', 'units_of_measure_code', 'sample_duration',\n",
       "       'sample_duration_code', 'sample_frequency', 'detection_limit',\n",
       "       'uncertainty', 'qualifier', 'method_type', 'method', 'method_code',\n",
       "       'state', 'county', 'date_of_last_change', 'cbsa_code'],\n",
       "      dtype='object')"
      ]
     },
     "execution_count": 2,
     "metadata": {},
     "output_type": "execute_result"
    }
   ],
   "source": [
    "## display what columns we have\n",
    "df.columns"
   ]
  },
  {
   "attachments": {},
   "cell_type": "markdown",
   "id": "997a38a8",
   "metadata": {},
   "source": [
    "To show case the visualization, we can display all the avaliable measures at a given time ~~"
   ]
  },
  {
   "cell_type": "code",
   "execution_count": 3,
   "id": "7aaebd22",
   "metadata": {},
   "outputs": [
    {
     "data": {
      "application/vnd.plotly.v1+json": {
       "config": {
        "plotlyServerURL": "https://plot.ly"
       },
       "data": [
        {
         "customdata": [
          [
           8,
           1001
          ],
          [
           -0.2,
           1003
          ],
          [
           2,
           2009
          ],
          [
           5.5,
           1002
          ],
          [
           8.5,
           1004
          ],
          [
           6.1,
           2
          ],
          [
           4.5,
           1
          ],
          [
           1.5,
           3001
          ],
          [
           3.5,
           1003
          ],
          [
           1,
           5
          ],
          [
           4.8,
           6
          ],
          [
           4,
           2006
          ],
          [
           4.5,
           8001
          ],
          [
           4,
           1008
          ],
          [
           4.2,
           8001
          ],
          [
           3,
           4
          ],
          [
           2,
           9033
          ],
          [
           2,
           306
          ],
          [
           2,
           306
          ],
          [
           7,
           3004
          ],
          [
           1,
           3005
          ],
          [
           10,
           9
          ],
          [
           1,
           5001
          ],
          [
           6,
           1
          ],
          [
           2,
           4
          ],
          [
           3,
           3
          ],
          [
           0,
           1201
          ],
          [
           6,
           6
          ],
          [
           5,
           2002
          ],
          [
           4,
           1008
          ],
          [
           11,
           1003
          ],
          [
           5,
           5
          ],
          [
           16,
           8001
          ],
          [
           0,
           2
          ],
          [
           4,
           2004
          ],
          [
           6,
           1001
          ],
          [
           3,
           7
          ],
          [
           9,
           2
          ],
          [
           30,
           3
          ],
          [
           9,
           6
          ],
          [
           null,
           8001
          ],
          [
           4.5,
           4
          ],
          [
           6.6,
           5025
          ],
          [
           5.4,
           1103
          ],
          [
           10.3,
           2510
          ],
          [
           3,
           2002
          ],
          [
           6.9,
           8001
          ],
          [
           6.5,
           4004
          ],
          [
           7.6,
           1002
          ],
          [
           6.7,
           4002
          ],
          [
           5.8,
           7
          ],
          [
           5.4,
           1103
          ],
          [
           7,
           8005
          ],
          [
           6.3,
           8001
          ],
          [
           null,
           1003
          ],
          [
           2.8,
           2
          ],
          [
           4.3,
           1201
          ],
          [
           12.3,
           1302
          ],
          [
           6.8,
           1602
          ],
          [
           5.6,
           2005
          ],
          [
           5.7,
           9004
          ],
          [
           3.5,
           2002
          ],
          [
           6.6,
           2002
          ],
          [
           6.9,
           25
          ],
          [
           4.6,
           2022
          ],
          [
           2.4,
           5001
          ],
          [
           7.4,
           8
          ],
          [
           7,
           1010
          ],
          [
           null,
           1
          ],
          [
           12.9,
           7
          ],
          [
           null,
           9
          ],
          [
           2.2,
           1003
          ],
          [
           4.2,
           5
          ],
          [
           1,
           1003
          ],
          [
           5.1,
           6
          ],
          [
           5.8,
           10
          ],
          [
           8.5,
           1002
          ],
          [
           6.1,
           1001
          ],
          [
           12.2,
           1009
          ],
          [
           3.8,
           1006
          ],
          [
           3.6,
           1002
          ],
          [
           8.4,
           3
          ],
          [
           9,
           5
          ],
          [
           9.3,
           2002
          ],
          [
           3.3,
           3001
          ],
          [
           3.7,
           2002
          ],
          [
           5.1,
           7
          ],
          [
           4.1,
           1002
          ],
          [
           null,
           5
          ],
          [
           7.6,
           8
          ],
          [
           4.2,
           11
          ],
          [
           0.4,
           15
          ],
          [
           6.3,
           1001
          ],
          [
           5.2,
           7
          ],
          [
           2.8,
           1003
          ],
          [
           49.1,
           14
          ],
          [
           null,
           16
          ],
          [
           5.8,
           4001
          ],
          [
           9,
           6
          ],
          [
           4.8,
           7
          ],
          [
           3.4,
           2
          ],
          [
           5.4,
           5
          ],
          [
           3,
           4
          ],
          [
           5.3,
           14
          ]
         ],
         "hovertemplate": "latitude=%{lat}<br>longitude=%{lon}<br>sample_measurement=%{customdata[0]}<br>site_number=%{customdata[1]}<extra></extra>",
         "lat": [
          37.535833,
          36.487823,
          36.634225,
          40.80178,
          40.77678,
          39.757371,
          38.20185,
          39.0327,
          36.694261,
          39.233477,
          38.74643,
          35.25651,
          35.49158,
          34.942872,
          35.49158,
          40.55013,
          34.669739,
          34.510961,
          34.510961,
          40.6304,
          40.69184,
          37.743065,
          36.819449,
          37.97231,
          36.102244,
          37.281853,
          33.362593,
          39.15047,
          39.41174,
          33.217055,
          36.694261,
          37.765946,
          35.49158,
          36.843425,
          35.02083,
          37.482934,
          36.98332,
          36.999571,
          38.443503,
          37.488317,
          34.26464,
          36.102244,
          36.72639,
          34.06659,
          37.30832,
          33.70853,
          33.99958,
          33.79236,
          34.17605,
          33.82376,
          33.83062,
          34.06659,
          33.99636,
          33.99958,
          33.94603,
          34.1365,
          34.19925,
          33.901389,
          34.01029,
          34.1326,
          34.106678,
          33.70853,
          34.10002,
          34.037234,
          33.63003,
          33.85275,
          36.781333,
          32.701492,
          32.631242,
          32.97833,
          34.404281,
          32.79222,
          32.67618,
          36.487823,
          32.836461,
          38.56844,
          33.127769,
          39.32783,
          39.808333,
          39.939567,
          37.950741,
          32.791194,
          37.642165,
          36.332179,
          34.25239,
          34.276316,
          34.210169,
          39.18919,
          32.67618,
          36.781333,
          35.050551,
          35.62109,
          39.32783,
          34.210169,
          38.66121,
          35.356615,
          35.324636,
          38.556326,
          38.613779,
          37.687526,
          37.936013,
          37.348497,
          38.102507,
          35.356615
         ],
         "legendgroup": "",
         "lon": [
          -121.961823,
          -117.871036,
          -120.382331,
          -124.1621,
          -124.17949,
          -121.843286,
          -120.680277,
          -122.92229,
          -121.623271,
          -121.055608,
          -121.26498,
          -120.6693,
          -120.66804,
          -120.435611,
          -120.66804,
          -122.38092,
          -118.130511,
          -117.32554,
          -117.32554,
          -122.4031,
          -122.40179,
          -122.169935,
          -119.716433,
          -122.520004,
          -119.56565,
          -120.433671,
          -117.09023,
          -123.20655,
          -123.35264,
          -117.396177,
          -121.623271,
          -122.399044,
          -120.66804,
          -121.3621,
          -120.56388,
          -122.20337,
          -121.98822,
          -121.574684,
          -122.710169,
          -120.836008,
          -116.86147,
          -119.56565,
          -119.733,
          -118.22688,
          -120.480456,
          -116.21537,
          -117.41601,
          -118.17533,
          -118.31712,
          -118.18921,
          -117.93845,
          -118.22688,
          -117.4924,
          -117.41601,
          -117.40063,
          -117.92391,
          -118.53276,
          -118.205,
          -118.0685,
          -118.1272,
          -117.274063,
          -116.21537,
          -117.49201,
          -117.690889,
          -117.67593,
          -116.54101,
          -119.77319,
          -117.149653,
          -117.059088,
          -115.53917,
          -118.80998,
          -115.56306,
          -115.48307,
          -117.871036,
          -117.128752,
          -121.49311,
          -117.075086,
          -120.184592,
          -120.471667,
          -120.944376,
          -121.268523,
          -116.942092,
          -120.994212,
          -119.291228,
          -119.143182,
          -118.683685,
          -118.870509,
          -121.99887,
          -115.48307,
          -119.77319,
          -118.147294,
          -117.67296,
          -120.184592,
          -118.870509,
          -121.73269,
          -119.062613,
          -118.997627,
          -121.458499,
          -121.368014,
          -121.784217,
          -122.026154,
          -121.894898,
          -122.237976,
          -119.062613
         ],
         "marker": {
          "color": "fuchsia"
         },
         "mode": "markers",
         "name": "",
         "showlegend": false,
         "subplot": "mapbox",
         "type": "scattermapbox"
        }
       ],
       "layout": {
        "height": 300,
        "legend": {
         "tracegroupgap": 0
        },
        "mapbox": {
         "center": {
          "lat": 36.065990442307694,
          "lon": -119.60222610576923
         },
         "domain": {
          "x": [
           0,
           1
          ],
          "y": [
           0,
           1
          ]
         },
         "style": "carto-positron",
         "zoom": 10
        },
        "margin": {
         "b": 0,
         "l": 0,
         "r": 0,
         "t": 0
        },
        "template": {
         "data": {
          "bar": [
           {
            "error_x": {
             "color": "#2a3f5f"
            },
            "error_y": {
             "color": "#2a3f5f"
            },
            "marker": {
             "line": {
              "color": "#E5ECF6",
              "width": 0.5
             },
             "pattern": {
              "fillmode": "overlay",
              "size": 10,
              "solidity": 0.2
             }
            },
            "type": "bar"
           }
          ],
          "barpolar": [
           {
            "marker": {
             "line": {
              "color": "#E5ECF6",
              "width": 0.5
             },
             "pattern": {
              "fillmode": "overlay",
              "size": 10,
              "solidity": 0.2
             }
            },
            "type": "barpolar"
           }
          ],
          "carpet": [
           {
            "aaxis": {
             "endlinecolor": "#2a3f5f",
             "gridcolor": "white",
             "linecolor": "white",
             "minorgridcolor": "white",
             "startlinecolor": "#2a3f5f"
            },
            "baxis": {
             "endlinecolor": "#2a3f5f",
             "gridcolor": "white",
             "linecolor": "white",
             "minorgridcolor": "white",
             "startlinecolor": "#2a3f5f"
            },
            "type": "carpet"
           }
          ],
          "choropleth": [
           {
            "colorbar": {
             "outlinewidth": 0,
             "ticks": ""
            },
            "type": "choropleth"
           }
          ],
          "contour": [
           {
            "colorbar": {
             "outlinewidth": 0,
             "ticks": ""
            },
            "colorscale": [
             [
              0,
              "#0d0887"
             ],
             [
              0.1111111111111111,
              "#46039f"
             ],
             [
              0.2222222222222222,
              "#7201a8"
             ],
             [
              0.3333333333333333,
              "#9c179e"
             ],
             [
              0.4444444444444444,
              "#bd3786"
             ],
             [
              0.5555555555555556,
              "#d8576b"
             ],
             [
              0.6666666666666666,
              "#ed7953"
             ],
             [
              0.7777777777777778,
              "#fb9f3a"
             ],
             [
              0.8888888888888888,
              "#fdca26"
             ],
             [
              1,
              "#f0f921"
             ]
            ],
            "type": "contour"
           }
          ],
          "contourcarpet": [
           {
            "colorbar": {
             "outlinewidth": 0,
             "ticks": ""
            },
            "type": "contourcarpet"
           }
          ],
          "heatmap": [
           {
            "colorbar": {
             "outlinewidth": 0,
             "ticks": ""
            },
            "colorscale": [
             [
              0,
              "#0d0887"
             ],
             [
              0.1111111111111111,
              "#46039f"
             ],
             [
              0.2222222222222222,
              "#7201a8"
             ],
             [
              0.3333333333333333,
              "#9c179e"
             ],
             [
              0.4444444444444444,
              "#bd3786"
             ],
             [
              0.5555555555555556,
              "#d8576b"
             ],
             [
              0.6666666666666666,
              "#ed7953"
             ],
             [
              0.7777777777777778,
              "#fb9f3a"
             ],
             [
              0.8888888888888888,
              "#fdca26"
             ],
             [
              1,
              "#f0f921"
             ]
            ],
            "type": "heatmap"
           }
          ],
          "heatmapgl": [
           {
            "colorbar": {
             "outlinewidth": 0,
             "ticks": ""
            },
            "colorscale": [
             [
              0,
              "#0d0887"
             ],
             [
              0.1111111111111111,
              "#46039f"
             ],
             [
              0.2222222222222222,
              "#7201a8"
             ],
             [
              0.3333333333333333,
              "#9c179e"
             ],
             [
              0.4444444444444444,
              "#bd3786"
             ],
             [
              0.5555555555555556,
              "#d8576b"
             ],
             [
              0.6666666666666666,
              "#ed7953"
             ],
             [
              0.7777777777777778,
              "#fb9f3a"
             ],
             [
              0.8888888888888888,
              "#fdca26"
             ],
             [
              1,
              "#f0f921"
             ]
            ],
            "type": "heatmapgl"
           }
          ],
          "histogram": [
           {
            "marker": {
             "pattern": {
              "fillmode": "overlay",
              "size": 10,
              "solidity": 0.2
             }
            },
            "type": "histogram"
           }
          ],
          "histogram2d": [
           {
            "colorbar": {
             "outlinewidth": 0,
             "ticks": ""
            },
            "colorscale": [
             [
              0,
              "#0d0887"
             ],
             [
              0.1111111111111111,
              "#46039f"
             ],
             [
              0.2222222222222222,
              "#7201a8"
             ],
             [
              0.3333333333333333,
              "#9c179e"
             ],
             [
              0.4444444444444444,
              "#bd3786"
             ],
             [
              0.5555555555555556,
              "#d8576b"
             ],
             [
              0.6666666666666666,
              "#ed7953"
             ],
             [
              0.7777777777777778,
              "#fb9f3a"
             ],
             [
              0.8888888888888888,
              "#fdca26"
             ],
             [
              1,
              "#f0f921"
             ]
            ],
            "type": "histogram2d"
           }
          ],
          "histogram2dcontour": [
           {
            "colorbar": {
             "outlinewidth": 0,
             "ticks": ""
            },
            "colorscale": [
             [
              0,
              "#0d0887"
             ],
             [
              0.1111111111111111,
              "#46039f"
             ],
             [
              0.2222222222222222,
              "#7201a8"
             ],
             [
              0.3333333333333333,
              "#9c179e"
             ],
             [
              0.4444444444444444,
              "#bd3786"
             ],
             [
              0.5555555555555556,
              "#d8576b"
             ],
             [
              0.6666666666666666,
              "#ed7953"
             ],
             [
              0.7777777777777778,
              "#fb9f3a"
             ],
             [
              0.8888888888888888,
              "#fdca26"
             ],
             [
              1,
              "#f0f921"
             ]
            ],
            "type": "histogram2dcontour"
           }
          ],
          "mesh3d": [
           {
            "colorbar": {
             "outlinewidth": 0,
             "ticks": ""
            },
            "type": "mesh3d"
           }
          ],
          "parcoords": [
           {
            "line": {
             "colorbar": {
              "outlinewidth": 0,
              "ticks": ""
             }
            },
            "type": "parcoords"
           }
          ],
          "pie": [
           {
            "automargin": true,
            "type": "pie"
           }
          ],
          "scatter": [
           {
            "fillpattern": {
             "fillmode": "overlay",
             "size": 10,
             "solidity": 0.2
            },
            "type": "scatter"
           }
          ],
          "scatter3d": [
           {
            "line": {
             "colorbar": {
              "outlinewidth": 0,
              "ticks": ""
             }
            },
            "marker": {
             "colorbar": {
              "outlinewidth": 0,
              "ticks": ""
             }
            },
            "type": "scatter3d"
           }
          ],
          "scattercarpet": [
           {
            "marker": {
             "colorbar": {
              "outlinewidth": 0,
              "ticks": ""
             }
            },
            "type": "scattercarpet"
           }
          ],
          "scattergeo": [
           {
            "marker": {
             "colorbar": {
              "outlinewidth": 0,
              "ticks": ""
             }
            },
            "type": "scattergeo"
           }
          ],
          "scattergl": [
           {
            "marker": {
             "colorbar": {
              "outlinewidth": 0,
              "ticks": ""
             }
            },
            "type": "scattergl"
           }
          ],
          "scattermapbox": [
           {
            "marker": {
             "colorbar": {
              "outlinewidth": 0,
              "ticks": ""
             }
            },
            "type": "scattermapbox"
           }
          ],
          "scatterpolar": [
           {
            "marker": {
             "colorbar": {
              "outlinewidth": 0,
              "ticks": ""
             }
            },
            "type": "scatterpolar"
           }
          ],
          "scatterpolargl": [
           {
            "marker": {
             "colorbar": {
              "outlinewidth": 0,
              "ticks": ""
             }
            },
            "type": "scatterpolargl"
           }
          ],
          "scatterternary": [
           {
            "marker": {
             "colorbar": {
              "outlinewidth": 0,
              "ticks": ""
             }
            },
            "type": "scatterternary"
           }
          ],
          "surface": [
           {
            "colorbar": {
             "outlinewidth": 0,
             "ticks": ""
            },
            "colorscale": [
             [
              0,
              "#0d0887"
             ],
             [
              0.1111111111111111,
              "#46039f"
             ],
             [
              0.2222222222222222,
              "#7201a8"
             ],
             [
              0.3333333333333333,
              "#9c179e"
             ],
             [
              0.4444444444444444,
              "#bd3786"
             ],
             [
              0.5555555555555556,
              "#d8576b"
             ],
             [
              0.6666666666666666,
              "#ed7953"
             ],
             [
              0.7777777777777778,
              "#fb9f3a"
             ],
             [
              0.8888888888888888,
              "#fdca26"
             ],
             [
              1,
              "#f0f921"
             ]
            ],
            "type": "surface"
           }
          ],
          "table": [
           {
            "cells": {
             "fill": {
              "color": "#EBF0F8"
             },
             "line": {
              "color": "white"
             }
            },
            "header": {
             "fill": {
              "color": "#C8D4E3"
             },
             "line": {
              "color": "white"
             }
            },
            "type": "table"
           }
          ]
         },
         "layout": {
          "annotationdefaults": {
           "arrowcolor": "#2a3f5f",
           "arrowhead": 0,
           "arrowwidth": 1
          },
          "autotypenumbers": "strict",
          "coloraxis": {
           "colorbar": {
            "outlinewidth": 0,
            "ticks": ""
           }
          },
          "colorscale": {
           "diverging": [
            [
             0,
             "#8e0152"
            ],
            [
             0.1,
             "#c51b7d"
            ],
            [
             0.2,
             "#de77ae"
            ],
            [
             0.3,
             "#f1b6da"
            ],
            [
             0.4,
             "#fde0ef"
            ],
            [
             0.5,
             "#f7f7f7"
            ],
            [
             0.6,
             "#e6f5d0"
            ],
            [
             0.7,
             "#b8e186"
            ],
            [
             0.8,
             "#7fbc41"
            ],
            [
             0.9,
             "#4d9221"
            ],
            [
             1,
             "#276419"
            ]
           ],
           "sequential": [
            [
             0,
             "#0d0887"
            ],
            [
             0.1111111111111111,
             "#46039f"
            ],
            [
             0.2222222222222222,
             "#7201a8"
            ],
            [
             0.3333333333333333,
             "#9c179e"
            ],
            [
             0.4444444444444444,
             "#bd3786"
            ],
            [
             0.5555555555555556,
             "#d8576b"
            ],
            [
             0.6666666666666666,
             "#ed7953"
            ],
            [
             0.7777777777777778,
             "#fb9f3a"
            ],
            [
             0.8888888888888888,
             "#fdca26"
            ],
            [
             1,
             "#f0f921"
            ]
           ],
           "sequentialminus": [
            [
             0,
             "#0d0887"
            ],
            [
             0.1111111111111111,
             "#46039f"
            ],
            [
             0.2222222222222222,
             "#7201a8"
            ],
            [
             0.3333333333333333,
             "#9c179e"
            ],
            [
             0.4444444444444444,
             "#bd3786"
            ],
            [
             0.5555555555555556,
             "#d8576b"
            ],
            [
             0.6666666666666666,
             "#ed7953"
            ],
            [
             0.7777777777777778,
             "#fb9f3a"
            ],
            [
             0.8888888888888888,
             "#fdca26"
            ],
            [
             1,
             "#f0f921"
            ]
           ]
          },
          "colorway": [
           "#636efa",
           "#EF553B",
           "#00cc96",
           "#ab63fa",
           "#FFA15A",
           "#19d3f3",
           "#FF6692",
           "#B6E880",
           "#FF97FF",
           "#FECB52"
          ],
          "font": {
           "color": "#2a3f5f"
          },
          "geo": {
           "bgcolor": "white",
           "lakecolor": "white",
           "landcolor": "#E5ECF6",
           "showlakes": true,
           "showland": true,
           "subunitcolor": "white"
          },
          "hoverlabel": {
           "align": "left"
          },
          "hovermode": "closest",
          "mapbox": {
           "style": "light"
          },
          "paper_bgcolor": "white",
          "plot_bgcolor": "#E5ECF6",
          "polar": {
           "angularaxis": {
            "gridcolor": "white",
            "linecolor": "white",
            "ticks": ""
           },
           "bgcolor": "#E5ECF6",
           "radialaxis": {
            "gridcolor": "white",
            "linecolor": "white",
            "ticks": ""
           }
          },
          "scene": {
           "xaxis": {
            "backgroundcolor": "#E5ECF6",
            "gridcolor": "white",
            "gridwidth": 2,
            "linecolor": "white",
            "showbackground": true,
            "ticks": "",
            "zerolinecolor": "white"
           },
           "yaxis": {
            "backgroundcolor": "#E5ECF6",
            "gridcolor": "white",
            "gridwidth": 2,
            "linecolor": "white",
            "showbackground": true,
            "ticks": "",
            "zerolinecolor": "white"
           },
           "zaxis": {
            "backgroundcolor": "#E5ECF6",
            "gridcolor": "white",
            "gridwidth": 2,
            "linecolor": "white",
            "showbackground": true,
            "ticks": "",
            "zerolinecolor": "white"
           }
          },
          "shapedefaults": {
           "line": {
            "color": "#2a3f5f"
           }
          },
          "ternary": {
           "aaxis": {
            "gridcolor": "white",
            "linecolor": "white",
            "ticks": ""
           },
           "baxis": {
            "gridcolor": "white",
            "linecolor": "white",
            "ticks": ""
           },
           "bgcolor": "#E5ECF6",
           "caxis": {
            "gridcolor": "white",
            "linecolor": "white",
            "ticks": ""
           }
          },
          "title": {
           "x": 0.05
          },
          "xaxis": {
           "automargin": true,
           "gridcolor": "white",
           "linecolor": "white",
           "ticks": "",
           "title": {
            "standoff": 15
           },
           "zerolinecolor": "white",
           "zerolinewidth": 2
          },
          "yaxis": {
           "automargin": true,
           "gridcolor": "white",
           "linecolor": "white",
           "ticks": "",
           "title": {
            "standoff": 15
           },
           "zerolinecolor": "white",
           "zerolinewidth": 2
          }
         }
        }
       }
      }
     },
     "metadata": {},
     "output_type": "display_data"
    }
   ],
   "source": [
    "sub_df = df.loc[df['date_gmt'] == '2010-02-07', ['time_gmt', 'latitude', 'longitude', 'sample_measurement', 'date_local', 'site_number']]\n",
    "sub_df = sub_df.loc[df['time_gmt'] == '08:00']\n",
    "\n",
    "import plotly.express as px\n",
    "fig = px.scatter_mapbox(sub_df, lat=\"latitude\", lon=\"longitude\", hover_data=[\"sample_measurement\", \"site_number\"],\n",
    "                        color_discrete_sequence=[\"fuchsia\"], zoom=10, height=300)\n",
    "fig.update_layout(mapbox_style=\"carto-positron\")\n",
    "fig.update_layout(margin={\"r\":0,\"t\":0,\"l\":0,\"b\":0})\n",
    "fig.show()\n"
   ]
  }
 ],
 "metadata": {
  "kernelspec": {
   "display_name": "Python 3 (ipykernel)",
   "language": "python",
   "name": "python3"
  },
  "language_info": {
   "codemirror_mode": {
    "name": "ipython",
    "version": 3
   },
   "file_extension": ".py",
   "mimetype": "text/x-python",
   "name": "python",
   "nbconvert_exporter": "python",
   "pygments_lexer": "ipython3",
   "version": "3.9.15"
  }
 },
 "nbformat": 4,
 "nbformat_minor": 5
}
