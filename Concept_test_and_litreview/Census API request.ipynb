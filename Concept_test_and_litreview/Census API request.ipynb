{
 "cells": [
  {
   "attachments": {},
   "cell_type": "markdown",
   "id": "3ef4d7b5",
   "metadata": {},
   "source": [
    "https://api.census.gov/data/2021/acs/acs5/profile/variables.html"
   ]
  },
  {
   "attachments": {},
   "cell_type": "markdown",
   "id": "c91cb5da",
   "metadata": {},
   "source": [
    "## RACE"
   ]
  },
  {
   "attachments": {},
   "cell_type": "markdown",
   "id": "3aff2b2b",
   "metadata": {},
   "source": [
    "https://api.census.gov/data/2021/acs/acs5/profile?get=NAME,DP05_0033E,DP05_0033PE,DP05_0036E,DP05_0036PE,DP05_0037E,DP05_0037PE,DP05_0038E,DP05_0038PE,DP05_0039E,DP05_0039PE,DP05_0044E,DP05_0044PE,DP05_0052E,DP05_0052PE,DP05_0057E,DP05_0057PE,DP05_0058E,DP05_0058PE&for=county:*&in=state:06&key=0165a43518f2f172d9f6fcd55a6da52443c35f27"
   ]
  },
  {
   "attachments": {},
   "cell_type": "markdown",
   "id": "33271493",
   "metadata": {},
   "source": [
    "## HOUSE HEATING FUEL "
   ]
  },
  {
   "attachments": {},
   "cell_type": "markdown",
   "id": "1bbfbeec",
   "metadata": {},
   "source": [
    "https://api.census.gov/data/2021/acs/acs5/profile?get=NAME,DP04_0062E,DP04_0062PE,DP04_0063E,DP04_0063PE,DP04_0064E,DP04_0064PE,DP04_0065E,DP04_0065PE,DP04_0066E,DP04_0066PE,DP04_0067E,DP04_0067PE,DP04_0068E,DP04_0068PE,DP04_0069E,DP04_0069PE,DP04_0070E,DP04_0070PE,DP04_0071E,DP04_0071PE&for=county:*&in=state:06&key=0165a43518f2f172d9f6fcd55a6da52443c35f27"
   ]
  },
  {
   "attachments": {},
   "cell_type": "markdown",
   "id": "ec27d2b9",
   "metadata": {},
   "source": [
    "## INDUSTRY"
   ]
  },
  {
   "attachments": {},
   "cell_type": "markdown",
   "id": "ed21f8b7",
   "metadata": {},
   "source": [
    "https://api.census.gov/data/2021/acs/acs5/profile?get=NAME,DP03_0032E,DP03_0032PE,DP03_0033E,DP03_0033PE,DP03_0034E,DP03_0034PE,DP03_0035E,DP03_0035PE,DP03_0036E,DP03_0036PE,DP03_0037E,DP03_0037PE,DP03_0038E,DP03_0038PE,DP03_0039E,DP03_0039PE,DP03_0040E,DP03_0040PE,DP03_0041E,DP03_0041PE,DP03_0042E,DP03_0042PE,DP03_0043E,DP03_0043PE,DP03_0044E,DP03_0044PE,DP03_0045E,DP03_0045PE&for=county:*&in=state:06&key=0165a43518f2f172d9f6fcd55a6da52443c35f27"
   ]
  },
  {
   "attachments": {},
   "cell_type": "markdown",
   "id": "003aa78e",
   "metadata": {},
   "source": [
    "## COMMUTING TO WORK"
   ]
  },
  {
   "attachments": {},
   "cell_type": "markdown",
   "id": "03217b4b",
   "metadata": {},
   "source": [
    "https://api.census.gov/data/2021/acs/acs5/profile?get=NAME,DP03_0018E,DP03_0018PE,DP03_0019E,DP03_0019PE,DP03_0020E,DP03_0020PE,DP03_0021E,DP03_0021PE,DP03_0022E,DP03_0022PE,DP03_0023E,DP03_0023PE,DP03_0024E,DP03_0024PE,DP03_0025E,DP03_0025PE&for=county:*&in=state:06&key=0165a43518f2f172d9f6fcd55a6da52443c35f27"
   ]
  },
  {
   "attachments": {},
   "cell_type": "markdown",
   "id": "833e4054",
   "metadata": {},
   "source": [
    "## OCCUPATION "
   ]
  },
  {
   "attachments": {},
   "cell_type": "markdown",
   "id": "af440550",
   "metadata": {},
   "source": [
    "https://api.census.gov/data/2021/acs/acs5/profile?get=NAME,DP03_0026E,DP03_0026PE,DP03_0027E,DP03_0027PE,DP03_0028E,DP03_0028PE,DP03_0029E,DP03_0029PE,DP03_0030E,DP03_0030PE,DP03_0031E,DP03_0031PE&for=county:*&in=state:06&key=0165a43518f2f172d9f6fcd55a6da52443c35f27"
   ]
  },
  {
   "attachments": {},
   "cell_type": "markdown",
   "id": "1b61ba33",
   "metadata": {},
   "source": [
    "## EMPLOYMENT STATUS "
   ]
  },
  {
   "attachments": {},
   "cell_type": "markdown",
   "id": "b5f80ce4",
   "metadata": {},
   "source": [
    "https://api.census.gov/data/2021/acs/acs5/profile?get=NAME,DP03_0001E,DP03_0001PE,DP03_0002E,DP03_0002PE,DP03_0003E,DP03_0003PE,DP03_0004E,DP03_0004PE,DP03_0005E,DP03_0005PE,DP03_0006E,DP03_0006PE,DP03_0007E,DP03_0007PE,DP03_0008E,DP03_0008PE,DP03_0009E,DP03_0009PE,DP03_0010E,DP03_0010PE,DP03_0011E,DP03_0011PE,DP03_0012E,DP03_0012PE,DP03_0013E,DP03_0013PE,DP03_0014E,DP03_0014PE,DP03_0015E,DP03_0015PE,DP03_0016E,DP03_0016PE,DP03_0017E,DP03_0017PE&for=county:*&in=state:06&key=0165a43518f2f172d9f6fcd55a6da52443c35f27"
   ]
  },
  {
   "attachments": {},
   "cell_type": "markdown",
   "id": "9f5c5a04",
   "metadata": {},
   "source": [
    "## EDUCATIONAL ATTAINMENT"
   ]
  },
  {
   "attachments": {},
   "cell_type": "markdown",
   "id": "94eec16c",
   "metadata": {},
   "source": [
    "https://api.census.gov/data/2021/acs/acs5/profile?get=NAME,DP02_0059E,DP02_0059PE,DP02_0060E,DP02_0060PE,DP02_0061E,DP02_0061PE,DP02_0062E,DP02_0062PE,DP02_0063E,DP02_0063PE,DP02_0064E,DP02_0064PE,DP02_0065E,DP02_0065PE,DP02_0066E,DP02_0066PE,DP02_0067E,DP02_0067PE,DP02_0068E,DP02_0068PE&for=county:*&in=state:06&key=0165a43518f2f172d9f6fcd55a6da52443c35f27"
   ]
  },
  {
   "attachments": {},
   "cell_type": "markdown",
   "id": "2022970c",
   "metadata": {},
   "source": [
    "## INCOME AND BENEFITS"
   ]
  },
  {
   "attachments": {},
   "cell_type": "markdown",
   "id": "0f8238b0",
   "metadata": {},
   "source": [
    "https://api.census.gov/data/2021/acs/acs5/profile?get=NAME,DP03_0051E,DP03_0051PE,DP03_0052E,DP03_0052PE,DP03_0053E,DP03_0053PE,DP03_0054E,DP03_0054PE,DP03_0055E,DP03_0055PE,DP03_0056E,DP03_0056PE,DP03_0057E,DP03_0057PE,DP03_0058E,DP03_0058PE,DP03_0059E,DP03_0059PE,DP03_0060E,DP03_0060PE,DP03_0061E,DP03_0061PE,DP03_0062E,DP03_0062PE,DP03_0063E,DP03_0063PE&for=county:*&in=state:06&key=0165a43518f2f172d9f6fcd55a6da52443c35f27"
   ]
  },
  {
   "attachments": {},
   "cell_type": "markdown",
   "id": "bc175760",
   "metadata": {},
   "source": [
    "## PERCENTAGE BELOW POVERTY LEVEL"
   ]
  },
  {
   "attachments": {},
   "cell_type": "markdown",
   "id": "43acd4d2",
   "metadata": {},
   "source": [
    "https://api.census.gov/data/2021/acs/acs5/profile?get=NAME,DP03_0128PE&for=county:*&in=state:06&key=0165a43518f2f172d9f6fcd55a6da52443c35f27"
   ]
  },
  {
   "cell_type": "code",
   "execution_count": 1,
   "id": "458a095e",
   "metadata": {},
   "outputs": [],
   "source": [
    "import pandas as pd"
   ]
  },
  {
   "cell_type": "code",
   "execution_count": 11,
   "id": "9efcdab7",
   "metadata": {},
   "outputs": [],
   "source": [
    "## read in the US-Census-Data\\US census dataset\\ACS 5-year_data profile\\2021\\Census data types.csv\n",
    "\n",
    "data_variable_coding = pd.read_csv(\"Census data types.csv\")\n"
   ]
  },
  {
   "cell_type": "code",
   "execution_count": 12,
   "id": "a3bb7f8e",
   "metadata": {},
   "outputs": [
    {
     "data": {
      "text/html": [
       "<div>\n",
       "<style scoped>\n",
       "    .dataframe tbody tr th:only-of-type {\n",
       "        vertical-align: middle;\n",
       "    }\n",
       "\n",
       "    .dataframe tbody tr th {\n",
       "        vertical-align: top;\n",
       "    }\n",
       "\n",
       "    .dataframe thead th {\n",
       "        text-align: right;\n",
       "    }\n",
       "</style>\n",
       "<table border=\"1\" class=\"dataframe\">\n",
       "  <thead>\n",
       "    <tr style=\"text-align: right;\">\n",
       "      <th></th>\n",
       "      <th>Catagory</th>\n",
       "      <th>Code</th>\n",
       "      <th>Definition</th>\n",
       "    </tr>\n",
       "  </thead>\n",
       "  <tbody>\n",
       "    <tr>\n",
       "      <th>0</th>\n",
       "      <td>RACE</td>\n",
       "      <td>DP05_0033E</td>\n",
       "      <td>Estimate !RACE ! !Total population</td>\n",
       "    </tr>\n",
       "    <tr>\n",
       "      <th>1</th>\n",
       "      <td>RACE</td>\n",
       "      <td>DP05_0033PE</td>\n",
       "      <td>Percent! !RACE ! !Total population</td>\n",
       "    </tr>\n",
       "    <tr>\n",
       "      <th>2</th>\n",
       "      <td>RACE</td>\n",
       "      <td>DP05_0036E</td>\n",
       "      <td>Estimate ! !RACE ! !Total population! ! One race</td>\n",
       "    </tr>\n",
       "    <tr>\n",
       "      <th>3</th>\n",
       "      <td>RACE</td>\n",
       "      <td>DP05_0036PE</td>\n",
       "      <td>Percent! !RACE! !Total population! ! One race</td>\n",
       "    </tr>\n",
       "    <tr>\n",
       "      <th>4</th>\n",
       "      <td>RACE</td>\n",
       "      <td>DP05_0037E</td>\n",
       "      <td>Estimate ! !RACE ! !Total population! ! One ra...</td>\n",
       "    </tr>\n",
       "  </tbody>\n",
       "</table>\n",
       "</div>"
      ],
      "text/plain": [
       "  Catagory         Code                                         Definition\n",
       "0     RACE   DP05_0033E                 Estimate !RACE ! !Total population\n",
       "1     RACE  DP05_0033PE                 Percent! !RACE ! !Total population\n",
       "2     RACE   DP05_0036E   Estimate ! !RACE ! !Total population! ! One race\n",
       "3     RACE  DP05_0036PE      Percent! !RACE! !Total population! ! One race\n",
       "4     RACE   DP05_0037E  Estimate ! !RACE ! !Total population! ! One ra..."
      ]
     },
     "execution_count": 12,
     "metadata": {},
     "output_type": "execute_result"
    }
   ],
   "source": [
    "data_variable_coding.head()"
   ]
  }
 ],
 "metadata": {
  "kernelspec": {
   "display_name": "Python 3",
   "language": "python",
   "name": "python3"
  },
  "language_info": {
   "codemirror_mode": {
    "name": "ipython",
    "version": 3
   },
   "file_extension": ".py",
   "mimetype": "text/x-python",
   "name": "python",
   "nbconvert_exporter": "python",
   "pygments_lexer": "ipython3",
   "version": "3.9.15"
  }
 },
 "nbformat": 4,
 "nbformat_minor": 5
}
